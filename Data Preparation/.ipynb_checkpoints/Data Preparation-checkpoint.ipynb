{
 "cells": [
  {
   "cell_type": "markdown",
   "metadata": {
    "collapsed": true
   },
   "source": [
    "# Data Preparation\n"
   ]
  },
  {
   "cell_type": "markdown",
   "metadata": {},
   "source": [
    "In this notebook will contain all the process regarding data preparation. Starting transforming the data to pandas dataframes and then profiling the data to have a preview of the problem domain. Then I will start doing some correlations among the datasets and visualize some characteristics before proceeding with the feature engineering. In adition, we will add some moving averages and other trading technical indicators. At the end, we might consider a PCA analysis to reduce the features for better analysis. "
   ]
  },
  {
   "cell_type": "markdown",
   "metadata": {},
   "source": [
    "## Import Data and Transforme to Consistent Pandas Data Frames"
   ]
  },
  {
   "cell_type": "code",
   "execution_count": 1,
   "metadata": {
    "collapsed": true
   },
   "outputs": [],
   "source": [
    "import numpy as np\n",
    "import pandas as pd\n",
    "import pickle\n",
    "from datetime import datetime\n",
    "from collections import namedtuple\n",
    "from IPython.display import display, HTML\n",
    "import functools\n",
    "%matplotlib inline\n",
    "# Optional for interactive\n",
    "# %matplotlib notebook (watch video for full details)"
   ]
  },
  {
   "cell_type": "code",
   "execution_count": 2,
   "metadata": {
    "collapsed": true
   },
   "outputs": [],
   "source": [
    "# Accounting format for floats for pandas.\n",
    "\n",
    "pd.options.display.float_format = '{:,.2f}'.format"
   ]
  },
  {
   "cell_type": "markdown",
   "metadata": {},
   "source": [
    "The raw files are in the folder raw_data. We have a total of 8 files for the exchanges buda(Peru, Colombia and Chile) and mercadobitcoin (Brazil). In the following cell I am going to extract the data to pandas dataframes"
   ]
  },
  {
   "cell_type": "code",
   "execution_count": 3,
   "metadata": {
    "collapsed": true
   },
   "outputs": [],
   "source": [
    "def dateparse_buda (time_in_secs): \n",
    "    return datetime.fromtimestamp(float(time_in_secs)/1000)"
   ]
  },
  {
   "cell_type": "code",
   "execution_count": 4,
   "metadata": {
    "collapsed": true
   },
   "outputs": [],
   "source": [
    "df_btc_clp=pd.read_csv('raw_data/buda_btc-clp_20161101_20180312.csv',index_col='datetime',parse_dates=True, date_parser=dateparse_buda)\n",
    "df_btc_cop=pd.read_csv('raw_data/buda_btc-cop_20161101_20180312.csv',index_col='datetime',parse_dates=True,date_parser=dateparse_buda)\n",
    "df_btc_pen=pd.read_csv('raw_data/buda_btc-pen_20161101_20180312.csv',index_col='datetime',parse_dates=True,date_parser=dateparse_buda)\n",
    "df_eth_btc=pd.read_csv('raw_data/buda_eth-btc_20170701_20180312.csv',index_col='datetime',parse_dates=True,date_parser=dateparse_buda)\n",
    "df_eth_clp=pd.read_csv('raw_data/buda_eth-clp_20170501_20180312.csv',index_col='datetime',parse_dates=True,date_parser=dateparse_buda)\n",
    "df_eth_cop=pd.read_csv('raw_data/buda_eth-cop_20170601_20180312.csv',index_col='datetime',parse_dates=True,date_parser=dateparse_buda)\n",
    "df_eth_pen=pd.read_csv('raw_data/buda_eth-pen_20170601_20180312.csv',index_col='datetime',parse_dates=True,date_parser=dateparse_buda)\n",
    "df_btc_brl=pd.read_csv('raw_data/mercadobitcoin_BTC_20130612_20180312.csv',index_col='date',parse_dates=True)\n",
    "Dataset=namedtuple('Dataset','exchange df')\n",
    "\n",
    "datasets={'btc_clp':Dataset('Buda',df_btc_clp),\n",
    "          'btc_cop':Dataset('Buda',df_btc_cop),\n",
    "          'btc_pen':Dataset('Buda',df_btc_pen),\n",
    "          'eth_btc':Dataset('Buda',df_eth_btc),\n",
    "          'eth_clp':Dataset('Buda',df_eth_clp),\n",
    "          'eth_cop':Dataset('Buda',df_eth_cop),\n",
    "          'eth_pen':Dataset('Buda',df_eth_pen),\n",
    "          'btc_brl':Dataset('MercadoBitcoin',df_btc_brl)}\n"
   ]
  },
  {
   "cell_type": "code",
   "execution_count": 5,
   "metadata": {
    "collapsed": true
   },
   "outputs": [],
   "source": [
    "def all_datasets(func,datasets ):\n",
    "    for key,dataset in datasets.items():\n",
    "        display(HTML('<h3>'+key+'</h3>'))\n",
    "        print(func.__name__)\n",
    "        datasets[key]=func(dataset)\n",
    "    \n",
    "            "
   ]
  },
  {
   "cell_type": "code",
   "execution_count": 6,
   "metadata": {},
   "outputs": [
    {
     "data": {
      "text/html": [
       "<h3>btc_clp</h3>"
      ],
      "text/plain": [
       "<IPython.core.display.HTML object>"
      ]
     },
     "metadata": {},
     "output_type": "display_data"
    },
    {
     "name": "stdout",
     "output_type": "stream",
     "text": [
      "rename_mercado_bitcoin\n"
     ]
    },
    {
     "data": {
      "text/html": [
       "<h3>btc_cop</h3>"
      ],
      "text/plain": [
       "<IPython.core.display.HTML object>"
      ]
     },
     "metadata": {},
     "output_type": "display_data"
    },
    {
     "name": "stdout",
     "output_type": "stream",
     "text": [
      "rename_mercado_bitcoin\n"
     ]
    },
    {
     "data": {
      "text/html": [
       "<h3>btc_pen</h3>"
      ],
      "text/plain": [
       "<IPython.core.display.HTML object>"
      ]
     },
     "metadata": {},
     "output_type": "display_data"
    },
    {
     "name": "stdout",
     "output_type": "stream",
     "text": [
      "rename_mercado_bitcoin\n"
     ]
    },
    {
     "data": {
      "text/html": [
       "<h3>eth_btc</h3>"
      ],
      "text/plain": [
       "<IPython.core.display.HTML object>"
      ]
     },
     "metadata": {},
     "output_type": "display_data"
    },
    {
     "name": "stdout",
     "output_type": "stream",
     "text": [
      "rename_mercado_bitcoin\n"
     ]
    },
    {
     "data": {
      "text/html": [
       "<h3>eth_clp</h3>"
      ],
      "text/plain": [
       "<IPython.core.display.HTML object>"
      ]
     },
     "metadata": {},
     "output_type": "display_data"
    },
    {
     "name": "stdout",
     "output_type": "stream",
     "text": [
      "rename_mercado_bitcoin\n"
     ]
    },
    {
     "data": {
      "text/html": [
       "<h3>eth_cop</h3>"
      ],
      "text/plain": [
       "<IPython.core.display.HTML object>"
      ]
     },
     "metadata": {},
     "output_type": "display_data"
    },
    {
     "name": "stdout",
     "output_type": "stream",
     "text": [
      "rename_mercado_bitcoin\n"
     ]
    },
    {
     "data": {
      "text/html": [
       "<h3>eth_pen</h3>"
      ],
      "text/plain": [
       "<IPython.core.display.HTML object>"
      ]
     },
     "metadata": {},
     "output_type": "display_data"
    },
    {
     "name": "stdout",
     "output_type": "stream",
     "text": [
      "rename_mercado_bitcoin\n"
     ]
    },
    {
     "data": {
      "text/html": [
       "<h3>btc_brl</h3>"
      ],
      "text/plain": [
       "<IPython.core.display.HTML object>"
      ]
     },
     "metadata": {},
     "output_type": "display_data"
    },
    {
     "name": "stdout",
     "output_type": "stream",
     "text": [
      "rename_mercado_bitcoin\n"
     ]
    }
   ],
   "source": [
    "def rename_mercado_bitcoin(dataset):\n",
    "    \n",
    "    if dataset.exchange=='MercadoBitcoin': \n",
    "        columns_standard={'opening':'open'\n",
    "                          , 'closing':'close'\n",
    "                          , 'highest':'high'\n",
    "                          , 'lowest':'low'}\n",
    "        dataset.df.rename(columns=columns_standard,inplace=True)\n",
    "        dataset.df.index.rename('datetime',inplace=True)\n",
    "    \n",
    "    return dataset\n",
    "\n",
    "   \n",
    "        \n",
    "all_datasets(rename_mercado_bitcoin,datasets)"
   ]
  },
  {
   "cell_type": "markdown",
   "metadata": {},
   "source": [
    "For the exchange buda, there are multiple entries for each day. Therefore it is necesary to resample the data for each day to have a consistant information vs mercado bitcoin."
   ]
  },
  {
   "cell_type": "code",
   "execution_count": 7,
   "metadata": {},
   "outputs": [
    {
     "data": {
      "text/html": [
       "<div>\n",
       "<style>\n",
       "    .dataframe thead tr:only-child th {\n",
       "        text-align: right;\n",
       "    }\n",
       "\n",
       "    .dataframe thead th {\n",
       "        text-align: left;\n",
       "    }\n",
       "\n",
       "    .dataframe tbody tr th {\n",
       "        vertical-align: top;\n",
       "    }\n",
       "</style>\n",
       "<table border=\"1\" class=\"dataframe\">\n",
       "  <thead>\n",
       "    <tr style=\"text-align: right;\">\n",
       "      <th></th>\n",
       "      <th>open</th>\n",
       "      <th>high</th>\n",
       "      <th>low</th>\n",
       "      <th>close</th>\n",
       "      <th>volume</th>\n",
       "    </tr>\n",
       "    <tr>\n",
       "      <th>datetime</th>\n",
       "      <th></th>\n",
       "      <th></th>\n",
       "      <th></th>\n",
       "      <th></th>\n",
       "      <th></th>\n",
       "    </tr>\n",
       "  </thead>\n",
       "  <tbody>\n",
       "    <tr>\n",
       "      <th>2018-03-11 05:00:00</th>\n",
       "      <td>24,300,700.00</td>\n",
       "      <td>25,499,990.00</td>\n",
       "      <td>24,300,700.00</td>\n",
       "      <td>24,300,707.00</td>\n",
       "      <td>0.36</td>\n",
       "    </tr>\n",
       "    <tr>\n",
       "      <th>2018-03-11 13:00:00</th>\n",
       "      <td>25,499,987.00</td>\n",
       "      <td>25,796,997.00</td>\n",
       "      <td>24,900,001.00</td>\n",
       "      <td>25,796,997.00</td>\n",
       "      <td>0.21</td>\n",
       "    </tr>\n",
       "    <tr>\n",
       "      <th>2018-03-11 21:00:00</th>\n",
       "      <td>25,400,000.00</td>\n",
       "      <td>25,400,000.00</td>\n",
       "      <td>25,400,000.00</td>\n",
       "      <td>25,400,000.00</td>\n",
       "      <td>0.05</td>\n",
       "    </tr>\n",
       "  </tbody>\n",
       "</table>\n",
       "</div>"
      ],
      "text/plain": [
       "                             open          high           low         close  \\\n",
       "datetime                                                                      \n",
       "2018-03-11 05:00:00 24,300,700.00 25,499,990.00 24,300,700.00 24,300,707.00   \n",
       "2018-03-11 13:00:00 25,499,987.00 25,796,997.00 24,900,001.00 25,796,997.00   \n",
       "2018-03-11 21:00:00 25,400,000.00 25,400,000.00 25,400,000.00 25,400,000.00   \n",
       "\n",
       "                     volume  \n",
       "datetime                     \n",
       "2018-03-11 05:00:00    0.36  \n",
       "2018-03-11 13:00:00    0.21  \n",
       "2018-03-11 21:00:00    0.05  "
      ]
     },
     "execution_count": 7,
     "metadata": {},
     "output_type": "execute_result"
    }
   ],
   "source": [
    "df_btc_cop.resample(rule='D').count().tail(50)\n",
    "df_btc_cop['2018-03-11']"
   ]
  },
  {
   "cell_type": "code",
   "execution_count": 8,
   "metadata": {
    "collapsed": true
   },
   "outputs": [],
   "source": [
    "def first_entry(entry):\n",
    "    if entry.size==0:\n",
    "        return None \n",
    "    return entry[0]\n",
    "def last_entry(entry):\n",
    "    if entry.size==0:\n",
    "        return None \n",
    "    return entry[-1]\n"
   ]
  },
  {
   "cell_type": "code",
   "execution_count": 9,
   "metadata": {
    "collapsed": true
   },
   "outputs": [],
   "source": [
    "def fix_daily(dataset):\n",
    "    if dataset.exchange=='Buda':\n",
    "        open_series=dataset.df['open'].resample(rule='D').apply(first_entry)\n",
    "        close_series=dataset.df['close'].resample(rule='D').apply(last_entry)\n",
    "        high_series=dataset.df['high'].resample(rule='D').max()\n",
    "        low_series=dataset.df['low'].resample(rule='D').min()\n",
    "        volume_series=dataset.df['volume'].resample(rule='D').sum()\n",
    "        dataframe_daily=pd.DataFrame(open_series)\n",
    "        dataframe_daily=dataframe_daily.merge(pd.DataFrame(close_series),left_index=True,right_index=True)\n",
    "        dataframe_daily=dataframe_daily.merge(pd.DataFrame(high_series),left_index=True,right_index=True)\n",
    "        dataframe_daily=dataframe_daily.merge(pd.DataFrame(low_series),left_index=True,right_index=True)\n",
    "        dataframe_daily=dataframe_daily.merge(pd.DataFrame(volume_series),left_index=True,right_index=True)\n",
    "        dataset=Dataset('Buda',dataframe_daily )\n",
    "    return dataset\n",
    "\n"
   ]
  },
  {
   "cell_type": "code",
   "execution_count": 10,
   "metadata": {},
   "outputs": [
    {
     "data": {
      "text/html": [
       "<h3>btc_clp</h3>"
      ],
      "text/plain": [
       "<IPython.core.display.HTML object>"
      ]
     },
     "metadata": {},
     "output_type": "display_data"
    },
    {
     "name": "stdout",
     "output_type": "stream",
     "text": [
      "fix_daily\n"
     ]
    },
    {
     "data": {
      "text/html": [
       "<h3>btc_cop</h3>"
      ],
      "text/plain": [
       "<IPython.core.display.HTML object>"
      ]
     },
     "metadata": {},
     "output_type": "display_data"
    },
    {
     "name": "stdout",
     "output_type": "stream",
     "text": [
      "fix_daily\n"
     ]
    },
    {
     "data": {
      "text/html": [
       "<h3>btc_pen</h3>"
      ],
      "text/plain": [
       "<IPython.core.display.HTML object>"
      ]
     },
     "metadata": {},
     "output_type": "display_data"
    },
    {
     "name": "stdout",
     "output_type": "stream",
     "text": [
      "fix_daily\n"
     ]
    },
    {
     "data": {
      "text/html": [
       "<h3>eth_btc</h3>"
      ],
      "text/plain": [
       "<IPython.core.display.HTML object>"
      ]
     },
     "metadata": {},
     "output_type": "display_data"
    },
    {
     "name": "stdout",
     "output_type": "stream",
     "text": [
      "fix_daily\n"
     ]
    },
    {
     "data": {
      "text/html": [
       "<h3>eth_clp</h3>"
      ],
      "text/plain": [
       "<IPython.core.display.HTML object>"
      ]
     },
     "metadata": {},
     "output_type": "display_data"
    },
    {
     "name": "stdout",
     "output_type": "stream",
     "text": [
      "fix_daily\n"
     ]
    },
    {
     "data": {
      "text/html": [
       "<h3>eth_cop</h3>"
      ],
      "text/plain": [
       "<IPython.core.display.HTML object>"
      ]
     },
     "metadata": {},
     "output_type": "display_data"
    },
    {
     "name": "stdout",
     "output_type": "stream",
     "text": [
      "fix_daily\n"
     ]
    },
    {
     "data": {
      "text/html": [
       "<h3>eth_pen</h3>"
      ],
      "text/plain": [
       "<IPython.core.display.HTML object>"
      ]
     },
     "metadata": {},
     "output_type": "display_data"
    },
    {
     "name": "stdout",
     "output_type": "stream",
     "text": [
      "fix_daily\n"
     ]
    },
    {
     "data": {
      "text/html": [
       "<h3>btc_brl</h3>"
      ],
      "text/plain": [
       "<IPython.core.display.HTML object>"
      ]
     },
     "metadata": {},
     "output_type": "display_data"
    },
    {
     "name": "stdout",
     "output_type": "stream",
     "text": [
      "fix_daily\n"
     ]
    }
   ],
   "source": [
    "all_datasets(fix_daily,datasets)\n",
    "\n"
   ]
  },
  {
   "cell_type": "markdown",
   "metadata": {},
   "source": [
    "### Fill Missing Values\n",
    "\n",
    "For some days there are missing values therefore we are going to apply the forward fill method of pandas to fill the closing price. The open, low and high will be assigned to the close value of the next prevoius day with information available. For the volume it will be set as 0."
   ]
  },
  {
   "cell_type": "code",
   "execution_count": 11,
   "metadata": {},
   "outputs": [
    {
     "data": {
      "text/html": [
       "<div>\n",
       "<style>\n",
       "    .dataframe thead tr:only-child th {\n",
       "        text-align: right;\n",
       "    }\n",
       "\n",
       "    .dataframe thead th {\n",
       "        text-align: left;\n",
       "    }\n",
       "\n",
       "    .dataframe tbody tr th {\n",
       "        vertical-align: top;\n",
       "    }\n",
       "</style>\n",
       "<table border=\"1\" class=\"dataframe\">\n",
       "  <thead>\n",
       "    <tr style=\"text-align: right;\">\n",
       "      <th></th>\n",
       "      <th>open</th>\n",
       "      <th>close</th>\n",
       "      <th>high</th>\n",
       "      <th>low</th>\n",
       "      <th>volume</th>\n",
       "    </tr>\n",
       "    <tr>\n",
       "      <th>datetime</th>\n",
       "      <th></th>\n",
       "      <th></th>\n",
       "      <th></th>\n",
       "      <th></th>\n",
       "      <th></th>\n",
       "    </tr>\n",
       "  </thead>\n",
       "  <tbody>\n",
       "    <tr>\n",
       "      <th>2016-10-31</th>\n",
       "      <td>2,099,950.00</td>\n",
       "      <td>2,100,000.00</td>\n",
       "      <td>2,100,000.00</td>\n",
       "      <td>2,099,950.00</td>\n",
       "      <td>2.28</td>\n",
       "    </tr>\n",
       "    <tr>\n",
       "      <th>2016-11-01</th>\n",
       "      <td>2,115,664.74</td>\n",
       "      <td>2,100,541.00</td>\n",
       "      <td>2,115,664.74</td>\n",
       "      <td>2,100,541.00</td>\n",
       "      <td>0.54</td>\n",
       "    </tr>\n",
       "    <tr>\n",
       "      <th>2016-11-02</th>\n",
       "      <td>2,200,000.00</td>\n",
       "      <td>2,200,000.00</td>\n",
       "      <td>2,200,000.00</td>\n",
       "      <td>2,200,000.00</td>\n",
       "      <td>0.86</td>\n",
       "    </tr>\n",
       "    <tr>\n",
       "      <th>2016-11-03</th>\n",
       "      <td>2,250,000.00</td>\n",
       "      <td>2,038,008.07</td>\n",
       "      <td>2,250,000.00</td>\n",
       "      <td>2,026,909.28</td>\n",
       "      <td>4.66</td>\n",
       "    </tr>\n",
       "    <tr>\n",
       "      <th>2016-11-04</th>\n",
       "      <td>2,173,361.50</td>\n",
       "      <td>2,192,224.31</td>\n",
       "      <td>2,192,224.31</td>\n",
       "      <td>2,001,026.82</td>\n",
       "      <td>2.76</td>\n",
       "    </tr>\n",
       "    <tr>\n",
       "      <th>2016-11-05</th>\n",
       "      <td>nan</td>\n",
       "      <td>nan</td>\n",
       "      <td>nan</td>\n",
       "      <td>nan</td>\n",
       "      <td>nan</td>\n",
       "    </tr>\n",
       "    <tr>\n",
       "      <th>2016-11-06</th>\n",
       "      <td>nan</td>\n",
       "      <td>nan</td>\n",
       "      <td>nan</td>\n",
       "      <td>nan</td>\n",
       "      <td>nan</td>\n",
       "    </tr>\n",
       "    <tr>\n",
       "      <th>2016-11-07</th>\n",
       "      <td>nan</td>\n",
       "      <td>nan</td>\n",
       "      <td>nan</td>\n",
       "      <td>nan</td>\n",
       "      <td>nan</td>\n",
       "    </tr>\n",
       "    <tr>\n",
       "      <th>2016-11-08</th>\n",
       "      <td>2,040,100.23</td>\n",
       "      <td>2,030,280.91</td>\n",
       "      <td>2,041,656.90</td>\n",
       "      <td>2,021,216.07</td>\n",
       "      <td>3.52</td>\n",
       "    </tr>\n",
       "    <tr>\n",
       "      <th>2016-11-09</th>\n",
       "      <td>2,211,234.00</td>\n",
       "      <td>2,210,750.00</td>\n",
       "      <td>2,231,104.84</td>\n",
       "      <td>2,210,000.00</td>\n",
       "      <td>2.53</td>\n",
       "    </tr>\n",
       "  </tbody>\n",
       "</table>\n",
       "</div>"
      ],
      "text/plain": [
       "                   open        close         high          low  volume\n",
       "datetime                                                              \n",
       "2016-10-31 2,099,950.00 2,100,000.00 2,100,000.00 2,099,950.00    2.28\n",
       "2016-11-01 2,115,664.74 2,100,541.00 2,115,664.74 2,100,541.00    0.54\n",
       "2016-11-02 2,200,000.00 2,200,000.00 2,200,000.00 2,200,000.00    0.86\n",
       "2016-11-03 2,250,000.00 2,038,008.07 2,250,000.00 2,026,909.28    4.66\n",
       "2016-11-04 2,173,361.50 2,192,224.31 2,192,224.31 2,001,026.82    2.76\n",
       "2016-11-05          nan          nan          nan          nan     nan\n",
       "2016-11-06          nan          nan          nan          nan     nan\n",
       "2016-11-07          nan          nan          nan          nan     nan\n",
       "2016-11-08 2,040,100.23 2,030,280.91 2,041,656.90 2,021,216.07    3.52\n",
       "2016-11-09 2,211,234.00 2,210,750.00 2,231,104.84 2,210,000.00    2.53"
      ]
     },
     "execution_count": 11,
     "metadata": {},
     "output_type": "execute_result"
    }
   ],
   "source": [
    "\n",
    "datasets['btc_cop'].df.head(10)"
   ]
  },
  {
   "cell_type": "code",
   "execution_count": 12,
   "metadata": {},
   "outputs": [
    {
     "data": {
      "text/html": [
       "<h3>btc_clp</h3>"
      ],
      "text/plain": [
       "<IPython.core.display.HTML object>"
      ]
     },
     "metadata": {},
     "output_type": "display_data"
    },
    {
     "name": "stdout",
     "output_type": "stream",
     "text": [
      "fill_nulls\n"
     ]
    },
    {
     "data": {
      "text/html": [
       "<h3>btc_cop</h3>"
      ],
      "text/plain": [
       "<IPython.core.display.HTML object>"
      ]
     },
     "metadata": {},
     "output_type": "display_data"
    },
    {
     "name": "stdout",
     "output_type": "stream",
     "text": [
      "fill_nulls\n"
     ]
    },
    {
     "data": {
      "text/html": [
       "<h3>btc_pen</h3>"
      ],
      "text/plain": [
       "<IPython.core.display.HTML object>"
      ]
     },
     "metadata": {},
     "output_type": "display_data"
    },
    {
     "name": "stdout",
     "output_type": "stream",
     "text": [
      "fill_nulls\n"
     ]
    },
    {
     "data": {
      "text/html": [
       "<h3>eth_btc</h3>"
      ],
      "text/plain": [
       "<IPython.core.display.HTML object>"
      ]
     },
     "metadata": {},
     "output_type": "display_data"
    },
    {
     "name": "stdout",
     "output_type": "stream",
     "text": [
      "fill_nulls\n"
     ]
    },
    {
     "data": {
      "text/html": [
       "<h3>eth_clp</h3>"
      ],
      "text/plain": [
       "<IPython.core.display.HTML object>"
      ]
     },
     "metadata": {},
     "output_type": "display_data"
    },
    {
     "name": "stdout",
     "output_type": "stream",
     "text": [
      "fill_nulls\n"
     ]
    },
    {
     "data": {
      "text/html": [
       "<h3>eth_cop</h3>"
      ],
      "text/plain": [
       "<IPython.core.display.HTML object>"
      ]
     },
     "metadata": {},
     "output_type": "display_data"
    },
    {
     "name": "stdout",
     "output_type": "stream",
     "text": [
      "fill_nulls\n"
     ]
    },
    {
     "data": {
      "text/html": [
       "<h3>eth_pen</h3>"
      ],
      "text/plain": [
       "<IPython.core.display.HTML object>"
      ]
     },
     "metadata": {},
     "output_type": "display_data"
    },
    {
     "name": "stdout",
     "output_type": "stream",
     "text": [
      "fill_nulls\n"
     ]
    },
    {
     "data": {
      "text/html": [
       "<h3>btc_brl</h3>"
      ],
      "text/plain": [
       "<IPython.core.display.HTML object>"
      ]
     },
     "metadata": {},
     "output_type": "display_data"
    },
    {
     "name": "stdout",
     "output_type": "stream",
     "text": [
      "fill_nulls\n"
     ]
    },
    {
     "data": {
      "text/html": [
       "<div>\n",
       "<style>\n",
       "    .dataframe thead tr:only-child th {\n",
       "        text-align: right;\n",
       "    }\n",
       "\n",
       "    .dataframe thead th {\n",
       "        text-align: left;\n",
       "    }\n",
       "\n",
       "    .dataframe tbody tr th {\n",
       "        vertical-align: top;\n",
       "    }\n",
       "</style>\n",
       "<table border=\"1\" class=\"dataframe\">\n",
       "  <thead>\n",
       "    <tr style=\"text-align: right;\">\n",
       "      <th></th>\n",
       "      <th>open</th>\n",
       "      <th>close</th>\n",
       "      <th>high</th>\n",
       "      <th>low</th>\n",
       "      <th>volume</th>\n",
       "    </tr>\n",
       "    <tr>\n",
       "      <th>datetime</th>\n",
       "      <th></th>\n",
       "      <th></th>\n",
       "      <th></th>\n",
       "      <th></th>\n",
       "      <th></th>\n",
       "    </tr>\n",
       "  </thead>\n",
       "  <tbody>\n",
       "    <tr>\n",
       "      <th>2016-10-31</th>\n",
       "      <td>2,099,950.00</td>\n",
       "      <td>2,100,000.00</td>\n",
       "      <td>2,100,000.00</td>\n",
       "      <td>2,099,950.00</td>\n",
       "      <td>2.28</td>\n",
       "    </tr>\n",
       "    <tr>\n",
       "      <th>2016-11-01</th>\n",
       "      <td>2,115,664.74</td>\n",
       "      <td>2,100,541.00</td>\n",
       "      <td>2,115,664.74</td>\n",
       "      <td>2,100,541.00</td>\n",
       "      <td>0.54</td>\n",
       "    </tr>\n",
       "    <tr>\n",
       "      <th>2016-11-02</th>\n",
       "      <td>2,200,000.00</td>\n",
       "      <td>2,200,000.00</td>\n",
       "      <td>2,200,000.00</td>\n",
       "      <td>2,200,000.00</td>\n",
       "      <td>0.86</td>\n",
       "    </tr>\n",
       "    <tr>\n",
       "      <th>2016-11-03</th>\n",
       "      <td>2,250,000.00</td>\n",
       "      <td>2,038,008.07</td>\n",
       "      <td>2,250,000.00</td>\n",
       "      <td>2,026,909.28</td>\n",
       "      <td>4.66</td>\n",
       "    </tr>\n",
       "    <tr>\n",
       "      <th>2016-11-04</th>\n",
       "      <td>2,173,361.50</td>\n",
       "      <td>2,192,224.31</td>\n",
       "      <td>2,192,224.31</td>\n",
       "      <td>2,001,026.82</td>\n",
       "      <td>2.76</td>\n",
       "    </tr>\n",
       "    <tr>\n",
       "      <th>2016-11-05</th>\n",
       "      <td>2,192,224.31</td>\n",
       "      <td>2,192,224.31</td>\n",
       "      <td>2,192,224.31</td>\n",
       "      <td>2,192,224.31</td>\n",
       "      <td>0.00</td>\n",
       "    </tr>\n",
       "    <tr>\n",
       "      <th>2016-11-06</th>\n",
       "      <td>2,192,224.31</td>\n",
       "      <td>2,192,224.31</td>\n",
       "      <td>2,192,224.31</td>\n",
       "      <td>2,192,224.31</td>\n",
       "      <td>0.00</td>\n",
       "    </tr>\n",
       "    <tr>\n",
       "      <th>2016-11-07</th>\n",
       "      <td>2,192,224.31</td>\n",
       "      <td>2,192,224.31</td>\n",
       "      <td>2,192,224.31</td>\n",
       "      <td>2,192,224.31</td>\n",
       "      <td>0.00</td>\n",
       "    </tr>\n",
       "    <tr>\n",
       "      <th>2016-11-08</th>\n",
       "      <td>2,040,100.23</td>\n",
       "      <td>2,030,280.91</td>\n",
       "      <td>2,041,656.90</td>\n",
       "      <td>2,021,216.07</td>\n",
       "      <td>3.52</td>\n",
       "    </tr>\n",
       "    <tr>\n",
       "      <th>2016-11-09</th>\n",
       "      <td>2,211,234.00</td>\n",
       "      <td>2,210,750.00</td>\n",
       "      <td>2,231,104.84</td>\n",
       "      <td>2,210,000.00</td>\n",
       "      <td>2.53</td>\n",
       "    </tr>\n",
       "  </tbody>\n",
       "</table>\n",
       "</div>"
      ],
      "text/plain": [
       "                   open        close         high          low  volume\n",
       "datetime                                                              \n",
       "2016-10-31 2,099,950.00 2,100,000.00 2,100,000.00 2,099,950.00    2.28\n",
       "2016-11-01 2,115,664.74 2,100,541.00 2,115,664.74 2,100,541.00    0.54\n",
       "2016-11-02 2,200,000.00 2,200,000.00 2,200,000.00 2,200,000.00    0.86\n",
       "2016-11-03 2,250,000.00 2,038,008.07 2,250,000.00 2,026,909.28    4.66\n",
       "2016-11-04 2,173,361.50 2,192,224.31 2,192,224.31 2,001,026.82    2.76\n",
       "2016-11-05 2,192,224.31 2,192,224.31 2,192,224.31 2,192,224.31    0.00\n",
       "2016-11-06 2,192,224.31 2,192,224.31 2,192,224.31 2,192,224.31    0.00\n",
       "2016-11-07 2,192,224.31 2,192,224.31 2,192,224.31 2,192,224.31    0.00\n",
       "2016-11-08 2,040,100.23 2,030,280.91 2,041,656.90 2,021,216.07    3.52\n",
       "2016-11-09 2,211,234.00 2,210,750.00 2,231,104.84 2,210,000.00    2.53"
      ]
     },
     "execution_count": 12,
     "metadata": {},
     "output_type": "execute_result"
    }
   ],
   "source": [
    "def fill_nulls(dataset):\n",
    "    dataset.df['close'].fillna(method='ffill', inplace=True)\n",
    "    dataset.df['close'].fillna(method='bfill', inplace=True)\n",
    "    dataset.df['open'].fillna(dataset.df['close'], inplace=True)\n",
    "    dataset.df['high'].fillna(dataset.df['close'], inplace=True)\n",
    "    dataset.df['low'].fillna(dataset.df['close'], inplace=True)\n",
    "    dataset.df['volume'].fillna(0, inplace=True)\n",
    "    return dataset\n",
    "\n",
    "all_datasets(fill_nulls,datasets)\n",
    "\n",
    "datasets['btc_cop'].df.head(10)"
   ]
  },
  {
   "cell_type": "markdown",
   "metadata": {},
   "source": [
    "### Profiling Data\n",
    "\n",
    "Describe each dataset of the raw data."
   ]
  },
  {
   "cell_type": "code",
   "execution_count": 13,
   "metadata": {
    "scrolled": false
   },
   "outputs": [
    {
     "data": {
      "text/html": [
       "<h3>btc_clp</h3>"
      ],
      "text/plain": [
       "<IPython.core.display.HTML object>"
      ]
     },
     "metadata": {},
     "output_type": "display_data"
    },
    {
     "name": "stdout",
     "output_type": "stream",
     "text": [
      "describe_dataset\n"
     ]
    },
    {
     "data": {
      "text/html": [
       "<H1>Range Dates</H1>"
      ],
      "text/plain": [
       "<IPython.core.display.HTML object>"
      ]
     },
     "metadata": {},
     "output_type": "display_data"
    },
    {
     "data": {
      "text/html": [
       "<H3>Min: 2016-10-31</H3>"
      ],
      "text/plain": [
       "<IPython.core.display.HTML object>"
      ]
     },
     "metadata": {},
     "output_type": "display_data"
    },
    {
     "data": {
      "text/html": [
       "<H3>Min: 2018-03-11</H3>"
      ],
      "text/plain": [
       "<IPython.core.display.HTML object>"
      ]
     },
     "metadata": {},
     "output_type": "display_data"
    },
    {
     "data": {
      "text/html": [
       "<H1>Min</H1>"
      ],
      "text/plain": [
       "<IPython.core.display.HTML object>"
      ]
     },
     "metadata": {},
     "output_type": "display_data"
    },
    {
     "name": "stdout",
     "output_type": "stream",
     "text": [
      "open     2016-11-04\n",
      "close    2016-11-12\n",
      "high     2016-11-07\n",
      "low      2016-11-03\n",
      "volume   2016-12-31\n",
      "dtype: datetime64[ns]\n"
     ]
    },
    {
     "data": {
      "text/html": [
       "<H1>Max</H1>"
      ],
      "text/plain": [
       "<IPython.core.display.HTML object>"
      ]
     },
     "metadata": {},
     "output_type": "display_data"
    },
    {
     "name": "stdout",
     "output_type": "stream",
     "text": [
      "open     2017-12-18\n",
      "close    2017-12-17\n",
      "high     2017-12-07\n",
      "low      2017-12-17\n",
      "volume   2017-03-10\n",
      "dtype: datetime64[ns]\n"
     ]
    },
    {
     "data": {
      "text/html": [
       "<table border=\"1\" class=\"dataframe\">\n",
       "  <thead>\n",
       "    <tr style=\"text-align: right;\">\n",
       "      <th></th>\n",
       "      <th>open</th>\n",
       "      <th>close</th>\n",
       "      <th>high</th>\n",
       "      <th>low</th>\n",
       "      <th>volume</th>\n",
       "    </tr>\n",
       "  </thead>\n",
       "  <tbody>\n",
       "    <tr>\n",
       "      <th>count</th>\n",
       "      <td>497.00</td>\n",
       "      <td>497.00</td>\n",
       "      <td>497.00</td>\n",
       "      <td>497.00</td>\n",
       "      <td>497.00</td>\n",
       "    </tr>\n",
       "    <tr>\n",
       "      <th>mean</th>\n",
       "      <td>3,031,204.69</td>\n",
       "      <td>3,042,093.59</td>\n",
       "      <td>3,185,056.81</td>\n",
       "      <td>2,859,642.35</td>\n",
       "      <td>34.90</td>\n",
       "    </tr>\n",
       "    <tr>\n",
       "      <th>std</th>\n",
       "      <td>3,012,846.52</td>\n",
       "      <td>3,020,119.25</td>\n",
       "      <td>3,199,563.20</td>\n",
       "      <td>2,793,238.47</td>\n",
       "      <td>29.00</td>\n",
       "    </tr>\n",
       "    <tr>\n",
       "      <th>min</th>\n",
       "      <td>465,164.77</td>\n",
       "      <td>463,059.45</td>\n",
       "      <td>472,933.11</td>\n",
       "      <td>449,879.51</td>\n",
       "      <td>0.00</td>\n",
       "    </tr>\n",
       "    <tr>\n",
       "      <th>25%</th>\n",
       "      <td>740,000.00</td>\n",
       "      <td>740,000.00</td>\n",
       "      <td>774,500.00</td>\n",
       "      <td>717,653.89</td>\n",
       "      <td>15.81</td>\n",
       "    </tr>\n",
       "    <tr>\n",
       "      <th>50%</th>\n",
       "      <td>1,799,000.00</td>\n",
       "      <td>1,797,000.00</td>\n",
       "      <td>1,860,000.00</td>\n",
       "      <td>1,726,270.00</td>\n",
       "      <td>29.20</td>\n",
       "    </tr>\n",
       "    <tr>\n",
       "      <th>75%</th>\n",
       "      <td>4,549,808.11</td>\n",
       "      <td>4,601,423.13</td>\n",
       "      <td>4,875,000.00</td>\n",
       "      <td>4,280,101.00</td>\n",
       "      <td>43.27</td>\n",
       "    </tr>\n",
       "    <tr>\n",
       "      <th>max</th>\n",
       "      <td>13,794,500.00</td>\n",
       "      <td>13,794,997.00</td>\n",
       "      <td>14,200,000.00</td>\n",
       "      <td>13,000,000.00</td>\n",
       "      <td>233.56</td>\n",
       "    </tr>\n",
       "  </tbody>\n",
       "</table>"
      ],
      "text/plain": [
       "<IPython.core.display.HTML object>"
      ]
     },
     "metadata": {},
     "output_type": "display_data"
    },
    {
     "data": {
      "text/html": [
       "<h3>btc_cop</h3>"
      ],
      "text/plain": [
       "<IPython.core.display.HTML object>"
      ]
     },
     "metadata": {},
     "output_type": "display_data"
    },
    {
     "name": "stdout",
     "output_type": "stream",
     "text": [
      "describe_dataset\n"
     ]
    },
    {
     "data": {
      "text/html": [
       "<H1>Range Dates</H1>"
      ],
      "text/plain": [
       "<IPython.core.display.HTML object>"
      ]
     },
     "metadata": {},
     "output_type": "display_data"
    },
    {
     "data": {
      "text/html": [
       "<H3>Min: 2016-10-31</H3>"
      ],
      "text/plain": [
       "<IPython.core.display.HTML object>"
      ]
     },
     "metadata": {},
     "output_type": "display_data"
    },
    {
     "data": {
      "text/html": [
       "<H3>Min: 2018-03-11</H3>"
      ],
      "text/plain": [
       "<IPython.core.display.HTML object>"
      ]
     },
     "metadata": {},
     "output_type": "display_data"
    },
    {
     "data": {
      "text/html": [
       "<H1>Min</H1>"
      ],
      "text/plain": [
       "<IPython.core.display.HTML object>"
      ]
     },
     "metadata": {},
     "output_type": "display_data"
    },
    {
     "name": "stdout",
     "output_type": "stream",
     "text": [
      "open     2016-11-08\n",
      "close    2016-11-08\n",
      "high     2016-11-08\n",
      "low      2017-07-12\n",
      "volume   2016-11-05\n",
      "dtype: datetime64[ns]\n"
     ]
    },
    {
     "data": {
      "text/html": [
       "<H1>Max</H1>"
      ],
      "text/plain": [
       "<IPython.core.display.HTML object>"
      ]
     },
     "metadata": {},
     "output_type": "display_data"
    },
    {
     "name": "stdout",
     "output_type": "stream",
     "text": [
      "open     2017-12-17\n",
      "close    2017-12-16\n",
      "high     2017-05-05\n",
      "low      2017-12-16\n",
      "volume   2017-10-10\n",
      "dtype: datetime64[ns]\n"
     ]
    },
    {
     "data": {
      "text/html": [
       "<table border=\"1\" class=\"dataframe\">\n",
       "  <thead>\n",
       "    <tr style=\"text-align: right;\">\n",
       "      <th></th>\n",
       "      <th>open</th>\n",
       "      <th>close</th>\n",
       "      <th>high</th>\n",
       "      <th>low</th>\n",
       "      <th>volume</th>\n",
       "    </tr>\n",
       "  </thead>\n",
       "  <tbody>\n",
       "    <tr>\n",
       "      <th>count</th>\n",
       "      <td>497.00</td>\n",
       "      <td>497.00</td>\n",
       "      <td>497.00</td>\n",
       "      <td>497.00</td>\n",
       "      <td>497.00</td>\n",
       "    </tr>\n",
       "    <tr>\n",
       "      <th>mean</th>\n",
       "      <td>12,878,911.58</td>\n",
       "      <td>12,956,022.67</td>\n",
       "      <td>33,782,208.30</td>\n",
       "      <td>12,165,157.75</td>\n",
       "      <td>4.42</td>\n",
       "    </tr>\n",
       "    <tr>\n",
       "      <th>std</th>\n",
       "      <td>12,787,751.52</td>\n",
       "      <td>12,873,744.45</td>\n",
       "      <td>448,155,054.30</td>\n",
       "      <td>12,026,074.87</td>\n",
       "      <td>4.66</td>\n",
       "    </tr>\n",
       "    <tr>\n",
       "      <th>min</th>\n",
       "      <td>2,040,100.23</td>\n",
       "      <td>2,030,280.91</td>\n",
       "      <td>2,041,656.90</td>\n",
       "      <td>30,200.00</td>\n",
       "      <td>0.00</td>\n",
       "    </tr>\n",
       "    <tr>\n",
       "      <th>25%</th>\n",
       "      <td>3,185,544.16</td>\n",
       "      <td>3,145,147.15</td>\n",
       "      <td>3,370,685.23</td>\n",
       "      <td>3,000,487.60</td>\n",
       "      <td>0.96</td>\n",
       "    </tr>\n",
       "    <tr>\n",
       "      <th>50%</th>\n",
       "      <td>7,499,999.00</td>\n",
       "      <td>7,419,000.00</td>\n",
       "      <td>7,838,507.90</td>\n",
       "      <td>7,010,002.00</td>\n",
       "      <td>2.83</td>\n",
       "    </tr>\n",
       "    <tr>\n",
       "      <th>75%</th>\n",
       "      <td>19,000,000.00</td>\n",
       "      <td>19,202,001.00</td>\n",
       "      <td>20,582,980.00</td>\n",
       "      <td>18,001,000.00</td>\n",
       "      <td>6.49</td>\n",
       "    </tr>\n",
       "    <tr>\n",
       "      <th>max</th>\n",
       "      <td>51,253,009.00</td>\n",
       "      <td>51,252,704.00</td>\n",
       "      <td>10,000,000,000.00</td>\n",
       "      <td>48,400,000.00</td>\n",
       "      <td>31.25</td>\n",
       "    </tr>\n",
       "  </tbody>\n",
       "</table>"
      ],
      "text/plain": [
       "<IPython.core.display.HTML object>"
      ]
     },
     "metadata": {},
     "output_type": "display_data"
    },
    {
     "data": {
      "text/html": [
       "<h3>btc_pen</h3>"
      ],
      "text/plain": [
       "<IPython.core.display.HTML object>"
      ]
     },
     "metadata": {},
     "output_type": "display_data"
    },
    {
     "name": "stdout",
     "output_type": "stream",
     "text": [
      "describe_dataset\n"
     ]
    },
    {
     "data": {
      "text/html": [
       "<H1>Range Dates</H1>"
      ],
      "text/plain": [
       "<IPython.core.display.HTML object>"
      ]
     },
     "metadata": {},
     "output_type": "display_data"
    },
    {
     "data": {
      "text/html": [
       "<H3>Min: 2017-08-14</H3>"
      ],
      "text/plain": [
       "<IPython.core.display.HTML object>"
      ]
     },
     "metadata": {},
     "output_type": "display_data"
    },
    {
     "data": {
      "text/html": [
       "<H3>Min: 2018-03-11</H3>"
      ],
      "text/plain": [
       "<IPython.core.display.HTML object>"
      ]
     },
     "metadata": {},
     "output_type": "display_data"
    },
    {
     "data": {
      "text/html": [
       "<H1>Min</H1>"
      ],
      "text/plain": [
       "<IPython.core.display.HTML object>"
      ]
     },
     "metadata": {},
     "output_type": "display_data"
    },
    {
     "name": "stdout",
     "output_type": "stream",
     "text": [
      "open     2017-09-30\n",
      "close    2017-09-29\n",
      "high     2017-09-30\n",
      "low      2017-10-24\n",
      "volume   2017-08-15\n",
      "dtype: datetime64[ns]\n"
     ]
    },
    {
     "data": {
      "text/html": [
       "<H1>Max</H1>"
      ],
      "text/plain": [
       "<IPython.core.display.HTML object>"
      ]
     },
     "metadata": {},
     "output_type": "display_data"
    },
    {
     "name": "stdout",
     "output_type": "stream",
     "text": [
      "open     2017-12-07\n",
      "close    2017-12-06\n",
      "high     2017-12-06\n",
      "low      2017-12-24\n",
      "volume   2018-02-05\n",
      "dtype: datetime64[ns]\n"
     ]
    },
    {
     "data": {
      "text/html": [
       "<table border=\"1\" class=\"dataframe\">\n",
       "  <thead>\n",
       "    <tr style=\"text-align: right;\">\n",
       "      <th></th>\n",
       "      <th>open</th>\n",
       "      <th>close</th>\n",
       "      <th>high</th>\n",
       "      <th>low</th>\n",
       "      <th>volume</th>\n",
       "    </tr>\n",
       "  </thead>\n",
       "  <tbody>\n",
       "    <tr>\n",
       "      <th>count</th>\n",
       "      <td>210.00</td>\n",
       "      <td>210.00</td>\n",
       "      <td>210.00</td>\n",
       "      <td>210.00</td>\n",
       "      <td>210.00</td>\n",
       "    </tr>\n",
       "    <tr>\n",
       "      <th>mean</th>\n",
       "      <td>29,861.78</td>\n",
       "      <td>29,952.57</td>\n",
       "      <td>33,699.85</td>\n",
       "      <td>26,675.23</td>\n",
       "      <td>0.69</td>\n",
       "    </tr>\n",
       "    <tr>\n",
       "      <th>std</th>\n",
       "      <td>23,458.48</td>\n",
       "      <td>23,680.31</td>\n",
       "      <td>31,056.47</td>\n",
       "      <td>13,270.35</td>\n",
       "      <td>1.14</td>\n",
       "    </tr>\n",
       "    <tr>\n",
       "      <th>min</th>\n",
       "      <td>9,500.00</td>\n",
       "      <td>9,500.00</td>\n",
       "      <td>9,500.00</td>\n",
       "      <td>1.12</td>\n",
       "      <td>0.00</td>\n",
       "    </tr>\n",
       "    <tr>\n",
       "      <th>25%</th>\n",
       "      <td>15,134.38</td>\n",
       "      <td>15,221.10</td>\n",
       "      <td>16,012.48</td>\n",
       "      <td>14,449.05</td>\n",
       "      <td>0.08</td>\n",
       "    </tr>\n",
       "    <tr>\n",
       "      <th>50%</th>\n",
       "      <td>27,008.82</td>\n",
       "      <td>27,089.53</td>\n",
       "      <td>28,837.22</td>\n",
       "      <td>25,949.94</td>\n",
       "      <td>0.37</td>\n",
       "    </tr>\n",
       "    <tr>\n",
       "      <th>75%</th>\n",
       "      <td>37,175.36</td>\n",
       "      <td>37,090.65</td>\n",
       "      <td>39,525.93</td>\n",
       "      <td>35,182.31</td>\n",
       "      <td>0.81</td>\n",
       "    </tr>\n",
       "    <tr>\n",
       "      <th>max</th>\n",
       "      <td>299,997.00</td>\n",
       "      <td>299,997.00</td>\n",
       "      <td>299,997.00</td>\n",
       "      <td>58,997.27</td>\n",
       "      <td>11.30</td>\n",
       "    </tr>\n",
       "  </tbody>\n",
       "</table>"
      ],
      "text/plain": [
       "<IPython.core.display.HTML object>"
      ]
     },
     "metadata": {},
     "output_type": "display_data"
    },
    {
     "data": {
      "text/html": [
       "<h3>eth_btc</h3>"
      ],
      "text/plain": [
       "<IPython.core.display.HTML object>"
      ]
     },
     "metadata": {},
     "output_type": "display_data"
    },
    {
     "name": "stdout",
     "output_type": "stream",
     "text": [
      "describe_dataset\n"
     ]
    },
    {
     "data": {
      "text/html": [
       "<H1>Range Dates</H1>"
      ],
      "text/plain": [
       "<IPython.core.display.HTML object>"
      ]
     },
     "metadata": {},
     "output_type": "display_data"
    },
    {
     "data": {
      "text/html": [
       "<H3>Min: 2017-07-14</H3>"
      ],
      "text/plain": [
       "<IPython.core.display.HTML object>"
      ]
     },
     "metadata": {},
     "output_type": "display_data"
    },
    {
     "data": {
      "text/html": [
       "<H3>Min: 2018-03-10</H3>"
      ],
      "text/plain": [
       "<IPython.core.display.HTML object>"
      ]
     },
     "metadata": {},
     "output_type": "display_data"
    },
    {
     "data": {
      "text/html": [
       "<H1>Min</H1>"
      ],
      "text/plain": [
       "<IPython.core.display.HTML object>"
      ]
     },
     "metadata": {},
     "output_type": "display_data"
    },
    {
     "name": "stdout",
     "output_type": "stream",
     "text": [
      "open     2017-12-07\n",
      "close    2017-11-27\n",
      "high     2017-11-30\n",
      "low      2017-11-06\n",
      "volume   2017-07-23\n",
      "dtype: datetime64[ns]\n"
     ]
    },
    {
     "data": {
      "text/html": [
       "<H1>Max</H1>"
      ],
      "text/plain": [
       "<IPython.core.display.HTML object>"
      ]
     },
     "metadata": {},
     "output_type": "display_data"
    },
    {
     "name": "stdout",
     "output_type": "stream",
     "text": [
      "open     2018-02-01\n",
      "close    2018-01-31\n",
      "high     2017-12-21\n",
      "low      2018-01-31\n",
      "volume   2017-12-07\n",
      "dtype: datetime64[ns]\n"
     ]
    },
    {
     "data": {
      "text/html": [
       "<table border=\"1\" class=\"dataframe\">\n",
       "  <thead>\n",
       "    <tr style=\"text-align: right;\">\n",
       "      <th></th>\n",
       "      <th>open</th>\n",
       "      <th>close</th>\n",
       "      <th>high</th>\n",
       "      <th>low</th>\n",
       "      <th>volume</th>\n",
       "    </tr>\n",
       "  </thead>\n",
       "  <tbody>\n",
       "    <tr>\n",
       "      <th>count</th>\n",
       "      <td>240.00</td>\n",
       "      <td>240.00</td>\n",
       "      <td>240.00</td>\n",
       "      <td>240.00</td>\n",
       "      <td>240.00</td>\n",
       "    </tr>\n",
       "    <tr>\n",
       "      <th>mean</th>\n",
       "      <td>0.07</td>\n",
       "      <td>0.07</td>\n",
       "      <td>0.07</td>\n",
       "      <td>0.07</td>\n",
       "      <td>12.60</td>\n",
       "    </tr>\n",
       "    <tr>\n",
       "      <th>std</th>\n",
       "      <td>0.02</td>\n",
       "      <td>0.02</td>\n",
       "      <td>0.02</td>\n",
       "      <td>0.02</td>\n",
       "      <td>16.69</td>\n",
       "    </tr>\n",
       "    <tr>\n",
       "      <th>min</th>\n",
       "      <td>0.02</td>\n",
       "      <td>0.01</td>\n",
       "      <td>0.02</td>\n",
       "      <td>0.00</td>\n",
       "      <td>0.00</td>\n",
       "    </tr>\n",
       "    <tr>\n",
       "      <th>25%</th>\n",
       "      <td>0.05</td>\n",
       "      <td>0.05</td>\n",
       "      <td>0.06</td>\n",
       "      <td>0.05</td>\n",
       "      <td>1.74</td>\n",
       "    </tr>\n",
       "    <tr>\n",
       "      <th>50%</th>\n",
       "      <td>0.07</td>\n",
       "      <td>0.07</td>\n",
       "      <td>0.08</td>\n",
       "      <td>0.07</td>\n",
       "      <td>5.15</td>\n",
       "    </tr>\n",
       "    <tr>\n",
       "      <th>75%</th>\n",
       "      <td>0.08</td>\n",
       "      <td>0.08</td>\n",
       "      <td>0.09</td>\n",
       "      <td>0.08</td>\n",
       "      <td>16.97</td>\n",
       "    </tr>\n",
       "    <tr>\n",
       "      <th>max</th>\n",
       "      <td>0.12</td>\n",
       "      <td>0.11</td>\n",
       "      <td>0.17</td>\n",
       "      <td>0.11</td>\n",
       "      <td>84.71</td>\n",
       "    </tr>\n",
       "  </tbody>\n",
       "</table>"
      ],
      "text/plain": [
       "<IPython.core.display.HTML object>"
      ]
     },
     "metadata": {},
     "output_type": "display_data"
    },
    {
     "data": {
      "text/html": [
       "<h3>eth_clp</h3>"
      ],
      "text/plain": [
       "<IPython.core.display.HTML object>"
      ]
     },
     "metadata": {},
     "output_type": "display_data"
    },
    {
     "name": "stdout",
     "output_type": "stream",
     "text": [
      "describe_dataset\n"
     ]
    },
    {
     "data": {
      "text/html": [
       "<H1>Range Dates</H1>"
      ],
      "text/plain": [
       "<IPython.core.display.HTML object>"
      ]
     },
     "metadata": {},
     "output_type": "display_data"
    },
    {
     "data": {
      "text/html": [
       "<H3>Min: 2017-07-03</H3>"
      ],
      "text/plain": [
       "<IPython.core.display.HTML object>"
      ]
     },
     "metadata": {},
     "output_type": "display_data"
    },
    {
     "data": {
      "text/html": [
       "<H3>Min: 2018-03-11</H3>"
      ],
      "text/plain": [
       "<IPython.core.display.HTML object>"
      ]
     },
     "metadata": {},
     "output_type": "display_data"
    },
    {
     "data": {
      "text/html": [
       "<H1>Min</H1>"
      ],
      "text/plain": [
       "<IPython.core.display.HTML object>"
      ]
     },
     "metadata": {},
     "output_type": "display_data"
    },
    {
     "name": "stdout",
     "output_type": "stream",
     "text": [
      "open     2017-07-16\n",
      "close    2017-07-15\n",
      "high     2017-07-16\n",
      "low      2017-07-16\n",
      "volume   2018-02-28\n",
      "dtype: datetime64[ns]\n"
     ]
    },
    {
     "data": {
      "text/html": [
       "<H1>Max</H1>"
      ],
      "text/plain": [
       "<IPython.core.display.HTML object>"
      ]
     },
     "metadata": {},
     "output_type": "display_data"
    },
    {
     "name": "stdout",
     "output_type": "stream",
     "text": [
      "open     2018-01-15\n",
      "close    2018-01-14\n",
      "high     2018-01-10\n",
      "low      2018-01-14\n",
      "volume   2017-12-13\n",
      "dtype: datetime64[ns]\n"
     ]
    },
    {
     "data": {
      "text/html": [
       "<table border=\"1\" class=\"dataframe\">\n",
       "  <thead>\n",
       "    <tr style=\"text-align: right;\">\n",
       "      <th></th>\n",
       "      <th>open</th>\n",
       "      <th>close</th>\n",
       "      <th>high</th>\n",
       "      <th>low</th>\n",
       "      <th>volume</th>\n",
       "    </tr>\n",
       "  </thead>\n",
       "  <tbody>\n",
       "    <tr>\n",
       "      <th>count</th>\n",
       "      <td>252.00</td>\n",
       "      <td>252.00</td>\n",
       "      <td>252.00</td>\n",
       "      <td>252.00</td>\n",
       "      <td>252.00</td>\n",
       "    </tr>\n",
       "    <tr>\n",
       "      <th>mean</th>\n",
       "      <td>339,486.84</td>\n",
       "      <td>340,010.21</td>\n",
       "      <td>360,639.79</td>\n",
       "      <td>317,707.01</td>\n",
       "      <td>183.68</td>\n",
       "    </tr>\n",
       "    <tr>\n",
       "      <th>std</th>\n",
       "      <td>198,466.29</td>\n",
       "      <td>198,342.36</td>\n",
       "      <td>212,333.23</td>\n",
       "      <td>181,707.91</td>\n",
       "      <td>169.30</td>\n",
       "    </tr>\n",
       "    <tr>\n",
       "      <th>min</th>\n",
       "      <td>100,867.67</td>\n",
       "      <td>100,869.98</td>\n",
       "      <td>128,345.00</td>\n",
       "      <td>100,524.23</td>\n",
       "      <td>0.34</td>\n",
       "    </tr>\n",
       "    <tr>\n",
       "      <th>25%</th>\n",
       "      <td>194,160.06</td>\n",
       "      <td>195,000.00</td>\n",
       "      <td>201,375.00</td>\n",
       "      <td>189,000.00</td>\n",
       "      <td>70.19</td>\n",
       "    </tr>\n",
       "    <tr>\n",
       "      <th>50%</th>\n",
       "      <td>223,690.00</td>\n",
       "      <td>225,000.00</td>\n",
       "      <td>232,000.00</td>\n",
       "      <td>210,556.05</td>\n",
       "      <td>135.55</td>\n",
       "    </tr>\n",
       "    <tr>\n",
       "      <th>75%</th>\n",
       "      <td>517,356.25</td>\n",
       "      <td>519,059.00</td>\n",
       "      <td>543,440.18</td>\n",
       "      <td>493,252.25</td>\n",
       "      <td>231.51</td>\n",
       "    </tr>\n",
       "    <tr>\n",
       "      <th>max</th>\n",
       "      <td>896,000.00</td>\n",
       "      <td>896,000.00</td>\n",
       "      <td>934,999.00</td>\n",
       "      <td>842,800.00</td>\n",
       "      <td>1,043.09</td>\n",
       "    </tr>\n",
       "  </tbody>\n",
       "</table>"
      ],
      "text/plain": [
       "<IPython.core.display.HTML object>"
      ]
     },
     "metadata": {},
     "output_type": "display_data"
    },
    {
     "data": {
      "text/html": [
       "<h3>eth_cop</h3>"
      ],
      "text/plain": [
       "<IPython.core.display.HTML object>"
      ]
     },
     "metadata": {},
     "output_type": "display_data"
    },
    {
     "name": "stdout",
     "output_type": "stream",
     "text": [
      "describe_dataset\n"
     ]
    },
    {
     "data": {
      "text/html": [
       "<H1>Range Dates</H1>"
      ],
      "text/plain": [
       "<IPython.core.display.HTML object>"
      ]
     },
     "metadata": {},
     "output_type": "display_data"
    },
    {
     "data": {
      "text/html": [
       "<H3>Min: 2017-08-11</H3>"
      ],
      "text/plain": [
       "<IPython.core.display.HTML object>"
      ]
     },
     "metadata": {},
     "output_type": "display_data"
    },
    {
     "data": {
      "text/html": [
       "<H3>Min: 2018-03-11</H3>"
      ],
      "text/plain": [
       "<IPython.core.display.HTML object>"
      ]
     },
     "metadata": {},
     "output_type": "display_data"
    },
    {
     "data": {
      "text/html": [
       "<H1>Min</H1>"
      ],
      "text/plain": [
       "<IPython.core.display.HTML object>"
      ]
     },
     "metadata": {},
     "output_type": "display_data"
    },
    {
     "name": "stdout",
     "output_type": "stream",
     "text": [
      "open     2017-09-15\n",
      "close    2017-09-25\n",
      "high     2017-09-14\n",
      "low      2017-11-02\n",
      "volume   2017-09-30\n",
      "dtype: datetime64[ns]\n"
     ]
    },
    {
     "data": {
      "text/html": [
       "<H1>Max</H1>"
      ],
      "text/plain": [
       "<IPython.core.display.HTML object>"
      ]
     },
     "metadata": {},
     "output_type": "display_data"
    },
    {
     "name": "stdout",
     "output_type": "stream",
     "text": [
      "open     2018-01-15\n",
      "close    2018-01-13\n",
      "high     2018-01-10\n",
      "low      2018-01-14\n",
      "volume   2018-01-17\n",
      "dtype: datetime64[ns]\n"
     ]
    },
    {
     "data": {
      "text/html": [
       "<table border=\"1\" class=\"dataframe\">\n",
       "  <thead>\n",
       "    <tr style=\"text-align: right;\">\n",
       "      <th></th>\n",
       "      <th>open</th>\n",
       "      <th>close</th>\n",
       "      <th>high</th>\n",
       "      <th>low</th>\n",
       "      <th>volume</th>\n",
       "    </tr>\n",
       "  </thead>\n",
       "  <tbody>\n",
       "    <tr>\n",
       "      <th>count</th>\n",
       "      <td>213.00</td>\n",
       "      <td>213.00</td>\n",
       "      <td>213.00</td>\n",
       "      <td>213.00</td>\n",
       "      <td>213.00</td>\n",
       "    </tr>\n",
       "    <tr>\n",
       "      <th>mean</th>\n",
       "      <td>1,649,724.04</td>\n",
       "      <td>1,651,486.47</td>\n",
       "      <td>1,810,637.36</td>\n",
       "      <td>1,505,734.45</td>\n",
       "      <td>30.85</td>\n",
       "    </tr>\n",
       "    <tr>\n",
       "      <th>std</th>\n",
       "      <td>918,667.78</td>\n",
       "      <td>926,660.79</td>\n",
       "      <td>1,066,928.95</td>\n",
       "      <td>854,998.13</td>\n",
       "      <td>31.15</td>\n",
       "    </tr>\n",
       "    <tr>\n",
       "      <th>min</th>\n",
       "      <td>701,420.00</td>\n",
       "      <td>510,001.00</td>\n",
       "      <td>794,626.32</td>\n",
       "      <td>98,000.00</td>\n",
       "      <td>0.01</td>\n",
       "    </tr>\n",
       "    <tr>\n",
       "      <th>25%</th>\n",
       "      <td>854,884.00</td>\n",
       "      <td>854,884.00</td>\n",
       "      <td>912,386.00</td>\n",
       "      <td>801,000.00</td>\n",
       "      <td>9.85</td>\n",
       "    </tr>\n",
       "    <tr>\n",
       "      <th>50%</th>\n",
       "      <td>1,200,012.00</td>\n",
       "      <td>1,249,999.98</td>\n",
       "      <td>1,388,000.00</td>\n",
       "      <td>1,100,101.00</td>\n",
       "      <td>21.74</td>\n",
       "    </tr>\n",
       "    <tr>\n",
       "      <th>75%</th>\n",
       "      <td>2,328,000.00</td>\n",
       "      <td>2,349,994.99</td>\n",
       "      <td>2,520,000.00</td>\n",
       "      <td>2,178,000.00</td>\n",
       "      <td>41.01</td>\n",
       "    </tr>\n",
       "    <tr>\n",
       "      <th>max</th>\n",
       "      <td>4,100,000.00</td>\n",
       "      <td>4,068,448.91</td>\n",
       "      <td>6,000,000.00</td>\n",
       "      <td>3,854,163.93</td>\n",
       "      <td>184.19</td>\n",
       "    </tr>\n",
       "  </tbody>\n",
       "</table>"
      ],
      "text/plain": [
       "<IPython.core.display.HTML object>"
      ]
     },
     "metadata": {},
     "output_type": "display_data"
    },
    {
     "data": {
      "text/html": [
       "<h3>eth_pen</h3>"
      ],
      "text/plain": [
       "<IPython.core.display.HTML object>"
      ]
     },
     "metadata": {},
     "output_type": "display_data"
    },
    {
     "name": "stdout",
     "output_type": "stream",
     "text": [
      "describe_dataset\n"
     ]
    },
    {
     "data": {
      "text/html": [
       "<H1>Range Dates</H1>"
      ],
      "text/plain": [
       "<IPython.core.display.HTML object>"
      ]
     },
     "metadata": {},
     "output_type": "display_data"
    },
    {
     "data": {
      "text/html": [
       "<H3>Min: 2017-08-16</H3>"
      ],
      "text/plain": [
       "<IPython.core.display.HTML object>"
      ]
     },
     "metadata": {},
     "output_type": "display_data"
    },
    {
     "data": {
      "text/html": [
       "<H3>Min: 2018-03-11</H3>"
      ],
      "text/plain": [
       "<IPython.core.display.HTML object>"
      ]
     },
     "metadata": {},
     "output_type": "display_data"
    },
    {
     "data": {
      "text/html": [
       "<H1>Min</H1>"
      ],
      "text/plain": [
       "<IPython.core.display.HTML object>"
      ]
     },
     "metadata": {},
     "output_type": "display_data"
    },
    {
     "name": "stdout",
     "output_type": "stream",
     "text": [
      "open     2017-10-24\n",
      "close    2017-11-06\n",
      "high     2017-09-14\n",
      "low      2017-10-24\n",
      "volume   2017-08-19\n",
      "dtype: datetime64[ns]\n"
     ]
    },
    {
     "data": {
      "text/html": [
       "<H1>Max</H1>"
      ],
      "text/plain": [
       "<IPython.core.display.HTML object>"
      ]
     },
     "metadata": {},
     "output_type": "display_data"
    },
    {
     "name": "stdout",
     "output_type": "stream",
     "text": [
      "open     2017-12-23\n",
      "close    2017-12-15\n",
      "high     2018-01-21\n",
      "low      2017-12-23\n",
      "volume   2018-02-15\n",
      "dtype: datetime64[ns]\n"
     ]
    },
    {
     "data": {
      "text/html": [
       "<table border=\"1\" class=\"dataframe\">\n",
       "  <thead>\n",
       "    <tr style=\"text-align: right;\">\n",
       "      <th></th>\n",
       "      <th>open</th>\n",
       "      <th>close</th>\n",
       "      <th>high</th>\n",
       "      <th>low</th>\n",
       "      <th>volume</th>\n",
       "    </tr>\n",
       "  </thead>\n",
       "  <tbody>\n",
       "    <tr>\n",
       "      <th>count</th>\n",
       "      <td>208.00</td>\n",
       "      <td>208.00</td>\n",
       "      <td>208.00</td>\n",
       "      <td>208.00</td>\n",
       "      <td>208.00</td>\n",
       "    </tr>\n",
       "    <tr>\n",
       "      <th>mean</th>\n",
       "      <td>1,956.52</td>\n",
       "      <td>1,994.46</td>\n",
       "      <td>2,219.63</td>\n",
       "      <td>1,853.97</td>\n",
       "      <td>3.08</td>\n",
       "    </tr>\n",
       "    <tr>\n",
       "      <th>std</th>\n",
       "      <td>1,062.31</td>\n",
       "      <td>1,105.04</td>\n",
       "      <td>1,391.74</td>\n",
       "      <td>996.39</td>\n",
       "      <td>5.00</td>\n",
       "    </tr>\n",
       "    <tr>\n",
       "      <th>min</th>\n",
       "      <td>300.00</td>\n",
       "      <td>654.01</td>\n",
       "      <td>830.00</td>\n",
       "      <td>1.01</td>\n",
       "      <td>0.00</td>\n",
       "    </tr>\n",
       "    <tr>\n",
       "      <th>25%</th>\n",
       "      <td>1,028.31</td>\n",
       "      <td>1,047.88</td>\n",
       "      <td>1,050.75</td>\n",
       "      <td>1,017.65</td>\n",
       "      <td>0.10</td>\n",
       "    </tr>\n",
       "    <tr>\n",
       "      <th>50%</th>\n",
       "      <td>1,463.06</td>\n",
       "      <td>1,447.00</td>\n",
       "      <td>1,564.50</td>\n",
       "      <td>1,308.92</td>\n",
       "      <td>0.93</td>\n",
       "    </tr>\n",
       "    <tr>\n",
       "      <th>75%</th>\n",
       "      <td>2,779.73</td>\n",
       "      <td>2,858.75</td>\n",
       "      <td>3,104.41</td>\n",
       "      <td>2,717.64</td>\n",
       "      <td>3.98</td>\n",
       "    </tr>\n",
       "    <tr>\n",
       "      <th>max</th>\n",
       "      <td>4,994.00</td>\n",
       "      <td>4,997.00</td>\n",
       "      <td>8,000.00</td>\n",
       "      <td>4,994.00</td>\n",
       "      <td>37.77</td>\n",
       "    </tr>\n",
       "  </tbody>\n",
       "</table>"
      ],
      "text/plain": [
       "<IPython.core.display.HTML object>"
      ]
     },
     "metadata": {},
     "output_type": "display_data"
    },
    {
     "data": {
      "text/html": [
       "<h3>btc_brl</h3>"
      ],
      "text/plain": [
       "<IPython.core.display.HTML object>"
      ]
     },
     "metadata": {},
     "output_type": "display_data"
    },
    {
     "name": "stdout",
     "output_type": "stream",
     "text": [
      "describe_dataset\n"
     ]
    },
    {
     "data": {
      "text/html": [
       "<H1>Range Dates</H1>"
      ],
      "text/plain": [
       "<IPython.core.display.HTML object>"
      ]
     },
     "metadata": {},
     "output_type": "display_data"
    },
    {
     "data": {
      "text/html": [
       "<H3>Min: 2013-06-12</H3>"
      ],
      "text/plain": [
       "<IPython.core.display.HTML object>"
      ]
     },
     "metadata": {},
     "output_type": "display_data"
    },
    {
     "data": {
      "text/html": [
       "<H3>Min: 2018-03-12</H3>"
      ],
      "text/plain": [
       "<IPython.core.display.HTML object>"
      ]
     },
     "metadata": {},
     "output_type": "display_data"
    },
    {
     "data": {
      "text/html": [
       "<H1>Min</H1>"
      ],
      "text/plain": [
       "<IPython.core.display.HTML object>"
      ]
     },
     "metadata": {},
     "output_type": "display_data"
    },
    {
     "name": "stdout",
     "output_type": "stream",
     "text": [
      "low         2018-02-16\n",
      "volume      2013-08-18\n",
      "amount      2013-08-18\n",
      "avg_price   2013-07-09\n",
      "open        2013-07-04\n",
      "close       2013-07-03\n",
      "high        2013-07-10\n",
      "quantity    2013-08-18\n",
      "dtype: datetime64[ns]\n"
     ]
    },
    {
     "data": {
      "text/html": [
       "<H1>Max</H1>"
      ],
      "text/plain": [
       "<IPython.core.display.HTML object>"
      ]
     },
     "metadata": {},
     "output_type": "display_data"
    },
    {
     "name": "stdout",
     "output_type": "stream",
     "text": [
      "low         2017-12-18\n",
      "volume      2017-12-07\n",
      "amount      2017-12-07\n",
      "avg_price   2017-12-18\n",
      "open        2017-12-19\n",
      "close       2017-12-18\n",
      "high        2017-12-17\n",
      "quantity    2017-11-29\n",
      "dtype: datetime64[ns]\n"
     ]
    },
    {
     "data": {
      "text/html": [
       "<table border=\"1\" class=\"dataframe\">\n",
       "  <thead>\n",
       "    <tr style=\"text-align: right;\">\n",
       "      <th></th>\n",
       "      <th>low</th>\n",
       "      <th>volume</th>\n",
       "      <th>amount</th>\n",
       "      <th>avg_price</th>\n",
       "      <th>open</th>\n",
       "      <th>close</th>\n",
       "      <th>high</th>\n",
       "      <th>quantity</th>\n",
       "    </tr>\n",
       "  </thead>\n",
       "  <tbody>\n",
       "    <tr>\n",
       "      <th>count</th>\n",
       "      <td>1,681.00</td>\n",
       "      <td>1,681.00</td>\n",
       "      <td>1,681.00</td>\n",
       "      <td>1,681.00</td>\n",
       "      <td>1,681.00</td>\n",
       "      <td>1,681.00</td>\n",
       "      <td>1,681.00</td>\n",
       "      <td>1,681.00</td>\n",
       "    </tr>\n",
       "    <tr>\n",
       "      <th>mean</th>\n",
       "      <td>5,167.44</td>\n",
       "      <td>2,147,448.68</td>\n",
       "      <td>1,290.21</td>\n",
       "      <td>5,432.23</td>\n",
       "      <td>5,421.96</td>\n",
       "      <td>5,437.67</td>\n",
       "      <td>5,641.17</td>\n",
       "      <td>158.60</td>\n",
       "    </tr>\n",
       "    <tr>\n",
       "      <th>std</th>\n",
       "      <td>10,082.28</td>\n",
       "      <td>7,653,198.97</td>\n",
       "      <td>2,837.94</td>\n",
       "      <td>10,674.96</td>\n",
       "      <td>10,672.42</td>\n",
       "      <td>10,676.18</td>\n",
       "      <td>11,164.10</td>\n",
       "      <td>196.91</td>\n",
       "    </tr>\n",
       "    <tr>\n",
       "      <th>min</th>\n",
       "      <td>0.00</td>\n",
       "      <td>24.55</td>\n",
       "      <td>2.00</td>\n",
       "      <td>200.24</td>\n",
       "      <td>193.00</td>\n",
       "      <td>190.01</td>\n",
       "      <td>209.00</td>\n",
       "      <td>0.10</td>\n",
       "    </tr>\n",
       "    <tr>\n",
       "      <th>25%</th>\n",
       "      <td>936.14</td>\n",
       "      <td>59,930.05</td>\n",
       "      <td>161.00</td>\n",
       "      <td>962.42</td>\n",
       "      <td>959.70</td>\n",
       "      <td>960.00</td>\n",
       "      <td>985.00</td>\n",
       "      <td>52.42</td>\n",
       "    </tr>\n",
       "    <tr>\n",
       "      <th>50%</th>\n",
       "      <td>1,630.05</td>\n",
       "      <td>131,661.52</td>\n",
       "      <td>306.00</td>\n",
       "      <td>1,690.37</td>\n",
       "      <td>1,695.83</td>\n",
       "      <td>1,690.11</td>\n",
       "      <td>1,729.50</td>\n",
       "      <td>102.75</td>\n",
       "    </tr>\n",
       "    <tr>\n",
       "      <th>75%</th>\n",
       "      <td>2,881.00</td>\n",
       "      <td>487,363.80</td>\n",
       "      <td>839.00</td>\n",
       "      <td>2,945.76</td>\n",
       "      <td>2,949.58</td>\n",
       "      <td>2,960.00</td>\n",
       "      <td>3,046.00</td>\n",
       "      <td>181.59</td>\n",
       "    </tr>\n",
       "    <tr>\n",
       "      <th>max</th>\n",
       "      <td>67,500.00</td>\n",
       "      <td>108,023,418.47</td>\n",
       "      <td>33,169.00</td>\n",
       "      <td>68,942.87</td>\n",
       "      <td>68,800.00</td>\n",
       "      <td>69,099.00</td>\n",
       "      <td>69,950.00</td>\n",
       "      <td>2,629.60</td>\n",
       "    </tr>\n",
       "  </tbody>\n",
       "</table>"
      ],
      "text/plain": [
       "<IPython.core.display.HTML object>"
      ]
     },
     "metadata": {},
     "output_type": "display_data"
    }
   ],
   "source": [
    "#Index(['lowest', 'volume', 'amount', 'avg_price', 'opening', 'closing',\n",
    "#       'highest', 'quantity'],\n",
    "#      dtype='object')\n",
    "def describe_dataset( dataset):\n",
    "    display(HTML('<H1>Range Dates</H1>'))\n",
    "    display(HTML('<H3>Min: '+dataset.df.index.min().strftime('%Y-%m-%d')+'</H3>'))\n",
    "    display(HTML('<H3>Min: '+dataset.df.index.max().strftime('%Y-%m-%d')+'</H3>'))\n",
    "    display(HTML('<H1>Min</H1>'))\n",
    "    print(dataset.df.idxmin())\n",
    "    display(HTML('<H1>Max</H1>'))\n",
    "    print(dataset.df.idxmax())    \n",
    "    display(HTML(dataset.df.describe().to_html()))\n",
    "    return  dataset \n",
    "all_datasets(describe_dataset,datasets)"
   ]
  },
  {
   "cell_type": "markdown",
   "metadata": {},
   "source": [
    "### Adding Technical Indicators on the Closing Price\n",
    "\n",
    "Add technical Indicators on the closing prices. Bollinger Bands®, Exponential Moving Average (EMA), Moving Average Converge Divergence (MACD), Heikin-Ashi and Daily Returns."
   ]
  },
  {
   "cell_type": "code",
   "execution_count": 14,
   "metadata": {},
   "outputs": [
    {
     "data": {
      "text/html": [
       "<h3>btc_clp</h3>"
      ],
      "text/plain": [
       "<IPython.core.display.HTML object>"
      ]
     },
     "metadata": {},
     "output_type": "display_data"
    },
    {
     "name": "stdout",
     "output_type": "stream",
     "text": [
      "adding_technical_indicators\n"
     ]
    },
    {
     "data": {
      "text/html": [
       "<h3>btc_cop</h3>"
      ],
      "text/plain": [
       "<IPython.core.display.HTML object>"
      ]
     },
     "metadata": {},
     "output_type": "display_data"
    },
    {
     "name": "stdout",
     "output_type": "stream",
     "text": [
      "adding_technical_indicators\n"
     ]
    },
    {
     "data": {
      "text/html": [
       "<h3>btc_pen</h3>"
      ],
      "text/plain": [
       "<IPython.core.display.HTML object>"
      ]
     },
     "metadata": {},
     "output_type": "display_data"
    },
    {
     "name": "stdout",
     "output_type": "stream",
     "text": [
      "adding_technical_indicators\n"
     ]
    },
    {
     "data": {
      "text/html": [
       "<h3>eth_btc</h3>"
      ],
      "text/plain": [
       "<IPython.core.display.HTML object>"
      ]
     },
     "metadata": {},
     "output_type": "display_data"
    },
    {
     "name": "stdout",
     "output_type": "stream",
     "text": [
      "adding_technical_indicators\n"
     ]
    },
    {
     "data": {
      "text/html": [
       "<h3>eth_clp</h3>"
      ],
      "text/plain": [
       "<IPython.core.display.HTML object>"
      ]
     },
     "metadata": {},
     "output_type": "display_data"
    },
    {
     "name": "stdout",
     "output_type": "stream",
     "text": [
      "adding_technical_indicators\n"
     ]
    },
    {
     "data": {
      "text/html": [
       "<h3>eth_cop</h3>"
      ],
      "text/plain": [
       "<IPython.core.display.HTML object>"
      ]
     },
     "metadata": {},
     "output_type": "display_data"
    },
    {
     "name": "stdout",
     "output_type": "stream",
     "text": [
      "adding_technical_indicators\n"
     ]
    },
    {
     "data": {
      "text/html": [
       "<h3>eth_pen</h3>"
      ],
      "text/plain": [
       "<IPython.core.display.HTML object>"
      ]
     },
     "metadata": {},
     "output_type": "display_data"
    },
    {
     "name": "stdout",
     "output_type": "stream",
     "text": [
      "adding_technical_indicators\n"
     ]
    },
    {
     "data": {
      "text/html": [
       "<h3>btc_brl</h3>"
      ],
      "text/plain": [
       "<IPython.core.display.HTML object>"
      ]
     },
     "metadata": {},
     "output_type": "display_data"
    },
    {
     "name": "stdout",
     "output_type": "stream",
     "text": [
      "adding_technical_indicators\n"
     ]
    },
    {
     "data": {
      "text/html": [
       "<div>\n",
       "<style>\n",
       "    .dataframe thead tr:only-child th {\n",
       "        text-align: right;\n",
       "    }\n",
       "\n",
       "    .dataframe thead th {\n",
       "        text-align: left;\n",
       "    }\n",
       "\n",
       "    .dataframe tbody tr th {\n",
       "        vertical-align: top;\n",
       "    }\n",
       "</style>\n",
       "<table border=\"1\" class=\"dataframe\">\n",
       "  <thead>\n",
       "    <tr style=\"text-align: right;\">\n",
       "      <th></th>\n",
       "      <th>open</th>\n",
       "      <th>close</th>\n",
       "      <th>high</th>\n",
       "      <th>low</th>\n",
       "      <th>volume</th>\n",
       "      <th>EWMA26</th>\n",
       "      <th>EWMA12</th>\n",
       "      <th>EWMA9</th>\n",
       "      <th>MACD</th>\n",
       "      <th>Returns</th>\n",
       "      <th>Bollinger Upper</th>\n",
       "      <th>Bollinger Lower</th>\n",
       "      <th>Heiking_Close</th>\n",
       "      <th>Heiking High</th>\n",
       "      <th>Heiking Low</th>\n",
       "      <th>Heiking Open</th>\n",
       "    </tr>\n",
       "    <tr>\n",
       "      <th>datetime</th>\n",
       "      <th></th>\n",
       "      <th></th>\n",
       "      <th></th>\n",
       "      <th></th>\n",
       "      <th></th>\n",
       "      <th></th>\n",
       "      <th></th>\n",
       "      <th></th>\n",
       "      <th></th>\n",
       "      <th></th>\n",
       "      <th></th>\n",
       "      <th></th>\n",
       "      <th></th>\n",
       "      <th></th>\n",
       "      <th></th>\n",
       "      <th></th>\n",
       "    </tr>\n",
       "  </thead>\n",
       "  <tbody>\n",
       "    <tr>\n",
       "      <th>2016-10-31</th>\n",
       "      <td>2,099,950.00</td>\n",
       "      <td>2,100,000.00</td>\n",
       "      <td>2,100,000.00</td>\n",
       "      <td>2,099,950.00</td>\n",
       "      <td>2.28</td>\n",
       "      <td>2,100,000.00</td>\n",
       "      <td>2,100,000.00</td>\n",
       "      <td>2,100,000.00</td>\n",
       "      <td>0.00</td>\n",
       "      <td>nan</td>\n",
       "      <td>nan</td>\n",
       "      <td>nan</td>\n",
       "      <td>2,099,975.00</td>\n",
       "      <td>2,100,000.00</td>\n",
       "      <td>2,099,950.00</td>\n",
       "      <td>nan</td>\n",
       "    </tr>\n",
       "    <tr>\n",
       "      <th>2016-11-01</th>\n",
       "      <td>2,115,664.74</td>\n",
       "      <td>2,100,541.00</td>\n",
       "      <td>2,115,664.74</td>\n",
       "      <td>2,100,541.00</td>\n",
       "      <td>0.54</td>\n",
       "      <td>2,100,280.90</td>\n",
       "      <td>2,100,293.04</td>\n",
       "      <td>2,100,300.56</td>\n",
       "      <td>-12.14</td>\n",
       "      <td>0.00</td>\n",
       "      <td>2,101,058.13</td>\n",
       "      <td>2,099,527.95</td>\n",
       "      <td>2,108,102.87</td>\n",
       "      <td>2,115,664.74</td>\n",
       "      <td>2,100,541.00</td>\n",
       "      <td>2,099,975.00</td>\n",
       "    </tr>\n",
       "    <tr>\n",
       "      <th>2016-11-02</th>\n",
       "      <td>2,200,000.00</td>\n",
       "      <td>2,200,000.00</td>\n",
       "      <td>2,200,000.00</td>\n",
       "      <td>2,200,000.00</td>\n",
       "      <td>0.86</td>\n",
       "      <td>2,136,109.01</td>\n",
       "      <td>2,139,208.69</td>\n",
       "      <td>2,141,160.98</td>\n",
       "      <td>-3,099.68</td>\n",
       "      <td>0.05</td>\n",
       "      <td>2,258,904.21</td>\n",
       "      <td>2,019,513.17</td>\n",
       "      <td>2,200,000.00</td>\n",
       "      <td>2,200,000.00</td>\n",
       "      <td>2,200,000.00</td>\n",
       "      <td>2,108,102.87</td>\n",
       "    </tr>\n",
       "    <tr>\n",
       "      <th>2016-11-03</th>\n",
       "      <td>2,250,000.00</td>\n",
       "      <td>2,038,008.07</td>\n",
       "      <td>2,250,000.00</td>\n",
       "      <td>2,026,909.28</td>\n",
       "      <td>4.66</td>\n",
       "      <td>2,108,684.27</td>\n",
       "      <td>2,107,263.61</td>\n",
       "      <td>2,106,217.58</td>\n",
       "      <td>1,420.66</td>\n",
       "      <td>-0.07</td>\n",
       "      <td>2,251,040.87</td>\n",
       "      <td>1,963,486.35</td>\n",
       "      <td>2,141,229.34</td>\n",
       "      <td>2,250,000.00</td>\n",
       "      <td>2,026,909.28</td>\n",
       "      <td>2,200,000.00</td>\n",
       "    </tr>\n",
       "    <tr>\n",
       "      <th>2016-11-04</th>\n",
       "      <td>2,173,361.50</td>\n",
       "      <td>2,192,224.31</td>\n",
       "      <td>2,192,224.31</td>\n",
       "      <td>2,001,026.82</td>\n",
       "      <td>2.76</td>\n",
       "      <td>2,128,057.55</td>\n",
       "      <td>2,130,347.13</td>\n",
       "      <td>2,131,802.64</td>\n",
       "      <td>-2,289.58</td>\n",
       "      <td>0.08</td>\n",
       "      <td>2,276,593.20</td>\n",
       "      <td>1,984,101.06</td>\n",
       "      <td>2,139,709.24</td>\n",
       "      <td>2,192,224.31</td>\n",
       "      <td>2,001,026.82</td>\n",
       "      <td>2,144,004.04</td>\n",
       "    </tr>\n",
       "    <tr>\n",
       "      <th>2016-11-05</th>\n",
       "      <td>2,192,224.31</td>\n",
       "      <td>2,192,224.31</td>\n",
       "      <td>2,192,224.31</td>\n",
       "      <td>2,192,224.31</td>\n",
       "      <td>0.00</td>\n",
       "      <td>2,140,909.64</td>\n",
       "      <td>2,145,386.54</td>\n",
       "      <td>2,148,180.27</td>\n",
       "      <td>-4,476.90</td>\n",
       "      <td>0.00</td>\n",
       "      <td>2,283,273.96</td>\n",
       "      <td>2,007,499.12</td>\n",
       "      <td>2,192,224.31</td>\n",
       "      <td>2,192,224.31</td>\n",
       "      <td>2,192,224.31</td>\n",
       "      <td>2,182,792.91</td>\n",
       "    </tr>\n",
       "    <tr>\n",
       "      <th>2016-11-06</th>\n",
       "      <td>2,192,224.31</td>\n",
       "      <td>2,192,224.31</td>\n",
       "      <td>2,192,224.31</td>\n",
       "      <td>2,192,224.31</td>\n",
       "      <td>0.00</td>\n",
       "      <td>2,150,035.69</td>\n",
       "      <td>2,155,838.22</td>\n",
       "      <td>2,159,326.64</td>\n",
       "      <td>-5,802.53</td>\n",
       "      <td>0.00</td>\n",
       "      <td>2,283,114.71</td>\n",
       "      <td>2,028,561.73</td>\n",
       "      <td>2,192,224.31</td>\n",
       "      <td>2,192,224.31</td>\n",
       "      <td>2,192,224.31</td>\n",
       "      <td>2,192,224.31</td>\n",
       "    </tr>\n",
       "    <tr>\n",
       "      <th>2016-11-07</th>\n",
       "      <td>2,192,224.31</td>\n",
       "      <td>2,192,224.31</td>\n",
       "      <td>2,192,224.31</td>\n",
       "      <td>2,192,224.31</td>\n",
       "      <td>0.00</td>\n",
       "      <td>2,156,833.32</td>\n",
       "      <td>2,163,431.44</td>\n",
       "      <td>2,167,232.57</td>\n",
       "      <td>-6,598.12</td>\n",
       "      <td>0.00</td>\n",
       "      <td>2,280,070.30</td>\n",
       "      <td>2,046,792.57</td>\n",
       "      <td>2,192,224.31</td>\n",
       "      <td>2,192,224.31</td>\n",
       "      <td>2,192,224.31</td>\n",
       "      <td>2,192,224.31</td>\n",
       "    </tr>\n",
       "    <tr>\n",
       "      <th>2016-11-08</th>\n",
       "      <td>2,040,100.23</td>\n",
       "      <td>2,030,280.91</td>\n",
       "      <td>2,041,656.90</td>\n",
       "      <td>2,021,216.07</td>\n",
       "      <td>3.52</td>\n",
       "      <td>2,138,075.48</td>\n",
       "      <td>2,137,089.53</td>\n",
       "      <td>2,135,596.06</td>\n",
       "      <td>985.95</td>\n",
       "      <td>-0.07</td>\n",
       "      <td>2,291,089.84</td>\n",
       "      <td>1,983,089.21</td>\n",
       "      <td>2,033,313.53</td>\n",
       "      <td>2,041,656.90</td>\n",
       "      <td>2,021,216.07</td>\n",
       "      <td>2,192,224.31</td>\n",
       "    </tr>\n",
       "    <tr>\n",
       "      <th>2016-11-09</th>\n",
       "      <td>2,211,234.00</td>\n",
       "      <td>2,210,750.00</td>\n",
       "      <td>2,231,104.84</td>\n",
       "      <td>2,210,000.00</td>\n",
       "      <td>2.53</td>\n",
       "      <td>2,148,103.85</td>\n",
       "      <td>2,151,048.16</td>\n",
       "      <td>2,152,434.90</td>\n",
       "      <td>-2,944.30</td>\n",
       "      <td>0.09</td>\n",
       "      <td>2,302,113.17</td>\n",
       "      <td>1,999,983.15</td>\n",
       "      <td>2,215,772.21</td>\n",
       "      <td>2,231,104.84</td>\n",
       "      <td>2,210,000.00</td>\n",
       "      <td>2,035,190.57</td>\n",
       "    </tr>\n",
       "  </tbody>\n",
       "</table>\n",
       "</div>"
      ],
      "text/plain": [
       "                   open        close         high          low  volume  \\\n",
       "datetime                                                                 \n",
       "2016-10-31 2,099,950.00 2,100,000.00 2,100,000.00 2,099,950.00    2.28   \n",
       "2016-11-01 2,115,664.74 2,100,541.00 2,115,664.74 2,100,541.00    0.54   \n",
       "2016-11-02 2,200,000.00 2,200,000.00 2,200,000.00 2,200,000.00    0.86   \n",
       "2016-11-03 2,250,000.00 2,038,008.07 2,250,000.00 2,026,909.28    4.66   \n",
       "2016-11-04 2,173,361.50 2,192,224.31 2,192,224.31 2,001,026.82    2.76   \n",
       "2016-11-05 2,192,224.31 2,192,224.31 2,192,224.31 2,192,224.31    0.00   \n",
       "2016-11-06 2,192,224.31 2,192,224.31 2,192,224.31 2,192,224.31    0.00   \n",
       "2016-11-07 2,192,224.31 2,192,224.31 2,192,224.31 2,192,224.31    0.00   \n",
       "2016-11-08 2,040,100.23 2,030,280.91 2,041,656.90 2,021,216.07    3.52   \n",
       "2016-11-09 2,211,234.00 2,210,750.00 2,231,104.84 2,210,000.00    2.53   \n",
       "\n",
       "                 EWMA26       EWMA12        EWMA9      MACD  Returns  \\\n",
       "datetime                                                               \n",
       "2016-10-31 2,100,000.00 2,100,000.00 2,100,000.00      0.00      nan   \n",
       "2016-11-01 2,100,280.90 2,100,293.04 2,100,300.56    -12.14     0.00   \n",
       "2016-11-02 2,136,109.01 2,139,208.69 2,141,160.98 -3,099.68     0.05   \n",
       "2016-11-03 2,108,684.27 2,107,263.61 2,106,217.58  1,420.66    -0.07   \n",
       "2016-11-04 2,128,057.55 2,130,347.13 2,131,802.64 -2,289.58     0.08   \n",
       "2016-11-05 2,140,909.64 2,145,386.54 2,148,180.27 -4,476.90     0.00   \n",
       "2016-11-06 2,150,035.69 2,155,838.22 2,159,326.64 -5,802.53     0.00   \n",
       "2016-11-07 2,156,833.32 2,163,431.44 2,167,232.57 -6,598.12     0.00   \n",
       "2016-11-08 2,138,075.48 2,137,089.53 2,135,596.06    985.95    -0.07   \n",
       "2016-11-09 2,148,103.85 2,151,048.16 2,152,434.90 -2,944.30     0.09   \n",
       "\n",
       "            Bollinger Upper  Bollinger Lower  Heiking_Close  Heiking High  \\\n",
       "datetime                                                                    \n",
       "2016-10-31              nan              nan   2,099,975.00  2,100,000.00   \n",
       "2016-11-01     2,101,058.13     2,099,527.95   2,108,102.87  2,115,664.74   \n",
       "2016-11-02     2,258,904.21     2,019,513.17   2,200,000.00  2,200,000.00   \n",
       "2016-11-03     2,251,040.87     1,963,486.35   2,141,229.34  2,250,000.00   \n",
       "2016-11-04     2,276,593.20     1,984,101.06   2,139,709.24  2,192,224.31   \n",
       "2016-11-05     2,283,273.96     2,007,499.12   2,192,224.31  2,192,224.31   \n",
       "2016-11-06     2,283,114.71     2,028,561.73   2,192,224.31  2,192,224.31   \n",
       "2016-11-07     2,280,070.30     2,046,792.57   2,192,224.31  2,192,224.31   \n",
       "2016-11-08     2,291,089.84     1,983,089.21   2,033,313.53  2,041,656.90   \n",
       "2016-11-09     2,302,113.17     1,999,983.15   2,215,772.21  2,231,104.84   \n",
       "\n",
       "            Heiking Low  Heiking Open  \n",
       "datetime                               \n",
       "2016-10-31 2,099,950.00           nan  \n",
       "2016-11-01 2,100,541.00  2,099,975.00  \n",
       "2016-11-02 2,200,000.00  2,108,102.87  \n",
       "2016-11-03 2,026,909.28  2,200,000.00  \n",
       "2016-11-04 2,001,026.82  2,144,004.04  \n",
       "2016-11-05 2,192,224.31  2,182,792.91  \n",
       "2016-11-06 2,192,224.31  2,192,224.31  \n",
       "2016-11-07 2,192,224.31  2,192,224.31  \n",
       "2016-11-08 2,021,216.07  2,192,224.31  \n",
       "2016-11-09 2,210,000.00  2,035,190.57  "
      ]
     },
     "execution_count": 14,
     "metadata": {},
     "output_type": "execute_result"
    }
   ],
   "source": [
    "def adding_technical_indicators(dataset):\n",
    "    dataset.df['EWMA26']=dataset.df['close'].ewm(span=26).mean()\n",
    "    dataset.df['EWMA12']=dataset.df['close'].ewm(span=12).mean()\n",
    "    dataset.df['EWMA9']=dataset.df['close'].ewm(span=9).mean()\n",
    "    dataset.df['MACD']=dataset.df['EWMA26']-dataset.df['EWMA12']\n",
    "    dataset.df['Returns']=dataset.df['close'].pct_change(1)\n",
    "    dataset.df['Bollinger Upper']=dataset.df['EWMA12']+2*dataset.df['close'].ewm(span=12).std()\n",
    "    dataset.df['Bollinger Lower']=dataset.df['EWMA12']-2*dataset.df['close'].ewm(span=12).std()\n",
    "    dataset.df['Heiking_Close']=(dataset.df['close']+dataset.df['high']+dataset.df['low']+dataset.df['open'])/4\n",
    "    dataset.df['Heiking High']=dataset.df[['close','high','open']].max(axis=1)\n",
    "    dataset.df['Heiking Low']=dataset.df[['close','low','open']].min(axis=1)\n",
    "    dataset.df['Heiking Open']=(dataset.df['close'].shift(1)+dataset.df['open'].shift(1))/2\n",
    "    return dataset\n",
    "\n",
    "all_datasets(adding_technical_indicators,datasets)\n",
    "datasets['btc_cop'].df.head(10)\n",
    "\n",
    "\n",
    "    \n",
    "    \n",
    "    "
   ]
  },
  {
   "cell_type": "code",
   "execution_count": 15,
   "metadata": {},
   "outputs": [
    {
     "data": {
      "text/html": [
       "<div>\n",
       "<style>\n",
       "    .dataframe thead tr:only-child th {\n",
       "        text-align: right;\n",
       "    }\n",
       "\n",
       "    .dataframe thead th {\n",
       "        text-align: left;\n",
       "    }\n",
       "\n",
       "    .dataframe tbody tr th {\n",
       "        vertical-align: top;\n",
       "    }\n",
       "</style>\n",
       "<table border=\"1\" class=\"dataframe\">\n",
       "  <thead>\n",
       "    <tr style=\"text-align: right;\">\n",
       "      <th></th>\n",
       "      <th>low</th>\n",
       "      <th>volume</th>\n",
       "      <th>amount</th>\n",
       "      <th>avg_price</th>\n",
       "      <th>open</th>\n",
       "      <th>close</th>\n",
       "      <th>high</th>\n",
       "      <th>quantity</th>\n",
       "      <th>EWMA26</th>\n",
       "      <th>EWMA12</th>\n",
       "      <th>EWMA9</th>\n",
       "      <th>MACD</th>\n",
       "      <th>Returns</th>\n",
       "      <th>Bollinger Upper</th>\n",
       "      <th>Bollinger Lower</th>\n",
       "      <th>Heiking_Close</th>\n",
       "      <th>Heiking High</th>\n",
       "      <th>Heiking Low</th>\n",
       "      <th>Heiking Open</th>\n",
       "    </tr>\n",
       "    <tr>\n",
       "      <th>datetime</th>\n",
       "      <th></th>\n",
       "      <th></th>\n",
       "      <th></th>\n",
       "      <th></th>\n",
       "      <th></th>\n",
       "      <th></th>\n",
       "      <th></th>\n",
       "      <th></th>\n",
       "      <th></th>\n",
       "      <th></th>\n",
       "      <th></th>\n",
       "      <th></th>\n",
       "      <th></th>\n",
       "      <th></th>\n",
       "      <th></th>\n",
       "      <th></th>\n",
       "      <th></th>\n",
       "      <th></th>\n",
       "      <th></th>\n",
       "    </tr>\n",
       "  </thead>\n",
       "  <tbody>\n",
       "    <tr>\n",
       "      <th>2015-08-26</th>\n",
       "      <td>832.50</td>\n",
       "      <td>90,195.44</td>\n",
       "      <td>305</td>\n",
       "      <td>871.49</td>\n",
       "      <td>851.44</td>\n",
       "      <td>870.00</td>\n",
       "      <td>900.00</td>\n",
       "      <td>103.50</td>\n",
       "      <td>870.00</td>\n",
       "      <td>870.00</td>\n",
       "      <td>870.00</td>\n",
       "      <td>0.00</td>\n",
       "      <td>nan</td>\n",
       "      <td>nan</td>\n",
       "      <td>nan</td>\n",
       "      <td>863.48</td>\n",
       "      <td>900.00</td>\n",
       "      <td>832.50</td>\n",
       "      <td>nan</td>\n",
       "    </tr>\n",
       "    <tr>\n",
       "      <th>2013-06-12</th>\n",
       "      <td>249.00</td>\n",
       "      <td>2,799.69</td>\n",
       "      <td>11</td>\n",
       "      <td>256.45</td>\n",
       "      <td>249.00</td>\n",
       "      <td>265.00</td>\n",
       "      <td>275.00</td>\n",
       "      <td>10.92</td>\n",
       "      <td>555.87</td>\n",
       "      <td>542.29</td>\n",
       "      <td>533.89</td>\n",
       "      <td>13.57</td>\n",
       "      <td>-0.70</td>\n",
       "      <td>1,397.89</td>\n",
       "      <td>-313.31</td>\n",
       "      <td>259.50</td>\n",
       "      <td>275.00</td>\n",
       "      <td>249.00</td>\n",
       "      <td>860.72</td>\n",
       "    </tr>\n",
       "    <tr>\n",
       "      <th>2013-06-13</th>\n",
       "      <td>259.00</td>\n",
       "      <td>2,830.41</td>\n",
       "      <td>16</td>\n",
       "      <td>266.40</td>\n",
       "      <td>265.00</td>\n",
       "      <td>269.00</td>\n",
       "      <td>269.00</td>\n",
       "      <td>10.62</td>\n",
       "      <td>452.80</td>\n",
       "      <td>435.63</td>\n",
       "      <td>425.33</td>\n",
       "      <td>17.17</td>\n",
       "      <td>0.02</td>\n",
       "      <td>1,101.33</td>\n",
       "      <td>-230.07</td>\n",
       "      <td>265.50</td>\n",
       "      <td>269.00</td>\n",
       "      <td>259.00</td>\n",
       "      <td>257.00</td>\n",
       "    </tr>\n",
       "    <tr>\n",
       "      <th>2013-06-14</th>\n",
       "      <td>245.00</td>\n",
       "      <td>8,694.71</td>\n",
       "      <td>35</td>\n",
       "      <td>255.42</td>\n",
       "      <td>267.00</td>\n",
       "      <td>250.00</td>\n",
       "      <td>268.00</td>\n",
       "      <td>34.04</td>\n",
       "      <td>396.10</td>\n",
       "      <td>377.03</td>\n",
       "      <td>365.93</td>\n",
       "      <td>19.07</td>\n",
       "      <td>-0.07</td>\n",
       "      <td>934.12</td>\n",
       "      <td>-180.06</td>\n",
       "      <td>257.50</td>\n",
       "      <td>268.00</td>\n",
       "      <td>245.00</td>\n",
       "      <td>267.00</td>\n",
       "    </tr>\n",
       "    <tr>\n",
       "      <th>2013-06-15</th>\n",
       "      <td>246.01</td>\n",
       "      <td>4,481.41</td>\n",
       "      <td>8</td>\n",
       "      <td>256.87</td>\n",
       "      <td>250.00</td>\n",
       "      <td>246.01</td>\n",
       "      <td>259.99</td>\n",
       "      <td>17.45</td>\n",
       "      <td>361.30</td>\n",
       "      <td>341.43</td>\n",
       "      <td>330.26</td>\n",
       "      <td>19.86</td>\n",
       "      <td>-0.02</td>\n",
       "      <td>820.61</td>\n",
       "      <td>-137.74</td>\n",
       "      <td>250.50</td>\n",
       "      <td>259.99</td>\n",
       "      <td>246.01</td>\n",
       "      <td>258.50</td>\n",
       "    </tr>\n",
       "    <tr>\n",
       "      <th>2013-06-16</th>\n",
       "      <td>246.01</td>\n",
       "      <td>427.69</td>\n",
       "      <td>14</td>\n",
       "      <td>256.22</td>\n",
       "      <td>246.01</td>\n",
       "      <td>252.00</td>\n",
       "      <td>257.43</td>\n",
       "      <td>1.67</td>\n",
       "      <td>339.41</td>\n",
       "      <td>319.70</td>\n",
       "      <td>309.05</td>\n",
       "      <td>19.71</td>\n",
       "      <td>0.02</td>\n",
       "      <td>737.31</td>\n",
       "      <td>-97.92</td>\n",
       "      <td>250.36</td>\n",
       "      <td>257.43</td>\n",
       "      <td>246.01</td>\n",
       "      <td>248.00</td>\n",
       "    </tr>\n",
       "    <tr>\n",
       "      <th>2013-06-17</th>\n",
       "      <td>252.00</td>\n",
       "      <td>3,628.96</td>\n",
       "      <td>12</td>\n",
       "      <td>254.52</td>\n",
       "      <td>257.43</td>\n",
       "      <td>254.96</td>\n",
       "      <td>257.43</td>\n",
       "      <td>14.26</td>\n",
       "      <td>324.39</td>\n",
       "      <td>305.25</td>\n",
       "      <td>295.36</td>\n",
       "      <td>19.14</td>\n",
       "      <td>0.01</td>\n",
       "      <td>673.31</td>\n",
       "      <td>-62.81</td>\n",
       "      <td>255.45</td>\n",
       "      <td>257.43</td>\n",
       "      <td>252.00</td>\n",
       "      <td>249.00</td>\n",
       "    </tr>\n",
       "    <tr>\n",
       "      <th>2013-06-18</th>\n",
       "      <td>246.11</td>\n",
       "      <td>7,498.59</td>\n",
       "      <td>22</td>\n",
       "      <td>256.79</td>\n",
       "      <td>254.95</td>\n",
       "      <td>263.00</td>\n",
       "      <td>263.00</td>\n",
       "      <td>29.20</td>\n",
       "      <td>314.50</td>\n",
       "      <td>296.43</td>\n",
       "      <td>287.58</td>\n",
       "      <td>18.06</td>\n",
       "      <td>0.03</td>\n",
       "      <td>622.95</td>\n",
       "      <td>-30.08</td>\n",
       "      <td>256.76</td>\n",
       "      <td>263.00</td>\n",
       "      <td>246.11</td>\n",
       "      <td>256.19</td>\n",
       "    </tr>\n",
       "    <tr>\n",
       "      <th>2013-06-19</th>\n",
       "      <td>251.01</td>\n",
       "      <td>1,137.09</td>\n",
       "      <td>18</td>\n",
       "      <td>262.96</td>\n",
       "      <td>251.01</td>\n",
       "      <td>260.00</td>\n",
       "      <td>264.98</td>\n",
       "      <td>4.32</td>\n",
       "      <td>306.42</td>\n",
       "      <td>289.23</td>\n",
       "      <td>281.21</td>\n",
       "      <td>17.19</td>\n",
       "      <td>-0.01</td>\n",
       "      <td>581.35</td>\n",
       "      <td>-2.89</td>\n",
       "      <td>256.75</td>\n",
       "      <td>264.98</td>\n",
       "      <td>251.01</td>\n",
       "      <td>258.98</td>\n",
       "    </tr>\n",
       "    <tr>\n",
       "      <th>2013-06-20</th>\n",
       "      <td>260.00</td>\n",
       "      <td>7,253.13</td>\n",
       "      <td>28</td>\n",
       "      <td>267.51</td>\n",
       "      <td>263.00</td>\n",
       "      <td>269.00</td>\n",
       "      <td>269.00</td>\n",
       "      <td>27.11</td>\n",
       "      <td>301.26</td>\n",
       "      <td>285.39</td>\n",
       "      <td>278.47</td>\n",
       "      <td>15.86</td>\n",
       "      <td>0.03</td>\n",
       "      <td>547.57</td>\n",
       "      <td>23.21</td>\n",
       "      <td>265.25</td>\n",
       "      <td>269.00</td>\n",
       "      <td>260.00</td>\n",
       "      <td>255.50</td>\n",
       "    </tr>\n",
       "  </tbody>\n",
       "</table>\n",
       "</div>"
      ],
      "text/plain": [
       "              low    volume  amount  avg_price   open  close   high  quantity  \\\n",
       "datetime                                                                        \n",
       "2015-08-26 832.50 90,195.44     305     871.49 851.44 870.00 900.00    103.50   \n",
       "2013-06-12 249.00  2,799.69      11     256.45 249.00 265.00 275.00     10.92   \n",
       "2013-06-13 259.00  2,830.41      16     266.40 265.00 269.00 269.00     10.62   \n",
       "2013-06-14 245.00  8,694.71      35     255.42 267.00 250.00 268.00     34.04   \n",
       "2013-06-15 246.01  4,481.41       8     256.87 250.00 246.01 259.99     17.45   \n",
       "2013-06-16 246.01    427.69      14     256.22 246.01 252.00 257.43      1.67   \n",
       "2013-06-17 252.00  3,628.96      12     254.52 257.43 254.96 257.43     14.26   \n",
       "2013-06-18 246.11  7,498.59      22     256.79 254.95 263.00 263.00     29.20   \n",
       "2013-06-19 251.01  1,137.09      18     262.96 251.01 260.00 264.98      4.32   \n",
       "2013-06-20 260.00  7,253.13      28     267.51 263.00 269.00 269.00     27.11   \n",
       "\n",
       "            EWMA26  EWMA12  EWMA9  MACD  Returns  Bollinger Upper  \\\n",
       "datetime                                                            \n",
       "2015-08-26  870.00  870.00 870.00  0.00      nan              nan   \n",
       "2013-06-12  555.87  542.29 533.89 13.57    -0.70         1,397.89   \n",
       "2013-06-13  452.80  435.63 425.33 17.17     0.02         1,101.33   \n",
       "2013-06-14  396.10  377.03 365.93 19.07    -0.07           934.12   \n",
       "2013-06-15  361.30  341.43 330.26 19.86    -0.02           820.61   \n",
       "2013-06-16  339.41  319.70 309.05 19.71     0.02           737.31   \n",
       "2013-06-17  324.39  305.25 295.36 19.14     0.01           673.31   \n",
       "2013-06-18  314.50  296.43 287.58 18.06     0.03           622.95   \n",
       "2013-06-19  306.42  289.23 281.21 17.19    -0.01           581.35   \n",
       "2013-06-20  301.26  285.39 278.47 15.86     0.03           547.57   \n",
       "\n",
       "            Bollinger Lower  Heiking_Close  Heiking High  Heiking Low  \\\n",
       "datetime                                                                \n",
       "2015-08-26              nan         863.48        900.00       832.50   \n",
       "2013-06-12          -313.31         259.50        275.00       249.00   \n",
       "2013-06-13          -230.07         265.50        269.00       259.00   \n",
       "2013-06-14          -180.06         257.50        268.00       245.00   \n",
       "2013-06-15          -137.74         250.50        259.99       246.01   \n",
       "2013-06-16           -97.92         250.36        257.43       246.01   \n",
       "2013-06-17           -62.81         255.45        257.43       252.00   \n",
       "2013-06-18           -30.08         256.76        263.00       246.11   \n",
       "2013-06-19            -2.89         256.75        264.98       251.01   \n",
       "2013-06-20            23.21         265.25        269.00       260.00   \n",
       "\n",
       "            Heiking Open  \n",
       "datetime                  \n",
       "2015-08-26           nan  \n",
       "2013-06-12        860.72  \n",
       "2013-06-13        257.00  \n",
       "2013-06-14        267.00  \n",
       "2013-06-15        258.50  \n",
       "2013-06-16        248.00  \n",
       "2013-06-17        249.00  \n",
       "2013-06-18        256.19  \n",
       "2013-06-19        258.98  \n",
       "2013-06-20        255.50  "
      ]
     },
     "execution_count": 15,
     "metadata": {},
     "output_type": "execute_result"
    }
   ],
   "source": [
    "datasets['btc_brl'].df.head(10)\n"
   ]
  },
  {
   "cell_type": "markdown",
   "metadata": {},
   "source": [
    "### Save Data for Plotting\n",
    "\n",
    "Save the data for plotting and profile the information graphically. "
   ]
  },
  {
   "cell_type": "code",
   "execution_count": 16,
   "metadata": {},
   "outputs": [],
   "source": [
    "def save_datasets(datasets,filename):\n",
    "    with open(filename, 'wb') as output:  # Overwrites any existing file.\n",
    "        pickle.dump(datasets, output, pickle.HIGHEST_PROTOCOL)\n",
    "    \n",
    "save_datasets(datasets, 'data_for_plotting/datasetsplotting.pkl')"
   ]
  },
  {
   "cell_type": "code",
   "execution_count": null,
   "metadata": {
    "collapsed": true
   },
   "outputs": [],
   "source": []
  }
 ],
 "metadata": {
  "kernelspec": {
   "display_name": "Python 3",
   "language": "python",
   "name": "python3"
  },
  "language_info": {
   "codemirror_mode": {
    "name": "ipython",
    "version": 3
   },
   "file_extension": ".py",
   "mimetype": "text/x-python",
   "name": "python",
   "nbconvert_exporter": "python",
   "pygments_lexer": "ipython3",
   "version": "3.6.1"
  }
 },
 "nbformat": 4,
 "nbformat_minor": 2
}
