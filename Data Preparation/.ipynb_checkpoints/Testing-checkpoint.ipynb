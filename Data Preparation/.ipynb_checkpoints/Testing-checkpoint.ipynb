{
 "cells": [
  {
   "cell_type": "markdown",
   "metadata": {},
   "source": [
    "# Test Model in data test\n"
   ]
  },
  {
   "cell_type": "markdown",
   "metadata": {},
   "source": [
    "Load the models in sklearn form"
   ]
  },
  {
   "cell_type": "code",
   "execution_count": 14,
   "metadata": {},
   "outputs": [],
   "source": [
    "import numpy as np\n",
    "import pandas as pd\n",
    "import pickle\n",
    "from sklearn.externals import joblib\n",
    "from collections import namedtuple\n",
    "from sklearn.preprocessing import StandardScaler\n",
    "from IPython.display import display, HTML\n",
    "from sklearn.linear_model import LinearRegression, Ridge, Lasso, LogisticRegression\n",
    "from sklearn.svm import SVR,LinearSVR,NuSVR\n",
    "from sklearn.kernel_ridge import KernelRidge\n",
    "from sklearn.tree import DecisionTreeRegressor\n",
    "from sklearn.ensemble import GradientBoostingRegressor,RandomForestRegressor,ExtraTreesRegressor,AdaBoostRegressor\n",
    "from sklearn.metrics import r2_score,make_scorer\n",
    "from keras.models import model_from_json\n",
    "from sklearn.gaussian_process import GaussianProcessRegressor\n",
    "from sklearn.gaussian_process.kernels import (RBF, Matern, RationalQuadratic,\n",
    "                                              ExpSineSquared, DotProduct,\n",
    "                                              ConstantKernel)\n",
    "from keras.wrappers.scikit_learn import KerasRegressor\n",
    "from keras import losses\n",
    "from keras.optimizers import RMSprop, Adam, SGD, Nadam"
   ]
  },
  {
   "cell_type": "code",
   "execution_count": 15,
   "metadata": {},
   "outputs": [],
   "source": [
    "Dataset=namedtuple('Dataset','exchange df')\n",
    "DatasetMLModel= namedtuple('DatasetMLModel','exchange  train_size tscv_split test_size X_train y_train X_test y_test scaler_features scaler_target')\n",
    "Regressor= namedtuple('Regressor','name regressor_class params type')\n",
    "FeatureSelection= namedtuple('FeatureSelection','dataset regressor params RFECV')"
   ]
  },
  {
   "cell_type": "code",
   "execution_count": 16,
   "metadata": {},
   "outputs": [],
   "source": [
    "models={}\n",
    "\n",
    "\n",
    "def load_model_deep_learning():\n",
    "    # loading model\n",
    "    model = model_from_json(open('models/deep_learning_arch.json').read())\n",
    "    model.load_weights('models/deep_learning_weights.h5')\n",
    "    model.compile(loss=losses.logcosh, optimizer=Adam(lr=0.001))#Dependencies\n",
    "    return KerasRegressor(build_fn=model)\n",
    "\n",
    "deeplearning_model=load_model_deep_learning()\n",
    "\n",
    "def load_model_sklearn(name):\n",
    "    return joblib.load('models/'+name) \n",
    "    \n",
    "    \n",
    "    \n",
    "def load_models():\n",
    "    model_names=[\n",
    "    'AdaBoostRegressor',\n",
    "    'GaussianProcessRegressor',\n",
    "    'GradientBoostingRegressor',\n",
    "    'KernelRidge',\n",
    "    'NuSVR',\n",
    "    'SVR']\n",
    "    pca='pca'\n",
    "    models={}\n",
    "    for model_name in model_names:\n",
    "        models[model_name]= load_model_sklearn(model_name)\n",
    "    pca=load_model_sklearn(pca)\n",
    "    return (pca,models)\n",
    "\n",
    "pca, models=load_models()\n",
    "    \n",
    "    \n",
    "    \n",
    "    "
   ]
  },
  {
   "cell_type": "code",
   "execution_count": 17,
   "metadata": {},
   "outputs": [
    {
     "data": {
      "text/plain": [
       "<keras.wrappers.scikit_learn.KerasRegressor at 0x1a1971eeb8>"
      ]
     },
     "execution_count": 17,
     "metadata": {},
     "output_type": "execute_result"
    }
   ],
   "source": [
    "deeplearning_model"
   ]
  },
  {
   "cell_type": "code",
   "execution_count": 19,
   "metadata": {},
   "outputs": [
    {
     "data": {
      "text/plain": [
       "PCA(copy=True, iterated_power=7, n_components=4, random_state=None,\n",
       "  svd_solver='auto', tol=0.0, whiten=True)"
      ]
     },
     "execution_count": 19,
     "metadata": {},
     "output_type": "execute_result"
    }
   ],
   "source": [
    "pca"
   ]
  },
  {
   "cell_type": "code",
   "execution_count": null,
   "metadata": {},
   "outputs": [],
   "source": []
  }
 ],
 "metadata": {
  "kernelspec": {
   "display_name": "Python 3",
   "language": "python",
   "name": "python3"
  },
  "language_info": {
   "codemirror_mode": {
    "name": "ipython",
    "version": 3
   },
   "file_extension": ".py",
   "mimetype": "text/x-python",
   "name": "python",
   "nbconvert_exporter": "python",
   "pygments_lexer": "ipython3",
   "version": "3.6.5"
  }
 },
 "nbformat": 4,
 "nbformat_minor": 2
}
