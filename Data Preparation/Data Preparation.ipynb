{
 "cells": [
  {
   "cell_type": "markdown",
   "metadata": {
    "collapsed": true
   },
   "source": [
    "# Data Preparation\n"
   ]
  },
  {
   "cell_type": "markdown",
   "metadata": {},
   "source": [
    "In this notebook will contain all the process regarding data preparation. Starting transforming the data to pandas dataframes and then profiling the data to have a preview of the problem domain. Then I will start doing some correlations among the datasets and visualize some characteristics before proceeding with the feature engineering. In adition, we will add some moving averages and other trading technical indicators. At the end, we might consider a PCA analysis to reduce the features for better analysis. "
   ]
  },
  {
   "cell_type": "markdown",
   "metadata": {},
   "source": [
    "## Import Data and Transforme to Consistent Pandas Data Frames"
   ]
  },
  {
   "cell_type": "code",
   "execution_count": 1,
   "metadata": {
    "collapsed": true
   },
   "outputs": [],
   "source": [
    "import numpy as np\n",
    "import pandas as pd\n",
    "import pickle\n",
    "from datetime import datetime\n",
    "from collections import namedtuple\n",
    "from IPython.display import display, HTML\n",
    "import functools\n",
    "%matplotlib inline\n",
    "# Optional for interactive\n",
    "# %matplotlib notebook (watch video for full details)"
   ]
  },
  {
   "cell_type": "code",
   "execution_count": 2,
   "metadata": {
    "collapsed": true
   },
   "outputs": [],
   "source": [
    "# Accounting format for floats for pandas.\n",
    "\n",
    "pd.options.display.float_format = '{:,.2f}'.format"
   ]
  },
  {
   "cell_type": "markdown",
   "metadata": {},
   "source": [
    "The raw files are in the folder raw_data. We have a total of 8 files for the exchanges buda(Peru, Colombia and Chile) and mercadobitcoin (Brazil). In the following cell I am going to extract the data to pandas dataframes"
   ]
  },
  {
   "cell_type": "code",
   "execution_count": 3,
   "metadata": {
    "collapsed": true
   },
   "outputs": [],
   "source": [
    "def dateparse_buda (time_in_secs): \n",
    "    return datetime.fromtimestamp(float(time_in_secs)/1000)"
   ]
  },
  {
   "cell_type": "code",
   "execution_count": 4,
   "metadata": {
    "scrolled": false
   },
   "outputs": [
    {
     "data": {
      "text/html": [
       "<div>\n",
       "<style>\n",
       "    .dataframe thead tr:only-child th {\n",
       "        text-align: right;\n",
       "    }\n",
       "\n",
       "    .dataframe thead th {\n",
       "        text-align: left;\n",
       "    }\n",
       "\n",
       "    .dataframe tbody tr th {\n",
       "        vertical-align: top;\n",
       "    }\n",
       "</style>\n",
       "<table border=\"1\" class=\"dataframe\">\n",
       "  <thead>\n",
       "    <tr style=\"text-align: right;\">\n",
       "      <th></th>\n",
       "      <th>lowest</th>\n",
       "      <th>volume</th>\n",
       "      <th>amount</th>\n",
       "      <th>avg_price</th>\n",
       "      <th>opening</th>\n",
       "      <th>closing</th>\n",
       "      <th>highest</th>\n",
       "      <th>quantity</th>\n",
       "    </tr>\n",
       "    <tr>\n",
       "      <th>date</th>\n",
       "      <th></th>\n",
       "      <th></th>\n",
       "      <th></th>\n",
       "      <th></th>\n",
       "      <th></th>\n",
       "      <th></th>\n",
       "      <th></th>\n",
       "      <th></th>\n",
       "    </tr>\n",
       "  </thead>\n",
       "  <tbody>\n",
       "    <tr>\n",
       "      <th>2013-06-12</th>\n",
       "      <td>249.00</td>\n",
       "      <td>2,799.69</td>\n",
       "      <td>11</td>\n",
       "      <td>256.45</td>\n",
       "      <td>249.00</td>\n",
       "      <td>265.00</td>\n",
       "      <td>275.00</td>\n",
       "      <td>10.92</td>\n",
       "    </tr>\n",
       "    <tr>\n",
       "      <th>2013-06-13</th>\n",
       "      <td>259.00</td>\n",
       "      <td>2,830.41</td>\n",
       "      <td>16</td>\n",
       "      <td>266.40</td>\n",
       "      <td>265.00</td>\n",
       "      <td>269.00</td>\n",
       "      <td>269.00</td>\n",
       "      <td>10.62</td>\n",
       "    </tr>\n",
       "    <tr>\n",
       "      <th>2013-06-14</th>\n",
       "      <td>245.00</td>\n",
       "      <td>8,694.71</td>\n",
       "      <td>35</td>\n",
       "      <td>255.42</td>\n",
       "      <td>267.00</td>\n",
       "      <td>250.00</td>\n",
       "      <td>268.00</td>\n",
       "      <td>34.04</td>\n",
       "    </tr>\n",
       "    <tr>\n",
       "      <th>2013-06-15</th>\n",
       "      <td>246.01</td>\n",
       "      <td>4,481.41</td>\n",
       "      <td>8</td>\n",
       "      <td>256.87</td>\n",
       "      <td>250.00</td>\n",
       "      <td>246.01</td>\n",
       "      <td>259.99</td>\n",
       "      <td>17.45</td>\n",
       "    </tr>\n",
       "    <tr>\n",
       "      <th>2013-06-16</th>\n",
       "      <td>246.01</td>\n",
       "      <td>427.69</td>\n",
       "      <td>14</td>\n",
       "      <td>256.22</td>\n",
       "      <td>246.01</td>\n",
       "      <td>252.00</td>\n",
       "      <td>257.43</td>\n",
       "      <td>1.67</td>\n",
       "    </tr>\n",
       "    <tr>\n",
       "      <th>2013-06-17</th>\n",
       "      <td>252.00</td>\n",
       "      <td>3,628.96</td>\n",
       "      <td>12</td>\n",
       "      <td>254.52</td>\n",
       "      <td>257.43</td>\n",
       "      <td>254.96</td>\n",
       "      <td>257.43</td>\n",
       "      <td>14.26</td>\n",
       "    </tr>\n",
       "    <tr>\n",
       "      <th>2013-06-18</th>\n",
       "      <td>246.11</td>\n",
       "      <td>7,498.59</td>\n",
       "      <td>22</td>\n",
       "      <td>256.79</td>\n",
       "      <td>254.95</td>\n",
       "      <td>263.00</td>\n",
       "      <td>263.00</td>\n",
       "      <td>29.20</td>\n",
       "    </tr>\n",
       "    <tr>\n",
       "      <th>2013-06-19</th>\n",
       "      <td>251.01</td>\n",
       "      <td>1,137.09</td>\n",
       "      <td>18</td>\n",
       "      <td>262.96</td>\n",
       "      <td>251.01</td>\n",
       "      <td>260.00</td>\n",
       "      <td>264.98</td>\n",
       "      <td>4.32</td>\n",
       "    </tr>\n",
       "    <tr>\n",
       "      <th>2013-06-20</th>\n",
       "      <td>260.00</td>\n",
       "      <td>7,253.13</td>\n",
       "      <td>28</td>\n",
       "      <td>267.51</td>\n",
       "      <td>263.00</td>\n",
       "      <td>269.00</td>\n",
       "      <td>269.00</td>\n",
       "      <td>27.11</td>\n",
       "    </tr>\n",
       "    <tr>\n",
       "      <th>2013-06-21</th>\n",
       "      <td>250.22</td>\n",
       "      <td>4,652.80</td>\n",
       "      <td>25</td>\n",
       "      <td>260.96</td>\n",
       "      <td>269.00</td>\n",
       "      <td>268.00</td>\n",
       "      <td>269.00</td>\n",
       "      <td>17.83</td>\n",
       "    </tr>\n",
       "  </tbody>\n",
       "</table>\n",
       "</div>"
      ],
      "text/plain": [
       "            lowest   volume  amount  avg_price  opening  closing  highest  \\\n",
       "date                                                                        \n",
       "2013-06-12  249.00 2,799.69      11     256.45   249.00   265.00   275.00   \n",
       "2013-06-13  259.00 2,830.41      16     266.40   265.00   269.00   269.00   \n",
       "2013-06-14  245.00 8,694.71      35     255.42   267.00   250.00   268.00   \n",
       "2013-06-15  246.01 4,481.41       8     256.87   250.00   246.01   259.99   \n",
       "2013-06-16  246.01   427.69      14     256.22   246.01   252.00   257.43   \n",
       "2013-06-17  252.00 3,628.96      12     254.52   257.43   254.96   257.43   \n",
       "2013-06-18  246.11 7,498.59      22     256.79   254.95   263.00   263.00   \n",
       "2013-06-19  251.01 1,137.09      18     262.96   251.01   260.00   264.98   \n",
       "2013-06-20  260.00 7,253.13      28     267.51   263.00   269.00   269.00   \n",
       "2013-06-21  250.22 4,652.80      25     260.96   269.00   268.00   269.00   \n",
       "\n",
       "            quantity  \n",
       "date                  \n",
       "2013-06-12     10.92  \n",
       "2013-06-13     10.62  \n",
       "2013-06-14     34.04  \n",
       "2013-06-15     17.45  \n",
       "2013-06-16      1.67  \n",
       "2013-06-17     14.26  \n",
       "2013-06-18     29.20  \n",
       "2013-06-19      4.32  \n",
       "2013-06-20     27.11  \n",
       "2013-06-21     17.83  "
      ]
     },
     "execution_count": 4,
     "metadata": {},
     "output_type": "execute_result"
    }
   ],
   "source": [
    "df_btc_clp=pd.read_csv('raw_data/buda_btc-clp_20161101_20180312.csv',index_col='datetime',parse_dates=True, date_parser=dateparse_buda)\n",
    "df_btc_cop=pd.read_csv('raw_data/buda_btc-cop_20161101_20180312.csv',index_col='datetime',parse_dates=True,date_parser=dateparse_buda)\n",
    "df_btc_pen=pd.read_csv('raw_data/buda_btc-pen_20161101_20180312.csv',index_col='datetime',parse_dates=True,date_parser=dateparse_buda)\n",
    "df_eth_btc=pd.read_csv('raw_data/buda_eth-btc_20170701_20180312.csv',index_col='datetime',parse_dates=True,date_parser=dateparse_buda)\n",
    "df_eth_clp=pd.read_csv('raw_data/buda_eth-clp_20170501_20180312.csv',index_col='datetime',parse_dates=True,date_parser=dateparse_buda)\n",
    "df_eth_cop=pd.read_csv('raw_data/buda_eth-cop_20170601_20180312.csv',index_col='datetime',parse_dates=True,date_parser=dateparse_buda)\n",
    "df_eth_pen=pd.read_csv('raw_data/buda_eth-pen_20170601_20180312.csv',index_col='datetime',parse_dates=True,date_parser=dateparse_buda)\n",
    "df_btc_brl=pd.read_csv('raw_data/mercadobitcoin_BTC_20130612_20180312.csv',index_col='date',parse_dates=True)\n",
    "Dataset=namedtuple('Dataset','exchange df')\n",
    "\n",
    "datasets={'btc_clp':Dataset('Buda',df_btc_clp.sort_index()),\n",
    "          'btc_cop':Dataset('Buda',df_btc_cop.sort_index()),\n",
    "          'btc_pen':Dataset('Buda',df_btc_pen.sort_index()),\n",
    "          'eth_btc':Dataset('Buda',df_eth_btc.sort_index()),\n",
    "          'eth_clp':Dataset('Buda',df_eth_clp.sort_index()),\n",
    "          'eth_cop':Dataset('Buda',df_eth_cop.sort_index()),\n",
    "          'eth_pen':Dataset('Buda',df_eth_pen.sort_index()),\n",
    "          'btc_brl':Dataset('MercadoBitcoin',df_btc_brl.sort_index())}\n",
    "datasets['btc_brl'].df.head(10)\n"
   ]
  },
  {
   "cell_type": "code",
   "execution_count": 5,
   "metadata": {
    "collapsed": true
   },
   "outputs": [],
   "source": [
    "def all_datasets(func,datasets ):\n",
    "    for key,dataset in datasets.items():\n",
    "        display(HTML('<h3>'+key+'</h3>'))\n",
    "        print(func.__name__)\n",
    "        datasets[key]=func(dataset)\n",
    "\n",
    "def copy_all_datasets(datasets):\n",
    "    new_dataset={}\n",
    "    for key,dataset in datasets.items():\n",
    "        new_dataset[key]=Dataset(dataset.exchange,dataset.df.copy())\n",
    "    return  new_dataset       "
   ]
  },
  {
   "cell_type": "code",
   "execution_count": 6,
   "metadata": {},
   "outputs": [
    {
     "data": {
      "text/html": [
       "<h3>btc_clp</h3>"
      ],
      "text/plain": [
       "<IPython.core.display.HTML object>"
      ]
     },
     "metadata": {},
     "output_type": "display_data"
    },
    {
     "name": "stdout",
     "output_type": "stream",
     "text": [
      "rename_mercado_bitcoin\n"
     ]
    },
    {
     "data": {
      "text/html": [
       "<h3>btc_cop</h3>"
      ],
      "text/plain": [
       "<IPython.core.display.HTML object>"
      ]
     },
     "metadata": {},
     "output_type": "display_data"
    },
    {
     "name": "stdout",
     "output_type": "stream",
     "text": [
      "rename_mercado_bitcoin\n"
     ]
    },
    {
     "data": {
      "text/html": [
       "<h3>btc_pen</h3>"
      ],
      "text/plain": [
       "<IPython.core.display.HTML object>"
      ]
     },
     "metadata": {},
     "output_type": "display_data"
    },
    {
     "name": "stdout",
     "output_type": "stream",
     "text": [
      "rename_mercado_bitcoin\n"
     ]
    },
    {
     "data": {
      "text/html": [
       "<h3>eth_btc</h3>"
      ],
      "text/plain": [
       "<IPython.core.display.HTML object>"
      ]
     },
     "metadata": {},
     "output_type": "display_data"
    },
    {
     "name": "stdout",
     "output_type": "stream",
     "text": [
      "rename_mercado_bitcoin\n"
     ]
    },
    {
     "data": {
      "text/html": [
       "<h3>eth_clp</h3>"
      ],
      "text/plain": [
       "<IPython.core.display.HTML object>"
      ]
     },
     "metadata": {},
     "output_type": "display_data"
    },
    {
     "name": "stdout",
     "output_type": "stream",
     "text": [
      "rename_mercado_bitcoin\n"
     ]
    },
    {
     "data": {
      "text/html": [
       "<h3>eth_cop</h3>"
      ],
      "text/plain": [
       "<IPython.core.display.HTML object>"
      ]
     },
     "metadata": {},
     "output_type": "display_data"
    },
    {
     "name": "stdout",
     "output_type": "stream",
     "text": [
      "rename_mercado_bitcoin\n"
     ]
    },
    {
     "data": {
      "text/html": [
       "<h3>eth_pen</h3>"
      ],
      "text/plain": [
       "<IPython.core.display.HTML object>"
      ]
     },
     "metadata": {},
     "output_type": "display_data"
    },
    {
     "name": "stdout",
     "output_type": "stream",
     "text": [
      "rename_mercado_bitcoin\n"
     ]
    },
    {
     "data": {
      "text/html": [
       "<h3>btc_brl</h3>"
      ],
      "text/plain": [
       "<IPython.core.display.HTML object>"
      ]
     },
     "metadata": {},
     "output_type": "display_data"
    },
    {
     "name": "stdout",
     "output_type": "stream",
     "text": [
      "rename_mercado_bitcoin\n"
     ]
    }
   ],
   "source": [
    "def rename_mercado_bitcoin(dataset):\n",
    "    \n",
    "    if dataset.exchange=='MercadoBitcoin': \n",
    "        columns_standard={'opening':'open'\n",
    "                          , 'closing':'close'\n",
    "                          , 'highest':'high'\n",
    "                          , 'lowest':'low'}\n",
    "        dataset.df.rename(columns=columns_standard,inplace=True)\n",
    "        dataset.df.index.rename('datetime',inplace=True)\n",
    "    \n",
    "    return dataset\n",
    "\n",
    "   \n",
    "        \n",
    "all_datasets(rename_mercado_bitcoin,datasets)"
   ]
  },
  {
   "cell_type": "markdown",
   "metadata": {},
   "source": [
    "For the exchange buda, there are multiple entries for each day. Therefore it is necesary to resample the data for each day to have a consistant information vs mercado bitcoin."
   ]
  },
  {
   "cell_type": "code",
   "execution_count": 7,
   "metadata": {},
   "outputs": [
    {
     "data": {
      "text/html": [
       "<div>\n",
       "<style>\n",
       "    .dataframe thead tr:only-child th {\n",
       "        text-align: right;\n",
       "    }\n",
       "\n",
       "    .dataframe thead th {\n",
       "        text-align: left;\n",
       "    }\n",
       "\n",
       "    .dataframe tbody tr th {\n",
       "        vertical-align: top;\n",
       "    }\n",
       "</style>\n",
       "<table border=\"1\" class=\"dataframe\">\n",
       "  <thead>\n",
       "    <tr style=\"text-align: right;\">\n",
       "      <th></th>\n",
       "      <th>open</th>\n",
       "      <th>high</th>\n",
       "      <th>low</th>\n",
       "      <th>close</th>\n",
       "      <th>volume</th>\n",
       "    </tr>\n",
       "    <tr>\n",
       "      <th>datetime</th>\n",
       "      <th></th>\n",
       "      <th></th>\n",
       "      <th></th>\n",
       "      <th></th>\n",
       "      <th></th>\n",
       "    </tr>\n",
       "  </thead>\n",
       "  <tbody>\n",
       "    <tr>\n",
       "      <th>2018-03-11 05:00:00</th>\n",
       "      <td>24,300,700.00</td>\n",
       "      <td>25,499,990.00</td>\n",
       "      <td>24,300,700.00</td>\n",
       "      <td>24,300,707.00</td>\n",
       "      <td>0.36</td>\n",
       "    </tr>\n",
       "    <tr>\n",
       "      <th>2018-03-11 13:00:00</th>\n",
       "      <td>25,499,987.00</td>\n",
       "      <td>25,796,997.00</td>\n",
       "      <td>24,900,001.00</td>\n",
       "      <td>25,796,997.00</td>\n",
       "      <td>0.21</td>\n",
       "    </tr>\n",
       "    <tr>\n",
       "      <th>2018-03-11 21:00:00</th>\n",
       "      <td>25,400,000.00</td>\n",
       "      <td>25,400,000.00</td>\n",
       "      <td>25,400,000.00</td>\n",
       "      <td>25,400,000.00</td>\n",
       "      <td>0.05</td>\n",
       "    </tr>\n",
       "  </tbody>\n",
       "</table>\n",
       "</div>"
      ],
      "text/plain": [
       "                             open          high           low         close  \\\n",
       "datetime                                                                      \n",
       "2018-03-11 05:00:00 24,300,700.00 25,499,990.00 24,300,700.00 24,300,707.00   \n",
       "2018-03-11 13:00:00 25,499,987.00 25,796,997.00 24,900,001.00 25,796,997.00   \n",
       "2018-03-11 21:00:00 25,400,000.00 25,400,000.00 25,400,000.00 25,400,000.00   \n",
       "\n",
       "                     volume  \n",
       "datetime                     \n",
       "2018-03-11 05:00:00    0.36  \n",
       "2018-03-11 13:00:00    0.21  \n",
       "2018-03-11 21:00:00    0.05  "
      ]
     },
     "execution_count": 7,
     "metadata": {},
     "output_type": "execute_result"
    }
   ],
   "source": [
    "df_btc_cop.resample(rule='D').count().tail(50)\n",
    "df_btc_cop['2018-03-11']"
   ]
  },
  {
   "cell_type": "code",
   "execution_count": 8,
   "metadata": {
    "collapsed": true
   },
   "outputs": [],
   "source": [
    "def first_entry(entry):\n",
    "    if entry.size==0:\n",
    "        return None \n",
    "    return entry[0]\n",
    "def last_entry(entry):\n",
    "    if entry.size==0:\n",
    "        return None \n",
    "    return entry[-1]\n"
   ]
  },
  {
   "cell_type": "code",
   "execution_count": 9,
   "metadata": {
    "collapsed": true
   },
   "outputs": [],
   "source": [
    "def fix_daily(dataset):\n",
    "    if dataset.exchange=='Buda':\n",
    "        open_series=dataset.df['open'].resample(rule='D').apply(first_entry)\n",
    "        close_series=dataset.df['close'].resample(rule='D').apply(last_entry)\n",
    "        high_series=dataset.df['high'].resample(rule='D').max()\n",
    "        low_series=dataset.df['low'].resample(rule='D').min()\n",
    "        volume_series=dataset.df['volume'].resample(rule='D').sum()\n",
    "        dataframe_daily=pd.DataFrame(open_series)\n",
    "        dataframe_daily=dataframe_daily.merge(pd.DataFrame(close_series),left_index=True,right_index=True)\n",
    "        dataframe_daily=dataframe_daily.merge(pd.DataFrame(high_series),left_index=True,right_index=True)\n",
    "        dataframe_daily=dataframe_daily.merge(pd.DataFrame(low_series),left_index=True,right_index=True)\n",
    "        dataframe_daily=dataframe_daily.merge(pd.DataFrame(volume_series),left_index=True,right_index=True)\n",
    "        dataset=Dataset('Buda',dataframe_daily )\n",
    "    return dataset\n",
    "\n"
   ]
  },
  {
   "cell_type": "code",
   "execution_count": 10,
   "metadata": {},
   "outputs": [
    {
     "data": {
      "text/html": [
       "<h3>btc_clp</h3>"
      ],
      "text/plain": [
       "<IPython.core.display.HTML object>"
      ]
     },
     "metadata": {},
     "output_type": "display_data"
    },
    {
     "name": "stdout",
     "output_type": "stream",
     "text": [
      "fix_daily\n"
     ]
    },
    {
     "data": {
      "text/html": [
       "<h3>btc_cop</h3>"
      ],
      "text/plain": [
       "<IPython.core.display.HTML object>"
      ]
     },
     "metadata": {},
     "output_type": "display_data"
    },
    {
     "name": "stdout",
     "output_type": "stream",
     "text": [
      "fix_daily\n"
     ]
    },
    {
     "data": {
      "text/html": [
       "<h3>btc_pen</h3>"
      ],
      "text/plain": [
       "<IPython.core.display.HTML object>"
      ]
     },
     "metadata": {},
     "output_type": "display_data"
    },
    {
     "name": "stdout",
     "output_type": "stream",
     "text": [
      "fix_daily\n"
     ]
    },
    {
     "data": {
      "text/html": [
       "<h3>eth_btc</h3>"
      ],
      "text/plain": [
       "<IPython.core.display.HTML object>"
      ]
     },
     "metadata": {},
     "output_type": "display_data"
    },
    {
     "name": "stdout",
     "output_type": "stream",
     "text": [
      "fix_daily\n"
     ]
    },
    {
     "data": {
      "text/html": [
       "<h3>eth_clp</h3>"
      ],
      "text/plain": [
       "<IPython.core.display.HTML object>"
      ]
     },
     "metadata": {},
     "output_type": "display_data"
    },
    {
     "name": "stdout",
     "output_type": "stream",
     "text": [
      "fix_daily\n"
     ]
    },
    {
     "data": {
      "text/html": [
       "<h3>eth_cop</h3>"
      ],
      "text/plain": [
       "<IPython.core.display.HTML object>"
      ]
     },
     "metadata": {},
     "output_type": "display_data"
    },
    {
     "name": "stdout",
     "output_type": "stream",
     "text": [
      "fix_daily\n"
     ]
    },
    {
     "data": {
      "text/html": [
       "<h3>eth_pen</h3>"
      ],
      "text/plain": [
       "<IPython.core.display.HTML object>"
      ]
     },
     "metadata": {},
     "output_type": "display_data"
    },
    {
     "name": "stdout",
     "output_type": "stream",
     "text": [
      "fix_daily\n"
     ]
    },
    {
     "data": {
      "text/html": [
       "<h3>btc_brl</h3>"
      ],
      "text/plain": [
       "<IPython.core.display.HTML object>"
      ]
     },
     "metadata": {},
     "output_type": "display_data"
    },
    {
     "name": "stdout",
     "output_type": "stream",
     "text": [
      "fix_daily\n"
     ]
    }
   ],
   "source": [
    "all_datasets(fix_daily,datasets)\n",
    "\n"
   ]
  },
  {
   "cell_type": "markdown",
   "metadata": {},
   "source": [
    "### Fill Missing Values\n",
    "\n",
    "For some days there are missing values therefore we are going to apply the forward fill method of pandas to fill the closing price. The open, low and high will be assigned to the close value of the next prevoius day with information available. For the volume it will be set as 0."
   ]
  },
  {
   "cell_type": "code",
   "execution_count": 11,
   "metadata": {},
   "outputs": [
    {
     "data": {
      "text/html": [
       "<div>\n",
       "<style>\n",
       "    .dataframe thead tr:only-child th {\n",
       "        text-align: right;\n",
       "    }\n",
       "\n",
       "    .dataframe thead th {\n",
       "        text-align: left;\n",
       "    }\n",
       "\n",
       "    .dataframe tbody tr th {\n",
       "        vertical-align: top;\n",
       "    }\n",
       "</style>\n",
       "<table border=\"1\" class=\"dataframe\">\n",
       "  <thead>\n",
       "    <tr style=\"text-align: right;\">\n",
       "      <th></th>\n",
       "      <th>open</th>\n",
       "      <th>close</th>\n",
       "      <th>high</th>\n",
       "      <th>low</th>\n",
       "      <th>volume</th>\n",
       "    </tr>\n",
       "    <tr>\n",
       "      <th>datetime</th>\n",
       "      <th></th>\n",
       "      <th></th>\n",
       "      <th></th>\n",
       "      <th></th>\n",
       "      <th></th>\n",
       "    </tr>\n",
       "  </thead>\n",
       "  <tbody>\n",
       "    <tr>\n",
       "      <th>2016-10-31</th>\n",
       "      <td>2,099,950.00</td>\n",
       "      <td>2,100,000.00</td>\n",
       "      <td>2,100,000.00</td>\n",
       "      <td>2,099,950.00</td>\n",
       "      <td>2.28</td>\n",
       "    </tr>\n",
       "    <tr>\n",
       "      <th>2016-11-01</th>\n",
       "      <td>2,115,664.74</td>\n",
       "      <td>2,100,541.00</td>\n",
       "      <td>2,115,664.74</td>\n",
       "      <td>2,100,541.00</td>\n",
       "      <td>0.54</td>\n",
       "    </tr>\n",
       "    <tr>\n",
       "      <th>2016-11-02</th>\n",
       "      <td>2,200,000.00</td>\n",
       "      <td>2,200,000.00</td>\n",
       "      <td>2,200,000.00</td>\n",
       "      <td>2,200,000.00</td>\n",
       "      <td>0.86</td>\n",
       "    </tr>\n",
       "    <tr>\n",
       "      <th>2016-11-03</th>\n",
       "      <td>2,250,000.00</td>\n",
       "      <td>2,038,008.07</td>\n",
       "      <td>2,250,000.00</td>\n",
       "      <td>2,026,909.28</td>\n",
       "      <td>4.66</td>\n",
       "    </tr>\n",
       "    <tr>\n",
       "      <th>2016-11-04</th>\n",
       "      <td>2,173,361.50</td>\n",
       "      <td>2,192,224.31</td>\n",
       "      <td>2,192,224.31</td>\n",
       "      <td>2,001,026.82</td>\n",
       "      <td>2.76</td>\n",
       "    </tr>\n",
       "    <tr>\n",
       "      <th>2016-11-05</th>\n",
       "      <td>nan</td>\n",
       "      <td>nan</td>\n",
       "      <td>nan</td>\n",
       "      <td>nan</td>\n",
       "      <td>nan</td>\n",
       "    </tr>\n",
       "    <tr>\n",
       "      <th>2016-11-06</th>\n",
       "      <td>nan</td>\n",
       "      <td>nan</td>\n",
       "      <td>nan</td>\n",
       "      <td>nan</td>\n",
       "      <td>nan</td>\n",
       "    </tr>\n",
       "    <tr>\n",
       "      <th>2016-11-07</th>\n",
       "      <td>nan</td>\n",
       "      <td>nan</td>\n",
       "      <td>nan</td>\n",
       "      <td>nan</td>\n",
       "      <td>nan</td>\n",
       "    </tr>\n",
       "    <tr>\n",
       "      <th>2016-11-08</th>\n",
       "      <td>2,040,100.23</td>\n",
       "      <td>2,030,280.91</td>\n",
       "      <td>2,041,656.90</td>\n",
       "      <td>2,021,216.07</td>\n",
       "      <td>3.52</td>\n",
       "    </tr>\n",
       "    <tr>\n",
       "      <th>2016-11-09</th>\n",
       "      <td>2,211,234.00</td>\n",
       "      <td>2,210,750.00</td>\n",
       "      <td>2,231,104.84</td>\n",
       "      <td>2,210,000.00</td>\n",
       "      <td>2.53</td>\n",
       "    </tr>\n",
       "  </tbody>\n",
       "</table>\n",
       "</div>"
      ],
      "text/plain": [
       "                   open        close         high          low  volume\n",
       "datetime                                                              \n",
       "2016-10-31 2,099,950.00 2,100,000.00 2,100,000.00 2,099,950.00    2.28\n",
       "2016-11-01 2,115,664.74 2,100,541.00 2,115,664.74 2,100,541.00    0.54\n",
       "2016-11-02 2,200,000.00 2,200,000.00 2,200,000.00 2,200,000.00    0.86\n",
       "2016-11-03 2,250,000.00 2,038,008.07 2,250,000.00 2,026,909.28    4.66\n",
       "2016-11-04 2,173,361.50 2,192,224.31 2,192,224.31 2,001,026.82    2.76\n",
       "2016-11-05          nan          nan          nan          nan     nan\n",
       "2016-11-06          nan          nan          nan          nan     nan\n",
       "2016-11-07          nan          nan          nan          nan     nan\n",
       "2016-11-08 2,040,100.23 2,030,280.91 2,041,656.90 2,021,216.07    3.52\n",
       "2016-11-09 2,211,234.00 2,210,750.00 2,231,104.84 2,210,000.00    2.53"
      ]
     },
     "execution_count": 11,
     "metadata": {},
     "output_type": "execute_result"
    }
   ],
   "source": [
    "\n",
    "datasets['btc_cop'].df.head(10)"
   ]
  },
  {
   "cell_type": "code",
   "execution_count": 12,
   "metadata": {},
   "outputs": [
    {
     "data": {
      "text/html": [
       "<h3>btc_clp</h3>"
      ],
      "text/plain": [
       "<IPython.core.display.HTML object>"
      ]
     },
     "metadata": {},
     "output_type": "display_data"
    },
    {
     "name": "stdout",
     "output_type": "stream",
     "text": [
      "fill_nulls\n"
     ]
    },
    {
     "data": {
      "text/html": [
       "<h3>btc_cop</h3>"
      ],
      "text/plain": [
       "<IPython.core.display.HTML object>"
      ]
     },
     "metadata": {},
     "output_type": "display_data"
    },
    {
     "name": "stdout",
     "output_type": "stream",
     "text": [
      "fill_nulls\n"
     ]
    },
    {
     "data": {
      "text/html": [
       "<h3>btc_pen</h3>"
      ],
      "text/plain": [
       "<IPython.core.display.HTML object>"
      ]
     },
     "metadata": {},
     "output_type": "display_data"
    },
    {
     "name": "stdout",
     "output_type": "stream",
     "text": [
      "fill_nulls\n"
     ]
    },
    {
     "data": {
      "text/html": [
       "<h3>eth_btc</h3>"
      ],
      "text/plain": [
       "<IPython.core.display.HTML object>"
      ]
     },
     "metadata": {},
     "output_type": "display_data"
    },
    {
     "name": "stdout",
     "output_type": "stream",
     "text": [
      "fill_nulls\n"
     ]
    },
    {
     "data": {
      "text/html": [
       "<h3>eth_clp</h3>"
      ],
      "text/plain": [
       "<IPython.core.display.HTML object>"
      ]
     },
     "metadata": {},
     "output_type": "display_data"
    },
    {
     "name": "stdout",
     "output_type": "stream",
     "text": [
      "fill_nulls\n"
     ]
    },
    {
     "data": {
      "text/html": [
       "<h3>eth_cop</h3>"
      ],
      "text/plain": [
       "<IPython.core.display.HTML object>"
      ]
     },
     "metadata": {},
     "output_type": "display_data"
    },
    {
     "name": "stdout",
     "output_type": "stream",
     "text": [
      "fill_nulls\n"
     ]
    },
    {
     "data": {
      "text/html": [
       "<h3>eth_pen</h3>"
      ],
      "text/plain": [
       "<IPython.core.display.HTML object>"
      ]
     },
     "metadata": {},
     "output_type": "display_data"
    },
    {
     "name": "stdout",
     "output_type": "stream",
     "text": [
      "fill_nulls\n"
     ]
    },
    {
     "data": {
      "text/html": [
       "<h3>btc_brl</h3>"
      ],
      "text/plain": [
       "<IPython.core.display.HTML object>"
      ]
     },
     "metadata": {},
     "output_type": "display_data"
    },
    {
     "name": "stdout",
     "output_type": "stream",
     "text": [
      "fill_nulls\n"
     ]
    },
    {
     "data": {
      "text/html": [
       "<div>\n",
       "<style>\n",
       "    .dataframe thead tr:only-child th {\n",
       "        text-align: right;\n",
       "    }\n",
       "\n",
       "    .dataframe thead th {\n",
       "        text-align: left;\n",
       "    }\n",
       "\n",
       "    .dataframe tbody tr th {\n",
       "        vertical-align: top;\n",
       "    }\n",
       "</style>\n",
       "<table border=\"1\" class=\"dataframe\">\n",
       "  <thead>\n",
       "    <tr style=\"text-align: right;\">\n",
       "      <th></th>\n",
       "      <th>open</th>\n",
       "      <th>close</th>\n",
       "      <th>high</th>\n",
       "      <th>low</th>\n",
       "      <th>volume</th>\n",
       "    </tr>\n",
       "    <tr>\n",
       "      <th>datetime</th>\n",
       "      <th></th>\n",
       "      <th></th>\n",
       "      <th></th>\n",
       "      <th></th>\n",
       "      <th></th>\n",
       "    </tr>\n",
       "  </thead>\n",
       "  <tbody>\n",
       "    <tr>\n",
       "      <th>2016-10-31</th>\n",
       "      <td>2,099,950.00</td>\n",
       "      <td>2,100,000.00</td>\n",
       "      <td>2,100,000.00</td>\n",
       "      <td>2,099,950.00</td>\n",
       "      <td>2.28</td>\n",
       "    </tr>\n",
       "    <tr>\n",
       "      <th>2016-11-01</th>\n",
       "      <td>2,115,664.74</td>\n",
       "      <td>2,100,541.00</td>\n",
       "      <td>2,115,664.74</td>\n",
       "      <td>2,100,541.00</td>\n",
       "      <td>0.54</td>\n",
       "    </tr>\n",
       "    <tr>\n",
       "      <th>2016-11-02</th>\n",
       "      <td>2,200,000.00</td>\n",
       "      <td>2,200,000.00</td>\n",
       "      <td>2,200,000.00</td>\n",
       "      <td>2,200,000.00</td>\n",
       "      <td>0.86</td>\n",
       "    </tr>\n",
       "    <tr>\n",
       "      <th>2016-11-03</th>\n",
       "      <td>2,250,000.00</td>\n",
       "      <td>2,038,008.07</td>\n",
       "      <td>2,250,000.00</td>\n",
       "      <td>2,026,909.28</td>\n",
       "      <td>4.66</td>\n",
       "    </tr>\n",
       "    <tr>\n",
       "      <th>2016-11-04</th>\n",
       "      <td>2,173,361.50</td>\n",
       "      <td>2,192,224.31</td>\n",
       "      <td>2,192,224.31</td>\n",
       "      <td>2,001,026.82</td>\n",
       "      <td>2.76</td>\n",
       "    </tr>\n",
       "    <tr>\n",
       "      <th>2016-11-05</th>\n",
       "      <td>2,192,224.31</td>\n",
       "      <td>2,192,224.31</td>\n",
       "      <td>2,192,224.31</td>\n",
       "      <td>2,192,224.31</td>\n",
       "      <td>0.00</td>\n",
       "    </tr>\n",
       "    <tr>\n",
       "      <th>2016-11-06</th>\n",
       "      <td>2,192,224.31</td>\n",
       "      <td>2,192,224.31</td>\n",
       "      <td>2,192,224.31</td>\n",
       "      <td>2,192,224.31</td>\n",
       "      <td>0.00</td>\n",
       "    </tr>\n",
       "    <tr>\n",
       "      <th>2016-11-07</th>\n",
       "      <td>2,192,224.31</td>\n",
       "      <td>2,192,224.31</td>\n",
       "      <td>2,192,224.31</td>\n",
       "      <td>2,192,224.31</td>\n",
       "      <td>0.00</td>\n",
       "    </tr>\n",
       "    <tr>\n",
       "      <th>2016-11-08</th>\n",
       "      <td>2,040,100.23</td>\n",
       "      <td>2,030,280.91</td>\n",
       "      <td>2,041,656.90</td>\n",
       "      <td>2,021,216.07</td>\n",
       "      <td>3.52</td>\n",
       "    </tr>\n",
       "    <tr>\n",
       "      <th>2016-11-09</th>\n",
       "      <td>2,211,234.00</td>\n",
       "      <td>2,210,750.00</td>\n",
       "      <td>2,231,104.84</td>\n",
       "      <td>2,210,000.00</td>\n",
       "      <td>2.53</td>\n",
       "    </tr>\n",
       "  </tbody>\n",
       "</table>\n",
       "</div>"
      ],
      "text/plain": [
       "                   open        close         high          low  volume\n",
       "datetime                                                              \n",
       "2016-10-31 2,099,950.00 2,100,000.00 2,100,000.00 2,099,950.00    2.28\n",
       "2016-11-01 2,115,664.74 2,100,541.00 2,115,664.74 2,100,541.00    0.54\n",
       "2016-11-02 2,200,000.00 2,200,000.00 2,200,000.00 2,200,000.00    0.86\n",
       "2016-11-03 2,250,000.00 2,038,008.07 2,250,000.00 2,026,909.28    4.66\n",
       "2016-11-04 2,173,361.50 2,192,224.31 2,192,224.31 2,001,026.82    2.76\n",
       "2016-11-05 2,192,224.31 2,192,224.31 2,192,224.31 2,192,224.31    0.00\n",
       "2016-11-06 2,192,224.31 2,192,224.31 2,192,224.31 2,192,224.31    0.00\n",
       "2016-11-07 2,192,224.31 2,192,224.31 2,192,224.31 2,192,224.31    0.00\n",
       "2016-11-08 2,040,100.23 2,030,280.91 2,041,656.90 2,021,216.07    3.52\n",
       "2016-11-09 2,211,234.00 2,210,750.00 2,231,104.84 2,210,000.00    2.53"
      ]
     },
     "execution_count": 12,
     "metadata": {},
     "output_type": "execute_result"
    }
   ],
   "source": [
    "def fill_nulls(dataset):\n",
    "    dataset.df['close'].fillna(method='ffill', inplace=True)\n",
    "    dataset.df['close'].fillna(method='bfill', inplace=True)\n",
    "    dataset.df['open'].fillna(dataset.df['close'], inplace=True)\n",
    "    dataset.df['high'].fillna(dataset.df['close'], inplace=True)\n",
    "    dataset.df['low'].fillna(dataset.df['close'], inplace=True)\n",
    "    dataset.df['volume'].fillna(0, inplace=True)\n",
    "    return dataset\n",
    "\n",
    "all_datasets(fill_nulls,datasets)\n",
    "\n",
    "datasets['btc_cop'].df.head(10)"
   ]
  },
  {
   "cell_type": "markdown",
   "metadata": {},
   "source": [
    "### Profiling Data\n",
    "\n",
    "Describe each dataset of the raw data."
   ]
  },
  {
   "cell_type": "code",
   "execution_count": 13,
   "metadata": {
    "scrolled": false
   },
   "outputs": [
    {
     "data": {
      "text/html": [
       "<h3>btc_clp</h3>"
      ],
      "text/plain": [
       "<IPython.core.display.HTML object>"
      ]
     },
     "metadata": {},
     "output_type": "display_data"
    },
    {
     "name": "stdout",
     "output_type": "stream",
     "text": [
      "describe_dataset\n"
     ]
    },
    {
     "data": {
      "text/html": [
       "<H1>Range Dates</H1>"
      ],
      "text/plain": [
       "<IPython.core.display.HTML object>"
      ]
     },
     "metadata": {},
     "output_type": "display_data"
    },
    {
     "data": {
      "text/html": [
       "<H3>Min: 2016-10-31</H3>"
      ],
      "text/plain": [
       "<IPython.core.display.HTML object>"
      ]
     },
     "metadata": {},
     "output_type": "display_data"
    },
    {
     "data": {
      "text/html": [
       "<H3>Min: 2018-03-11</H3>"
      ],
      "text/plain": [
       "<IPython.core.display.HTML object>"
      ]
     },
     "metadata": {},
     "output_type": "display_data"
    },
    {
     "data": {
      "text/html": [
       "<H1>Min</H1>"
      ],
      "text/plain": [
       "<IPython.core.display.HTML object>"
      ]
     },
     "metadata": {},
     "output_type": "display_data"
    },
    {
     "name": "stdout",
     "output_type": "stream",
     "text": [
      "open     2016-11-04\n",
      "close    2016-11-12\n",
      "high     2016-11-07\n",
      "low      2016-11-03\n",
      "volume   2016-12-31\n",
      "dtype: datetime64[ns]\n"
     ]
    },
    {
     "data": {
      "text/html": [
       "<H1>Max</H1>"
      ],
      "text/plain": [
       "<IPython.core.display.HTML object>"
      ]
     },
     "metadata": {},
     "output_type": "display_data"
    },
    {
     "name": "stdout",
     "output_type": "stream",
     "text": [
      "open     2017-12-18\n",
      "close    2017-12-17\n",
      "high     2017-12-07\n",
      "low      2017-12-17\n",
      "volume   2017-03-10\n",
      "dtype: datetime64[ns]\n"
     ]
    },
    {
     "data": {
      "text/html": [
       "<table border=\"1\" class=\"dataframe\">\n",
       "  <thead>\n",
       "    <tr style=\"text-align: right;\">\n",
       "      <th></th>\n",
       "      <th>open</th>\n",
       "      <th>close</th>\n",
       "      <th>high</th>\n",
       "      <th>low</th>\n",
       "      <th>volume</th>\n",
       "    </tr>\n",
       "  </thead>\n",
       "  <tbody>\n",
       "    <tr>\n",
       "      <th>count</th>\n",
       "      <td>497.00</td>\n",
       "      <td>497.00</td>\n",
       "      <td>497.00</td>\n",
       "      <td>497.00</td>\n",
       "      <td>497.00</td>\n",
       "    </tr>\n",
       "    <tr>\n",
       "      <th>mean</th>\n",
       "      <td>3,031,204.69</td>\n",
       "      <td>3,042,093.59</td>\n",
       "      <td>3,185,056.81</td>\n",
       "      <td>2,859,642.35</td>\n",
       "      <td>34.90</td>\n",
       "    </tr>\n",
       "    <tr>\n",
       "      <th>std</th>\n",
       "      <td>3,012,846.52</td>\n",
       "      <td>3,020,119.25</td>\n",
       "      <td>3,199,563.20</td>\n",
       "      <td>2,793,238.47</td>\n",
       "      <td>29.00</td>\n",
       "    </tr>\n",
       "    <tr>\n",
       "      <th>min</th>\n",
       "      <td>465,164.77</td>\n",
       "      <td>463,059.45</td>\n",
       "      <td>472,933.11</td>\n",
       "      <td>449,879.51</td>\n",
       "      <td>0.00</td>\n",
       "    </tr>\n",
       "    <tr>\n",
       "      <th>25%</th>\n",
       "      <td>740,000.00</td>\n",
       "      <td>740,000.00</td>\n",
       "      <td>774,500.00</td>\n",
       "      <td>717,653.89</td>\n",
       "      <td>15.81</td>\n",
       "    </tr>\n",
       "    <tr>\n",
       "      <th>50%</th>\n",
       "      <td>1,799,000.00</td>\n",
       "      <td>1,797,000.00</td>\n",
       "      <td>1,860,000.00</td>\n",
       "      <td>1,726,270.00</td>\n",
       "      <td>29.20</td>\n",
       "    </tr>\n",
       "    <tr>\n",
       "      <th>75%</th>\n",
       "      <td>4,549,808.11</td>\n",
       "      <td>4,601,423.13</td>\n",
       "      <td>4,875,000.00</td>\n",
       "      <td>4,280,101.00</td>\n",
       "      <td>43.27</td>\n",
       "    </tr>\n",
       "    <tr>\n",
       "      <th>max</th>\n",
       "      <td>13,794,500.00</td>\n",
       "      <td>13,794,997.00</td>\n",
       "      <td>14,200,000.00</td>\n",
       "      <td>13,000,000.00</td>\n",
       "      <td>233.56</td>\n",
       "    </tr>\n",
       "  </tbody>\n",
       "</table>"
      ],
      "text/plain": [
       "<IPython.core.display.HTML object>"
      ]
     },
     "metadata": {},
     "output_type": "display_data"
    },
    {
     "data": {
      "text/html": [
       "<h3>btc_cop</h3>"
      ],
      "text/plain": [
       "<IPython.core.display.HTML object>"
      ]
     },
     "metadata": {},
     "output_type": "display_data"
    },
    {
     "name": "stdout",
     "output_type": "stream",
     "text": [
      "describe_dataset\n"
     ]
    },
    {
     "data": {
      "text/html": [
       "<H1>Range Dates</H1>"
      ],
      "text/plain": [
       "<IPython.core.display.HTML object>"
      ]
     },
     "metadata": {},
     "output_type": "display_data"
    },
    {
     "data": {
      "text/html": [
       "<H3>Min: 2016-10-31</H3>"
      ],
      "text/plain": [
       "<IPython.core.display.HTML object>"
      ]
     },
     "metadata": {},
     "output_type": "display_data"
    },
    {
     "data": {
      "text/html": [
       "<H3>Min: 2018-03-11</H3>"
      ],
      "text/plain": [
       "<IPython.core.display.HTML object>"
      ]
     },
     "metadata": {},
     "output_type": "display_data"
    },
    {
     "data": {
      "text/html": [
       "<H1>Min</H1>"
      ],
      "text/plain": [
       "<IPython.core.display.HTML object>"
      ]
     },
     "metadata": {},
     "output_type": "display_data"
    },
    {
     "name": "stdout",
     "output_type": "stream",
     "text": [
      "open     2016-11-08\n",
      "close    2016-11-08\n",
      "high     2016-11-08\n",
      "low      2017-07-12\n",
      "volume   2016-11-05\n",
      "dtype: datetime64[ns]\n"
     ]
    },
    {
     "data": {
      "text/html": [
       "<H1>Max</H1>"
      ],
      "text/plain": [
       "<IPython.core.display.HTML object>"
      ]
     },
     "metadata": {},
     "output_type": "display_data"
    },
    {
     "name": "stdout",
     "output_type": "stream",
     "text": [
      "open     2017-12-17\n",
      "close    2017-12-16\n",
      "high     2017-05-05\n",
      "low      2017-12-16\n",
      "volume   2017-10-10\n",
      "dtype: datetime64[ns]\n"
     ]
    },
    {
     "data": {
      "text/html": [
       "<table border=\"1\" class=\"dataframe\">\n",
       "  <thead>\n",
       "    <tr style=\"text-align: right;\">\n",
       "      <th></th>\n",
       "      <th>open</th>\n",
       "      <th>close</th>\n",
       "      <th>high</th>\n",
       "      <th>low</th>\n",
       "      <th>volume</th>\n",
       "    </tr>\n",
       "  </thead>\n",
       "  <tbody>\n",
       "    <tr>\n",
       "      <th>count</th>\n",
       "      <td>497.00</td>\n",
       "      <td>497.00</td>\n",
       "      <td>497.00</td>\n",
       "      <td>497.00</td>\n",
       "      <td>497.00</td>\n",
       "    </tr>\n",
       "    <tr>\n",
       "      <th>mean</th>\n",
       "      <td>12,878,911.58</td>\n",
       "      <td>12,956,022.67</td>\n",
       "      <td>33,782,208.30</td>\n",
       "      <td>12,165,157.75</td>\n",
       "      <td>4.42</td>\n",
       "    </tr>\n",
       "    <tr>\n",
       "      <th>std</th>\n",
       "      <td>12,787,751.52</td>\n",
       "      <td>12,873,744.45</td>\n",
       "      <td>448,155,054.30</td>\n",
       "      <td>12,026,074.87</td>\n",
       "      <td>4.66</td>\n",
       "    </tr>\n",
       "    <tr>\n",
       "      <th>min</th>\n",
       "      <td>2,040,100.23</td>\n",
       "      <td>2,030,280.91</td>\n",
       "      <td>2,041,656.90</td>\n",
       "      <td>30,200.00</td>\n",
       "      <td>0.00</td>\n",
       "    </tr>\n",
       "    <tr>\n",
       "      <th>25%</th>\n",
       "      <td>3,185,544.16</td>\n",
       "      <td>3,145,147.15</td>\n",
       "      <td>3,370,685.23</td>\n",
       "      <td>3,000,487.60</td>\n",
       "      <td>0.96</td>\n",
       "    </tr>\n",
       "    <tr>\n",
       "      <th>50%</th>\n",
       "      <td>7,499,999.00</td>\n",
       "      <td>7,419,000.00</td>\n",
       "      <td>7,838,507.90</td>\n",
       "      <td>7,010,002.00</td>\n",
       "      <td>2.83</td>\n",
       "    </tr>\n",
       "    <tr>\n",
       "      <th>75%</th>\n",
       "      <td>19,000,000.00</td>\n",
       "      <td>19,202,001.00</td>\n",
       "      <td>20,582,980.00</td>\n",
       "      <td>18,001,000.00</td>\n",
       "      <td>6.49</td>\n",
       "    </tr>\n",
       "    <tr>\n",
       "      <th>max</th>\n",
       "      <td>51,253,009.00</td>\n",
       "      <td>51,252,704.00</td>\n",
       "      <td>10,000,000,000.00</td>\n",
       "      <td>48,400,000.00</td>\n",
       "      <td>31.25</td>\n",
       "    </tr>\n",
       "  </tbody>\n",
       "</table>"
      ],
      "text/plain": [
       "<IPython.core.display.HTML object>"
      ]
     },
     "metadata": {},
     "output_type": "display_data"
    },
    {
     "data": {
      "text/html": [
       "<h3>btc_pen</h3>"
      ],
      "text/plain": [
       "<IPython.core.display.HTML object>"
      ]
     },
     "metadata": {},
     "output_type": "display_data"
    },
    {
     "name": "stdout",
     "output_type": "stream",
     "text": [
      "describe_dataset\n"
     ]
    },
    {
     "data": {
      "text/html": [
       "<H1>Range Dates</H1>"
      ],
      "text/plain": [
       "<IPython.core.display.HTML object>"
      ]
     },
     "metadata": {},
     "output_type": "display_data"
    },
    {
     "data": {
      "text/html": [
       "<H3>Min: 2017-08-14</H3>"
      ],
      "text/plain": [
       "<IPython.core.display.HTML object>"
      ]
     },
     "metadata": {},
     "output_type": "display_data"
    },
    {
     "data": {
      "text/html": [
       "<H3>Min: 2018-03-11</H3>"
      ],
      "text/plain": [
       "<IPython.core.display.HTML object>"
      ]
     },
     "metadata": {},
     "output_type": "display_data"
    },
    {
     "data": {
      "text/html": [
       "<H1>Min</H1>"
      ],
      "text/plain": [
       "<IPython.core.display.HTML object>"
      ]
     },
     "metadata": {},
     "output_type": "display_data"
    },
    {
     "name": "stdout",
     "output_type": "stream",
     "text": [
      "open     2017-09-30\n",
      "close    2017-09-29\n",
      "high     2017-09-30\n",
      "low      2017-10-24\n",
      "volume   2017-08-15\n",
      "dtype: datetime64[ns]\n"
     ]
    },
    {
     "data": {
      "text/html": [
       "<H1>Max</H1>"
      ],
      "text/plain": [
       "<IPython.core.display.HTML object>"
      ]
     },
     "metadata": {},
     "output_type": "display_data"
    },
    {
     "name": "stdout",
     "output_type": "stream",
     "text": [
      "open     2017-12-07\n",
      "close    2017-12-06\n",
      "high     2017-12-06\n",
      "low      2017-12-24\n",
      "volume   2018-02-05\n",
      "dtype: datetime64[ns]\n"
     ]
    },
    {
     "data": {
      "text/html": [
       "<table border=\"1\" class=\"dataframe\">\n",
       "  <thead>\n",
       "    <tr style=\"text-align: right;\">\n",
       "      <th></th>\n",
       "      <th>open</th>\n",
       "      <th>close</th>\n",
       "      <th>high</th>\n",
       "      <th>low</th>\n",
       "      <th>volume</th>\n",
       "    </tr>\n",
       "  </thead>\n",
       "  <tbody>\n",
       "    <tr>\n",
       "      <th>count</th>\n",
       "      <td>210.00</td>\n",
       "      <td>210.00</td>\n",
       "      <td>210.00</td>\n",
       "      <td>210.00</td>\n",
       "      <td>210.00</td>\n",
       "    </tr>\n",
       "    <tr>\n",
       "      <th>mean</th>\n",
       "      <td>29,861.78</td>\n",
       "      <td>29,952.57</td>\n",
       "      <td>33,699.85</td>\n",
       "      <td>26,675.23</td>\n",
       "      <td>0.69</td>\n",
       "    </tr>\n",
       "    <tr>\n",
       "      <th>std</th>\n",
       "      <td>23,458.48</td>\n",
       "      <td>23,680.31</td>\n",
       "      <td>31,056.47</td>\n",
       "      <td>13,270.35</td>\n",
       "      <td>1.14</td>\n",
       "    </tr>\n",
       "    <tr>\n",
       "      <th>min</th>\n",
       "      <td>9,500.00</td>\n",
       "      <td>9,500.00</td>\n",
       "      <td>9,500.00</td>\n",
       "      <td>1.12</td>\n",
       "      <td>0.00</td>\n",
       "    </tr>\n",
       "    <tr>\n",
       "      <th>25%</th>\n",
       "      <td>15,134.38</td>\n",
       "      <td>15,221.10</td>\n",
       "      <td>16,012.48</td>\n",
       "      <td>14,449.05</td>\n",
       "      <td>0.08</td>\n",
       "    </tr>\n",
       "    <tr>\n",
       "      <th>50%</th>\n",
       "      <td>27,008.82</td>\n",
       "      <td>27,089.53</td>\n",
       "      <td>28,837.22</td>\n",
       "      <td>25,949.94</td>\n",
       "      <td>0.37</td>\n",
       "    </tr>\n",
       "    <tr>\n",
       "      <th>75%</th>\n",
       "      <td>37,175.36</td>\n",
       "      <td>37,090.65</td>\n",
       "      <td>39,525.93</td>\n",
       "      <td>35,182.31</td>\n",
       "      <td>0.81</td>\n",
       "    </tr>\n",
       "    <tr>\n",
       "      <th>max</th>\n",
       "      <td>299,997.00</td>\n",
       "      <td>299,997.00</td>\n",
       "      <td>299,997.00</td>\n",
       "      <td>58,997.27</td>\n",
       "      <td>11.30</td>\n",
       "    </tr>\n",
       "  </tbody>\n",
       "</table>"
      ],
      "text/plain": [
       "<IPython.core.display.HTML object>"
      ]
     },
     "metadata": {},
     "output_type": "display_data"
    },
    {
     "data": {
      "text/html": [
       "<h3>eth_btc</h3>"
      ],
      "text/plain": [
       "<IPython.core.display.HTML object>"
      ]
     },
     "metadata": {},
     "output_type": "display_data"
    },
    {
     "name": "stdout",
     "output_type": "stream",
     "text": [
      "describe_dataset\n"
     ]
    },
    {
     "data": {
      "text/html": [
       "<H1>Range Dates</H1>"
      ],
      "text/plain": [
       "<IPython.core.display.HTML object>"
      ]
     },
     "metadata": {},
     "output_type": "display_data"
    },
    {
     "data": {
      "text/html": [
       "<H3>Min: 2017-07-14</H3>"
      ],
      "text/plain": [
       "<IPython.core.display.HTML object>"
      ]
     },
     "metadata": {},
     "output_type": "display_data"
    },
    {
     "data": {
      "text/html": [
       "<H3>Min: 2018-03-10</H3>"
      ],
      "text/plain": [
       "<IPython.core.display.HTML object>"
      ]
     },
     "metadata": {},
     "output_type": "display_data"
    },
    {
     "data": {
      "text/html": [
       "<H1>Min</H1>"
      ],
      "text/plain": [
       "<IPython.core.display.HTML object>"
      ]
     },
     "metadata": {},
     "output_type": "display_data"
    },
    {
     "name": "stdout",
     "output_type": "stream",
     "text": [
      "open     2017-12-07\n",
      "close    2017-11-27\n",
      "high     2017-11-30\n",
      "low      2017-11-06\n",
      "volume   2017-07-23\n",
      "dtype: datetime64[ns]\n"
     ]
    },
    {
     "data": {
      "text/html": [
       "<H1>Max</H1>"
      ],
      "text/plain": [
       "<IPython.core.display.HTML object>"
      ]
     },
     "metadata": {},
     "output_type": "display_data"
    },
    {
     "name": "stdout",
     "output_type": "stream",
     "text": [
      "open     2018-02-01\n",
      "close    2018-01-31\n",
      "high     2017-12-21\n",
      "low      2018-01-31\n",
      "volume   2017-12-07\n",
      "dtype: datetime64[ns]\n"
     ]
    },
    {
     "data": {
      "text/html": [
       "<table border=\"1\" class=\"dataframe\">\n",
       "  <thead>\n",
       "    <tr style=\"text-align: right;\">\n",
       "      <th></th>\n",
       "      <th>open</th>\n",
       "      <th>close</th>\n",
       "      <th>high</th>\n",
       "      <th>low</th>\n",
       "      <th>volume</th>\n",
       "    </tr>\n",
       "  </thead>\n",
       "  <tbody>\n",
       "    <tr>\n",
       "      <th>count</th>\n",
       "      <td>240.00</td>\n",
       "      <td>240.00</td>\n",
       "      <td>240.00</td>\n",
       "      <td>240.00</td>\n",
       "      <td>240.00</td>\n",
       "    </tr>\n",
       "    <tr>\n",
       "      <th>mean</th>\n",
       "      <td>0.07</td>\n",
       "      <td>0.07</td>\n",
       "      <td>0.07</td>\n",
       "      <td>0.07</td>\n",
       "      <td>12.60</td>\n",
       "    </tr>\n",
       "    <tr>\n",
       "      <th>std</th>\n",
       "      <td>0.02</td>\n",
       "      <td>0.02</td>\n",
       "      <td>0.02</td>\n",
       "      <td>0.02</td>\n",
       "      <td>16.69</td>\n",
       "    </tr>\n",
       "    <tr>\n",
       "      <th>min</th>\n",
       "      <td>0.02</td>\n",
       "      <td>0.01</td>\n",
       "      <td>0.02</td>\n",
       "      <td>0.00</td>\n",
       "      <td>0.00</td>\n",
       "    </tr>\n",
       "    <tr>\n",
       "      <th>25%</th>\n",
       "      <td>0.05</td>\n",
       "      <td>0.05</td>\n",
       "      <td>0.06</td>\n",
       "      <td>0.05</td>\n",
       "      <td>1.74</td>\n",
       "    </tr>\n",
       "    <tr>\n",
       "      <th>50%</th>\n",
       "      <td>0.07</td>\n",
       "      <td>0.07</td>\n",
       "      <td>0.08</td>\n",
       "      <td>0.07</td>\n",
       "      <td>5.15</td>\n",
       "    </tr>\n",
       "    <tr>\n",
       "      <th>75%</th>\n",
       "      <td>0.08</td>\n",
       "      <td>0.08</td>\n",
       "      <td>0.09</td>\n",
       "      <td>0.08</td>\n",
       "      <td>16.97</td>\n",
       "    </tr>\n",
       "    <tr>\n",
       "      <th>max</th>\n",
       "      <td>0.12</td>\n",
       "      <td>0.11</td>\n",
       "      <td>0.17</td>\n",
       "      <td>0.11</td>\n",
       "      <td>84.71</td>\n",
       "    </tr>\n",
       "  </tbody>\n",
       "</table>"
      ],
      "text/plain": [
       "<IPython.core.display.HTML object>"
      ]
     },
     "metadata": {},
     "output_type": "display_data"
    },
    {
     "data": {
      "text/html": [
       "<h3>eth_clp</h3>"
      ],
      "text/plain": [
       "<IPython.core.display.HTML object>"
      ]
     },
     "metadata": {},
     "output_type": "display_data"
    },
    {
     "name": "stdout",
     "output_type": "stream",
     "text": [
      "describe_dataset\n"
     ]
    },
    {
     "data": {
      "text/html": [
       "<H1>Range Dates</H1>"
      ],
      "text/plain": [
       "<IPython.core.display.HTML object>"
      ]
     },
     "metadata": {},
     "output_type": "display_data"
    },
    {
     "data": {
      "text/html": [
       "<H3>Min: 2017-07-03</H3>"
      ],
      "text/plain": [
       "<IPython.core.display.HTML object>"
      ]
     },
     "metadata": {},
     "output_type": "display_data"
    },
    {
     "data": {
      "text/html": [
       "<H3>Min: 2018-03-11</H3>"
      ],
      "text/plain": [
       "<IPython.core.display.HTML object>"
      ]
     },
     "metadata": {},
     "output_type": "display_data"
    },
    {
     "data": {
      "text/html": [
       "<H1>Min</H1>"
      ],
      "text/plain": [
       "<IPython.core.display.HTML object>"
      ]
     },
     "metadata": {},
     "output_type": "display_data"
    },
    {
     "name": "stdout",
     "output_type": "stream",
     "text": [
      "open     2017-07-16\n",
      "close    2017-07-15\n",
      "high     2017-07-16\n",
      "low      2017-07-16\n",
      "volume   2018-02-28\n",
      "dtype: datetime64[ns]\n"
     ]
    },
    {
     "data": {
      "text/html": [
       "<H1>Max</H1>"
      ],
      "text/plain": [
       "<IPython.core.display.HTML object>"
      ]
     },
     "metadata": {},
     "output_type": "display_data"
    },
    {
     "name": "stdout",
     "output_type": "stream",
     "text": [
      "open     2018-01-15\n",
      "close    2018-01-14\n",
      "high     2018-01-10\n",
      "low      2018-01-14\n",
      "volume   2017-12-13\n",
      "dtype: datetime64[ns]\n"
     ]
    },
    {
     "data": {
      "text/html": [
       "<table border=\"1\" class=\"dataframe\">\n",
       "  <thead>\n",
       "    <tr style=\"text-align: right;\">\n",
       "      <th></th>\n",
       "      <th>open</th>\n",
       "      <th>close</th>\n",
       "      <th>high</th>\n",
       "      <th>low</th>\n",
       "      <th>volume</th>\n",
       "    </tr>\n",
       "  </thead>\n",
       "  <tbody>\n",
       "    <tr>\n",
       "      <th>count</th>\n",
       "      <td>252.00</td>\n",
       "      <td>252.00</td>\n",
       "      <td>252.00</td>\n",
       "      <td>252.00</td>\n",
       "      <td>252.00</td>\n",
       "    </tr>\n",
       "    <tr>\n",
       "      <th>mean</th>\n",
       "      <td>339,486.84</td>\n",
       "      <td>340,010.21</td>\n",
       "      <td>360,639.79</td>\n",
       "      <td>317,707.01</td>\n",
       "      <td>183.68</td>\n",
       "    </tr>\n",
       "    <tr>\n",
       "      <th>std</th>\n",
       "      <td>198,466.29</td>\n",
       "      <td>198,342.36</td>\n",
       "      <td>212,333.23</td>\n",
       "      <td>181,707.91</td>\n",
       "      <td>169.30</td>\n",
       "    </tr>\n",
       "    <tr>\n",
       "      <th>min</th>\n",
       "      <td>100,867.67</td>\n",
       "      <td>100,869.98</td>\n",
       "      <td>128,345.00</td>\n",
       "      <td>100,524.23</td>\n",
       "      <td>0.34</td>\n",
       "    </tr>\n",
       "    <tr>\n",
       "      <th>25%</th>\n",
       "      <td>194,160.06</td>\n",
       "      <td>195,000.00</td>\n",
       "      <td>201,375.00</td>\n",
       "      <td>189,000.00</td>\n",
       "      <td>70.19</td>\n",
       "    </tr>\n",
       "    <tr>\n",
       "      <th>50%</th>\n",
       "      <td>223,690.00</td>\n",
       "      <td>225,000.00</td>\n",
       "      <td>232,000.00</td>\n",
       "      <td>210,556.05</td>\n",
       "      <td>135.55</td>\n",
       "    </tr>\n",
       "    <tr>\n",
       "      <th>75%</th>\n",
       "      <td>517,356.25</td>\n",
       "      <td>519,059.00</td>\n",
       "      <td>543,440.18</td>\n",
       "      <td>493,252.25</td>\n",
       "      <td>231.51</td>\n",
       "    </tr>\n",
       "    <tr>\n",
       "      <th>max</th>\n",
       "      <td>896,000.00</td>\n",
       "      <td>896,000.00</td>\n",
       "      <td>934,999.00</td>\n",
       "      <td>842,800.00</td>\n",
       "      <td>1,043.09</td>\n",
       "    </tr>\n",
       "  </tbody>\n",
       "</table>"
      ],
      "text/plain": [
       "<IPython.core.display.HTML object>"
      ]
     },
     "metadata": {},
     "output_type": "display_data"
    },
    {
     "data": {
      "text/html": [
       "<h3>eth_cop</h3>"
      ],
      "text/plain": [
       "<IPython.core.display.HTML object>"
      ]
     },
     "metadata": {},
     "output_type": "display_data"
    },
    {
     "name": "stdout",
     "output_type": "stream",
     "text": [
      "describe_dataset\n"
     ]
    },
    {
     "data": {
      "text/html": [
       "<H1>Range Dates</H1>"
      ],
      "text/plain": [
       "<IPython.core.display.HTML object>"
      ]
     },
     "metadata": {},
     "output_type": "display_data"
    },
    {
     "data": {
      "text/html": [
       "<H3>Min: 2017-08-11</H3>"
      ],
      "text/plain": [
       "<IPython.core.display.HTML object>"
      ]
     },
     "metadata": {},
     "output_type": "display_data"
    },
    {
     "data": {
      "text/html": [
       "<H3>Min: 2018-03-11</H3>"
      ],
      "text/plain": [
       "<IPython.core.display.HTML object>"
      ]
     },
     "metadata": {},
     "output_type": "display_data"
    },
    {
     "data": {
      "text/html": [
       "<H1>Min</H1>"
      ],
      "text/plain": [
       "<IPython.core.display.HTML object>"
      ]
     },
     "metadata": {},
     "output_type": "display_data"
    },
    {
     "name": "stdout",
     "output_type": "stream",
     "text": [
      "open     2017-09-15\n",
      "close    2017-09-25\n",
      "high     2017-09-14\n",
      "low      2017-11-02\n",
      "volume   2017-09-30\n",
      "dtype: datetime64[ns]\n"
     ]
    },
    {
     "data": {
      "text/html": [
       "<H1>Max</H1>"
      ],
      "text/plain": [
       "<IPython.core.display.HTML object>"
      ]
     },
     "metadata": {},
     "output_type": "display_data"
    },
    {
     "name": "stdout",
     "output_type": "stream",
     "text": [
      "open     2018-01-15\n",
      "close    2018-01-13\n",
      "high     2018-01-10\n",
      "low      2018-01-14\n",
      "volume   2018-01-17\n",
      "dtype: datetime64[ns]\n"
     ]
    },
    {
     "data": {
      "text/html": [
       "<table border=\"1\" class=\"dataframe\">\n",
       "  <thead>\n",
       "    <tr style=\"text-align: right;\">\n",
       "      <th></th>\n",
       "      <th>open</th>\n",
       "      <th>close</th>\n",
       "      <th>high</th>\n",
       "      <th>low</th>\n",
       "      <th>volume</th>\n",
       "    </tr>\n",
       "  </thead>\n",
       "  <tbody>\n",
       "    <tr>\n",
       "      <th>count</th>\n",
       "      <td>213.00</td>\n",
       "      <td>213.00</td>\n",
       "      <td>213.00</td>\n",
       "      <td>213.00</td>\n",
       "      <td>213.00</td>\n",
       "    </tr>\n",
       "    <tr>\n",
       "      <th>mean</th>\n",
       "      <td>1,649,724.04</td>\n",
       "      <td>1,651,486.47</td>\n",
       "      <td>1,810,637.36</td>\n",
       "      <td>1,505,734.45</td>\n",
       "      <td>30.85</td>\n",
       "    </tr>\n",
       "    <tr>\n",
       "      <th>std</th>\n",
       "      <td>918,667.78</td>\n",
       "      <td>926,660.79</td>\n",
       "      <td>1,066,928.95</td>\n",
       "      <td>854,998.13</td>\n",
       "      <td>31.15</td>\n",
       "    </tr>\n",
       "    <tr>\n",
       "      <th>min</th>\n",
       "      <td>701,420.00</td>\n",
       "      <td>510,001.00</td>\n",
       "      <td>794,626.32</td>\n",
       "      <td>98,000.00</td>\n",
       "      <td>0.01</td>\n",
       "    </tr>\n",
       "    <tr>\n",
       "      <th>25%</th>\n",
       "      <td>854,884.00</td>\n",
       "      <td>854,884.00</td>\n",
       "      <td>912,386.00</td>\n",
       "      <td>801,000.00</td>\n",
       "      <td>9.85</td>\n",
       "    </tr>\n",
       "    <tr>\n",
       "      <th>50%</th>\n",
       "      <td>1,200,012.00</td>\n",
       "      <td>1,249,999.98</td>\n",
       "      <td>1,388,000.00</td>\n",
       "      <td>1,100,101.00</td>\n",
       "      <td>21.74</td>\n",
       "    </tr>\n",
       "    <tr>\n",
       "      <th>75%</th>\n",
       "      <td>2,328,000.00</td>\n",
       "      <td>2,349,994.99</td>\n",
       "      <td>2,520,000.00</td>\n",
       "      <td>2,178,000.00</td>\n",
       "      <td>41.01</td>\n",
       "    </tr>\n",
       "    <tr>\n",
       "      <th>max</th>\n",
       "      <td>4,100,000.00</td>\n",
       "      <td>4,068,448.91</td>\n",
       "      <td>6,000,000.00</td>\n",
       "      <td>3,854,163.93</td>\n",
       "      <td>184.19</td>\n",
       "    </tr>\n",
       "  </tbody>\n",
       "</table>"
      ],
      "text/plain": [
       "<IPython.core.display.HTML object>"
      ]
     },
     "metadata": {},
     "output_type": "display_data"
    },
    {
     "data": {
      "text/html": [
       "<h3>eth_pen</h3>"
      ],
      "text/plain": [
       "<IPython.core.display.HTML object>"
      ]
     },
     "metadata": {},
     "output_type": "display_data"
    },
    {
     "name": "stdout",
     "output_type": "stream",
     "text": [
      "describe_dataset\n"
     ]
    },
    {
     "data": {
      "text/html": [
       "<H1>Range Dates</H1>"
      ],
      "text/plain": [
       "<IPython.core.display.HTML object>"
      ]
     },
     "metadata": {},
     "output_type": "display_data"
    },
    {
     "data": {
      "text/html": [
       "<H3>Min: 2017-08-16</H3>"
      ],
      "text/plain": [
       "<IPython.core.display.HTML object>"
      ]
     },
     "metadata": {},
     "output_type": "display_data"
    },
    {
     "data": {
      "text/html": [
       "<H3>Min: 2018-03-11</H3>"
      ],
      "text/plain": [
       "<IPython.core.display.HTML object>"
      ]
     },
     "metadata": {},
     "output_type": "display_data"
    },
    {
     "data": {
      "text/html": [
       "<H1>Min</H1>"
      ],
      "text/plain": [
       "<IPython.core.display.HTML object>"
      ]
     },
     "metadata": {},
     "output_type": "display_data"
    },
    {
     "name": "stdout",
     "output_type": "stream",
     "text": [
      "open     2017-10-24\n",
      "close    2017-11-06\n",
      "high     2017-09-14\n",
      "low      2017-10-24\n",
      "volume   2017-08-19\n",
      "dtype: datetime64[ns]\n"
     ]
    },
    {
     "data": {
      "text/html": [
       "<H1>Max</H1>"
      ],
      "text/plain": [
       "<IPython.core.display.HTML object>"
      ]
     },
     "metadata": {},
     "output_type": "display_data"
    },
    {
     "name": "stdout",
     "output_type": "stream",
     "text": [
      "open     2017-12-23\n",
      "close    2017-12-15\n",
      "high     2018-01-21\n",
      "low      2017-12-23\n",
      "volume   2018-02-15\n",
      "dtype: datetime64[ns]\n"
     ]
    },
    {
     "data": {
      "text/html": [
       "<table border=\"1\" class=\"dataframe\">\n",
       "  <thead>\n",
       "    <tr style=\"text-align: right;\">\n",
       "      <th></th>\n",
       "      <th>open</th>\n",
       "      <th>close</th>\n",
       "      <th>high</th>\n",
       "      <th>low</th>\n",
       "      <th>volume</th>\n",
       "    </tr>\n",
       "  </thead>\n",
       "  <tbody>\n",
       "    <tr>\n",
       "      <th>count</th>\n",
       "      <td>208.00</td>\n",
       "      <td>208.00</td>\n",
       "      <td>208.00</td>\n",
       "      <td>208.00</td>\n",
       "      <td>208.00</td>\n",
       "    </tr>\n",
       "    <tr>\n",
       "      <th>mean</th>\n",
       "      <td>1,956.52</td>\n",
       "      <td>1,994.46</td>\n",
       "      <td>2,219.63</td>\n",
       "      <td>1,853.97</td>\n",
       "      <td>3.08</td>\n",
       "    </tr>\n",
       "    <tr>\n",
       "      <th>std</th>\n",
       "      <td>1,062.31</td>\n",
       "      <td>1,105.04</td>\n",
       "      <td>1,391.74</td>\n",
       "      <td>996.39</td>\n",
       "      <td>5.00</td>\n",
       "    </tr>\n",
       "    <tr>\n",
       "      <th>min</th>\n",
       "      <td>300.00</td>\n",
       "      <td>654.01</td>\n",
       "      <td>830.00</td>\n",
       "      <td>1.01</td>\n",
       "      <td>0.00</td>\n",
       "    </tr>\n",
       "    <tr>\n",
       "      <th>25%</th>\n",
       "      <td>1,028.31</td>\n",
       "      <td>1,047.88</td>\n",
       "      <td>1,050.75</td>\n",
       "      <td>1,017.65</td>\n",
       "      <td>0.10</td>\n",
       "    </tr>\n",
       "    <tr>\n",
       "      <th>50%</th>\n",
       "      <td>1,463.06</td>\n",
       "      <td>1,447.00</td>\n",
       "      <td>1,564.50</td>\n",
       "      <td>1,308.92</td>\n",
       "      <td>0.93</td>\n",
       "    </tr>\n",
       "    <tr>\n",
       "      <th>75%</th>\n",
       "      <td>2,779.73</td>\n",
       "      <td>2,858.75</td>\n",
       "      <td>3,104.41</td>\n",
       "      <td>2,717.64</td>\n",
       "      <td>3.98</td>\n",
       "    </tr>\n",
       "    <tr>\n",
       "      <th>max</th>\n",
       "      <td>4,994.00</td>\n",
       "      <td>4,997.00</td>\n",
       "      <td>8,000.00</td>\n",
       "      <td>4,994.00</td>\n",
       "      <td>37.77</td>\n",
       "    </tr>\n",
       "  </tbody>\n",
       "</table>"
      ],
      "text/plain": [
       "<IPython.core.display.HTML object>"
      ]
     },
     "metadata": {},
     "output_type": "display_data"
    },
    {
     "data": {
      "text/html": [
       "<h3>btc_brl</h3>"
      ],
      "text/plain": [
       "<IPython.core.display.HTML object>"
      ]
     },
     "metadata": {},
     "output_type": "display_data"
    },
    {
     "name": "stdout",
     "output_type": "stream",
     "text": [
      "describe_dataset\n"
     ]
    },
    {
     "data": {
      "text/html": [
       "<H1>Range Dates</H1>"
      ],
      "text/plain": [
       "<IPython.core.display.HTML object>"
      ]
     },
     "metadata": {},
     "output_type": "display_data"
    },
    {
     "data": {
      "text/html": [
       "<H3>Min: 2013-06-12</H3>"
      ],
      "text/plain": [
       "<IPython.core.display.HTML object>"
      ]
     },
     "metadata": {},
     "output_type": "display_data"
    },
    {
     "data": {
      "text/html": [
       "<H3>Min: 2018-03-12</H3>"
      ],
      "text/plain": [
       "<IPython.core.display.HTML object>"
      ]
     },
     "metadata": {},
     "output_type": "display_data"
    },
    {
     "data": {
      "text/html": [
       "<H1>Min</H1>"
      ],
      "text/plain": [
       "<IPython.core.display.HTML object>"
      ]
     },
     "metadata": {},
     "output_type": "display_data"
    },
    {
     "name": "stdout",
     "output_type": "stream",
     "text": [
      "low         2018-02-16\n",
      "volume      2013-08-18\n",
      "amount      2013-08-18\n",
      "avg_price   2013-07-09\n",
      "open        2013-07-04\n",
      "close       2013-07-03\n",
      "high        2013-07-10\n",
      "quantity    2013-08-18\n",
      "dtype: datetime64[ns]\n"
     ]
    },
    {
     "data": {
      "text/html": [
       "<H1>Max</H1>"
      ],
      "text/plain": [
       "<IPython.core.display.HTML object>"
      ]
     },
     "metadata": {},
     "output_type": "display_data"
    },
    {
     "name": "stdout",
     "output_type": "stream",
     "text": [
      "low         2017-12-18\n",
      "volume      2017-12-07\n",
      "amount      2017-12-07\n",
      "avg_price   2017-12-18\n",
      "open        2017-12-19\n",
      "close       2017-12-18\n",
      "high        2017-12-17\n",
      "quantity    2017-11-29\n",
      "dtype: datetime64[ns]\n"
     ]
    },
    {
     "data": {
      "text/html": [
       "<table border=\"1\" class=\"dataframe\">\n",
       "  <thead>\n",
       "    <tr style=\"text-align: right;\">\n",
       "      <th></th>\n",
       "      <th>low</th>\n",
       "      <th>volume</th>\n",
       "      <th>amount</th>\n",
       "      <th>avg_price</th>\n",
       "      <th>open</th>\n",
       "      <th>close</th>\n",
       "      <th>high</th>\n",
       "      <th>quantity</th>\n",
       "    </tr>\n",
       "  </thead>\n",
       "  <tbody>\n",
       "    <tr>\n",
       "      <th>count</th>\n",
       "      <td>1,681.00</td>\n",
       "      <td>1,681.00</td>\n",
       "      <td>1,681.00</td>\n",
       "      <td>1,681.00</td>\n",
       "      <td>1,681.00</td>\n",
       "      <td>1,681.00</td>\n",
       "      <td>1,681.00</td>\n",
       "      <td>1,681.00</td>\n",
       "    </tr>\n",
       "    <tr>\n",
       "      <th>mean</th>\n",
       "      <td>5,167.44</td>\n",
       "      <td>2,147,448.68</td>\n",
       "      <td>1,290.21</td>\n",
       "      <td>5,432.23</td>\n",
       "      <td>5,421.96</td>\n",
       "      <td>5,437.67</td>\n",
       "      <td>5,641.17</td>\n",
       "      <td>158.60</td>\n",
       "    </tr>\n",
       "    <tr>\n",
       "      <th>std</th>\n",
       "      <td>10,082.28</td>\n",
       "      <td>7,653,198.97</td>\n",
       "      <td>2,837.94</td>\n",
       "      <td>10,674.96</td>\n",
       "      <td>10,672.42</td>\n",
       "      <td>10,676.18</td>\n",
       "      <td>11,164.10</td>\n",
       "      <td>196.91</td>\n",
       "    </tr>\n",
       "    <tr>\n",
       "      <th>min</th>\n",
       "      <td>0.00</td>\n",
       "      <td>24.55</td>\n",
       "      <td>2.00</td>\n",
       "      <td>200.24</td>\n",
       "      <td>193.00</td>\n",
       "      <td>190.01</td>\n",
       "      <td>209.00</td>\n",
       "      <td>0.10</td>\n",
       "    </tr>\n",
       "    <tr>\n",
       "      <th>25%</th>\n",
       "      <td>936.14</td>\n",
       "      <td>59,930.05</td>\n",
       "      <td>161.00</td>\n",
       "      <td>962.42</td>\n",
       "      <td>959.70</td>\n",
       "      <td>960.00</td>\n",
       "      <td>985.00</td>\n",
       "      <td>52.42</td>\n",
       "    </tr>\n",
       "    <tr>\n",
       "      <th>50%</th>\n",
       "      <td>1,630.05</td>\n",
       "      <td>131,661.52</td>\n",
       "      <td>306.00</td>\n",
       "      <td>1,690.37</td>\n",
       "      <td>1,695.83</td>\n",
       "      <td>1,690.11</td>\n",
       "      <td>1,729.50</td>\n",
       "      <td>102.75</td>\n",
       "    </tr>\n",
       "    <tr>\n",
       "      <th>75%</th>\n",
       "      <td>2,881.00</td>\n",
       "      <td>487,363.80</td>\n",
       "      <td>839.00</td>\n",
       "      <td>2,945.76</td>\n",
       "      <td>2,949.58</td>\n",
       "      <td>2,960.00</td>\n",
       "      <td>3,046.00</td>\n",
       "      <td>181.59</td>\n",
       "    </tr>\n",
       "    <tr>\n",
       "      <th>max</th>\n",
       "      <td>67,500.00</td>\n",
       "      <td>108,023,418.47</td>\n",
       "      <td>33,169.00</td>\n",
       "      <td>68,942.87</td>\n",
       "      <td>68,800.00</td>\n",
       "      <td>69,099.00</td>\n",
       "      <td>69,950.00</td>\n",
       "      <td>2,629.60</td>\n",
       "    </tr>\n",
       "  </tbody>\n",
       "</table>"
      ],
      "text/plain": [
       "<IPython.core.display.HTML object>"
      ]
     },
     "metadata": {},
     "output_type": "display_data"
    }
   ],
   "source": [
    "#Index(['lowest', 'volume', 'amount', 'avg_price', 'opening', 'closing',\n",
    "#       'highest', 'quantity'],\n",
    "#      dtype='object')\n",
    "def describe_dataset( dataset):\n",
    "    display(HTML('<H1>Range Dates</H1>'))\n",
    "    display(HTML('<H3>Min: '+dataset.df.index.min().strftime('%Y-%m-%d')+'</H3>'))\n",
    "    display(HTML('<H3>Min: '+dataset.df.index.max().strftime('%Y-%m-%d')+'</H3>'))\n",
    "    display(HTML('<H1>Min</H1>'))\n",
    "    print(dataset.df.idxmin())\n",
    "    display(HTML('<H1>Max</H1>'))\n",
    "    print(dataset.df.idxmax())    \n",
    "    display(HTML(dataset.df.describe().to_html()))\n",
    "    return  dataset \n",
    "all_datasets(describe_dataset,datasets)"
   ]
  },
  {
   "cell_type": "markdown",
   "metadata": {},
   "source": [
    "### Adding Technical Indicators on the Closing Price\n",
    "\n",
    "Add technical Indicators on the closing prices. Bollinger Bands®, Exponential Moving Average (EMA), Moving Average Converge Divergence (MACD), Heikin-Ashi and Daily Returns."
   ]
  },
  {
   "cell_type": "code",
   "execution_count": 14,
   "metadata": {},
   "outputs": [
    {
     "data": {
      "text/html": [
       "<h3>btc_clp</h3>"
      ],
      "text/plain": [
       "<IPython.core.display.HTML object>"
      ]
     },
     "metadata": {},
     "output_type": "display_data"
    },
    {
     "name": "stdout",
     "output_type": "stream",
     "text": [
      "adding_technical_indicators\n"
     ]
    },
    {
     "data": {
      "text/html": [
       "<h3>btc_cop</h3>"
      ],
      "text/plain": [
       "<IPython.core.display.HTML object>"
      ]
     },
     "metadata": {},
     "output_type": "display_data"
    },
    {
     "name": "stdout",
     "output_type": "stream",
     "text": [
      "adding_technical_indicators\n"
     ]
    },
    {
     "data": {
      "text/html": [
       "<h3>btc_pen</h3>"
      ],
      "text/plain": [
       "<IPython.core.display.HTML object>"
      ]
     },
     "metadata": {},
     "output_type": "display_data"
    },
    {
     "name": "stdout",
     "output_type": "stream",
     "text": [
      "adding_technical_indicators\n"
     ]
    },
    {
     "data": {
      "text/html": [
       "<h3>eth_btc</h3>"
      ],
      "text/plain": [
       "<IPython.core.display.HTML object>"
      ]
     },
     "metadata": {},
     "output_type": "display_data"
    },
    {
     "name": "stdout",
     "output_type": "stream",
     "text": [
      "adding_technical_indicators\n"
     ]
    },
    {
     "data": {
      "text/html": [
       "<h3>eth_clp</h3>"
      ],
      "text/plain": [
       "<IPython.core.display.HTML object>"
      ]
     },
     "metadata": {},
     "output_type": "display_data"
    },
    {
     "name": "stdout",
     "output_type": "stream",
     "text": [
      "adding_technical_indicators\n"
     ]
    },
    {
     "data": {
      "text/html": [
       "<h3>eth_cop</h3>"
      ],
      "text/plain": [
       "<IPython.core.display.HTML object>"
      ]
     },
     "metadata": {},
     "output_type": "display_data"
    },
    {
     "name": "stdout",
     "output_type": "stream",
     "text": [
      "adding_technical_indicators\n"
     ]
    },
    {
     "data": {
      "text/html": [
       "<h3>eth_pen</h3>"
      ],
      "text/plain": [
       "<IPython.core.display.HTML object>"
      ]
     },
     "metadata": {},
     "output_type": "display_data"
    },
    {
     "name": "stdout",
     "output_type": "stream",
     "text": [
      "adding_technical_indicators\n"
     ]
    },
    {
     "data": {
      "text/html": [
       "<h3>btc_brl</h3>"
      ],
      "text/plain": [
       "<IPython.core.display.HTML object>"
      ]
     },
     "metadata": {},
     "output_type": "display_data"
    },
    {
     "name": "stdout",
     "output_type": "stream",
     "text": [
      "adding_technical_indicators\n"
     ]
    }
   ],
   "source": [
    "def adding_technical_indicators(dataset):\n",
    "    dataset.df['EWMA26']=dataset.df['close'].ewm(span=26).mean()\n",
    "    dataset.df['EWMA12']=dataset.df['close'].ewm(span=12).mean()\n",
    "    dataset.df['EWMA9']=dataset.df['close'].ewm(span=9).mean()\n",
    "    dataset.df['MACD']=dataset.df['EWMA26']-dataset.df['EWMA12']\n",
    "    dataset.df['Returns']=dataset.df['close'].pct_change(1)\n",
    "    dataset.df['log_return']=np.log(dataset.df['close']/dataset.df['close'].shift(1))\n",
    "    dataset.df['Bollinger Upper']=dataset.df['EWMA12']+2*dataset.df['close'].ewm(span=12).std()\n",
    "    dataset.df['Bollinger Lower']=dataset.df['EWMA12']-2*dataset.df['close'].ewm(span=12).std()\n",
    "    dataset.df['Heiking_Close']=(dataset.df['close']+dataset.df['high']+dataset.df['low']+dataset.df['open'])/4\n",
    "    dataset.df['Heiking High']=dataset.df[['close','high','open']].max(axis=1)\n",
    "    dataset.df['Heiking Low']=dataset.df[['close','low','open']].min(axis=1)\n",
    "    dataset.df['Heiking Open']=(dataset.df['close'].shift(1)+dataset.df['open'].shift(1))/2\n",
    "    dataset.df['log_MACD']=np.log(dataset.df['EWMA26']/dataset.df['EWMA12'])\n",
    "    dataset.df['Variance12']=dataset.df['close'].ewm(span=12).std()\n",
    "    return dataset\n",
    " \n",
    "all_datasets(adding_technical_indicators,datasets)\n",
    "# datasets['btc_cop'].df.head(10)\n",
    "\n",
    "\n",
    "    \n",
    "    \n",
    "    "
   ]
  },
  {
   "cell_type": "code",
   "execution_count": 15,
   "metadata": {
    "scrolled": true
   },
   "outputs": [
    {
     "data": {
      "text/html": [
       "<h3>btc_clp</h3>"
      ],
      "text/plain": [
       "<IPython.core.display.HTML object>"
      ]
     },
     "metadata": {},
     "output_type": "display_data"
    },
    {
     "name": "stdout",
     "output_type": "stream",
     "text": [
      "describe_dataset\n"
     ]
    },
    {
     "data": {
      "text/html": [
       "<H1>Range Dates</H1>"
      ],
      "text/plain": [
       "<IPython.core.display.HTML object>"
      ]
     },
     "metadata": {},
     "output_type": "display_data"
    },
    {
     "data": {
      "text/html": [
       "<H3>Min: 2016-10-31</H3>"
      ],
      "text/plain": [
       "<IPython.core.display.HTML object>"
      ]
     },
     "metadata": {},
     "output_type": "display_data"
    },
    {
     "data": {
      "text/html": [
       "<H3>Min: 2018-03-11</H3>"
      ],
      "text/plain": [
       "<IPython.core.display.HTML object>"
      ]
     },
     "metadata": {},
     "output_type": "display_data"
    },
    {
     "data": {
      "text/html": [
       "<H1>Min</H1>"
      ],
      "text/plain": [
       "<IPython.core.display.HTML object>"
      ]
     },
     "metadata": {},
     "output_type": "display_data"
    },
    {
     "name": "stdout",
     "output_type": "stream",
     "text": [
      "open              2016-11-04\n",
      "close             2016-11-12\n",
      "high              2016-11-07\n",
      "low               2016-11-03\n",
      "volume            2016-12-31\n",
      "EWMA26            2016-11-07\n",
      "EWMA12            2016-11-07\n",
      "EWMA9             2016-11-07\n",
      "MACD              2017-12-17\n",
      "Returns           2017-12-21\n",
      "log_return        2017-12-21\n",
      "Bollinger Upper   2016-11-07\n",
      "Bollinger Lower   2016-11-07\n",
      "Heiking_Close     2016-11-04\n",
      "Heiking High      2016-11-07\n",
      "Heiking Low       2016-11-03\n",
      "Heiking Open      2016-11-08\n",
      "log_MACD          2017-12-11\n",
      "Variance12        2016-11-02\n",
      "dtype: datetime64[ns]\n"
     ]
    },
    {
     "data": {
      "text/html": [
       "<H1>Max</H1>"
      ],
      "text/plain": [
       "<IPython.core.display.HTML object>"
      ]
     },
     "metadata": {},
     "output_type": "display_data"
    },
    {
     "name": "stdout",
     "output_type": "stream",
     "text": [
      "open              2017-12-18\n",
      "close             2017-12-17\n",
      "high              2017-12-07\n",
      "low               2017-12-17\n",
      "volume            2017-03-10\n",
      "EWMA26            2017-12-26\n",
      "EWMA12            2017-12-20\n",
      "EWMA9             2017-12-19\n",
      "MACD              2018-02-05\n",
      "Returns           2018-02-06\n",
      "log_return        2018-02-06\n",
      "Bollinger Upper   2017-12-18\n",
      "Bollinger Lower   2018-01-07\n",
      "Heiking_Close     2017-12-17\n",
      "Heiking High      2017-12-07\n",
      "Heiking Low       2017-12-17\n",
      "Heiking Open      2017-12-18\n",
      "log_MACD          2018-02-05\n",
      "Variance12        2017-12-11\n",
      "dtype: datetime64[ns]\n"
     ]
    },
    {
     "data": {
      "text/html": [
       "<table border=\"1\" class=\"dataframe\">\n",
       "  <thead>\n",
       "    <tr style=\"text-align: right;\">\n",
       "      <th></th>\n",
       "      <th>open</th>\n",
       "      <th>close</th>\n",
       "      <th>high</th>\n",
       "      <th>low</th>\n",
       "      <th>volume</th>\n",
       "      <th>EWMA26</th>\n",
       "      <th>EWMA12</th>\n",
       "      <th>EWMA9</th>\n",
       "      <th>MACD</th>\n",
       "      <th>Returns</th>\n",
       "      <th>log_return</th>\n",
       "      <th>Bollinger Upper</th>\n",
       "      <th>Bollinger Lower</th>\n",
       "      <th>Heiking_Close</th>\n",
       "      <th>Heiking High</th>\n",
       "      <th>Heiking Low</th>\n",
       "      <th>Heiking Open</th>\n",
       "      <th>log_MACD</th>\n",
       "      <th>Variance12</th>\n",
       "    </tr>\n",
       "  </thead>\n",
       "  <tbody>\n",
       "    <tr>\n",
       "      <th>count</th>\n",
       "      <td>497.00</td>\n",
       "      <td>497.00</td>\n",
       "      <td>497.00</td>\n",
       "      <td>497.00</td>\n",
       "      <td>497.00</td>\n",
       "      <td>497.00</td>\n",
       "      <td>497.00</td>\n",
       "      <td>497.00</td>\n",
       "      <td>497.00</td>\n",
       "      <td>496.00</td>\n",
       "      <td>496.00</td>\n",
       "      <td>496.00</td>\n",
       "      <td>496.00</td>\n",
       "      <td>497.00</td>\n",
       "      <td>497.00</td>\n",
       "      <td>497.00</td>\n",
       "      <td>496.00</td>\n",
       "      <td>497.00</td>\n",
       "      <td>496.00</td>\n",
       "    </tr>\n",
       "    <tr>\n",
       "      <th>mean</th>\n",
       "      <td>3,031,204.69</td>\n",
       "      <td>3,042,093.59</td>\n",
       "      <td>3,185,056.81</td>\n",
       "      <td>2,859,642.35</td>\n",
       "      <td>34.90</td>\n",
       "      <td>2,898,503.91</td>\n",
       "      <td>2,980,340.39</td>\n",
       "      <td>2,997,697.75</td>\n",
       "      <td>-81,836.48</td>\n",
       "      <td>0.01</td>\n",
       "      <td>0.01</td>\n",
       "      <td>3,641,658.75</td>\n",
       "      <td>2,329,065.37</td>\n",
       "      <td>3,029,499.36</td>\n",
       "      <td>3,185,056.81</td>\n",
       "      <td>2,859,642.35</td>\n",
       "      <td>3,031,251.27</td>\n",
       "      <td>-0.03</td>\n",
       "      <td>328,148.34</td>\n",
       "    </tr>\n",
       "    <tr>\n",
       "      <th>std</th>\n",
       "      <td>3,012,846.52</td>\n",
       "      <td>3,020,119.25</td>\n",
       "      <td>3,199,563.20</td>\n",
       "      <td>2,793,238.47</td>\n",
       "      <td>29.00</td>\n",
       "      <td>2,879,587.88</td>\n",
       "      <td>2,964,858.01</td>\n",
       "      <td>2,981,518.29</td>\n",
       "      <td>386,711.81</td>\n",
       "      <td>0.06</td>\n",
       "      <td>0.06</td>\n",
       "      <td>3,823,001.18</td>\n",
       "      <td>2,168,641.98</td>\n",
       "      <td>3,000,240.25</td>\n",
       "      <td>3,199,563.20</td>\n",
       "      <td>2,793,238.47</td>\n",
       "      <td>3,013,147.92</td>\n",
       "      <td>0.06</td>\n",
       "      <td>464,647.70</td>\n",
       "    </tr>\n",
       "    <tr>\n",
       "      <th>min</th>\n",
       "      <td>465,164.77</td>\n",
       "      <td>463,059.45</td>\n",
       "      <td>472,933.11</td>\n",
       "      <td>449,879.51</td>\n",
       "      <td>0.00</td>\n",
       "      <td>473,295.93</td>\n",
       "      <td>471,806.01</td>\n",
       "      <td>470,974.61</td>\n",
       "      <td>-1,921,099.58</td>\n",
       "      <td>-0.25</td>\n",
       "      <td>-0.29</td>\n",
       "      <td>490,404.94</td>\n",
       "      <td>453,207.08</td>\n",
       "      <td>466,176.85</td>\n",
       "      <td>472,933.11</td>\n",
       "      <td>449,879.51</td>\n",
       "      <td>464,631.64</td>\n",
       "      <td>-0.19</td>\n",
       "      <td>3,706.92</td>\n",
       "    </tr>\n",
       "    <tr>\n",
       "      <th>25%</th>\n",
       "      <td>740,000.00</td>\n",
       "      <td>740,000.00</td>\n",
       "      <td>774,500.00</td>\n",
       "      <td>717,653.89</td>\n",
       "      <td>15.81</td>\n",
       "      <td>739,805.16</td>\n",
       "      <td>725,905.40</td>\n",
       "      <td>723,704.00</td>\n",
       "      <td>-155,751.41</td>\n",
       "      <td>-0.02</td>\n",
       "      <td>-0.02</td>\n",
       "      <td>830,771.70</td>\n",
       "      <td>627,777.71</td>\n",
       "      <td>750,409.62</td>\n",
       "      <td>774,500.00</td>\n",
       "      <td>717,653.89</td>\n",
       "      <td>743,529.38</td>\n",
       "      <td>-0.07</td>\n",
       "      <td>43,783.90</td>\n",
       "    </tr>\n",
       "    <tr>\n",
       "      <th>50%</th>\n",
       "      <td>1,799,000.00</td>\n",
       "      <td>1,797,000.00</td>\n",
       "      <td>1,860,000.00</td>\n",
       "      <td>1,726,270.00</td>\n",
       "      <td>29.20</td>\n",
       "      <td>1,737,612.80</td>\n",
       "      <td>1,747,776.04</td>\n",
       "      <td>1,744,424.72</td>\n",
       "      <td>-21,359.65</td>\n",
       "      <td>0.00</td>\n",
       "      <td>0.00</td>\n",
       "      <td>2,034,059.33</td>\n",
       "      <td>1,548,350.56</td>\n",
       "      <td>1,790,333.75</td>\n",
       "      <td>1,860,000.00</td>\n",
       "      <td>1,726,270.00</td>\n",
       "      <td>1,789,838.00</td>\n",
       "      <td>-0.02</td>\n",
       "      <td>152,863.73</td>\n",
       "    </tr>\n",
       "    <tr>\n",
       "      <th>75%</th>\n",
       "      <td>4,549,808.11</td>\n",
       "      <td>4,601,423.13</td>\n",
       "      <td>4,875,000.00</td>\n",
       "      <td>4,280,101.00</td>\n",
       "      <td>43.27</td>\n",
       "      <td>4,118,139.14</td>\n",
       "      <td>4,484,995.18</td>\n",
       "      <td>4,541,210.86</td>\n",
       "      <td>1,924.95</td>\n",
       "      <td>0.03</td>\n",
       "      <td>0.03</td>\n",
       "      <td>5,252,634.25</td>\n",
       "      <td>3,342,575.74</td>\n",
       "      <td>4,529,125.50</td>\n",
       "      <td>4,875,000.00</td>\n",
       "      <td>4,280,101.00</td>\n",
       "      <td>4,528,678.29</td>\n",
       "      <td>0.00</td>\n",
       "      <td>367,989.29</td>\n",
       "    </tr>\n",
       "    <tr>\n",
       "      <th>max</th>\n",
       "      <td>13,794,500.00</td>\n",
       "      <td>13,794,997.00</td>\n",
       "      <td>14,200,000.00</td>\n",
       "      <td>13,000,000.00</td>\n",
       "      <td>233.56</td>\n",
       "      <td>10,385,822.57</td>\n",
       "      <td>12,058,383.38</td>\n",
       "      <td>12,414,776.40</td>\n",
       "      <td>1,087,897.67</td>\n",
       "      <td>0.37</td>\n",
       "      <td>0.32</td>\n",
       "      <td>16,150,609.07</td>\n",
       "      <td>8,447,717.71</td>\n",
       "      <td>13,573,749.25</td>\n",
       "      <td>14,200,000.00</td>\n",
       "      <td>13,000,000.00</td>\n",
       "      <td>13,647,498.50</td>\n",
       "      <td>0.17</td>\n",
       "      <td>2,267,863.23</td>\n",
       "    </tr>\n",
       "  </tbody>\n",
       "</table>"
      ],
      "text/plain": [
       "<IPython.core.display.HTML object>"
      ]
     },
     "metadata": {},
     "output_type": "display_data"
    },
    {
     "data": {
      "text/html": [
       "<h3>btc_cop</h3>"
      ],
      "text/plain": [
       "<IPython.core.display.HTML object>"
      ]
     },
     "metadata": {},
     "output_type": "display_data"
    },
    {
     "name": "stdout",
     "output_type": "stream",
     "text": [
      "describe_dataset\n"
     ]
    },
    {
     "data": {
      "text/html": [
       "<H1>Range Dates</H1>"
      ],
      "text/plain": [
       "<IPython.core.display.HTML object>"
      ]
     },
     "metadata": {},
     "output_type": "display_data"
    },
    {
     "data": {
      "text/html": [
       "<H3>Min: 2016-10-31</H3>"
      ],
      "text/plain": [
       "<IPython.core.display.HTML object>"
      ]
     },
     "metadata": {},
     "output_type": "display_data"
    },
    {
     "data": {
      "text/html": [
       "<H3>Min: 2018-03-11</H3>"
      ],
      "text/plain": [
       "<IPython.core.display.HTML object>"
      ]
     },
     "metadata": {},
     "output_type": "display_data"
    },
    {
     "data": {
      "text/html": [
       "<H1>Min</H1>"
      ],
      "text/plain": [
       "<IPython.core.display.HTML object>"
      ]
     },
     "metadata": {},
     "output_type": "display_data"
    },
    {
     "name": "stdout",
     "output_type": "stream",
     "text": [
      "open              2016-11-08\n",
      "close             2016-11-08\n",
      "high              2016-11-08\n",
      "low               2017-07-12\n",
      "volume            2016-11-05\n",
      "EWMA26            2016-10-31\n",
      "EWMA12            2016-10-31\n",
      "EWMA9             2016-10-31\n",
      "MACD              2017-12-17\n",
      "Returns           2017-03-18\n",
      "log_return        2017-03-18\n",
      "Bollinger Upper   2016-11-01\n",
      "Bollinger Lower   2016-11-03\n",
      "Heiking_Close     2016-11-08\n",
      "Heiking High      2016-11-08\n",
      "Heiking Low       2017-07-12\n",
      "Heiking Open      2016-11-09\n",
      "log_MACD          2017-12-08\n",
      "Variance12        2016-11-01\n",
      "dtype: datetime64[ns]\n"
     ]
    },
    {
     "data": {
      "text/html": [
       "<H1>Max</H1>"
      ],
      "text/plain": [
       "<IPython.core.display.HTML object>"
      ]
     },
     "metadata": {},
     "output_type": "display_data"
    },
    {
     "name": "stdout",
     "output_type": "stream",
     "text": [
      "open              2017-12-17\n",
      "close             2017-12-16\n",
      "high              2017-05-05\n",
      "low               2017-12-16\n",
      "volume            2017-10-10\n",
      "EWMA26            2018-01-06\n",
      "EWMA12            2017-12-20\n",
      "EWMA9             2017-12-20\n",
      "MACD              2018-02-06\n",
      "Returns           2017-09-15\n",
      "log_return        2017-09-15\n",
      "Bollinger Upper   2017-12-17\n",
      "Bollinger Lower   2018-01-06\n",
      "Heiking_Close     2017-05-05\n",
      "Heiking High      2017-05-05\n",
      "Heiking Low       2017-12-16\n",
      "Heiking Open      2017-12-18\n",
      "log_MACD          2018-02-06\n",
      "Variance12        2017-12-08\n",
      "dtype: datetime64[ns]\n"
     ]
    },
    {
     "data": {
      "text/html": [
       "<table border=\"1\" class=\"dataframe\">\n",
       "  <thead>\n",
       "    <tr style=\"text-align: right;\">\n",
       "      <th></th>\n",
       "      <th>open</th>\n",
       "      <th>close</th>\n",
       "      <th>high</th>\n",
       "      <th>low</th>\n",
       "      <th>volume</th>\n",
       "      <th>EWMA26</th>\n",
       "      <th>EWMA12</th>\n",
       "      <th>EWMA9</th>\n",
       "      <th>MACD</th>\n",
       "      <th>Returns</th>\n",
       "      <th>log_return</th>\n",
       "      <th>Bollinger Upper</th>\n",
       "      <th>Bollinger Lower</th>\n",
       "      <th>Heiking_Close</th>\n",
       "      <th>Heiking High</th>\n",
       "      <th>Heiking Low</th>\n",
       "      <th>Heiking Open</th>\n",
       "      <th>log_MACD</th>\n",
       "      <th>Variance12</th>\n",
       "    </tr>\n",
       "  </thead>\n",
       "  <tbody>\n",
       "    <tr>\n",
       "      <th>count</th>\n",
       "      <td>497.00</td>\n",
       "      <td>497.00</td>\n",
       "      <td>497.00</td>\n",
       "      <td>497.00</td>\n",
       "      <td>497.00</td>\n",
       "      <td>497.00</td>\n",
       "      <td>497.00</td>\n",
       "      <td>497.00</td>\n",
       "      <td>497.00</td>\n",
       "      <td>496.00</td>\n",
       "      <td>496.00</td>\n",
       "      <td>496.00</td>\n",
       "      <td>496.00</td>\n",
       "      <td>497.00</td>\n",
       "      <td>497.00</td>\n",
       "      <td>497.00</td>\n",
       "      <td>496.00</td>\n",
       "      <td>497.00</td>\n",
       "      <td>496.00</td>\n",
       "    </tr>\n",
       "    <tr>\n",
       "      <th>mean</th>\n",
       "      <td>12,878,911.58</td>\n",
       "      <td>12,956,022.67</td>\n",
       "      <td>33,782,208.30</td>\n",
       "      <td>12,165,157.75</td>\n",
       "      <td>4.42</td>\n",
       "      <td>12,327,701.58</td>\n",
       "      <td>12,686,452.90</td>\n",
       "      <td>12,761,721.29</td>\n",
       "      <td>-358,751.32</td>\n",
       "      <td>0.01</td>\n",
       "      <td>0.01</td>\n",
       "      <td>15,328,127.01</td>\n",
       "      <td>10,087,466.10</td>\n",
       "      <td>17,945,575.07</td>\n",
       "      <td>33,782,208.30</td>\n",
       "      <td>12,165,157.75</td>\n",
       "      <td>12,893,408.89</td>\n",
       "      <td>-0.03</td>\n",
       "      <td>1,310,165.23</td>\n",
       "    </tr>\n",
       "    <tr>\n",
       "      <th>std</th>\n",
       "      <td>12,787,751.52</td>\n",
       "      <td>12,873,744.45</td>\n",
       "      <td>448,155,054.30</td>\n",
       "      <td>12,026,074.87</td>\n",
       "      <td>4.66</td>\n",
       "      <td>12,347,101.71</td>\n",
       "      <td>12,680,790.53</td>\n",
       "      <td>12,740,009.77</td>\n",
       "      <td>1,520,184.54</td>\n",
       "      <td>0.07</td>\n",
       "      <td>0.07</td>\n",
       "      <td>15,647,077.52</td>\n",
       "      <td>9,955,228.09</td>\n",
       "      <td>112,442,876.01</td>\n",
       "      <td>448,155,054.30</td>\n",
       "      <td>12,026,074.87</td>\n",
       "      <td>12,816,030.72</td>\n",
       "      <td>0.06</td>\n",
       "      <td>1,663,457.63</td>\n",
       "    </tr>\n",
       "    <tr>\n",
       "      <th>min</th>\n",
       "      <td>2,040,100.23</td>\n",
       "      <td>2,030,280.91</td>\n",
       "      <td>2,041,656.90</td>\n",
       "      <td>30,200.00</td>\n",
       "      <td>0.00</td>\n",
       "      <td>2,100,000.00</td>\n",
       "      <td>2,100,000.00</td>\n",
       "      <td>2,100,000.00</td>\n",
       "      <td>-6,693,332.61</td>\n",
       "      <td>-0.26</td>\n",
       "      <td>-0.30</td>\n",
       "      <td>2,101,058.13</td>\n",
       "      <td>1,963,486.35</td>\n",
       "      <td>2,033,313.53</td>\n",
       "      <td>2,041,656.90</td>\n",
       "      <td>30,200.00</td>\n",
       "      <td>2,035,190.57</td>\n",
       "      <td>-0.17</td>\n",
       "      <td>382.54</td>\n",
       "    </tr>\n",
       "    <tr>\n",
       "      <th>25%</th>\n",
       "      <td>3,185,544.16</td>\n",
       "      <td>3,145,147.15</td>\n",
       "      <td>3,370,685.23</td>\n",
       "      <td>3,000,487.60</td>\n",
       "      <td>0.96</td>\n",
       "      <td>3,166,363.19</td>\n",
       "      <td>3,117,231.57</td>\n",
       "      <td>3,118,720.53</td>\n",
       "      <td>-638,228.10</td>\n",
       "      <td>-0.03</td>\n",
       "      <td>-0.03</td>\n",
       "      <td>3,566,063.27</td>\n",
       "      <td>2,647,344.73</td>\n",
       "      <td>3,211,254.45</td>\n",
       "      <td>3,370,685.23</td>\n",
       "      <td>3,000,487.60</td>\n",
       "      <td>3,160,962.43</td>\n",
       "      <td>-0.07</td>\n",
       "      <td>218,663.12</td>\n",
       "    </tr>\n",
       "    <tr>\n",
       "      <th>50%</th>\n",
       "      <td>7,499,999.00</td>\n",
       "      <td>7,419,000.00</td>\n",
       "      <td>7,838,507.90</td>\n",
       "      <td>7,010,002.00</td>\n",
       "      <td>2.83</td>\n",
       "      <td>7,070,740.59</td>\n",
       "      <td>7,315,984.20</td>\n",
       "      <td>7,392,246.66</td>\n",
       "      <td>-85,447.33</td>\n",
       "      <td>0.00</td>\n",
       "      <td>0.00</td>\n",
       "      <td>8,860,069.18</td>\n",
       "      <td>6,195,136.53</td>\n",
       "      <td>7,464,750.00</td>\n",
       "      <td>7,838,507.90</td>\n",
       "      <td>7,010,002.00</td>\n",
       "      <td>7,465,250.25</td>\n",
       "      <td>-0.02</td>\n",
       "      <td>705,990.38</td>\n",
       "    </tr>\n",
       "    <tr>\n",
       "      <th>75%</th>\n",
       "      <td>19,000,000.00</td>\n",
       "      <td>19,202,001.00</td>\n",
       "      <td>20,582,980.00</td>\n",
       "      <td>18,001,000.00</td>\n",
       "      <td>6.49</td>\n",
       "      <td>16,668,033.35</td>\n",
       "      <td>18,542,765.58</td>\n",
       "      <td>19,084,799.93</td>\n",
       "      <td>19,302.36</td>\n",
       "      <td>0.04</td>\n",
       "      <td>0.04</td>\n",
       "      <td>22,222,726.92</td>\n",
       "      <td>13,806,558.79</td>\n",
       "      <td>19,352,505.00</td>\n",
       "      <td>20,582,980.00</td>\n",
       "      <td>18,001,000.00</td>\n",
       "      <td>19,151,000.50</td>\n",
       "      <td>0.00</td>\n",
       "      <td>1,506,562.69</td>\n",
       "    </tr>\n",
       "    <tr>\n",
       "      <th>max</th>\n",
       "      <td>51,253,009.00</td>\n",
       "      <td>51,252,704.00</td>\n",
       "      <td>10,000,000,000.00</td>\n",
       "      <td>48,400,000.00</td>\n",
       "      <td>31.25</td>\n",
       "      <td>43,181,181.05</td>\n",
       "      <td>46,727,695.98</td>\n",
       "      <td>47,939,004.24</td>\n",
       "      <td>4,435,616.07</td>\n",
       "      <td>0.33</td>\n",
       "      <td>0.28</td>\n",
       "      <td>59,664,468.60</td>\n",
       "      <td>39,021,515.93</td>\n",
       "      <td>2,503,375,755.50</td>\n",
       "      <td>10,000,000,000.00</td>\n",
       "      <td>48,400,000.00</td>\n",
       "      <td>51,106,004.50</td>\n",
       "      <td>0.16</td>\n",
       "      <td>8,093,299.42</td>\n",
       "    </tr>\n",
       "  </tbody>\n",
       "</table>"
      ],
      "text/plain": [
       "<IPython.core.display.HTML object>"
      ]
     },
     "metadata": {},
     "output_type": "display_data"
    },
    {
     "data": {
      "text/html": [
       "<h3>btc_pen</h3>"
      ],
      "text/plain": [
       "<IPython.core.display.HTML object>"
      ]
     },
     "metadata": {},
     "output_type": "display_data"
    },
    {
     "name": "stdout",
     "output_type": "stream",
     "text": [
      "describe_dataset\n"
     ]
    },
    {
     "data": {
      "text/html": [
       "<H1>Range Dates</H1>"
      ],
      "text/plain": [
       "<IPython.core.display.HTML object>"
      ]
     },
     "metadata": {},
     "output_type": "display_data"
    },
    {
     "data": {
      "text/html": [
       "<H3>Min: 2017-08-14</H3>"
      ],
      "text/plain": [
       "<IPython.core.display.HTML object>"
      ]
     },
     "metadata": {},
     "output_type": "display_data"
    },
    {
     "data": {
      "text/html": [
       "<H3>Min: 2018-03-11</H3>"
      ],
      "text/plain": [
       "<IPython.core.display.HTML object>"
      ]
     },
     "metadata": {},
     "output_type": "display_data"
    },
    {
     "data": {
      "text/html": [
       "<H1>Min</H1>"
      ],
      "text/plain": [
       "<IPython.core.display.HTML object>"
      ]
     },
     "metadata": {},
     "output_type": "display_data"
    },
    {
     "name": "stdout",
     "output_type": "stream",
     "text": [
      "open              2017-09-30\n",
      "close             2017-09-29\n",
      "high              2017-09-30\n",
      "low               2017-10-24\n",
      "volume            2017-08-15\n",
      "EWMA26            2017-10-01\n",
      "EWMA12            2017-10-01\n",
      "EWMA9             2017-10-01\n",
      "MACD              2017-12-06\n",
      "Returns           2017-12-07\n",
      "log_return        2017-12-07\n",
      "Bollinger Upper   2017-08-15\n",
      "Bollinger Lower   2017-12-06\n",
      "Heiking_Close     2017-09-30\n",
      "Heiking High      2017-09-30\n",
      "Heiking Low       2017-10-24\n",
      "Heiking Open      2017-10-01\n",
      "log_MACD          2017-12-06\n",
      "Variance12        2017-08-15\n",
      "dtype: datetime64[ns]\n"
     ]
    },
    {
     "data": {
      "text/html": [
       "<H1>Max</H1>"
      ],
      "text/plain": [
       "<IPython.core.display.HTML object>"
      ]
     },
     "metadata": {},
     "output_type": "display_data"
    },
    {
     "name": "stdout",
     "output_type": "stream",
     "text": [
      "open              2017-12-07\n",
      "close             2017-12-06\n",
      "high              2017-12-06\n",
      "low               2017-12-24\n",
      "volume            2018-02-05\n",
      "EWMA26            2017-12-19\n",
      "EWMA12            2017-12-06\n",
      "EWMA9             2017-12-06\n",
      "MACD              2018-02-05\n",
      "Returns           2017-12-06\n",
      "log_return        2017-12-06\n",
      "Bollinger Upper   2017-12-06\n",
      "Bollinger Lower   2018-01-14\n",
      "Heiking_Close     2017-12-07\n",
      "Heiking High      2017-12-06\n",
      "Heiking Low       2017-12-24\n",
      "Heiking Open      2017-12-08\n",
      "log_MACD          2018-02-05\n",
      "Variance12        2017-12-06\n",
      "dtype: datetime64[ns]\n"
     ]
    },
    {
     "data": {
      "text/html": [
       "<table border=\"1\" class=\"dataframe\">\n",
       "  <thead>\n",
       "    <tr style=\"text-align: right;\">\n",
       "      <th></th>\n",
       "      <th>open</th>\n",
       "      <th>close</th>\n",
       "      <th>high</th>\n",
       "      <th>low</th>\n",
       "      <th>volume</th>\n",
       "      <th>EWMA26</th>\n",
       "      <th>EWMA12</th>\n",
       "      <th>EWMA9</th>\n",
       "      <th>MACD</th>\n",
       "      <th>Returns</th>\n",
       "      <th>log_return</th>\n",
       "      <th>Bollinger Upper</th>\n",
       "      <th>Bollinger Lower</th>\n",
       "      <th>Heiking_Close</th>\n",
       "      <th>Heiking High</th>\n",
       "      <th>Heiking Low</th>\n",
       "      <th>Heiking Open</th>\n",
       "      <th>log_MACD</th>\n",
       "      <th>Variance12</th>\n",
       "    </tr>\n",
       "  </thead>\n",
       "  <tbody>\n",
       "    <tr>\n",
       "      <th>count</th>\n",
       "      <td>210.00</td>\n",
       "      <td>210.00</td>\n",
       "      <td>210.00</td>\n",
       "      <td>210.00</td>\n",
       "      <td>210.00</td>\n",
       "      <td>210.00</td>\n",
       "      <td>210.00</td>\n",
       "      <td>210.00</td>\n",
       "      <td>210.00</td>\n",
       "      <td>209.00</td>\n",
       "      <td>209.00</td>\n",
       "      <td>209.00</td>\n",
       "      <td>209.00</td>\n",
       "      <td>210.00</td>\n",
       "      <td>210.00</td>\n",
       "      <td>210.00</td>\n",
       "      <td>209.00</td>\n",
       "      <td>210.00</td>\n",
       "      <td>209.00</td>\n",
       "    </tr>\n",
       "    <tr>\n",
       "      <th>mean</th>\n",
       "      <td>29,861.78</td>\n",
       "      <td>29,952.57</td>\n",
       "      <td>33,699.85</td>\n",
       "      <td>26,675.23</td>\n",
       "      <td>0.69</td>\n",
       "      <td>28,767.28</td>\n",
       "      <td>29,442.28</td>\n",
       "      <td>29,587.22</td>\n",
       "      <td>-675.01</td>\n",
       "      <td>0.04</td>\n",
       "      <td>0.00</td>\n",
       "      <td>46,829.46</td>\n",
       "      <td>12,209.98</td>\n",
       "      <td>30,047.36</td>\n",
       "      <td>33,699.85</td>\n",
       "      <td>26,675.23</td>\n",
       "      <td>29,900.15</td>\n",
       "      <td>-0.02</td>\n",
       "      <td>8,654.87</td>\n",
       "    </tr>\n",
       "    <tr>\n",
       "      <th>std</th>\n",
       "      <td>23,458.48</td>\n",
       "      <td>23,680.31</td>\n",
       "      <td>31,056.47</td>\n",
       "      <td>13,270.35</td>\n",
       "      <td>1.14</td>\n",
       "      <td>14,791.85</td>\n",
       "      <td>15,955.93</td>\n",
       "      <td>16,341.14</td>\n",
       "      <td>3,901.35</td>\n",
       "      <td>0.51</td>\n",
       "      <td>0.24</td>\n",
       "      <td>45,877.53</td>\n",
       "      <td>23,285.38</td>\n",
       "      <td>19,930.71</td>\n",
       "      <td>31,056.47</td>\n",
       "      <td>13,270.35</td>\n",
       "      <td>19,908.76</td>\n",
       "      <td>0.08</td>\n",
       "      <td>16,347.23</td>\n",
       "    </tr>\n",
       "    <tr>\n",
       "      <th>min</th>\n",
       "      <td>9,500.00</td>\n",
       "      <td>9,500.00</td>\n",
       "      <td>9,500.00</td>\n",
       "      <td>1.12</td>\n",
       "      <td>0.00</td>\n",
       "      <td>12,566.28</td>\n",
       "      <td>11,600.72</td>\n",
       "      <td>11,230.93</td>\n",
       "      <td>-25,081.05</td>\n",
       "      <td>-0.84</td>\n",
       "      <td>-1.81</td>\n",
       "      <td>13,258.15</td>\n",
       "      <td>-125,124.90</td>\n",
       "      <td>9,500.00</td>\n",
       "      <td>9,500.00</td>\n",
       "      <td>1.12</td>\n",
       "      <td>9,500.00</td>\n",
       "      <td>-0.41</td>\n",
       "      <td>0.00</td>\n",
       "    </tr>\n",
       "    <tr>\n",
       "      <th>25%</th>\n",
       "      <td>15,134.38</td>\n",
       "      <td>15,221.10</td>\n",
       "      <td>16,012.48</td>\n",
       "      <td>14,449.05</td>\n",
       "      <td>0.08</td>\n",
       "      <td>14,529.63</td>\n",
       "      <td>14,823.54</td>\n",
       "      <td>14,913.73</td>\n",
       "      <td>-1,324.61</td>\n",
       "      <td>-0.06</td>\n",
       "      <td>-0.06</td>\n",
       "      <td>18,021.71</td>\n",
       "      <td>10,480.30</td>\n",
       "      <td>15,012.97</td>\n",
       "      <td>16,012.48</td>\n",
       "      <td>14,449.05</td>\n",
       "      <td>15,104.14</td>\n",
       "      <td>-0.06</td>\n",
       "      <td>1,984.01</td>\n",
       "    </tr>\n",
       "    <tr>\n",
       "      <th>50%</th>\n",
       "      <td>27,008.82</td>\n",
       "      <td>27,089.53</td>\n",
       "      <td>28,837.22</td>\n",
       "      <td>25,949.94</td>\n",
       "      <td>0.37</td>\n",
       "      <td>24,425.60</td>\n",
       "      <td>27,202.28</td>\n",
       "      <td>27,837.25</td>\n",
       "      <td>-188.58</td>\n",
       "      <td>0.00</td>\n",
       "      <td>0.00</td>\n",
       "      <td>35,727.38</td>\n",
       "      <td>13,281.46</td>\n",
       "      <td>27,336.52</td>\n",
       "      <td>28,837.22</td>\n",
       "      <td>25,949.94</td>\n",
       "      <td>26,896.87</td>\n",
       "      <td>-0.01</td>\n",
       "      <td>3,501.09</td>\n",
       "    </tr>\n",
       "    <tr>\n",
       "      <th>75%</th>\n",
       "      <td>37,175.36</td>\n",
       "      <td>37,090.65</td>\n",
       "      <td>39,525.93</td>\n",
       "      <td>35,182.31</td>\n",
       "      <td>0.81</td>\n",
       "      <td>41,001.69</td>\n",
       "      <td>37,873.02</td>\n",
       "      <td>37,280.21</td>\n",
       "      <td>738.13</td>\n",
       "      <td>0.05</td>\n",
       "      <td>0.05</td>\n",
       "      <td>46,424.90</td>\n",
       "      <td>23,286.16</td>\n",
       "      <td>37,076.64</td>\n",
       "      <td>39,525.93</td>\n",
       "      <td>35,182.31</td>\n",
       "      <td>36,985.12</td>\n",
       "      <td>0.04</td>\n",
       "      <td>5,610.43</td>\n",
       "    </tr>\n",
       "    <tr>\n",
       "      <th>max</th>\n",
       "      <td>299,997.00</td>\n",
       "      <td>299,997.00</td>\n",
       "      <td>299,997.00</td>\n",
       "      <td>58,997.27</td>\n",
       "      <td>11.30</td>\n",
       "      <td>57,329.58</td>\n",
       "      <td>75,265.33</td>\n",
       "      <td>88,409.30</td>\n",
       "      <td>4,871.56</td>\n",
       "      <td>6.94</td>\n",
       "      <td>2.07</td>\n",
       "      <td>275,655.56</td>\n",
       "      <td>34,522.94</td>\n",
       "      <td>174,598.50</td>\n",
       "      <td>299,997.00</td>\n",
       "      <td>58,997.27</td>\n",
       "      <td>174,598.50</td>\n",
       "      <td>0.15</td>\n",
       "      <td>100,195.11</td>\n",
       "    </tr>\n",
       "  </tbody>\n",
       "</table>"
      ],
      "text/plain": [
       "<IPython.core.display.HTML object>"
      ]
     },
     "metadata": {},
     "output_type": "display_data"
    },
    {
     "data": {
      "text/html": [
       "<h3>eth_btc</h3>"
      ],
      "text/plain": [
       "<IPython.core.display.HTML object>"
      ]
     },
     "metadata": {},
     "output_type": "display_data"
    },
    {
     "name": "stdout",
     "output_type": "stream",
     "text": [
      "describe_dataset\n"
     ]
    },
    {
     "data": {
      "text/html": [
       "<H1>Range Dates</H1>"
      ],
      "text/plain": [
       "<IPython.core.display.HTML object>"
      ]
     },
     "metadata": {},
     "output_type": "display_data"
    },
    {
     "data": {
      "text/html": [
       "<H3>Min: 2017-07-14</H3>"
      ],
      "text/plain": [
       "<IPython.core.display.HTML object>"
      ]
     },
     "metadata": {},
     "output_type": "display_data"
    },
    {
     "data": {
      "text/html": [
       "<H3>Min: 2018-03-10</H3>"
      ],
      "text/plain": [
       "<IPython.core.display.HTML object>"
      ]
     },
     "metadata": {},
     "output_type": "display_data"
    },
    {
     "data": {
      "text/html": [
       "<H1>Min</H1>"
      ],
      "text/plain": [
       "<IPython.core.display.HTML object>"
      ]
     },
     "metadata": {},
     "output_type": "display_data"
    },
    {
     "name": "stdout",
     "output_type": "stream",
     "text": [
      "open              2017-12-07\n",
      "close             2017-11-27\n",
      "high              2017-11-30\n",
      "low               2017-11-06\n",
      "volume            2017-07-23\n",
      "EWMA26            2017-12-11\n",
      "EWMA12            2017-12-11\n",
      "EWMA9             2017-12-11\n",
      "MACD              2018-01-14\n",
      "Returns           2017-11-27\n",
      "log_return        2017-11-27\n",
      "Bollinger Upper   2017-12-11\n",
      "Bollinger Lower   2017-11-30\n",
      "Heiking_Close     2017-12-07\n",
      "Heiking High      2017-11-30\n",
      "Heiking Low       2017-11-06\n",
      "Heiking Open      2017-12-08\n",
      "log_MACD          2018-01-14\n",
      "Variance12        2017-09-23\n",
      "dtype: datetime64[ns]\n"
     ]
    },
    {
     "data": {
      "text/html": [
       "<H1>Max</H1>"
      ],
      "text/plain": [
       "<IPython.core.display.HTML object>"
      ]
     },
     "metadata": {},
     "output_type": "display_data"
    },
    {
     "name": "stdout",
     "output_type": "stream",
     "text": [
      "open              2018-02-01\n",
      "close             2018-01-31\n",
      "high              2017-12-21\n",
      "low               2018-01-31\n",
      "volume            2017-12-07\n",
      "EWMA26            2018-02-11\n",
      "EWMA12            2018-02-04\n",
      "EWMA9             2018-02-01\n",
      "MACD              2017-11-03\n",
      "Returns           2017-11-28\n",
      "log_return        2017-11-28\n",
      "Bollinger Upper   2018-01-31\n",
      "Bollinger Lower   2018-02-11\n",
      "Heiking_Close     2018-02-01\n",
      "Heiking High      2017-12-21\n",
      "Heiking Low       2018-01-31\n",
      "Heiking Open      2018-02-01\n",
      "log_MACD          2017-11-03\n",
      "Variance12        2017-11-27\n",
      "dtype: datetime64[ns]\n"
     ]
    },
    {
     "data": {
      "text/html": [
       "<table border=\"1\" class=\"dataframe\">\n",
       "  <thead>\n",
       "    <tr style=\"text-align: right;\">\n",
       "      <th></th>\n",
       "      <th>open</th>\n",
       "      <th>close</th>\n",
       "      <th>high</th>\n",
       "      <th>low</th>\n",
       "      <th>volume</th>\n",
       "      <th>EWMA26</th>\n",
       "      <th>EWMA12</th>\n",
       "      <th>EWMA9</th>\n",
       "      <th>MACD</th>\n",
       "      <th>Returns</th>\n",
       "      <th>log_return</th>\n",
       "      <th>Bollinger Upper</th>\n",
       "      <th>Bollinger Lower</th>\n",
       "      <th>Heiking_Close</th>\n",
       "      <th>Heiking High</th>\n",
       "      <th>Heiking Low</th>\n",
       "      <th>Heiking Open</th>\n",
       "      <th>log_MACD</th>\n",
       "      <th>Variance12</th>\n",
       "    </tr>\n",
       "  </thead>\n",
       "  <tbody>\n",
       "    <tr>\n",
       "      <th>count</th>\n",
       "      <td>240.00</td>\n",
       "      <td>240.00</td>\n",
       "      <td>240.00</td>\n",
       "      <td>240.00</td>\n",
       "      <td>240.00</td>\n",
       "      <td>240.00</td>\n",
       "      <td>240.00</td>\n",
       "      <td>240.00</td>\n",
       "      <td>240.00</td>\n",
       "      <td>239.00</td>\n",
       "      <td>239.00</td>\n",
       "      <td>239.00</td>\n",
       "      <td>239.00</td>\n",
       "      <td>240.00</td>\n",
       "      <td>240.00</td>\n",
       "      <td>240.00</td>\n",
       "      <td>239.00</td>\n",
       "      <td>240.00</td>\n",
       "      <td>239.00</td>\n",
       "    </tr>\n",
       "    <tr>\n",
       "      <th>mean</th>\n",
       "      <td>0.07</td>\n",
       "      <td>0.07</td>\n",
       "      <td>0.07</td>\n",
       "      <td>0.07</td>\n",
       "      <td>12.60</td>\n",
       "      <td>0.07</td>\n",
       "      <td>0.07</td>\n",
       "      <td>0.07</td>\n",
       "      <td>-0.00</td>\n",
       "      <td>0.03</td>\n",
       "      <td>0.00</td>\n",
       "      <td>0.08</td>\n",
       "      <td>0.05</td>\n",
       "      <td>0.07</td>\n",
       "      <td>0.07</td>\n",
       "      <td>0.07</td>\n",
       "      <td>0.07</td>\n",
       "      <td>0.01</td>\n",
       "      <td>0.01</td>\n",
       "    </tr>\n",
       "    <tr>\n",
       "      <th>std</th>\n",
       "      <td>0.02</td>\n",
       "      <td>0.02</td>\n",
       "      <td>0.02</td>\n",
       "      <td>0.02</td>\n",
       "      <td>16.69</td>\n",
       "      <td>0.02</td>\n",
       "      <td>0.02</td>\n",
       "      <td>0.02</td>\n",
       "      <td>0.00</td>\n",
       "      <td>0.47</td>\n",
       "      <td>0.22</td>\n",
       "      <td>0.02</td>\n",
       "      <td>0.02</td>\n",
       "      <td>0.02</td>\n",
       "      <td>0.02</td>\n",
       "      <td>0.02</td>\n",
       "      <td>0.02</td>\n",
       "      <td>0.07</td>\n",
       "      <td>0.00</td>\n",
       "    </tr>\n",
       "    <tr>\n",
       "      <th>min</th>\n",
       "      <td>0.02</td>\n",
       "      <td>0.01</td>\n",
       "      <td>0.02</td>\n",
       "      <td>0.00</td>\n",
       "      <td>0.00</td>\n",
       "      <td>0.04</td>\n",
       "      <td>0.03</td>\n",
       "      <td>0.03</td>\n",
       "      <td>-0.01</td>\n",
       "      <td>-0.87</td>\n",
       "      <td>-2.06</td>\n",
       "      <td>0.05</td>\n",
       "      <td>0.00</td>\n",
       "      <td>0.02</td>\n",
       "      <td>0.02</td>\n",
       "      <td>0.00</td>\n",
       "      <td>0.02</td>\n",
       "      <td>-0.17</td>\n",
       "      <td>0.00</td>\n",
       "    </tr>\n",
       "    <tr>\n",
       "      <th>25%</th>\n",
       "      <td>0.05</td>\n",
       "      <td>0.05</td>\n",
       "      <td>0.06</td>\n",
       "      <td>0.05</td>\n",
       "      <td>1.74</td>\n",
       "      <td>0.05</td>\n",
       "      <td>0.05</td>\n",
       "      <td>0.05</td>\n",
       "      <td>-0.00</td>\n",
       "      <td>-0.04</td>\n",
       "      <td>-0.04</td>\n",
       "      <td>0.07</td>\n",
       "      <td>0.03</td>\n",
       "      <td>0.05</td>\n",
       "      <td>0.06</td>\n",
       "      <td>0.05</td>\n",
       "      <td>0.05</td>\n",
       "      <td>-0.02</td>\n",
       "      <td>0.01</td>\n",
       "    </tr>\n",
       "    <tr>\n",
       "      <th>50%</th>\n",
       "      <td>0.07</td>\n",
       "      <td>0.07</td>\n",
       "      <td>0.08</td>\n",
       "      <td>0.07</td>\n",
       "      <td>5.15</td>\n",
       "      <td>0.07</td>\n",
       "      <td>0.07</td>\n",
       "      <td>0.07</td>\n",
       "      <td>0.00</td>\n",
       "      <td>0.00</td>\n",
       "      <td>0.00</td>\n",
       "      <td>0.08</td>\n",
       "      <td>0.06</td>\n",
       "      <td>0.07</td>\n",
       "      <td>0.08</td>\n",
       "      <td>0.07</td>\n",
       "      <td>0.07</td>\n",
       "      <td>0.01</td>\n",
       "      <td>0.01</td>\n",
       "    </tr>\n",
       "    <tr>\n",
       "      <th>75%</th>\n",
       "      <td>0.08</td>\n",
       "      <td>0.08</td>\n",
       "      <td>0.09</td>\n",
       "      <td>0.08</td>\n",
       "      <td>16.97</td>\n",
       "      <td>0.08</td>\n",
       "      <td>0.08</td>\n",
       "      <td>0.08</td>\n",
       "      <td>0.00</td>\n",
       "      <td>0.04</td>\n",
       "      <td>0.04</td>\n",
       "      <td>0.10</td>\n",
       "      <td>0.07</td>\n",
       "      <td>0.08</td>\n",
       "      <td>0.09</td>\n",
       "      <td>0.08</td>\n",
       "      <td>0.08</td>\n",
       "      <td>0.05</td>\n",
       "      <td>0.01</td>\n",
       "    </tr>\n",
       "    <tr>\n",
       "      <th>max</th>\n",
       "      <td>0.12</td>\n",
       "      <td>0.11</td>\n",
       "      <td>0.17</td>\n",
       "      <td>0.11</td>\n",
       "      <td>84.71</td>\n",
       "      <td>0.10</td>\n",
       "      <td>0.10</td>\n",
       "      <td>0.10</td>\n",
       "      <td>0.01</td>\n",
       "      <td>6.92</td>\n",
       "      <td>2.07</td>\n",
       "      <td>0.12</td>\n",
       "      <td>0.09</td>\n",
       "      <td>0.11</td>\n",
       "      <td>0.17</td>\n",
       "      <td>0.11</td>\n",
       "      <td>0.11</td>\n",
       "      <td>0.14</td>\n",
       "      <td>0.02</td>\n",
       "    </tr>\n",
       "  </tbody>\n",
       "</table>"
      ],
      "text/plain": [
       "<IPython.core.display.HTML object>"
      ]
     },
     "metadata": {},
     "output_type": "display_data"
    },
    {
     "data": {
      "text/html": [
       "<h3>eth_clp</h3>"
      ],
      "text/plain": [
       "<IPython.core.display.HTML object>"
      ]
     },
     "metadata": {},
     "output_type": "display_data"
    },
    {
     "name": "stdout",
     "output_type": "stream",
     "text": [
      "describe_dataset\n"
     ]
    },
    {
     "data": {
      "text/html": [
       "<H1>Range Dates</H1>"
      ],
      "text/plain": [
       "<IPython.core.display.HTML object>"
      ]
     },
     "metadata": {},
     "output_type": "display_data"
    },
    {
     "data": {
      "text/html": [
       "<H3>Min: 2017-07-03</H3>"
      ],
      "text/plain": [
       "<IPython.core.display.HTML object>"
      ]
     },
     "metadata": {},
     "output_type": "display_data"
    },
    {
     "data": {
      "text/html": [
       "<H3>Min: 2018-03-11</H3>"
      ],
      "text/plain": [
       "<IPython.core.display.HTML object>"
      ]
     },
     "metadata": {},
     "output_type": "display_data"
    },
    {
     "data": {
      "text/html": [
       "<H1>Min</H1>"
      ],
      "text/plain": [
       "<IPython.core.display.HTML object>"
      ]
     },
     "metadata": {},
     "output_type": "display_data"
    },
    {
     "name": "stdout",
     "output_type": "stream",
     "text": [
      "open              2017-07-16\n",
      "close             2017-07-15\n",
      "high              2017-07-16\n",
      "low               2017-07-16\n",
      "volume            2018-02-28\n",
      "EWMA26            2017-07-30\n",
      "EWMA12            2017-07-30\n",
      "EWMA9             2017-07-17\n",
      "MACD              2018-01-14\n",
      "Returns           2017-12-21\n",
      "log_return        2017-12-21\n",
      "Bollinger Upper   2017-07-31\n",
      "Bollinger Lower   2017-07-16\n",
      "Heiking_Close     2017-07-16\n",
      "Heiking High      2017-07-16\n",
      "Heiking Low       2017-07-16\n",
      "Heiking Open      2017-07-17\n",
      "log_MACD          2017-12-20\n",
      "Variance12        2017-11-06\n",
      "dtype: datetime64[ns]\n"
     ]
    },
    {
     "data": {
      "text/html": [
       "<H1>Max</H1>"
      ],
      "text/plain": [
       "<IPython.core.display.HTML object>"
      ]
     },
     "metadata": {},
     "output_type": "display_data"
    },
    {
     "name": "stdout",
     "output_type": "stream",
     "text": [
      "open              2018-01-15\n",
      "close             2018-01-14\n",
      "high              2018-01-10\n",
      "low               2018-01-14\n",
      "volume            2017-12-13\n",
      "EWMA26            2018-01-19\n",
      "EWMA12            2018-01-15\n",
      "EWMA9             2018-01-15\n",
      "MACD              2018-02-05\n",
      "Returns           2018-02-06\n",
      "log_return        2018-02-06\n",
      "Bollinger Upper   2018-01-15\n",
      "Bollinger Lower   2018-01-31\n",
      "Heiking_Close     2018-01-14\n",
      "Heiking High      2018-01-10\n",
      "Heiking Low       2018-01-14\n",
      "Heiking Open      2018-01-16\n",
      "log_MACD          2018-02-08\n",
      "Variance12        2018-01-09\n",
      "dtype: datetime64[ns]\n"
     ]
    },
    {
     "data": {
      "text/html": [
       "<table border=\"1\" class=\"dataframe\">\n",
       "  <thead>\n",
       "    <tr style=\"text-align: right;\">\n",
       "      <th></th>\n",
       "      <th>open</th>\n",
       "      <th>close</th>\n",
       "      <th>high</th>\n",
       "      <th>low</th>\n",
       "      <th>volume</th>\n",
       "      <th>EWMA26</th>\n",
       "      <th>EWMA12</th>\n",
       "      <th>EWMA9</th>\n",
       "      <th>MACD</th>\n",
       "      <th>Returns</th>\n",
       "      <th>log_return</th>\n",
       "      <th>Bollinger Upper</th>\n",
       "      <th>Bollinger Lower</th>\n",
       "      <th>Heiking_Close</th>\n",
       "      <th>Heiking High</th>\n",
       "      <th>Heiking Low</th>\n",
       "      <th>Heiking Open</th>\n",
       "      <th>log_MACD</th>\n",
       "      <th>Variance12</th>\n",
       "    </tr>\n",
       "  </thead>\n",
       "  <tbody>\n",
       "    <tr>\n",
       "      <th>count</th>\n",
       "      <td>252.00</td>\n",
       "      <td>252.00</td>\n",
       "      <td>252.00</td>\n",
       "      <td>252.00</td>\n",
       "      <td>252.00</td>\n",
       "      <td>252.00</td>\n",
       "      <td>252.00</td>\n",
       "      <td>252.00</td>\n",
       "      <td>252.00</td>\n",
       "      <td>251.00</td>\n",
       "      <td>251.00</td>\n",
       "      <td>251.00</td>\n",
       "      <td>251.00</td>\n",
       "      <td>252.00</td>\n",
       "      <td>252.00</td>\n",
       "      <td>252.00</td>\n",
       "      <td>251.00</td>\n",
       "      <td>252.00</td>\n",
       "      <td>251.00</td>\n",
       "    </tr>\n",
       "    <tr>\n",
       "      <th>mean</th>\n",
       "      <td>339,486.84</td>\n",
       "      <td>340,010.21</td>\n",
       "      <td>360,639.79</td>\n",
       "      <td>317,707.01</td>\n",
       "      <td>183.68</td>\n",
       "      <td>323,157.78</td>\n",
       "      <td>333,432.77</td>\n",
       "      <td>335,429.26</td>\n",
       "      <td>-10,274.99</td>\n",
       "      <td>0.01</td>\n",
       "      <td>0.00</td>\n",
       "      <td>410,938.97</td>\n",
       "      <td>257,029.63</td>\n",
       "      <td>339,460.96</td>\n",
       "      <td>360,639.79</td>\n",
       "      <td>317,707.01</td>\n",
       "      <td>339,327.55</td>\n",
       "      <td>-0.03</td>\n",
       "      <td>38,477.33</td>\n",
       "    </tr>\n",
       "    <tr>\n",
       "      <th>std</th>\n",
       "      <td>198,466.29</td>\n",
       "      <td>198,342.36</td>\n",
       "      <td>212,333.23</td>\n",
       "      <td>181,707.91</td>\n",
       "      <td>169.30</td>\n",
       "      <td>184,273.99</td>\n",
       "      <td>192,117.90</td>\n",
       "      <td>193,557.79</td>\n",
       "      <td>29,037.14</td>\n",
       "      <td>0.09</td>\n",
       "      <td>0.09</td>\n",
       "      <td>256,120.29</td>\n",
       "      <td>137,004.94</td>\n",
       "      <td>196,621.75</td>\n",
       "      <td>212,333.23</td>\n",
       "      <td>181,707.91</td>\n",
       "      <td>197,784.31</td>\n",
       "      <td>0.06</td>\n",
       "      <td>36,069.42</td>\n",
       "    </tr>\n",
       "    <tr>\n",
       "      <th>min</th>\n",
       "      <td>100,867.67</td>\n",
       "      <td>100,869.98</td>\n",
       "      <td>128,345.00</td>\n",
       "      <td>100,524.23</td>\n",
       "      <td>0.34</td>\n",
       "      <td>140,093.49</td>\n",
       "      <td>135,749.05</td>\n",
       "      <td>133,278.44</td>\n",
       "      <td>-104,565.56</td>\n",
       "      <td>-0.30</td>\n",
       "      <td>-0.35</td>\n",
       "      <td>158,722.53</td>\n",
       "      <td>82,362.49</td>\n",
       "      <td>111,184.22</td>\n",
       "      <td>128,345.00</td>\n",
       "      <td>100,524.23</td>\n",
       "      <td>107,933.83</td>\n",
       "      <td>-0.19</td>\n",
       "      <td>3,883.80</td>\n",
       "    </tr>\n",
       "    <tr>\n",
       "      <th>25%</th>\n",
       "      <td>194,160.06</td>\n",
       "      <td>195,000.00</td>\n",
       "      <td>201,375.00</td>\n",
       "      <td>189,000.00</td>\n",
       "      <td>70.19</td>\n",
       "      <td>195,163.53</td>\n",
       "      <td>193,418.63</td>\n",
       "      <td>194,252.23</td>\n",
       "      <td>-17,679.97</td>\n",
       "      <td>-0.03</td>\n",
       "      <td>-0.03</td>\n",
       "      <td>210,295.51</td>\n",
       "      <td>164,265.56</td>\n",
       "      <td>195,241.21</td>\n",
       "      <td>201,375.00</td>\n",
       "      <td>189,000.00</td>\n",
       "      <td>194,104.54</td>\n",
       "      <td>-0.08</td>\n",
       "      <td>11,939.06</td>\n",
       "    </tr>\n",
       "    <tr>\n",
       "      <th>50%</th>\n",
       "      <td>223,690.00</td>\n",
       "      <td>225,000.00</td>\n",
       "      <td>232,000.00</td>\n",
       "      <td>210,556.05</td>\n",
       "      <td>135.55</td>\n",
       "      <td>208,282.96</td>\n",
       "      <td>216,001.72</td>\n",
       "      <td>216,860.93</td>\n",
       "      <td>-857.66</td>\n",
       "      <td>0.00</td>\n",
       "      <td>0.00</td>\n",
       "      <td>253,610.62</td>\n",
       "      <td>187,643.20</td>\n",
       "      <td>223,538.52</td>\n",
       "      <td>232,000.00</td>\n",
       "      <td>210,556.05</td>\n",
       "      <td>221,718.00</td>\n",
       "      <td>-0.00</td>\n",
       "      <td>23,041.38</td>\n",
       "    </tr>\n",
       "    <tr>\n",
       "      <th>75%</th>\n",
       "      <td>517,356.25</td>\n",
       "      <td>519,059.00</td>\n",
       "      <td>543,440.18</td>\n",
       "      <td>493,252.25</td>\n",
       "      <td>231.51</td>\n",
       "      <td>514,798.45</td>\n",
       "      <td>520,270.58</td>\n",
       "      <td>523,424.49</td>\n",
       "      <td>3,760.02</td>\n",
       "      <td>0.04</td>\n",
       "      <td>0.04</td>\n",
       "      <td>635,038.14</td>\n",
       "      <td>390,597.57</td>\n",
       "      <td>518,897.86</td>\n",
       "      <td>543,440.18</td>\n",
       "      <td>493,252.25</td>\n",
       "      <td>521,814.25</td>\n",
       "      <td>0.02</td>\n",
       "      <td>55,782.23</td>\n",
       "    </tr>\n",
       "    <tr>\n",
       "      <th>max</th>\n",
       "      <td>896,000.00</td>\n",
       "      <td>896,000.00</td>\n",
       "      <td>934,999.00</td>\n",
       "      <td>842,800.00</td>\n",
       "      <td>1,043.09</td>\n",
       "      <td>680,738.52</td>\n",
       "      <td>783,510.53</td>\n",
       "      <td>812,352.46</td>\n",
       "      <td>44,386.88</td>\n",
       "      <td>0.46</td>\n",
       "      <td>0.38</td>\n",
       "      <td>1,036,544.25</td>\n",
       "      <td>581,585.65</td>\n",
       "      <td>876,447.00</td>\n",
       "      <td>934,999.00</td>\n",
       "      <td>842,800.00</td>\n",
       "      <td>879,950.00</td>\n",
       "      <td>0.07</td>\n",
       "      <td>136,718.32</td>\n",
       "    </tr>\n",
       "  </tbody>\n",
       "</table>"
      ],
      "text/plain": [
       "<IPython.core.display.HTML object>"
      ]
     },
     "metadata": {},
     "output_type": "display_data"
    },
    {
     "data": {
      "text/html": [
       "<h3>eth_cop</h3>"
      ],
      "text/plain": [
       "<IPython.core.display.HTML object>"
      ]
     },
     "metadata": {},
     "output_type": "display_data"
    },
    {
     "name": "stdout",
     "output_type": "stream",
     "text": [
      "describe_dataset\n"
     ]
    },
    {
     "data": {
      "text/html": [
       "<H1>Range Dates</H1>"
      ],
      "text/plain": [
       "<IPython.core.display.HTML object>"
      ]
     },
     "metadata": {},
     "output_type": "display_data"
    },
    {
     "data": {
      "text/html": [
       "<H3>Min: 2017-08-11</H3>"
      ],
      "text/plain": [
       "<IPython.core.display.HTML object>"
      ]
     },
     "metadata": {},
     "output_type": "display_data"
    },
    {
     "data": {
      "text/html": [
       "<H3>Min: 2018-03-11</H3>"
      ],
      "text/plain": [
       "<IPython.core.display.HTML object>"
      ]
     },
     "metadata": {},
     "output_type": "display_data"
    },
    {
     "data": {
      "text/html": [
       "<H1>Min</H1>"
      ],
      "text/plain": [
       "<IPython.core.display.HTML object>"
      ]
     },
     "metadata": {},
     "output_type": "display_data"
    },
    {
     "name": "stdout",
     "output_type": "stream",
     "text": [
      "open              2017-09-15\n",
      "close             2017-09-25\n",
      "high              2017-09-14\n",
      "low               2017-11-02\n",
      "volume            2017-09-30\n",
      "EWMA26            2017-11-05\n",
      "EWMA12            2017-11-02\n",
      "EWMA9             2017-09-25\n",
      "MACD              2018-01-14\n",
      "Returns           2017-09-25\n",
      "log_return        2017-09-25\n",
      "Bollinger Upper   2017-11-06\n",
      "Bollinger Lower   2017-09-25\n",
      "Heiking_Close     2017-11-02\n",
      "Heiking High      2017-09-14\n",
      "Heiking Low       2017-11-02\n",
      "Heiking Open      2017-09-26\n",
      "log_MACD          2017-12-20\n",
      "Variance12        2017-08-13\n",
      "dtype: datetime64[ns]\n"
     ]
    },
    {
     "data": {
      "text/html": [
       "<H1>Max</H1>"
      ],
      "text/plain": [
       "<IPython.core.display.HTML object>"
      ]
     },
     "metadata": {},
     "output_type": "display_data"
    },
    {
     "name": "stdout",
     "output_type": "stream",
     "text": [
      "open              2018-01-15\n",
      "close             2018-01-13\n",
      "high              2018-01-10\n",
      "low               2018-01-14\n",
      "volume            2018-01-17\n",
      "EWMA26            2018-01-31\n",
      "EWMA12            2018-01-15\n",
      "EWMA9             2018-01-15\n",
      "MACD              2018-02-10\n",
      "Returns           2017-09-26\n",
      "log_return        2017-09-26\n",
      "Bollinger Upper   2018-01-14\n",
      "Bollinger Lower   2018-01-31\n",
      "Heiking_Close     2018-01-10\n",
      "Heiking High      2018-01-10\n",
      "Heiking Low       2018-01-14\n",
      "Heiking Open      2018-01-15\n",
      "log_MACD          2018-02-10\n",
      "Variance12        2018-01-13\n",
      "dtype: datetime64[ns]\n"
     ]
    },
    {
     "data": {
      "text/html": [
       "<table border=\"1\" class=\"dataframe\">\n",
       "  <thead>\n",
       "    <tr style=\"text-align: right;\">\n",
       "      <th></th>\n",
       "      <th>open</th>\n",
       "      <th>close</th>\n",
       "      <th>high</th>\n",
       "      <th>low</th>\n",
       "      <th>volume</th>\n",
       "      <th>EWMA26</th>\n",
       "      <th>EWMA12</th>\n",
       "      <th>EWMA9</th>\n",
       "      <th>MACD</th>\n",
       "      <th>Returns</th>\n",
       "      <th>log_return</th>\n",
       "      <th>Bollinger Upper</th>\n",
       "      <th>Bollinger Lower</th>\n",
       "      <th>Heiking_Close</th>\n",
       "      <th>Heiking High</th>\n",
       "      <th>Heiking Low</th>\n",
       "      <th>Heiking Open</th>\n",
       "      <th>log_MACD</th>\n",
       "      <th>Variance12</th>\n",
       "    </tr>\n",
       "  </thead>\n",
       "  <tbody>\n",
       "    <tr>\n",
       "      <th>count</th>\n",
       "      <td>213.00</td>\n",
       "      <td>213.00</td>\n",
       "      <td>213.00</td>\n",
       "      <td>213.00</td>\n",
       "      <td>213.00</td>\n",
       "      <td>213.00</td>\n",
       "      <td>213.00</td>\n",
       "      <td>213.00</td>\n",
       "      <td>213.00</td>\n",
       "      <td>212.00</td>\n",
       "      <td>212.00</td>\n",
       "      <td>212.00</td>\n",
       "      <td>212.00</td>\n",
       "      <td>213.00</td>\n",
       "      <td>213.00</td>\n",
       "      <td>213.00</td>\n",
       "      <td>212.00</td>\n",
       "      <td>213.00</td>\n",
       "      <td>212.00</td>\n",
       "    </tr>\n",
       "    <tr>\n",
       "      <th>mean</th>\n",
       "      <td>1,649,724.04</td>\n",
       "      <td>1,651,486.47</td>\n",
       "      <td>1,810,637.36</td>\n",
       "      <td>1,505,734.45</td>\n",
       "      <td>30.85</td>\n",
       "      <td>1,574,874.31</td>\n",
       "      <td>1,621,444.73</td>\n",
       "      <td>1,630,256.04</td>\n",
       "      <td>-46,570.42</td>\n",
       "      <td>0.01</td>\n",
       "      <td>0.00</td>\n",
       "      <td>2,020,592.33</td>\n",
       "      <td>1,228,964.14</td>\n",
       "      <td>1,654,395.58</td>\n",
       "      <td>1,810,637.36</td>\n",
       "      <td>1,505,734.45</td>\n",
       "      <td>1,649,287.36</td>\n",
       "      <td>-0.02</td>\n",
       "      <td>197,907.05</td>\n",
       "    </tr>\n",
       "    <tr>\n",
       "      <th>std</th>\n",
       "      <td>918,667.78</td>\n",
       "      <td>926,660.79</td>\n",
       "      <td>1,066,928.95</td>\n",
       "      <td>854,998.13</td>\n",
       "      <td>31.15</td>\n",
       "      <td>856,038.05</td>\n",
       "      <td>897,632.38</td>\n",
       "      <td>904,613.16</td>\n",
       "      <td>153,187.71</td>\n",
       "      <td>0.11</td>\n",
       "      <td>0.11</td>\n",
       "      <td>1,197,435.85</td>\n",
       "      <td>632,292.24</td>\n",
       "      <td>926,408.89</td>\n",
       "      <td>1,066,928.95</td>\n",
       "      <td>854,998.13</td>\n",
       "      <td>918,907.76</td>\n",
       "      <td>0.07</td>\n",
       "      <td>165,558.59</td>\n",
       "    </tr>\n",
       "    <tr>\n",
       "      <th>min</th>\n",
       "      <td>701,420.00</td>\n",
       "      <td>510,001.00</td>\n",
       "      <td>794,626.32</td>\n",
       "      <td>98,000.00</td>\n",
       "      <td>0.01</td>\n",
       "      <td>786,842.20</td>\n",
       "      <td>770,190.91</td>\n",
       "      <td>756,207.49</td>\n",
       "      <td>-513,353.47</td>\n",
       "      <td>-0.36</td>\n",
       "      <td>-0.45</td>\n",
       "      <td>867,796.06</td>\n",
       "      <td>507,871.13</td>\n",
       "      <td>577,001.00</td>\n",
       "      <td>794,626.32</td>\n",
       "      <td>98,000.00</td>\n",
       "      <td>655,000.50</td>\n",
       "      <td>-0.18</td>\n",
       "      <td>25,513.73</td>\n",
       "    </tr>\n",
       "    <tr>\n",
       "      <th>25%</th>\n",
       "      <td>854,884.00</td>\n",
       "      <td>854,884.00</td>\n",
       "      <td>912,386.00</td>\n",
       "      <td>801,000.00</td>\n",
       "      <td>9.85</td>\n",
       "      <td>851,830.91</td>\n",
       "      <td>840,269.08</td>\n",
       "      <td>844,799.02</td>\n",
       "      <td>-116,995.12</td>\n",
       "      <td>-0.05</td>\n",
       "      <td>-0.05</td>\n",
       "      <td>986,033.31</td>\n",
       "      <td>717,487.19</td>\n",
       "      <td>850,001.25</td>\n",
       "      <td>912,386.00</td>\n",
       "      <td>801,000.00</td>\n",
       "      <td>854,646.75</td>\n",
       "      <td>-0.08</td>\n",
       "      <td>68,665.03</td>\n",
       "    </tr>\n",
       "    <tr>\n",
       "      <th>50%</th>\n",
       "      <td>1,200,012.00</td>\n",
       "      <td>1,249,999.98</td>\n",
       "      <td>1,388,000.00</td>\n",
       "      <td>1,100,101.00</td>\n",
       "      <td>21.74</td>\n",
       "      <td>998,336.57</td>\n",
       "      <td>1,095,923.37</td>\n",
       "      <td>1,139,290.87</td>\n",
       "      <td>-1,753.41</td>\n",
       "      <td>0.00</td>\n",
       "      <td>0.00</td>\n",
       "      <td>1,490,820.06</td>\n",
       "      <td>865,221.11</td>\n",
       "      <td>1,244,749.49</td>\n",
       "      <td>1,388,000.00</td>\n",
       "      <td>1,100,101.00</td>\n",
       "      <td>1,216,275.25</td>\n",
       "      <td>-0.00</td>\n",
       "      <td>127,386.70</td>\n",
       "    </tr>\n",
       "    <tr>\n",
       "      <th>75%</th>\n",
       "      <td>2,328,000.00</td>\n",
       "      <td>2,349,994.99</td>\n",
       "      <td>2,520,000.00</td>\n",
       "      <td>2,178,000.00</td>\n",
       "      <td>41.01</td>\n",
       "      <td>2,407,805.06</td>\n",
       "      <td>2,362,136.79</td>\n",
       "      <td>2,330,535.51</td>\n",
       "      <td>26,585.54</td>\n",
       "      <td>0.05</td>\n",
       "      <td>0.05</td>\n",
       "      <td>2,914,594.41</td>\n",
       "      <td>1,829,494.51</td>\n",
       "      <td>2,351,002.25</td>\n",
       "      <td>2,520,000.00</td>\n",
       "      <td>2,178,000.00</td>\n",
       "      <td>2,342,762.62</td>\n",
       "      <td>0.03</td>\n",
       "      <td>312,226.44</td>\n",
       "    </tr>\n",
       "    <tr>\n",
       "      <th>max</th>\n",
       "      <td>4,100,000.00</td>\n",
       "      <td>4,068,448.91</td>\n",
       "      <td>6,000,000.00</td>\n",
       "      <td>3,854,163.93</td>\n",
       "      <td>184.19</td>\n",
       "      <td>3,176,346.62</td>\n",
       "      <td>3,534,976.65</td>\n",
       "      <td>3,670,441.85</td>\n",
       "      <td>210,504.46</td>\n",
       "      <td>0.61</td>\n",
       "      <td>0.48</td>\n",
       "      <td>4,767,120.50</td>\n",
       "      <td>2,764,081.95</td>\n",
       "      <td>4,326,997.50</td>\n",
       "      <td>6,000,000.00</td>\n",
       "      <td>3,854,163.93</td>\n",
       "      <td>3,991,427.21</td>\n",
       "      <td>0.08</td>\n",
       "      <td>645,108.90</td>\n",
       "    </tr>\n",
       "  </tbody>\n",
       "</table>"
      ],
      "text/plain": [
       "<IPython.core.display.HTML object>"
      ]
     },
     "metadata": {},
     "output_type": "display_data"
    },
    {
     "data": {
      "text/html": [
       "<h3>eth_pen</h3>"
      ],
      "text/plain": [
       "<IPython.core.display.HTML object>"
      ]
     },
     "metadata": {},
     "output_type": "display_data"
    },
    {
     "name": "stdout",
     "output_type": "stream",
     "text": [
      "describe_dataset\n"
     ]
    },
    {
     "data": {
      "text/html": [
       "<H1>Range Dates</H1>"
      ],
      "text/plain": [
       "<IPython.core.display.HTML object>"
      ]
     },
     "metadata": {},
     "output_type": "display_data"
    },
    {
     "data": {
      "text/html": [
       "<H3>Min: 2017-08-16</H3>"
      ],
      "text/plain": [
       "<IPython.core.display.HTML object>"
      ]
     },
     "metadata": {},
     "output_type": "display_data"
    },
    {
     "data": {
      "text/html": [
       "<H3>Min: 2018-03-11</H3>"
      ],
      "text/plain": [
       "<IPython.core.display.HTML object>"
      ]
     },
     "metadata": {},
     "output_type": "display_data"
    },
    {
     "data": {
      "text/html": [
       "<H1>Min</H1>"
      ],
      "text/plain": [
       "<IPython.core.display.HTML object>"
      ]
     },
     "metadata": {},
     "output_type": "display_data"
    },
    {
     "name": "stdout",
     "output_type": "stream",
     "text": [
      "open              2017-10-24\n",
      "close             2017-11-06\n",
      "high              2017-09-14\n",
      "low               2017-10-24\n",
      "volume            2017-08-19\n",
      "EWMA26            2017-11-07\n",
      "EWMA12            2017-11-06\n",
      "EWMA9             2017-11-06\n",
      "MACD              2017-12-19\n",
      "Returns           2017-12-16\n",
      "log_return        2017-12-16\n",
      "Bollinger Upper   2017-08-17\n",
      "Bollinger Lower   2017-12-15\n",
      "Heiking_Close     2017-10-24\n",
      "Heiking High      2017-09-14\n",
      "Heiking Low       2017-10-24\n",
      "Heiking Open      2017-10-25\n",
      "log_MACD          2017-12-19\n",
      "Variance12        2017-08-17\n",
      "dtype: datetime64[ns]\n"
     ]
    },
    {
     "data": {
      "text/html": [
       "<H1>Max</H1>"
      ],
      "text/plain": [
       "<IPython.core.display.HTML object>"
      ]
     },
     "metadata": {},
     "output_type": "display_data"
    },
    {
     "name": "stdout",
     "output_type": "stream",
     "text": [
      "open              2017-12-23\n",
      "close             2017-12-15\n",
      "high              2018-01-21\n",
      "low               2017-12-23\n",
      "volume            2018-02-15\n",
      "EWMA26            2018-01-31\n",
      "EWMA12            2018-01-14\n",
      "EWMA9             2018-01-14\n",
      "MACD              2018-02-08\n",
      "Returns           2017-12-23\n",
      "log_return        2017-12-23\n",
      "Bollinger Upper   2017-12-24\n",
      "Bollinger Lower   2018-01-31\n",
      "Heiking_Close     2017-12-23\n",
      "Heiking High      2018-01-21\n",
      "Heiking Low       2017-12-23\n",
      "Heiking Open      2017-12-24\n",
      "log_MACD          2018-03-09\n",
      "Variance12        2017-12-19\n",
      "dtype: datetime64[ns]\n"
     ]
    },
    {
     "data": {
      "text/html": [
       "<table border=\"1\" class=\"dataframe\">\n",
       "  <thead>\n",
       "    <tr style=\"text-align: right;\">\n",
       "      <th></th>\n",
       "      <th>open</th>\n",
       "      <th>close</th>\n",
       "      <th>high</th>\n",
       "      <th>low</th>\n",
       "      <th>volume</th>\n",
       "      <th>EWMA26</th>\n",
       "      <th>EWMA12</th>\n",
       "      <th>EWMA9</th>\n",
       "      <th>MACD</th>\n",
       "      <th>Returns</th>\n",
       "      <th>log_return</th>\n",
       "      <th>Bollinger Upper</th>\n",
       "      <th>Bollinger Lower</th>\n",
       "      <th>Heiking_Close</th>\n",
       "      <th>Heiking High</th>\n",
       "      <th>Heiking Low</th>\n",
       "      <th>Heiking Open</th>\n",
       "      <th>log_MACD</th>\n",
       "      <th>Variance12</th>\n",
       "    </tr>\n",
       "  </thead>\n",
       "  <tbody>\n",
       "    <tr>\n",
       "      <th>count</th>\n",
       "      <td>208.00</td>\n",
       "      <td>208.00</td>\n",
       "      <td>208.00</td>\n",
       "      <td>208.00</td>\n",
       "      <td>208.00</td>\n",
       "      <td>208.00</td>\n",
       "      <td>208.00</td>\n",
       "      <td>208.00</td>\n",
       "      <td>208.00</td>\n",
       "      <td>207.00</td>\n",
       "      <td>207.00</td>\n",
       "      <td>207.00</td>\n",
       "      <td>207.00</td>\n",
       "      <td>208.00</td>\n",
       "      <td>208.00</td>\n",
       "      <td>208.00</td>\n",
       "      <td>207.00</td>\n",
       "      <td>208.00</td>\n",
       "      <td>207.00</td>\n",
       "    </tr>\n",
       "    <tr>\n",
       "      <th>mean</th>\n",
       "      <td>1,956.52</td>\n",
       "      <td>1,994.46</td>\n",
       "      <td>2,219.63</td>\n",
       "      <td>1,853.97</td>\n",
       "      <td>3.08</td>\n",
       "      <td>1,890.21</td>\n",
       "      <td>1,952.20</td>\n",
       "      <td>1,964.54</td>\n",
       "      <td>-61.99</td>\n",
       "      <td>0.03</td>\n",
       "      <td>0.00</td>\n",
       "      <td>2,677.95</td>\n",
       "      <td>1,235.67</td>\n",
       "      <td>2,006.14</td>\n",
       "      <td>2,219.63</td>\n",
       "      <td>1,853.97</td>\n",
       "      <td>1,973.86</td>\n",
       "      <td>-0.03</td>\n",
       "      <td>360.57</td>\n",
       "    </tr>\n",
       "    <tr>\n",
       "      <th>std</th>\n",
       "      <td>1,062.31</td>\n",
       "      <td>1,105.04</td>\n",
       "      <td>1,391.74</td>\n",
       "      <td>996.39</td>\n",
       "      <td>5.00</td>\n",
       "      <td>956.56</td>\n",
       "      <td>1,001.26</td>\n",
       "      <td>1,011.36</td>\n",
       "      <td>159.84</td>\n",
       "      <td>0.25</td>\n",
       "      <td>0.22</td>\n",
       "      <td>1,537.97</td>\n",
       "      <td>781.53</td>\n",
       "      <td>1,103.38</td>\n",
       "      <td>1,391.74</td>\n",
       "      <td>996.39</td>\n",
       "      <td>1,067.08</td>\n",
       "      <td>0.06</td>\n",
       "      <td>348.26</td>\n",
       "    </tr>\n",
       "    <tr>\n",
       "      <th>min</th>\n",
       "      <td>300.00</td>\n",
       "      <td>654.01</td>\n",
       "      <td>830.00</td>\n",
       "      <td>1.01</td>\n",
       "      <td>0.00</td>\n",
       "      <td>969.41</td>\n",
       "      <td>916.63</td>\n",
       "      <td>893.87</td>\n",
       "      <td>-689.58</td>\n",
       "      <td>-0.57</td>\n",
       "      <td>-0.84</td>\n",
       "      <td>1,001.07</td>\n",
       "      <td>-137.57</td>\n",
       "      <td>660.20</td>\n",
       "      <td>830.00</td>\n",
       "      <td>1.01</td>\n",
       "      <td>734.95</td>\n",
       "      <td>-0.25</td>\n",
       "      <td>0.79</td>\n",
       "    </tr>\n",
       "    <tr>\n",
       "      <th>25%</th>\n",
       "      <td>1,028.31</td>\n",
       "      <td>1,047.88</td>\n",
       "      <td>1,050.75</td>\n",
       "      <td>1,017.65</td>\n",
       "      <td>0.10</td>\n",
       "      <td>1,041.15</td>\n",
       "      <td>1,031.29</td>\n",
       "      <td>1,030.12</td>\n",
       "      <td>-120.54</td>\n",
       "      <td>-0.05</td>\n",
       "      <td>-0.05</td>\n",
       "      <td>1,282.14</td>\n",
       "      <td>726.43</td>\n",
       "      <td>1,045.58</td>\n",
       "      <td>1,050.75</td>\n",
       "      <td>1,017.65</td>\n",
       "      <td>1,045.54</td>\n",
       "      <td>-0.05</td>\n",
       "      <td>126.15</td>\n",
       "    </tr>\n",
       "    <tr>\n",
       "      <th>50%</th>\n",
       "      <td>1,463.06</td>\n",
       "      <td>1,447.00</td>\n",
       "      <td>1,564.50</td>\n",
       "      <td>1,308.92</td>\n",
       "      <td>0.93</td>\n",
       "      <td>1,313.14</td>\n",
       "      <td>1,433.05</td>\n",
       "      <td>1,435.34</td>\n",
       "      <td>-6.16</td>\n",
       "      <td>0.00</td>\n",
       "      <td>0.00</td>\n",
       "      <td>2,159.86</td>\n",
       "      <td>908.15</td>\n",
       "      <td>1,438.38</td>\n",
       "      <td>1,564.50</td>\n",
       "      <td>1,308.92</td>\n",
       "      <td>1,444.00</td>\n",
       "      <td>-0.00</td>\n",
       "      <td>270.47</td>\n",
       "    </tr>\n",
       "    <tr>\n",
       "      <th>75%</th>\n",
       "      <td>2,779.73</td>\n",
       "      <td>2,858.75</td>\n",
       "      <td>3,104.41</td>\n",
       "      <td>2,717.64</td>\n",
       "      <td>3.98</td>\n",
       "      <td>2,994.16</td>\n",
       "      <td>2,985.70</td>\n",
       "      <td>2,958.08</td>\n",
       "      <td>26.48</td>\n",
       "      <td>0.06</td>\n",
       "      <td>0.06</td>\n",
       "      <td>4,116.32</td>\n",
       "      <td>1,981.05</td>\n",
       "      <td>2,896.43</td>\n",
       "      <td>3,104.41</td>\n",
       "      <td>2,717.64</td>\n",
       "      <td>2,872.01</td>\n",
       "      <td>0.02</td>\n",
       "      <td>438.58</td>\n",
       "    </tr>\n",
       "    <tr>\n",
       "      <th>max</th>\n",
       "      <td>4,994.00</td>\n",
       "      <td>4,997.00</td>\n",
       "      <td>8,000.00</td>\n",
       "      <td>4,994.00</td>\n",
       "      <td>37.77</td>\n",
       "      <td>3,457.97</td>\n",
       "      <td>3,781.11</td>\n",
       "      <td>3,919.97</td>\n",
       "      <td>182.05</td>\n",
       "      <td>1.75</td>\n",
       "      <td>1.01</td>\n",
       "      <td>6,453.56</td>\n",
       "      <td>2,954.51</td>\n",
       "      <td>4,994.00</td>\n",
       "      <td>8,000.00</td>\n",
       "      <td>4,994.00</td>\n",
       "      <td>4,994.00</td>\n",
       "      <td>0.06</td>\n",
       "      <td>1,555.51</td>\n",
       "    </tr>\n",
       "  </tbody>\n",
       "</table>"
      ],
      "text/plain": [
       "<IPython.core.display.HTML object>"
      ]
     },
     "metadata": {},
     "output_type": "display_data"
    },
    {
     "data": {
      "text/html": [
       "<h3>btc_brl</h3>"
      ],
      "text/plain": [
       "<IPython.core.display.HTML object>"
      ]
     },
     "metadata": {},
     "output_type": "display_data"
    },
    {
     "name": "stdout",
     "output_type": "stream",
     "text": [
      "describe_dataset\n"
     ]
    },
    {
     "data": {
      "text/html": [
       "<H1>Range Dates</H1>"
      ],
      "text/plain": [
       "<IPython.core.display.HTML object>"
      ]
     },
     "metadata": {},
     "output_type": "display_data"
    },
    {
     "data": {
      "text/html": [
       "<H3>Min: 2013-06-12</H3>"
      ],
      "text/plain": [
       "<IPython.core.display.HTML object>"
      ]
     },
     "metadata": {},
     "output_type": "display_data"
    },
    {
     "data": {
      "text/html": [
       "<H3>Min: 2018-03-12</H3>"
      ],
      "text/plain": [
       "<IPython.core.display.HTML object>"
      ]
     },
     "metadata": {},
     "output_type": "display_data"
    },
    {
     "data": {
      "text/html": [
       "<H1>Min</H1>"
      ],
      "text/plain": [
       "<IPython.core.display.HTML object>"
      ]
     },
     "metadata": {},
     "output_type": "display_data"
    },
    {
     "name": "stdout",
     "output_type": "stream",
     "text": [
      "low               2018-02-16\n",
      "volume            2013-08-18\n",
      "amount            2013-08-18\n",
      "avg_price         2013-07-09\n",
      "open              2013-07-04\n",
      "close             2013-07-03\n",
      "high              2013-07-10\n",
      "quantity          2013-08-18\n",
      "EWMA26            2013-07-28\n",
      "EWMA12            2013-07-11\n",
      "EWMA9             2013-07-10\n",
      "MACD              2017-12-18\n",
      "Returns           2013-09-06\n",
      "log_return        2013-09-06\n",
      "Bollinger Upper   2013-07-28\n",
      "Bollinger Lower   2013-07-09\n",
      "Heiking_Close     2013-07-07\n",
      "Heiking High      2013-07-10\n",
      "Heiking Low       2018-02-16\n",
      "Heiking Open      2013-07-08\n",
      "log_MACD          2013-11-29\n",
      "Variance12        2013-06-13\n",
      "dtype: datetime64[ns]\n"
     ]
    },
    {
     "data": {
      "text/html": [
       "<H1>Max</H1>"
      ],
      "text/plain": [
       "<IPython.core.display.HTML object>"
      ]
     },
     "metadata": {},
     "output_type": "display_data"
    },
    {
     "name": "stdout",
     "output_type": "stream",
     "text": [
      "low               2017-12-18\n",
      "volume            2017-12-07\n",
      "amount            2017-12-07\n",
      "avg_price         2017-12-18\n",
      "open              2017-12-19\n",
      "close             2017-12-18\n",
      "high              2017-12-17\n",
      "quantity          2017-11-29\n",
      "EWMA26            2018-01-08\n",
      "EWMA12            2017-12-20\n",
      "EWMA9             2017-12-20\n",
      "MACD              2018-02-06\n",
      "Returns           2013-11-18\n",
      "log_return        2013-11-18\n",
      "Bollinger Upper   2017-12-18\n",
      "Bollinger Lower   2018-01-08\n",
      "Heiking_Close     2017-12-18\n",
      "Heiking High      2017-12-17\n",
      "Heiking Low       2017-12-18\n",
      "Heiking Open      2017-12-19\n",
      "log_MACD          2018-02-06\n",
      "Variance12        2017-12-18\n",
      "dtype: datetime64[ns]\n"
     ]
    },
    {
     "data": {
      "text/html": [
       "<table border=\"1\" class=\"dataframe\">\n",
       "  <thead>\n",
       "    <tr style=\"text-align: right;\">\n",
       "      <th></th>\n",
       "      <th>low</th>\n",
       "      <th>volume</th>\n",
       "      <th>amount</th>\n",
       "      <th>avg_price</th>\n",
       "      <th>open</th>\n",
       "      <th>close</th>\n",
       "      <th>high</th>\n",
       "      <th>quantity</th>\n",
       "      <th>EWMA26</th>\n",
       "      <th>EWMA12</th>\n",
       "      <th>EWMA9</th>\n",
       "      <th>MACD</th>\n",
       "      <th>Returns</th>\n",
       "      <th>log_return</th>\n",
       "      <th>Bollinger Upper</th>\n",
       "      <th>Bollinger Lower</th>\n",
       "      <th>Heiking_Close</th>\n",
       "      <th>Heiking High</th>\n",
       "      <th>Heiking Low</th>\n",
       "      <th>Heiking Open</th>\n",
       "      <th>log_MACD</th>\n",
       "      <th>Variance12</th>\n",
       "    </tr>\n",
       "  </thead>\n",
       "  <tbody>\n",
       "    <tr>\n",
       "      <th>count</th>\n",
       "      <td>1,681.00</td>\n",
       "      <td>1,681.00</td>\n",
       "      <td>1,681.00</td>\n",
       "      <td>1,681.00</td>\n",
       "      <td>1,681.00</td>\n",
       "      <td>1,681.00</td>\n",
       "      <td>1,681.00</td>\n",
       "      <td>1,681.00</td>\n",
       "      <td>1,681.00</td>\n",
       "      <td>1,681.00</td>\n",
       "      <td>1,681.00</td>\n",
       "      <td>1,681.00</td>\n",
       "      <td>1,680.00</td>\n",
       "      <td>1,680.00</td>\n",
       "      <td>1,680.00</td>\n",
       "      <td>1,680.00</td>\n",
       "      <td>1,681.00</td>\n",
       "      <td>1,681.00</td>\n",
       "      <td>1,681.00</td>\n",
       "      <td>1,680.00</td>\n",
       "      <td>1,681.00</td>\n",
       "      <td>1,680.00</td>\n",
       "    </tr>\n",
       "    <tr>\n",
       "      <th>mean</th>\n",
       "      <td>5,167.44</td>\n",
       "      <td>2,147,448.68</td>\n",
       "      <td>1,290.21</td>\n",
       "      <td>5,432.23</td>\n",
       "      <td>5,421.96</td>\n",
       "      <td>5,437.67</td>\n",
       "      <td>5,641.17</td>\n",
       "      <td>158.60</td>\n",
       "      <td>5,190.20</td>\n",
       "      <td>5,331.35</td>\n",
       "      <td>5,361.39</td>\n",
       "      <td>-141.15</td>\n",
       "      <td>0.00</td>\n",
       "      <td>0.00</td>\n",
       "      <td>6,424.19</td>\n",
       "      <td>4,244.54</td>\n",
       "      <td>5,417.06</td>\n",
       "      <td>5,641.17</td>\n",
       "      <td>5,167.44</td>\n",
       "      <td>5,414.56</td>\n",
       "      <td>-0.01</td>\n",
       "      <td>544.91</td>\n",
       "    </tr>\n",
       "    <tr>\n",
       "      <th>std</th>\n",
       "      <td>10,082.28</td>\n",
       "      <td>7,653,198.97</td>\n",
       "      <td>2,837.94</td>\n",
       "      <td>10,674.96</td>\n",
       "      <td>10,672.42</td>\n",
       "      <td>10,676.18</td>\n",
       "      <td>11,164.10</td>\n",
       "      <td>196.91</td>\n",
       "      <td>10,150.19</td>\n",
       "      <td>10,463.81</td>\n",
       "      <td>10,526.73</td>\n",
       "      <td>1,058.12</td>\n",
       "      <td>0.05</td>\n",
       "      <td>0.05</td>\n",
       "      <td>13,160.45</td>\n",
       "      <td>7,863.24</td>\n",
       "      <td>10,633.05</td>\n",
       "      <td>11,164.10</td>\n",
       "      <td>10,082.28</td>\n",
       "      <td>10,653.03</td>\n",
       "      <td>0.06</td>\n",
       "      <td>1,411.80</td>\n",
       "    </tr>\n",
       "    <tr>\n",
       "      <th>min</th>\n",
       "      <td>0.00</td>\n",
       "      <td>24.55</td>\n",
       "      <td>2.00</td>\n",
       "      <td>200.24</td>\n",
       "      <td>193.00</td>\n",
       "      <td>190.01</td>\n",
       "      <td>209.00</td>\n",
       "      <td>0.10</td>\n",
       "      <td>223.00</td>\n",
       "      <td>215.88</td>\n",
       "      <td>211.36</td>\n",
       "      <td>-9,240.80</td>\n",
       "      <td>-0.24</td>\n",
       "      <td>-0.28</td>\n",
       "      <td>235.46</td>\n",
       "      <td>162.04</td>\n",
       "      <td>201.14</td>\n",
       "      <td>209.00</td>\n",
       "      <td>0.00</td>\n",
       "      <td>199.28</td>\n",
       "      <td>-0.29</td>\n",
       "      <td>2.83</td>\n",
       "    </tr>\n",
       "    <tr>\n",
       "      <th>25%</th>\n",
       "      <td>936.14</td>\n",
       "      <td>59,930.05</td>\n",
       "      <td>161.00</td>\n",
       "      <td>962.42</td>\n",
       "      <td>959.70</td>\n",
       "      <td>960.00</td>\n",
       "      <td>985.00</td>\n",
       "      <td>52.42</td>\n",
       "      <td>954.78</td>\n",
       "      <td>947.68</td>\n",
       "      <td>946.06</td>\n",
       "      <td>-66.23</td>\n",
       "      <td>-0.01</td>\n",
       "      <td>-0.01</td>\n",
       "      <td>1,035.60</td>\n",
       "      <td>852.43</td>\n",
       "      <td>960.68</td>\n",
       "      <td>985.00</td>\n",
       "      <td>936.14</td>\n",
       "      <td>958.30</td>\n",
       "      <td>-0.03</td>\n",
       "      <td>35.22</td>\n",
       "    </tr>\n",
       "    <tr>\n",
       "      <th>50%</th>\n",
       "      <td>1,630.05</td>\n",
       "      <td>131,661.52</td>\n",
       "      <td>306.00</td>\n",
       "      <td>1,690.37</td>\n",
       "      <td>1,695.83</td>\n",
       "      <td>1,690.11</td>\n",
       "      <td>1,729.50</td>\n",
       "      <td>102.75</td>\n",
       "      <td>1,699.56</td>\n",
       "      <td>1,690.84</td>\n",
       "      <td>1,690.69</td>\n",
       "      <td>-8.19</td>\n",
       "      <td>0.00</td>\n",
       "      <td>0.00</td>\n",
       "      <td>1,801.39</td>\n",
       "      <td>1,440.25</td>\n",
       "      <td>1,682.00</td>\n",
       "      <td>1,729.50</td>\n",
       "      <td>1,630.05</td>\n",
       "      <td>1,685.40</td>\n",
       "      <td>-0.01</td>\n",
       "      <td>70.72</td>\n",
       "    </tr>\n",
       "    <tr>\n",
       "      <th>75%</th>\n",
       "      <td>2,881.00</td>\n",
       "      <td>487,363.80</td>\n",
       "      <td>839.00</td>\n",
       "      <td>2,945.76</td>\n",
       "      <td>2,949.58</td>\n",
       "      <td>2,960.00</td>\n",
       "      <td>3,046.00</td>\n",
       "      <td>181.59</td>\n",
       "      <td>2,997.09</td>\n",
       "      <td>2,961.60</td>\n",
       "      <td>2,956.66</td>\n",
       "      <td>21.45</td>\n",
       "      <td>0.02</td>\n",
       "      <td>0.02</td>\n",
       "      <td>3,293.18</td>\n",
       "      <td>2,589.79</td>\n",
       "      <td>2,950.69</td>\n",
       "      <td>3,046.00</td>\n",
       "      <td>2,881.00</td>\n",
       "      <td>2,953.66</td>\n",
       "      <td>0.02</td>\n",
       "      <td>208.76</td>\n",
       "    </tr>\n",
       "    <tr>\n",
       "      <th>max</th>\n",
       "      <td>67,500.00</td>\n",
       "      <td>108,023,418.47</td>\n",
       "      <td>33,169.00</td>\n",
       "      <td>68,942.87</td>\n",
       "      <td>68,800.00</td>\n",
       "      <td>69,099.00</td>\n",
       "      <td>69,950.00</td>\n",
       "      <td>2,629.60</td>\n",
       "      <td>52,276.97</td>\n",
       "      <td>60,036.26</td>\n",
       "      <td>61,938.78</td>\n",
       "      <td>5,368.79</td>\n",
       "      <td>0.41</td>\n",
       "      <td>0.35</td>\n",
       "      <td>80,143.92</td>\n",
       "      <td>45,960.29</td>\n",
       "      <td>68,599.50</td>\n",
       "      <td>69,950.00</td>\n",
       "      <td>67,500.00</td>\n",
       "      <td>68,499.50</td>\n",
       "      <td>0.17</td>\n",
       "      <td>10,544.25</td>\n",
       "    </tr>\n",
       "  </tbody>\n",
       "</table>"
      ],
      "text/plain": [
       "<IPython.core.display.HTML object>"
      ]
     },
     "metadata": {},
     "output_type": "display_data"
    }
   ],
   "source": [
    "all_datasets(describe_dataset,datasets)"
   ]
  },
  {
   "cell_type": "markdown",
   "metadata": {
    "collapsed": true
   },
   "source": [
    "## Rescaling the data\n",
    "\n",
    "We will rescale the data to the maximum closing price. The date will be 2017-12-18  witch is the date where the bitcoin has the global maximum value along the dataset. \n",
    "\n"
   ]
  },
  {
   "cell_type": "code",
   "execution_count": 16,
   "metadata": {
    "collapsed": true
   },
   "outputs": [],
   "source": [
    "rescaled_datasets=copy_all_datasets(datasets)\n"
   ]
  },
  {
   "cell_type": "code",
   "execution_count": 17,
   "metadata": {},
   "outputs": [
    {
     "data": {
      "text/html": [
       "<h3>btc_clp</h3>"
      ],
      "text/plain": [
       "<IPython.core.display.HTML object>"
      ]
     },
     "metadata": {},
     "output_type": "display_data"
    },
    {
     "name": "stdout",
     "output_type": "stream",
     "text": [
      "rescale\n"
     ]
    },
    {
     "data": {
      "text/html": [
       "<h3>btc_cop</h3>"
      ],
      "text/plain": [
       "<IPython.core.display.HTML object>"
      ]
     },
     "metadata": {},
     "output_type": "display_data"
    },
    {
     "name": "stdout",
     "output_type": "stream",
     "text": [
      "rescale\n"
     ]
    },
    {
     "data": {
      "text/html": [
       "<h3>btc_pen</h3>"
      ],
      "text/plain": [
       "<IPython.core.display.HTML object>"
      ]
     },
     "metadata": {},
     "output_type": "display_data"
    },
    {
     "name": "stdout",
     "output_type": "stream",
     "text": [
      "rescale\n"
     ]
    },
    {
     "data": {
      "text/html": [
       "<h3>eth_btc</h3>"
      ],
      "text/plain": [
       "<IPython.core.display.HTML object>"
      ]
     },
     "metadata": {},
     "output_type": "display_data"
    },
    {
     "name": "stdout",
     "output_type": "stream",
     "text": [
      "rescale\n"
     ]
    },
    {
     "data": {
      "text/html": [
       "<h3>eth_clp</h3>"
      ],
      "text/plain": [
       "<IPython.core.display.HTML object>"
      ]
     },
     "metadata": {},
     "output_type": "display_data"
    },
    {
     "name": "stdout",
     "output_type": "stream",
     "text": [
      "rescale\n"
     ]
    },
    {
     "data": {
      "text/html": [
       "<h3>eth_cop</h3>"
      ],
      "text/plain": [
       "<IPython.core.display.HTML object>"
      ]
     },
     "metadata": {},
     "output_type": "display_data"
    },
    {
     "name": "stdout",
     "output_type": "stream",
     "text": [
      "rescale\n"
     ]
    },
    {
     "data": {
      "text/html": [
       "<h3>eth_pen</h3>"
      ],
      "text/plain": [
       "<IPython.core.display.HTML object>"
      ]
     },
     "metadata": {},
     "output_type": "display_data"
    },
    {
     "name": "stdout",
     "output_type": "stream",
     "text": [
      "rescale\n"
     ]
    },
    {
     "data": {
      "text/html": [
       "<h3>btc_brl</h3>"
      ],
      "text/plain": [
       "<IPython.core.display.HTML object>"
      ]
     },
     "metadata": {},
     "output_type": "display_data"
    },
    {
     "name": "stdout",
     "output_type": "stream",
     "text": [
      "rescale\n"
     ]
    }
   ],
   "source": [
    "class Rescaler:\n",
    "    def __init__(self, date_to_scale):\n",
    "        self.date_to_scale=date_to_scale\n",
    "        \n",
    "    def rescale(self,dataset):\n",
    "        closing_price_at_max=dataset.df.loc[self.date_to_scale]['close']\n",
    "        column_exceptions=['volume','Returns','quantity']\n",
    "        valid_colummns=[valid_column for valid_column in dataset.df.columns if valid_column not in column_exceptions]\n",
    "        for colummn in valid_colummns:\n",
    "            dataset.df[colummn]=dataset.df[colummn]/closing_price_at_max\n",
    "        return dataset\n",
    "\n",
    "max_date= datetime(2017,12,18)\n",
    "rescaler=Rescaler(max_date)\n",
    "all_datasets(rescaler.rescale,rescaled_datasets)"
   ]
  },
  {
   "cell_type": "markdown",
   "metadata": {},
   "source": [
    "## Apply log to all fields \n",
    "\n",
    "\n",
    "Log transforms are useful when applied to skewed distributions as they tend to expand the values which fall in the range of lower magnitudes and tend to compress or reduce the values which fall in the range of higher ([Feature Engineering](https://towardsdatascience.com/understanding-feature-engineering-part-1-continuous-numeric-data-da4e47099a7b)). \n"
   ]
  },
  {
   "cell_type": "code",
   "execution_count": 18,
   "metadata": {},
   "outputs": [
    {
     "data": {
      "text/html": [
       "<h3>btc_clp</h3>"
      ],
      "text/plain": [
       "<IPython.core.display.HTML object>"
      ]
     },
     "metadata": {},
     "output_type": "display_data"
    },
    {
     "name": "stdout",
     "output_type": "stream",
     "text": [
      "log_transform\n"
     ]
    },
    {
     "name": "stderr",
     "output_type": "stream",
     "text": [
      "/Users/JR/anaconda3/envs/pyfinance/lib/python3.6/site-packages/ipykernel_launcher.py:8: RuntimeWarning: divide by zero encountered in log\n",
      "  \n",
      "/Users/JR/anaconda3/envs/pyfinance/lib/python3.6/site-packages/ipykernel_launcher.py:8: RuntimeWarning: invalid value encountered in log\n",
      "  \n"
     ]
    },
    {
     "data": {
      "text/html": [
       "<h3>btc_cop</h3>"
      ],
      "text/plain": [
       "<IPython.core.display.HTML object>"
      ]
     },
     "metadata": {},
     "output_type": "display_data"
    },
    {
     "name": "stdout",
     "output_type": "stream",
     "text": [
      "log_transform\n"
     ]
    },
    {
     "data": {
      "text/html": [
       "<h3>btc_pen</h3>"
      ],
      "text/plain": [
       "<IPython.core.display.HTML object>"
      ]
     },
     "metadata": {},
     "output_type": "display_data"
    },
    {
     "name": "stdout",
     "output_type": "stream",
     "text": [
      "log_transform\n"
     ]
    },
    {
     "data": {
      "text/html": [
       "<h3>eth_btc</h3>"
      ],
      "text/plain": [
       "<IPython.core.display.HTML object>"
      ]
     },
     "metadata": {},
     "output_type": "display_data"
    },
    {
     "name": "stdout",
     "output_type": "stream",
     "text": [
      "log_transform\n"
     ]
    },
    {
     "data": {
      "text/html": [
       "<h3>eth_clp</h3>"
      ],
      "text/plain": [
       "<IPython.core.display.HTML object>"
      ]
     },
     "metadata": {},
     "output_type": "display_data"
    },
    {
     "name": "stdout",
     "output_type": "stream",
     "text": [
      "log_transform\n"
     ]
    },
    {
     "data": {
      "text/html": [
       "<h3>eth_cop</h3>"
      ],
      "text/plain": [
       "<IPython.core.display.HTML object>"
      ]
     },
     "metadata": {},
     "output_type": "display_data"
    },
    {
     "name": "stdout",
     "output_type": "stream",
     "text": [
      "log_transform\n"
     ]
    },
    {
     "data": {
      "text/html": [
       "<h3>eth_pen</h3>"
      ],
      "text/plain": [
       "<IPython.core.display.HTML object>"
      ]
     },
     "metadata": {},
     "output_type": "display_data"
    },
    {
     "name": "stdout",
     "output_type": "stream",
     "text": [
      "log_transform\n"
     ]
    },
    {
     "data": {
      "text/html": [
       "<h3>btc_brl</h3>"
      ],
      "text/plain": [
       "<IPython.core.display.HTML object>"
      ]
     },
     "metadata": {},
     "output_type": "display_data"
    },
    {
     "name": "stdout",
     "output_type": "stream",
     "text": [
      "log_transform\n"
     ]
    },
    {
     "data": {
      "text/html": [
       "<h3>btc_clp</h3>"
      ],
      "text/plain": [
       "<IPython.core.display.HTML object>"
      ]
     },
     "metadata": {},
     "output_type": "display_data"
    },
    {
     "name": "stdout",
     "output_type": "stream",
     "text": [
      "log_transform_divided_by_close\n"
     ]
    },
    {
     "name": "stderr",
     "output_type": "stream",
     "text": [
      "/Users/JR/anaconda3/envs/pyfinance/lib/python3.6/site-packages/ipykernel_launcher.py:15: RuntimeWarning: divide by zero encountered in log\n",
      "  from ipykernel import kernelapp as app\n",
      "/Users/JR/anaconda3/envs/pyfinance/lib/python3.6/site-packages/ipykernel_launcher.py:15: RuntimeWarning: invalid value encountered in log\n",
      "  from ipykernel import kernelapp as app\n"
     ]
    },
    {
     "data": {
      "text/html": [
       "<h3>btc_cop</h3>"
      ],
      "text/plain": [
       "<IPython.core.display.HTML object>"
      ]
     },
     "metadata": {},
     "output_type": "display_data"
    },
    {
     "name": "stdout",
     "output_type": "stream",
     "text": [
      "log_transform_divided_by_close\n"
     ]
    },
    {
     "data": {
      "text/html": [
       "<h3>btc_pen</h3>"
      ],
      "text/plain": [
       "<IPython.core.display.HTML object>"
      ]
     },
     "metadata": {},
     "output_type": "display_data"
    },
    {
     "name": "stdout",
     "output_type": "stream",
     "text": [
      "log_transform_divided_by_close\n"
     ]
    },
    {
     "data": {
      "text/html": [
       "<h3>eth_btc</h3>"
      ],
      "text/plain": [
       "<IPython.core.display.HTML object>"
      ]
     },
     "metadata": {},
     "output_type": "display_data"
    },
    {
     "name": "stdout",
     "output_type": "stream",
     "text": [
      "log_transform_divided_by_close\n"
     ]
    },
    {
     "data": {
      "text/html": [
       "<h3>eth_clp</h3>"
      ],
      "text/plain": [
       "<IPython.core.display.HTML object>"
      ]
     },
     "metadata": {},
     "output_type": "display_data"
    },
    {
     "name": "stdout",
     "output_type": "stream",
     "text": [
      "log_transform_divided_by_close\n"
     ]
    },
    {
     "data": {
      "text/html": [
       "<h3>eth_cop</h3>"
      ],
      "text/plain": [
       "<IPython.core.display.HTML object>"
      ]
     },
     "metadata": {},
     "output_type": "display_data"
    },
    {
     "name": "stdout",
     "output_type": "stream",
     "text": [
      "log_transform_divided_by_close\n"
     ]
    },
    {
     "data": {
      "text/html": [
       "<h3>eth_pen</h3>"
      ],
      "text/plain": [
       "<IPython.core.display.HTML object>"
      ]
     },
     "metadata": {},
     "output_type": "display_data"
    },
    {
     "name": "stdout",
     "output_type": "stream",
     "text": [
      "log_transform_divided_by_close\n"
     ]
    },
    {
     "data": {
      "text/html": [
       "<h3>btc_brl</h3>"
      ],
      "text/plain": [
       "<IPython.core.display.HTML object>"
      ]
     },
     "metadata": {},
     "output_type": "display_data"
    },
    {
     "name": "stdout",
     "output_type": "stream",
     "text": [
      "log_transform_divided_by_close\n"
     ]
    }
   ],
   "source": [
    "log_datasets=copy_all_datasets(datasets) \n",
    "log_divided_close_datasets=copy_all_datasets(datasets) \n",
    "\n",
    "def log_transform(dataset):\n",
    "    column_exceptions=['log_return', 'Returns','volume','log_MACD']\n",
    "    valid_colummns=[valid_column for valid_column in dataset.df.columns if valid_column not in column_exceptions]\n",
    "    for colummn in valid_colummns:\n",
    "        dataset.df[colummn]=np.log(dataset.df[colummn])\n",
    "    return dataset\n",
    "\n",
    "def log_transform_divided_by_close(dataset):\n",
    "    column_exceptions=['log_return', 'Returns','volume','log_MACD','close','Variance12']\n",
    "    valid_colummns=[valid_column for valid_column in dataset.df.columns if valid_column not in column_exceptions]\n",
    "    for colummn in valid_colummns:\n",
    "        dataset.df[colummn]=np.log(dataset.df[colummn]/dataset.df['close'])\n",
    "    return dataset\n",
    "\n",
    "\n",
    "all_datasets(log_transform,log_datasets)\n",
    "all_datasets(log_transform_divided_by_close,log_divided_close_datasets)\n"
   ]
  },
  {
   "cell_type": "code",
   "execution_count": 19,
   "metadata": {},
   "outputs": [
    {
     "data": {
      "text/html": [
       "<div>\n",
       "<style>\n",
       "    .dataframe thead tr:only-child th {\n",
       "        text-align: right;\n",
       "    }\n",
       "\n",
       "    .dataframe thead th {\n",
       "        text-align: left;\n",
       "    }\n",
       "\n",
       "    .dataframe tbody tr th {\n",
       "        vertical-align: top;\n",
       "    }\n",
       "</style>\n",
       "<table border=\"1\" class=\"dataframe\">\n",
       "  <thead>\n",
       "    <tr style=\"text-align: right;\">\n",
       "      <th></th>\n",
       "      <th>open</th>\n",
       "      <th>close</th>\n",
       "      <th>high</th>\n",
       "      <th>low</th>\n",
       "      <th>volume</th>\n",
       "      <th>EWMA26</th>\n",
       "      <th>EWMA12</th>\n",
       "      <th>EWMA9</th>\n",
       "      <th>MACD</th>\n",
       "      <th>Returns</th>\n",
       "      <th>log_return</th>\n",
       "      <th>Bollinger Upper</th>\n",
       "      <th>Bollinger Lower</th>\n",
       "      <th>Heiking_Close</th>\n",
       "      <th>Heiking High</th>\n",
       "      <th>Heiking Low</th>\n",
       "      <th>Heiking Open</th>\n",
       "      <th>log_MACD</th>\n",
       "      <th>Variance12</th>\n",
       "    </tr>\n",
       "    <tr>\n",
       "      <th>datetime</th>\n",
       "      <th></th>\n",
       "      <th></th>\n",
       "      <th></th>\n",
       "      <th></th>\n",
       "      <th></th>\n",
       "      <th></th>\n",
       "      <th></th>\n",
       "      <th></th>\n",
       "      <th></th>\n",
       "      <th></th>\n",
       "      <th></th>\n",
       "      <th></th>\n",
       "      <th></th>\n",
       "      <th></th>\n",
       "      <th></th>\n",
       "      <th></th>\n",
       "      <th></th>\n",
       "      <th></th>\n",
       "      <th></th>\n",
       "    </tr>\n",
       "  </thead>\n",
       "  <tbody>\n",
       "    <tr>\n",
       "      <th>2018-03-07</th>\n",
       "      <td>0.08</td>\n",
       "      <td>6,000,011.00</td>\n",
       "      <td>0.11</td>\n",
       "      <td>-0.07</td>\n",
       "      <td>76.05</td>\n",
       "      <td>0.06</td>\n",
       "      <td>0.07</td>\n",
       "      <td>0.07</td>\n",
       "      <td>nan</td>\n",
       "      <td>-0.06</td>\n",
       "      <td>-0.06</td>\n",
       "      <td>0.18</td>\n",
       "      <td>-0.06</td>\n",
       "      <td>0.03</td>\n",
       "      <td>0.11</td>\n",
       "      <td>-0.07</td>\n",
       "      <td>0.09</td>\n",
       "      <td>-0.00</td>\n",
       "      <td>371,407.47</td>\n",
       "    </tr>\n",
       "    <tr>\n",
       "      <th>2018-03-08</th>\n",
       "      <td>0.11</td>\n",
       "      <td>5,479,560.00</td>\n",
       "      <td>0.14</td>\n",
       "      <td>-0.01</td>\n",
       "      <td>42.10</td>\n",
       "      <td>0.14</td>\n",
       "      <td>0.13</td>\n",
       "      <td>0.13</td>\n",
       "      <td>-4.79</td>\n",
       "      <td>-0.09</td>\n",
       "      <td>-0.09</td>\n",
       "      <td>0.28</td>\n",
       "      <td>-0.04</td>\n",
       "      <td>0.06</td>\n",
       "      <td>0.14</td>\n",
       "      <td>-0.01</td>\n",
       "      <td>0.13</td>\n",
       "      <td>0.01</td>\n",
       "      <td>488,927.05</td>\n",
       "    </tr>\n",
       "    <tr>\n",
       "      <th>2018-03-09</th>\n",
       "      <td>-0.07</td>\n",
       "      <td>5,792,598.00</td>\n",
       "      <td>0.03</td>\n",
       "      <td>-0.13</td>\n",
       "      <td>28.90</td>\n",
       "      <td>0.08</td>\n",
       "      <td>0.07</td>\n",
       "      <td>0.06</td>\n",
       "      <td>-4.29</td>\n",
       "      <td>0.06</td>\n",
       "      <td>0.06</td>\n",
       "      <td>0.21</td>\n",
       "      <td>-0.10</td>\n",
       "      <td>-0.04</td>\n",
       "      <td>0.03</td>\n",
       "      <td>-0.13</td>\n",
       "      <td>-0.00</td>\n",
       "      <td>0.01</td>\n",
       "      <td>483,683.25</td>\n",
       "    </tr>\n",
       "    <tr>\n",
       "      <th>2018-03-10</th>\n",
       "      <td>0.05</td>\n",
       "      <td>5,498,000.00</td>\n",
       "      <td>0.07</td>\n",
       "      <td>-0.03</td>\n",
       "      <td>21.64</td>\n",
       "      <td>0.12</td>\n",
       "      <td>0.10</td>\n",
       "      <td>0.09</td>\n",
       "      <td>-3.75</td>\n",
       "      <td>-0.05</td>\n",
       "      <td>-0.05</td>\n",
       "      <td>0.26</td>\n",
       "      <td>-0.08</td>\n",
       "      <td>0.02</td>\n",
       "      <td>0.07</td>\n",
       "      <td>-0.03</td>\n",
       "      <td>0.02</td>\n",
       "      <td>0.02</td>\n",
       "      <td>516,139.53</td>\n",
       "    </tr>\n",
       "    <tr>\n",
       "      <th>2018-03-11</th>\n",
       "      <td>-0.08</td>\n",
       "      <td>5,929,988.95</td>\n",
       "      <td>0.01</td>\n",
       "      <td>-0.08</td>\n",
       "      <td>9.94</td>\n",
       "      <td>0.04</td>\n",
       "      <td>0.02</td>\n",
       "      <td>0.01</td>\n",
       "      <td>-3.80</td>\n",
       "      <td>0.08</td>\n",
       "      <td>0.08</td>\n",
       "      <td>0.17</td>\n",
       "      <td>-0.15</td>\n",
       "      <td>-0.04</td>\n",
       "      <td>0.01</td>\n",
       "      <td>-0.08</td>\n",
       "      <td>-0.05</td>\n",
       "      <td>0.02</td>\n",
       "      <td>478,378.89</td>\n",
       "    </tr>\n",
       "  </tbody>\n",
       "</table>\n",
       "</div>"
      ],
      "text/plain": [
       "            open        close  high   low  volume  EWMA26  EWMA12  EWMA9  \\\n",
       "datetime                                                                   \n",
       "2018-03-07  0.08 6,000,011.00  0.11 -0.07   76.05    0.06    0.07   0.07   \n",
       "2018-03-08  0.11 5,479,560.00  0.14 -0.01   42.10    0.14    0.13   0.13   \n",
       "2018-03-09 -0.07 5,792,598.00  0.03 -0.13   28.90    0.08    0.07   0.06   \n",
       "2018-03-10  0.05 5,498,000.00  0.07 -0.03   21.64    0.12    0.10   0.09   \n",
       "2018-03-11 -0.08 5,929,988.95  0.01 -0.08    9.94    0.04    0.02   0.01   \n",
       "\n",
       "            MACD  Returns  log_return  Bollinger Upper  Bollinger Lower  \\\n",
       "datetime                                                                  \n",
       "2018-03-07   nan    -0.06       -0.06             0.18            -0.06   \n",
       "2018-03-08 -4.79    -0.09       -0.09             0.28            -0.04   \n",
       "2018-03-09 -4.29     0.06        0.06             0.21            -0.10   \n",
       "2018-03-10 -3.75    -0.05       -0.05             0.26            -0.08   \n",
       "2018-03-11 -3.80     0.08        0.08             0.17            -0.15   \n",
       "\n",
       "            Heiking_Close  Heiking High  Heiking Low  Heiking Open  log_MACD  \\\n",
       "datetime                                                                       \n",
       "2018-03-07           0.03          0.11        -0.07          0.09     -0.00   \n",
       "2018-03-08           0.06          0.14        -0.01          0.13      0.01   \n",
       "2018-03-09          -0.04          0.03        -0.13         -0.00      0.01   \n",
       "2018-03-10           0.02          0.07        -0.03          0.02      0.02   \n",
       "2018-03-11          -0.04          0.01        -0.08         -0.05      0.02   \n",
       "\n",
       "            Variance12  \n",
       "datetime                \n",
       "2018-03-07  371,407.47  \n",
       "2018-03-08  488,927.05  \n",
       "2018-03-09  483,683.25  \n",
       "2018-03-10  516,139.53  \n",
       "2018-03-11  478,378.89  "
      ]
     },
     "execution_count": 19,
     "metadata": {},
     "output_type": "execute_result"
    }
   ],
   "source": [
    "log_divided_close_datasets['btc_clp'].df.tail()"
   ]
  },
  {
   "cell_type": "code",
   "execution_count": 20,
   "metadata": {
    "scrolled": true
   },
   "outputs": [
    {
     "data": {
      "text/html": [
       "<h3>btc_clp</h3>"
      ],
      "text/plain": [
       "<IPython.core.display.HTML object>"
      ]
     },
     "metadata": {},
     "output_type": "display_data"
    },
    {
     "name": "stdout",
     "output_type": "stream",
     "text": [
      "describe_dataset\n"
     ]
    },
    {
     "data": {
      "text/html": [
       "<H1>Range Dates</H1>"
      ],
      "text/plain": [
       "<IPython.core.display.HTML object>"
      ]
     },
     "metadata": {},
     "output_type": "display_data"
    },
    {
     "data": {
      "text/html": [
       "<H3>Min: 2016-10-31</H3>"
      ],
      "text/plain": [
       "<IPython.core.display.HTML object>"
      ]
     },
     "metadata": {},
     "output_type": "display_data"
    },
    {
     "data": {
      "text/html": [
       "<H3>Min: 2018-03-11</H3>"
      ],
      "text/plain": [
       "<IPython.core.display.HTML object>"
      ]
     },
     "metadata": {},
     "output_type": "display_data"
    },
    {
     "data": {
      "text/html": [
       "<H1>Min</H1>"
      ],
      "text/plain": [
       "<IPython.core.display.HTML object>"
      ]
     },
     "metadata": {},
     "output_type": "display_data"
    },
    {
     "name": "stdout",
     "output_type": "stream",
     "text": [
      "open              2016-11-04\n",
      "close             2016-11-12\n",
      "high              2016-11-07\n",
      "low               2016-11-03\n",
      "volume            2016-12-31\n",
      "EWMA26            2016-11-07\n",
      "EWMA12            2016-11-07\n",
      "EWMA9             2016-11-07\n",
      "MACD              2016-11-14\n",
      "Returns           2017-12-21\n",
      "log_return        2017-12-21\n",
      "Bollinger Upper   2016-11-07\n",
      "Bollinger Lower   2016-11-07\n",
      "Heiking_Close     2016-11-04\n",
      "Heiking High      2016-11-07\n",
      "Heiking Low       2016-11-03\n",
      "Heiking Open      2016-11-08\n",
      "log_MACD          2017-12-11\n",
      "Variance12        2016-11-02\n",
      "dtype: datetime64[ns]\n"
     ]
    },
    {
     "data": {
      "text/html": [
       "<H1>Max</H1>"
      ],
      "text/plain": [
       "<IPython.core.display.HTML object>"
      ]
     },
     "metadata": {},
     "output_type": "display_data"
    },
    {
     "name": "stdout",
     "output_type": "stream",
     "text": [
      "open              2017-12-18\n",
      "close             2017-12-17\n",
      "high              2017-12-07\n",
      "low               2017-12-17\n",
      "volume            2017-03-10\n",
      "EWMA26            2017-12-26\n",
      "EWMA12            2017-12-20\n",
      "EWMA9             2017-12-19\n",
      "MACD              2018-02-05\n",
      "Returns           2018-02-06\n",
      "log_return        2018-02-06\n",
      "Bollinger Upper   2017-12-18\n",
      "Bollinger Lower   2018-01-07\n",
      "Heiking_Close     2017-12-17\n",
      "Heiking High      2017-12-07\n",
      "Heiking Low       2017-12-17\n",
      "Heiking Open      2017-12-18\n",
      "log_MACD          2018-02-05\n",
      "Variance12        2017-12-11\n",
      "dtype: datetime64[ns]\n"
     ]
    },
    {
     "data": {
      "text/html": [
       "<table border=\"1\" class=\"dataframe\">\n",
       "  <thead>\n",
       "    <tr style=\"text-align: right;\">\n",
       "      <th></th>\n",
       "      <th>open</th>\n",
       "      <th>close</th>\n",
       "      <th>high</th>\n",
       "      <th>low</th>\n",
       "      <th>volume</th>\n",
       "      <th>EWMA26</th>\n",
       "      <th>EWMA12</th>\n",
       "      <th>EWMA9</th>\n",
       "      <th>MACD</th>\n",
       "      <th>Returns</th>\n",
       "      <th>log_return</th>\n",
       "      <th>Bollinger Upper</th>\n",
       "      <th>Bollinger Lower</th>\n",
       "      <th>Heiking_Close</th>\n",
       "      <th>Heiking High</th>\n",
       "      <th>Heiking Low</th>\n",
       "      <th>Heiking Open</th>\n",
       "      <th>log_MACD</th>\n",
       "      <th>Variance12</th>\n",
       "    </tr>\n",
       "  </thead>\n",
       "  <tbody>\n",
       "    <tr>\n",
       "      <th>count</th>\n",
       "      <td>497.00</td>\n",
       "      <td>497.00</td>\n",
       "      <td>497.00</td>\n",
       "      <td>497.00</td>\n",
       "      <td>497.00</td>\n",
       "      <td>497.00</td>\n",
       "      <td>497.00</td>\n",
       "      <td>497.00</td>\n",
       "      <td>149.00</td>\n",
       "      <td>496.00</td>\n",
       "      <td>496.00</td>\n",
       "      <td>496.00</td>\n",
       "      <td>496.00</td>\n",
       "      <td>497.00</td>\n",
       "      <td>497.00</td>\n",
       "      <td>497.00</td>\n",
       "      <td>496.00</td>\n",
       "      <td>497.00</td>\n",
       "      <td>496.00</td>\n",
       "    </tr>\n",
       "    <tr>\n",
       "      <th>mean</th>\n",
       "      <td>14.45</td>\n",
       "      <td>14.46</td>\n",
       "      <td>14.49</td>\n",
       "      <td>14.41</td>\n",
       "      <td>34.90</td>\n",
       "      <td>14.40</td>\n",
       "      <td>14.43</td>\n",
       "      <td>14.44</td>\n",
       "      <td>-inf</td>\n",
       "      <td>0.01</td>\n",
       "      <td>0.01</td>\n",
       "      <td>14.59</td>\n",
       "      <td>14.25</td>\n",
       "      <td>14.45</td>\n",
       "      <td>14.49</td>\n",
       "      <td>14.41</td>\n",
       "      <td>14.45</td>\n",
       "      <td>-0.03</td>\n",
       "      <td>11.78</td>\n",
       "    </tr>\n",
       "    <tr>\n",
       "      <th>std</th>\n",
       "      <td>0.98</td>\n",
       "      <td>0.99</td>\n",
       "      <td>0.99</td>\n",
       "      <td>0.97</td>\n",
       "      <td>29.00</td>\n",
       "      <td>0.98</td>\n",
       "      <td>0.99</td>\n",
       "      <td>0.99</td>\n",
       "      <td>nan</td>\n",
       "      <td>0.06</td>\n",
       "      <td>0.06</td>\n",
       "      <td>1.04</td>\n",
       "      <td>0.92</td>\n",
       "      <td>0.98</td>\n",
       "      <td>0.99</td>\n",
       "      <td>0.97</td>\n",
       "      <td>0.98</td>\n",
       "      <td>0.06</td>\n",
       "      <td>1.46</td>\n",
       "    </tr>\n",
       "    <tr>\n",
       "      <th>min</th>\n",
       "      <td>13.05</td>\n",
       "      <td>13.05</td>\n",
       "      <td>13.07</td>\n",
       "      <td>13.02</td>\n",
       "      <td>0.00</td>\n",
       "      <td>13.07</td>\n",
       "      <td>13.06</td>\n",
       "      <td>13.06</td>\n",
       "      <td>-inf</td>\n",
       "      <td>-0.25</td>\n",
       "      <td>-0.29</td>\n",
       "      <td>13.10</td>\n",
       "      <td>13.02</td>\n",
       "      <td>13.05</td>\n",
       "      <td>13.07</td>\n",
       "      <td>13.02</td>\n",
       "      <td>13.05</td>\n",
       "      <td>-0.19</td>\n",
       "      <td>8.22</td>\n",
       "    </tr>\n",
       "    <tr>\n",
       "      <th>25%</th>\n",
       "      <td>13.51</td>\n",
       "      <td>13.51</td>\n",
       "      <td>13.56</td>\n",
       "      <td>13.48</td>\n",
       "      <td>15.81</td>\n",
       "      <td>13.51</td>\n",
       "      <td>13.50</td>\n",
       "      <td>13.49</td>\n",
       "      <td>8.69</td>\n",
       "      <td>-0.02</td>\n",
       "      <td>-0.02</td>\n",
       "      <td>13.63</td>\n",
       "      <td>13.35</td>\n",
       "      <td>13.53</td>\n",
       "      <td>13.56</td>\n",
       "      <td>13.48</td>\n",
       "      <td>13.52</td>\n",
       "      <td>-0.07</td>\n",
       "      <td>10.69</td>\n",
       "    </tr>\n",
       "    <tr>\n",
       "      <th>50%</th>\n",
       "      <td>14.40</td>\n",
       "      <td>14.40</td>\n",
       "      <td>14.44</td>\n",
       "      <td>14.36</td>\n",
       "      <td>29.20</td>\n",
       "      <td>14.37</td>\n",
       "      <td>14.37</td>\n",
       "      <td>14.37</td>\n",
       "      <td>10.72</td>\n",
       "      <td>0.00</td>\n",
       "      <td>0.00</td>\n",
       "      <td>14.53</td>\n",
       "      <td>14.25</td>\n",
       "      <td>14.40</td>\n",
       "      <td>14.44</td>\n",
       "      <td>14.36</td>\n",
       "      <td>14.40</td>\n",
       "      <td>-0.02</td>\n",
       "      <td>11.94</td>\n",
       "    </tr>\n",
       "    <tr>\n",
       "      <th>75%</th>\n",
       "      <td>15.33</td>\n",
       "      <td>15.34</td>\n",
       "      <td>15.40</td>\n",
       "      <td>15.27</td>\n",
       "      <td>43.27</td>\n",
       "      <td>15.23</td>\n",
       "      <td>15.32</td>\n",
       "      <td>15.33</td>\n",
       "      <td>12.19</td>\n",
       "      <td>0.03</td>\n",
       "      <td>0.03</td>\n",
       "      <td>15.47</td>\n",
       "      <td>15.02</td>\n",
       "      <td>15.33</td>\n",
       "      <td>15.40</td>\n",
       "      <td>15.27</td>\n",
       "      <td>15.33</td>\n",
       "      <td>0.00</td>\n",
       "      <td>12.82</td>\n",
       "    </tr>\n",
       "    <tr>\n",
       "      <th>max</th>\n",
       "      <td>16.44</td>\n",
       "      <td>16.44</td>\n",
       "      <td>16.47</td>\n",
       "      <td>16.38</td>\n",
       "      <td>233.56</td>\n",
       "      <td>16.16</td>\n",
       "      <td>16.31</td>\n",
       "      <td>16.33</td>\n",
       "      <td>13.90</td>\n",
       "      <td>0.37</td>\n",
       "      <td>0.32</td>\n",
       "      <td>16.60</td>\n",
       "      <td>15.95</td>\n",
       "      <td>16.42</td>\n",
       "      <td>16.47</td>\n",
       "      <td>16.38</td>\n",
       "      <td>16.43</td>\n",
       "      <td>0.17</td>\n",
       "      <td>14.63</td>\n",
       "    </tr>\n",
       "  </tbody>\n",
       "</table>"
      ],
      "text/plain": [
       "<IPython.core.display.HTML object>"
      ]
     },
     "metadata": {},
     "output_type": "display_data"
    },
    {
     "data": {
      "text/html": [
       "<h3>btc_cop</h3>"
      ],
      "text/plain": [
       "<IPython.core.display.HTML object>"
      ]
     },
     "metadata": {},
     "output_type": "display_data"
    },
    {
     "name": "stdout",
     "output_type": "stream",
     "text": [
      "describe_dataset\n"
     ]
    },
    {
     "data": {
      "text/html": [
       "<H1>Range Dates</H1>"
      ],
      "text/plain": [
       "<IPython.core.display.HTML object>"
      ]
     },
     "metadata": {},
     "output_type": "display_data"
    },
    {
     "data": {
      "text/html": [
       "<H3>Min: 2016-10-31</H3>"
      ],
      "text/plain": [
       "<IPython.core.display.HTML object>"
      ]
     },
     "metadata": {},
     "output_type": "display_data"
    },
    {
     "data": {
      "text/html": [
       "<H3>Min: 2018-03-11</H3>"
      ],
      "text/plain": [
       "<IPython.core.display.HTML object>"
      ]
     },
     "metadata": {},
     "output_type": "display_data"
    },
    {
     "data": {
      "text/html": [
       "<H1>Min</H1>"
      ],
      "text/plain": [
       "<IPython.core.display.HTML object>"
      ]
     },
     "metadata": {},
     "output_type": "display_data"
    },
    {
     "name": "stdout",
     "output_type": "stream",
     "text": [
      "open              2016-11-08\n",
      "close             2016-11-08\n",
      "high              2016-11-08\n",
      "low               2017-07-12\n",
      "volume            2016-11-05\n",
      "EWMA26            2016-10-31\n",
      "EWMA12            2016-10-31\n",
      "EWMA9             2016-10-31\n",
      "MACD              2016-11-11\n",
      "Returns           2017-03-18\n",
      "log_return        2017-03-18\n",
      "Bollinger Upper   2016-11-01\n",
      "Bollinger Lower   2016-11-03\n",
      "Heiking_Close     2016-11-08\n",
      "Heiking High      2016-11-08\n",
      "Heiking Low       2017-07-12\n",
      "Heiking Open      2016-11-09\n",
      "log_MACD          2017-12-08\n",
      "Variance12        2016-11-01\n",
      "dtype: datetime64[ns]\n"
     ]
    },
    {
     "data": {
      "text/html": [
       "<H1>Max</H1>"
      ],
      "text/plain": [
       "<IPython.core.display.HTML object>"
      ]
     },
     "metadata": {},
     "output_type": "display_data"
    },
    {
     "name": "stdout",
     "output_type": "stream",
     "text": [
      "open              2017-12-17\n",
      "close             2017-12-16\n",
      "high              2017-05-05\n",
      "low               2017-12-16\n",
      "volume            2017-10-10\n",
      "EWMA26            2018-01-06\n",
      "EWMA12            2017-12-20\n",
      "EWMA9             2017-12-20\n",
      "MACD              2018-02-06\n",
      "Returns           2017-09-15\n",
      "log_return        2017-09-15\n",
      "Bollinger Upper   2017-12-17\n",
      "Bollinger Lower   2018-01-06\n",
      "Heiking_Close     2017-05-05\n",
      "Heiking High      2017-05-05\n",
      "Heiking Low       2017-12-16\n",
      "Heiking Open      2017-12-18\n",
      "log_MACD          2018-02-06\n",
      "Variance12        2017-12-08\n",
      "dtype: datetime64[ns]\n"
     ]
    },
    {
     "data": {
      "text/html": [
       "<table border=\"1\" class=\"dataframe\">\n",
       "  <thead>\n",
       "    <tr style=\"text-align: right;\">\n",
       "      <th></th>\n",
       "      <th>open</th>\n",
       "      <th>close</th>\n",
       "      <th>high</th>\n",
       "      <th>low</th>\n",
       "      <th>volume</th>\n",
       "      <th>EWMA26</th>\n",
       "      <th>EWMA12</th>\n",
       "      <th>EWMA9</th>\n",
       "      <th>MACD</th>\n",
       "      <th>Returns</th>\n",
       "      <th>log_return</th>\n",
       "      <th>Bollinger Upper</th>\n",
       "      <th>Bollinger Lower</th>\n",
       "      <th>Heiking_Close</th>\n",
       "      <th>Heiking High</th>\n",
       "      <th>Heiking Low</th>\n",
       "      <th>Heiking Open</th>\n",
       "      <th>log_MACD</th>\n",
       "      <th>Variance12</th>\n",
       "    </tr>\n",
       "  </thead>\n",
       "  <tbody>\n",
       "    <tr>\n",
       "      <th>count</th>\n",
       "      <td>497.00</td>\n",
       "      <td>497.00</td>\n",
       "      <td>497.00</td>\n",
       "      <td>497.00</td>\n",
       "      <td>497.00</td>\n",
       "      <td>497.00</td>\n",
       "      <td>497.00</td>\n",
       "      <td>497.00</td>\n",
       "      <td>153.00</td>\n",
       "      <td>496.00</td>\n",
       "      <td>496.00</td>\n",
       "      <td>496.00</td>\n",
       "      <td>496.00</td>\n",
       "      <td>497.00</td>\n",
       "      <td>497.00</td>\n",
       "      <td>497.00</td>\n",
       "      <td>496.00</td>\n",
       "      <td>497.00</td>\n",
       "      <td>496.00</td>\n",
       "    </tr>\n",
       "    <tr>\n",
       "      <th>mean</th>\n",
       "      <td>15.90</td>\n",
       "      <td>15.90</td>\n",
       "      <td>15.97</td>\n",
       "      <td>15.84</td>\n",
       "      <td>4.42</td>\n",
       "      <td>15.85</td>\n",
       "      <td>15.88</td>\n",
       "      <td>15.89</td>\n",
       "      <td>-inf</td>\n",
       "      <td>0.01</td>\n",
       "      <td>0.01</td>\n",
       "      <td>16.04</td>\n",
       "      <td>15.68</td>\n",
       "      <td>15.92</td>\n",
       "      <td>15.97</td>\n",
       "      <td>15.84</td>\n",
       "      <td>15.90</td>\n",
       "      <td>-0.03</td>\n",
       "      <td>13.30</td>\n",
       "    </tr>\n",
       "    <tr>\n",
       "      <th>std</th>\n",
       "      <td>0.98</td>\n",
       "      <td>0.98</td>\n",
       "      <td>1.04</td>\n",
       "      <td>1.00</td>\n",
       "      <td>4.66</td>\n",
       "      <td>0.98</td>\n",
       "      <td>0.98</td>\n",
       "      <td>0.98</td>\n",
       "      <td>nan</td>\n",
       "      <td>0.07</td>\n",
       "      <td>0.07</td>\n",
       "      <td>1.02</td>\n",
       "      <td>0.94</td>\n",
       "      <td>1.01</td>\n",
       "      <td>1.04</td>\n",
       "      <td>1.00</td>\n",
       "      <td>0.98</td>\n",
       "      <td>0.06</td>\n",
       "      <td>1.38</td>\n",
       "    </tr>\n",
       "    <tr>\n",
       "      <th>min</th>\n",
       "      <td>14.53</td>\n",
       "      <td>14.52</td>\n",
       "      <td>14.53</td>\n",
       "      <td>10.32</td>\n",
       "      <td>0.00</td>\n",
       "      <td>14.56</td>\n",
       "      <td>14.56</td>\n",
       "      <td>14.56</td>\n",
       "      <td>-inf</td>\n",
       "      <td>-0.26</td>\n",
       "      <td>-0.30</td>\n",
       "      <td>14.56</td>\n",
       "      <td>14.49</td>\n",
       "      <td>14.53</td>\n",
       "      <td>14.53</td>\n",
       "      <td>10.32</td>\n",
       "      <td>14.53</td>\n",
       "      <td>-0.17</td>\n",
       "      <td>5.95</td>\n",
       "    </tr>\n",
       "    <tr>\n",
       "      <th>25%</th>\n",
       "      <td>14.97</td>\n",
       "      <td>14.96</td>\n",
       "      <td>15.03</td>\n",
       "      <td>14.91</td>\n",
       "      <td>0.96</td>\n",
       "      <td>14.97</td>\n",
       "      <td>14.95</td>\n",
       "      <td>14.95</td>\n",
       "      <td>10.78</td>\n",
       "      <td>-0.03</td>\n",
       "      <td>-0.03</td>\n",
       "      <td>15.09</td>\n",
       "      <td>14.79</td>\n",
       "      <td>14.98</td>\n",
       "      <td>15.03</td>\n",
       "      <td>14.91</td>\n",
       "      <td>14.97</td>\n",
       "      <td>-0.07</td>\n",
       "      <td>12.30</td>\n",
       "    </tr>\n",
       "    <tr>\n",
       "      <th>50%</th>\n",
       "      <td>15.83</td>\n",
       "      <td>15.82</td>\n",
       "      <td>15.87</td>\n",
       "      <td>15.76</td>\n",
       "      <td>2.83</td>\n",
       "      <td>15.77</td>\n",
       "      <td>15.81</td>\n",
       "      <td>15.82</td>\n",
       "      <td>12.14</td>\n",
       "      <td>0.00</td>\n",
       "      <td>0.00</td>\n",
       "      <td>16.00</td>\n",
       "      <td>15.64</td>\n",
       "      <td>15.83</td>\n",
       "      <td>15.87</td>\n",
       "      <td>15.76</td>\n",
       "      <td>15.83</td>\n",
       "      <td>-0.02</td>\n",
       "      <td>13.47</td>\n",
       "    </tr>\n",
       "    <tr>\n",
       "      <th>75%</th>\n",
       "      <td>16.76</td>\n",
       "      <td>16.77</td>\n",
       "      <td>16.84</td>\n",
       "      <td>16.71</td>\n",
       "      <td>6.49</td>\n",
       "      <td>16.63</td>\n",
       "      <td>16.74</td>\n",
       "      <td>16.76</td>\n",
       "      <td>13.44</td>\n",
       "      <td>0.04</td>\n",
       "      <td>0.04</td>\n",
       "      <td>16.92</td>\n",
       "      <td>16.44</td>\n",
       "      <td>16.78</td>\n",
       "      <td>16.84</td>\n",
       "      <td>16.71</td>\n",
       "      <td>16.77</td>\n",
       "      <td>0.00</td>\n",
       "      <td>14.23</td>\n",
       "    </tr>\n",
       "    <tr>\n",
       "      <th>max</th>\n",
       "      <td>17.75</td>\n",
       "      <td>17.75</td>\n",
       "      <td>23.03</td>\n",
       "      <td>17.70</td>\n",
       "      <td>31.25</td>\n",
       "      <td>17.58</td>\n",
       "      <td>17.66</td>\n",
       "      <td>17.69</td>\n",
       "      <td>15.31</td>\n",
       "      <td>0.33</td>\n",
       "      <td>0.28</td>\n",
       "      <td>17.90</td>\n",
       "      <td>17.48</td>\n",
       "      <td>21.64</td>\n",
       "      <td>23.03</td>\n",
       "      <td>17.70</td>\n",
       "      <td>17.75</td>\n",
       "      <td>0.16</td>\n",
       "      <td>15.91</td>\n",
       "    </tr>\n",
       "  </tbody>\n",
       "</table>"
      ],
      "text/plain": [
       "<IPython.core.display.HTML object>"
      ]
     },
     "metadata": {},
     "output_type": "display_data"
    },
    {
     "data": {
      "text/html": [
       "<h3>btc_pen</h3>"
      ],
      "text/plain": [
       "<IPython.core.display.HTML object>"
      ]
     },
     "metadata": {},
     "output_type": "display_data"
    },
    {
     "name": "stdout",
     "output_type": "stream",
     "text": [
      "describe_dataset\n"
     ]
    },
    {
     "data": {
      "text/html": [
       "<H1>Range Dates</H1>"
      ],
      "text/plain": [
       "<IPython.core.display.HTML object>"
      ]
     },
     "metadata": {},
     "output_type": "display_data"
    },
    {
     "data": {
      "text/html": [
       "<H3>Min: 2017-08-14</H3>"
      ],
      "text/plain": [
       "<IPython.core.display.HTML object>"
      ]
     },
     "metadata": {},
     "output_type": "display_data"
    },
    {
     "data": {
      "text/html": [
       "<H3>Min: 2018-03-11</H3>"
      ],
      "text/plain": [
       "<IPython.core.display.HTML object>"
      ]
     },
     "metadata": {},
     "output_type": "display_data"
    },
    {
     "data": {
      "text/html": [
       "<H1>Min</H1>"
      ],
      "text/plain": [
       "<IPython.core.display.HTML object>"
      ]
     },
     "metadata": {},
     "output_type": "display_data"
    },
    {
     "name": "stdout",
     "output_type": "stream",
     "text": [
      "open              2017-09-30\n",
      "close             2017-09-29\n",
      "high              2017-09-30\n",
      "low               2017-10-24\n",
      "volume            2017-08-15\n",
      "EWMA26            2017-10-01\n",
      "EWMA12            2017-10-01\n",
      "EWMA9             2017-10-01\n",
      "MACD              2017-08-20\n",
      "Returns           2017-12-07\n",
      "log_return        2017-12-07\n",
      "Bollinger Upper   2017-08-15\n",
      "Bollinger Lower   2017-12-23\n",
      "Heiking_Close     2017-09-30\n",
      "Heiking High      2017-09-30\n",
      "Heiking Low       2017-10-24\n",
      "Heiking Open      2017-10-01\n",
      "log_MACD          2017-12-06\n",
      "Variance12        2017-08-20\n",
      "dtype: datetime64[ns]\n"
     ]
    },
    {
     "data": {
      "text/html": [
       "<H1>Max</H1>"
      ],
      "text/plain": [
       "<IPython.core.display.HTML object>"
      ]
     },
     "metadata": {},
     "output_type": "display_data"
    },
    {
     "name": "stdout",
     "output_type": "stream",
     "text": [
      "open              2017-12-07\n",
      "close             2017-12-06\n",
      "high              2017-12-06\n",
      "low               2017-12-24\n",
      "volume            2018-02-05\n",
      "EWMA26            2017-12-19\n",
      "EWMA12            2017-12-06\n",
      "EWMA9             2017-12-06\n",
      "MACD              2018-02-05\n",
      "Returns           2017-12-06\n",
      "log_return        2017-12-06\n",
      "Bollinger Upper   2017-12-06\n",
      "Bollinger Lower   2018-01-14\n",
      "Heiking_Close     2017-12-07\n",
      "Heiking High      2017-12-06\n",
      "Heiking Low       2017-12-24\n",
      "Heiking Open      2017-12-08\n",
      "log_MACD          2018-02-05\n",
      "Variance12        2017-12-06\n",
      "dtype: datetime64[ns]\n"
     ]
    },
    {
     "data": {
      "text/html": [
       "<table border=\"1\" class=\"dataframe\">\n",
       "  <thead>\n",
       "    <tr style=\"text-align: right;\">\n",
       "      <th></th>\n",
       "      <th>open</th>\n",
       "      <th>close</th>\n",
       "      <th>high</th>\n",
       "      <th>low</th>\n",
       "      <th>volume</th>\n",
       "      <th>EWMA26</th>\n",
       "      <th>EWMA12</th>\n",
       "      <th>EWMA9</th>\n",
       "      <th>MACD</th>\n",
       "      <th>Returns</th>\n",
       "      <th>log_return</th>\n",
       "      <th>Bollinger Upper</th>\n",
       "      <th>Bollinger Lower</th>\n",
       "      <th>Heiking_Close</th>\n",
       "      <th>Heiking High</th>\n",
       "      <th>Heiking Low</th>\n",
       "      <th>Heiking Open</th>\n",
       "      <th>log_MACD</th>\n",
       "      <th>Variance12</th>\n",
       "    </tr>\n",
       "  </thead>\n",
       "  <tbody>\n",
       "    <tr>\n",
       "      <th>count</th>\n",
       "      <td>210.00</td>\n",
       "      <td>210.00</td>\n",
       "      <td>210.00</td>\n",
       "      <td>210.00</td>\n",
       "      <td>210.00</td>\n",
       "      <td>210.00</td>\n",
       "      <td>210.00</td>\n",
       "      <td>210.00</td>\n",
       "      <td>90.00</td>\n",
       "      <td>209.00</td>\n",
       "      <td>209.00</td>\n",
       "      <td>209.00</td>\n",
       "      <td>192.00</td>\n",
       "      <td>210.00</td>\n",
       "      <td>210.00</td>\n",
       "      <td>210.00</td>\n",
       "      <td>209.00</td>\n",
       "      <td>210.00</td>\n",
       "      <td>209.00</td>\n",
       "    </tr>\n",
       "    <tr>\n",
       "      <th>mean</th>\n",
       "      <td>10.15</td>\n",
       "      <td>10.15</td>\n",
       "      <td>10.23</td>\n",
       "      <td>10.01</td>\n",
       "      <td>0.69</td>\n",
       "      <td>10.13</td>\n",
       "      <td>10.15</td>\n",
       "      <td>10.15</td>\n",
       "      <td>-inf</td>\n",
       "      <td>0.04</td>\n",
       "      <td>0.00</td>\n",
       "      <td>10.46</td>\n",
       "      <td>9.69</td>\n",
       "      <td>10.16</td>\n",
       "      <td>10.23</td>\n",
       "      <td>10.01</td>\n",
       "      <td>10.15</td>\n",
       "      <td>-0.02</td>\n",
       "      <td>-inf</td>\n",
       "    </tr>\n",
       "    <tr>\n",
       "      <th>std</th>\n",
       "      <td>0.53</td>\n",
       "      <td>0.54</td>\n",
       "      <td>0.58</td>\n",
       "      <td>0.91</td>\n",
       "      <td>1.14</td>\n",
       "      <td>0.53</td>\n",
       "      <td>0.53</td>\n",
       "      <td>0.53</td>\n",
       "      <td>nan</td>\n",
       "      <td>0.51</td>\n",
       "      <td>0.24</td>\n",
       "      <td>0.70</td>\n",
       "      <td>0.45</td>\n",
       "      <td>0.54</td>\n",
       "      <td>0.58</td>\n",
       "      <td>0.91</td>\n",
       "      <td>0.54</td>\n",
       "      <td>0.08</td>\n",
       "      <td>nan</td>\n",
       "    </tr>\n",
       "    <tr>\n",
       "      <th>min</th>\n",
       "      <td>9.16</td>\n",
       "      <td>9.16</td>\n",
       "      <td>9.16</td>\n",
       "      <td>0.11</td>\n",
       "      <td>0.00</td>\n",
       "      <td>9.44</td>\n",
       "      <td>9.36</td>\n",
       "      <td>9.33</td>\n",
       "      <td>-inf</td>\n",
       "      <td>-0.84</td>\n",
       "      <td>-1.81</td>\n",
       "      <td>9.49</td>\n",
       "      <td>7.97</td>\n",
       "      <td>9.16</td>\n",
       "      <td>9.16</td>\n",
       "      <td>0.11</td>\n",
       "      <td>9.16</td>\n",
       "      <td>-0.41</td>\n",
       "      <td>-inf</td>\n",
       "    </tr>\n",
       "    <tr>\n",
       "      <th>25%</th>\n",
       "      <td>9.62</td>\n",
       "      <td>9.63</td>\n",
       "      <td>9.68</td>\n",
       "      <td>9.58</td>\n",
       "      <td>0.08</td>\n",
       "      <td>9.58</td>\n",
       "      <td>9.60</td>\n",
       "      <td>9.61</td>\n",
       "      <td>5.95</td>\n",
       "      <td>-0.06</td>\n",
       "      <td>-0.06</td>\n",
       "      <td>9.80</td>\n",
       "      <td>9.34</td>\n",
       "      <td>9.62</td>\n",
       "      <td>9.68</td>\n",
       "      <td>9.58</td>\n",
       "      <td>9.62</td>\n",
       "      <td>-0.06</td>\n",
       "      <td>7.59</td>\n",
       "    </tr>\n",
       "    <tr>\n",
       "      <th>50%</th>\n",
       "      <td>10.20</td>\n",
       "      <td>10.21</td>\n",
       "      <td>10.27</td>\n",
       "      <td>10.16</td>\n",
       "      <td>0.37</td>\n",
       "      <td>10.10</td>\n",
       "      <td>10.21</td>\n",
       "      <td>10.23</td>\n",
       "      <td>7.20</td>\n",
       "      <td>0.00</td>\n",
       "      <td>0.00</td>\n",
       "      <td>10.48</td>\n",
       "      <td>9.58</td>\n",
       "      <td>10.22</td>\n",
       "      <td>10.27</td>\n",
       "      <td>10.16</td>\n",
       "      <td>10.20</td>\n",
       "      <td>-0.01</td>\n",
       "      <td>8.16</td>\n",
       "    </tr>\n",
       "    <tr>\n",
       "      <th>75%</th>\n",
       "      <td>10.52</td>\n",
       "      <td>10.52</td>\n",
       "      <td>10.58</td>\n",
       "      <td>10.47</td>\n",
       "      <td>0.81</td>\n",
       "      <td>10.62</td>\n",
       "      <td>10.54</td>\n",
       "      <td>10.53</td>\n",
       "      <td>8.07</td>\n",
       "      <td>0.05</td>\n",
       "      <td>0.05</td>\n",
       "      <td>10.75</td>\n",
       "      <td>10.11</td>\n",
       "      <td>10.52</td>\n",
       "      <td>10.58</td>\n",
       "      <td>10.47</td>\n",
       "      <td>10.52</td>\n",
       "      <td>0.04</td>\n",
       "      <td>8.63</td>\n",
       "    </tr>\n",
       "    <tr>\n",
       "      <th>max</th>\n",
       "      <td>12.61</td>\n",
       "      <td>12.61</td>\n",
       "      <td>12.61</td>\n",
       "      <td>10.99</td>\n",
       "      <td>11.30</td>\n",
       "      <td>10.96</td>\n",
       "      <td>11.23</td>\n",
       "      <td>11.39</td>\n",
       "      <td>8.49</td>\n",
       "      <td>6.94</td>\n",
       "      <td>2.07</td>\n",
       "      <td>12.53</td>\n",
       "      <td>10.45</td>\n",
       "      <td>12.07</td>\n",
       "      <td>12.61</td>\n",
       "      <td>10.99</td>\n",
       "      <td>12.07</td>\n",
       "      <td>0.15</td>\n",
       "      <td>11.51</td>\n",
       "    </tr>\n",
       "  </tbody>\n",
       "</table>"
      ],
      "text/plain": [
       "<IPython.core.display.HTML object>"
      ]
     },
     "metadata": {},
     "output_type": "display_data"
    },
    {
     "data": {
      "text/html": [
       "<h3>eth_btc</h3>"
      ],
      "text/plain": [
       "<IPython.core.display.HTML object>"
      ]
     },
     "metadata": {},
     "output_type": "display_data"
    },
    {
     "name": "stdout",
     "output_type": "stream",
     "text": [
      "describe_dataset\n"
     ]
    },
    {
     "data": {
      "text/html": [
       "<H1>Range Dates</H1>"
      ],
      "text/plain": [
       "<IPython.core.display.HTML object>"
      ]
     },
     "metadata": {},
     "output_type": "display_data"
    },
    {
     "data": {
      "text/html": [
       "<H3>Min: 2017-07-14</H3>"
      ],
      "text/plain": [
       "<IPython.core.display.HTML object>"
      ]
     },
     "metadata": {},
     "output_type": "display_data"
    },
    {
     "data": {
      "text/html": [
       "<H3>Min: 2018-03-10</H3>"
      ],
      "text/plain": [
       "<IPython.core.display.HTML object>"
      ]
     },
     "metadata": {},
     "output_type": "display_data"
    },
    {
     "data": {
      "text/html": [
       "<H1>Min</H1>"
      ],
      "text/plain": [
       "<IPython.core.display.HTML object>"
      ]
     },
     "metadata": {},
     "output_type": "display_data"
    },
    {
     "name": "stdout",
     "output_type": "stream",
     "text": [
      "open              2017-12-07\n",
      "close             2017-11-27\n",
      "high              2017-11-30\n",
      "low               2017-11-06\n",
      "volume            2017-07-23\n",
      "EWMA26            2017-12-11\n",
      "EWMA12            2017-12-11\n",
      "EWMA9             2017-12-11\n",
      "MACD              2017-07-23\n",
      "Returns           2017-11-27\n",
      "log_return        2017-11-27\n",
      "Bollinger Upper   2017-12-11\n",
      "Bollinger Lower   2017-11-30\n",
      "Heiking_Close     2017-12-07\n",
      "Heiking High      2017-11-30\n",
      "Heiking Low       2017-11-06\n",
      "Heiking Open      2017-12-08\n",
      "log_MACD          2018-01-14\n",
      "Variance12        2017-09-23\n",
      "dtype: datetime64[ns]\n"
     ]
    },
    {
     "data": {
      "text/html": [
       "<H1>Max</H1>"
      ],
      "text/plain": [
       "<IPython.core.display.HTML object>"
      ]
     },
     "metadata": {},
     "output_type": "display_data"
    },
    {
     "name": "stdout",
     "output_type": "stream",
     "text": [
      "open              2018-02-01\n",
      "close             2018-01-31\n",
      "high              2017-12-21\n",
      "low               2018-01-31\n",
      "volume            2017-12-07\n",
      "EWMA26            2018-02-11\n",
      "EWMA12            2018-02-04\n",
      "EWMA9             2018-02-01\n",
      "MACD              2017-11-03\n",
      "Returns           2017-11-28\n",
      "log_return        2017-11-28\n",
      "Bollinger Upper   2018-01-31\n",
      "Bollinger Lower   2018-02-11\n",
      "Heiking_Close     2018-02-01\n",
      "Heiking High      2017-12-21\n",
      "Heiking Low       2018-01-31\n",
      "Heiking Open      2018-02-01\n",
      "log_MACD          2017-11-03\n",
      "Variance12        2017-11-27\n",
      "dtype: datetime64[ns]\n"
     ]
    },
    {
     "data": {
      "text/html": [
       "<table border=\"1\" class=\"dataframe\">\n",
       "  <thead>\n",
       "    <tr style=\"text-align: right;\">\n",
       "      <th></th>\n",
       "      <th>open</th>\n",
       "      <th>close</th>\n",
       "      <th>high</th>\n",
       "      <th>low</th>\n",
       "      <th>volume</th>\n",
       "      <th>EWMA26</th>\n",
       "      <th>EWMA12</th>\n",
       "      <th>EWMA9</th>\n",
       "      <th>MACD</th>\n",
       "      <th>Returns</th>\n",
       "      <th>log_return</th>\n",
       "      <th>Bollinger Upper</th>\n",
       "      <th>Bollinger Lower</th>\n",
       "      <th>Heiking_Close</th>\n",
       "      <th>Heiking High</th>\n",
       "      <th>Heiking Low</th>\n",
       "      <th>Heiking Open</th>\n",
       "      <th>log_MACD</th>\n",
       "      <th>Variance12</th>\n",
       "    </tr>\n",
       "  </thead>\n",
       "  <tbody>\n",
       "    <tr>\n",
       "      <th>count</th>\n",
       "      <td>240.00</td>\n",
       "      <td>240.00</td>\n",
       "      <td>240.00</td>\n",
       "      <td>240.00</td>\n",
       "      <td>240.00</td>\n",
       "      <td>240.00</td>\n",
       "      <td>240.00</td>\n",
       "      <td>240.00</td>\n",
       "      <td>149.00</td>\n",
       "      <td>239.00</td>\n",
       "      <td>239.00</td>\n",
       "      <td>239.00</td>\n",
       "      <td>239.00</td>\n",
       "      <td>240.00</td>\n",
       "      <td>240.00</td>\n",
       "      <td>240.00</td>\n",
       "      <td>239.00</td>\n",
       "      <td>240.00</td>\n",
       "      <td>239.00</td>\n",
       "    </tr>\n",
       "    <tr>\n",
       "      <th>mean</th>\n",
       "      <td>-2.72</td>\n",
       "      <td>-2.73</td>\n",
       "      <td>-2.64</td>\n",
       "      <td>-2.81</td>\n",
       "      <td>12.60</td>\n",
       "      <td>-2.72</td>\n",
       "      <td>-2.72</td>\n",
       "      <td>-2.72</td>\n",
       "      <td>-inf</td>\n",
       "      <td>0.03</td>\n",
       "      <td>0.00</td>\n",
       "      <td>-2.51</td>\n",
       "      <td>-3.04</td>\n",
       "      <td>-2.72</td>\n",
       "      <td>-2.64</td>\n",
       "      <td>-2.81</td>\n",
       "      <td>-2.73</td>\n",
       "      <td>0.01</td>\n",
       "      <td>-4.97</td>\n",
       "    </tr>\n",
       "    <tr>\n",
       "      <th>std</th>\n",
       "      <td>0.33</td>\n",
       "      <td>0.37</td>\n",
       "      <td>0.32</td>\n",
       "      <td>0.48</td>\n",
       "      <td>16.69</td>\n",
       "      <td>0.28</td>\n",
       "      <td>0.31</td>\n",
       "      <td>0.32</td>\n",
       "      <td>nan</td>\n",
       "      <td>0.47</td>\n",
       "      <td>0.22</td>\n",
       "      <td>0.24</td>\n",
       "      <td>0.56</td>\n",
       "      <td>0.34</td>\n",
       "      <td>0.32</td>\n",
       "      <td>0.48</td>\n",
       "      <td>0.33</td>\n",
       "      <td>0.07</td>\n",
       "      <td>0.37</td>\n",
       "    </tr>\n",
       "    <tr>\n",
       "      <th>min</th>\n",
       "      <td>-3.87</td>\n",
       "      <td>-5.12</td>\n",
       "      <td>-3.75</td>\n",
       "      <td>-5.63</td>\n",
       "      <td>0.00</td>\n",
       "      <td>-3.33</td>\n",
       "      <td>-3.45</td>\n",
       "      <td>-3.49</td>\n",
       "      <td>-inf</td>\n",
       "      <td>-0.87</td>\n",
       "      <td>-2.06</td>\n",
       "      <td>-3.00</td>\n",
       "      <td>-5.39</td>\n",
       "      <td>-3.77</td>\n",
       "      <td>-3.75</td>\n",
       "      <td>-5.63</td>\n",
       "      <td>-3.79</td>\n",
       "      <td>-0.17</td>\n",
       "      <td>-5.83</td>\n",
       "    </tr>\n",
       "    <tr>\n",
       "      <th>25%</th>\n",
       "      <td>-2.98</td>\n",
       "      <td>-2.98</td>\n",
       "      <td>-2.87</td>\n",
       "      <td>-3.05</td>\n",
       "      <td>1.74</td>\n",
       "      <td>-2.99</td>\n",
       "      <td>-3.01</td>\n",
       "      <td>-3.00</td>\n",
       "      <td>-6.73</td>\n",
       "      <td>-0.04</td>\n",
       "      <td>-0.04</td>\n",
       "      <td>-2.68</td>\n",
       "      <td>-3.37</td>\n",
       "      <td>-3.00</td>\n",
       "      <td>-2.87</td>\n",
       "      <td>-3.05</td>\n",
       "      <td>-2.99</td>\n",
       "      <td>-0.02</td>\n",
       "      <td>-5.21</td>\n",
       "    </tr>\n",
       "    <tr>\n",
       "      <th>50%</th>\n",
       "      <td>-2.63</td>\n",
       "      <td>-2.63</td>\n",
       "      <td>-2.58</td>\n",
       "      <td>-2.66</td>\n",
       "      <td>5.15</td>\n",
       "      <td>-2.60</td>\n",
       "      <td>-2.60</td>\n",
       "      <td>-2.60</td>\n",
       "      <td>-6.06</td>\n",
       "      <td>0.00</td>\n",
       "      <td>0.00</td>\n",
       "      <td>-2.47</td>\n",
       "      <td>-2.75</td>\n",
       "      <td>-2.62</td>\n",
       "      <td>-2.58</td>\n",
       "      <td>-2.66</td>\n",
       "      <td>-2.63</td>\n",
       "      <td>0.01</td>\n",
       "      <td>-5.00</td>\n",
       "    </tr>\n",
       "    <tr>\n",
       "      <th>75%</th>\n",
       "      <td>-2.49</td>\n",
       "      <td>-2.49</td>\n",
       "      <td>-2.43</td>\n",
       "      <td>-2.52</td>\n",
       "      <td>16.97</td>\n",
       "      <td>-2.51</td>\n",
       "      <td>-2.50</td>\n",
       "      <td>-2.50</td>\n",
       "      <td>-5.53</td>\n",
       "      <td>0.04</td>\n",
       "      <td>0.04</td>\n",
       "      <td>-2.34</td>\n",
       "      <td>-2.69</td>\n",
       "      <td>-2.49</td>\n",
       "      <td>-2.43</td>\n",
       "      <td>-2.52</td>\n",
       "      <td>-2.49</td>\n",
       "      <td>0.05</td>\n",
       "      <td>-4.73</td>\n",
       "    </tr>\n",
       "    <tr>\n",
       "      <th>max</th>\n",
       "      <td>-2.14</td>\n",
       "      <td>-2.19</td>\n",
       "      <td>-1.75</td>\n",
       "      <td>-2.20</td>\n",
       "      <td>84.71</td>\n",
       "      <td>-2.34</td>\n",
       "      <td>-2.29</td>\n",
       "      <td>-2.27</td>\n",
       "      <td>-5.00</td>\n",
       "      <td>6.92</td>\n",
       "      <td>2.07</td>\n",
       "      <td>-2.12</td>\n",
       "      <td>-2.41</td>\n",
       "      <td>-2.18</td>\n",
       "      <td>-1.75</td>\n",
       "      <td>-2.20</td>\n",
       "      <td>-2.18</td>\n",
       "      <td>0.14</td>\n",
       "      <td>-4.05</td>\n",
       "    </tr>\n",
       "  </tbody>\n",
       "</table>"
      ],
      "text/plain": [
       "<IPython.core.display.HTML object>"
      ]
     },
     "metadata": {},
     "output_type": "display_data"
    },
    {
     "data": {
      "text/html": [
       "<h3>eth_clp</h3>"
      ],
      "text/plain": [
       "<IPython.core.display.HTML object>"
      ]
     },
     "metadata": {},
     "output_type": "display_data"
    },
    {
     "name": "stdout",
     "output_type": "stream",
     "text": [
      "describe_dataset\n"
     ]
    },
    {
     "data": {
      "text/html": [
       "<H1>Range Dates</H1>"
      ],
      "text/plain": [
       "<IPython.core.display.HTML object>"
      ]
     },
     "metadata": {},
     "output_type": "display_data"
    },
    {
     "data": {
      "text/html": [
       "<H3>Min: 2017-07-03</H3>"
      ],
      "text/plain": [
       "<IPython.core.display.HTML object>"
      ]
     },
     "metadata": {},
     "output_type": "display_data"
    },
    {
     "data": {
      "text/html": [
       "<H3>Min: 2018-03-11</H3>"
      ],
      "text/plain": [
       "<IPython.core.display.HTML object>"
      ]
     },
     "metadata": {},
     "output_type": "display_data"
    },
    {
     "data": {
      "text/html": [
       "<H1>Min</H1>"
      ],
      "text/plain": [
       "<IPython.core.display.HTML object>"
      ]
     },
     "metadata": {},
     "output_type": "display_data"
    },
    {
     "name": "stdout",
     "output_type": "stream",
     "text": [
      "open              2017-07-16\n",
      "close             2017-07-15\n",
      "high              2017-07-16\n",
      "low               2017-07-16\n",
      "volume            2018-02-28\n",
      "EWMA26            2017-07-30\n",
      "EWMA12            2017-07-30\n",
      "EWMA9             2017-07-17\n",
      "MACD              2017-08-04\n",
      "Returns           2017-12-21\n",
      "log_return        2017-12-21\n",
      "Bollinger Upper   2017-07-31\n",
      "Bollinger Lower   2017-07-16\n",
      "Heiking_Close     2017-07-16\n",
      "Heiking High      2017-07-16\n",
      "Heiking Low       2017-07-16\n",
      "Heiking Open      2017-07-17\n",
      "log_MACD          2017-12-20\n",
      "Variance12        2017-11-06\n",
      "dtype: datetime64[ns]\n"
     ]
    },
    {
     "data": {
      "text/html": [
       "<H1>Max</H1>"
      ],
      "text/plain": [
       "<IPython.core.display.HTML object>"
      ]
     },
     "metadata": {},
     "output_type": "display_data"
    },
    {
     "name": "stdout",
     "output_type": "stream",
     "text": [
      "open              2018-01-15\n",
      "close             2018-01-14\n",
      "high              2018-01-10\n",
      "low               2018-01-14\n",
      "volume            2017-12-13\n",
      "EWMA26            2018-01-19\n",
      "EWMA12            2018-01-15\n",
      "EWMA9             2018-01-15\n",
      "MACD              2018-02-05\n",
      "Returns           2018-02-06\n",
      "log_return        2018-02-06\n",
      "Bollinger Upper   2018-01-15\n",
      "Bollinger Lower   2018-01-31\n",
      "Heiking_Close     2018-01-14\n",
      "Heiking High      2018-01-10\n",
      "Heiking Low       2018-01-14\n",
      "Heiking Open      2018-01-16\n",
      "log_MACD          2018-02-08\n",
      "Variance12        2018-01-09\n",
      "dtype: datetime64[ns]\n"
     ]
    },
    {
     "data": {
      "text/html": [
       "<table border=\"1\" class=\"dataframe\">\n",
       "  <thead>\n",
       "    <tr style=\"text-align: right;\">\n",
       "      <th></th>\n",
       "      <th>open</th>\n",
       "      <th>close</th>\n",
       "      <th>high</th>\n",
       "      <th>low</th>\n",
       "      <th>volume</th>\n",
       "      <th>EWMA26</th>\n",
       "      <th>EWMA12</th>\n",
       "      <th>EWMA9</th>\n",
       "      <th>MACD</th>\n",
       "      <th>Returns</th>\n",
       "      <th>log_return</th>\n",
       "      <th>Bollinger Upper</th>\n",
       "      <th>Bollinger Lower</th>\n",
       "      <th>Heiking_Close</th>\n",
       "      <th>Heiking High</th>\n",
       "      <th>Heiking Low</th>\n",
       "      <th>Heiking Open</th>\n",
       "      <th>log_MACD</th>\n",
       "      <th>Variance12</th>\n",
       "    </tr>\n",
       "  </thead>\n",
       "  <tbody>\n",
       "    <tr>\n",
       "      <th>count</th>\n",
       "      <td>252.00</td>\n",
       "      <td>252.00</td>\n",
       "      <td>252.00</td>\n",
       "      <td>252.00</td>\n",
       "      <td>252.00</td>\n",
       "      <td>252.00</td>\n",
       "      <td>252.00</td>\n",
       "      <td>252.00</td>\n",
       "      <td>112.00</td>\n",
       "      <td>251.00</td>\n",
       "      <td>251.00</td>\n",
       "      <td>251.00</td>\n",
       "      <td>251.00</td>\n",
       "      <td>252.00</td>\n",
       "      <td>252.00</td>\n",
       "      <td>252.00</td>\n",
       "      <td>251.00</td>\n",
       "      <td>252.00</td>\n",
       "      <td>251.00</td>\n",
       "    </tr>\n",
       "    <tr>\n",
       "      <th>mean</th>\n",
       "      <td>12.58</td>\n",
       "      <td>12.58</td>\n",
       "      <td>12.64</td>\n",
       "      <td>12.52</td>\n",
       "      <td>183.68</td>\n",
       "      <td>12.54</td>\n",
       "      <td>12.56</td>\n",
       "      <td>12.57</td>\n",
       "      <td>-inf</td>\n",
       "      <td>0.01</td>\n",
       "      <td>0.00</td>\n",
       "      <td>12.75</td>\n",
       "      <td>12.33</td>\n",
       "      <td>12.58</td>\n",
       "      <td>12.64</td>\n",
       "      <td>12.52</td>\n",
       "      <td>12.58</td>\n",
       "      <td>-0.03</td>\n",
       "      <td>10.12</td>\n",
       "    </tr>\n",
       "    <tr>\n",
       "      <th>std</th>\n",
       "      <td>0.55</td>\n",
       "      <td>0.55</td>\n",
       "      <td>0.55</td>\n",
       "      <td>0.54</td>\n",
       "      <td>169.30</td>\n",
       "      <td>0.53</td>\n",
       "      <td>0.54</td>\n",
       "      <td>0.55</td>\n",
       "      <td>nan</td>\n",
       "      <td>0.09</td>\n",
       "      <td>0.09</td>\n",
       "      <td>0.58</td>\n",
       "      <td>0.51</td>\n",
       "      <td>0.55</td>\n",
       "      <td>0.55</td>\n",
       "      <td>0.54</td>\n",
       "      <td>0.55</td>\n",
       "      <td>0.06</td>\n",
       "      <td>0.96</td>\n",
       "    </tr>\n",
       "    <tr>\n",
       "      <th>min</th>\n",
       "      <td>11.52</td>\n",
       "      <td>11.52</td>\n",
       "      <td>11.76</td>\n",
       "      <td>11.52</td>\n",
       "      <td>0.34</td>\n",
       "      <td>11.85</td>\n",
       "      <td>11.82</td>\n",
       "      <td>11.80</td>\n",
       "      <td>-inf</td>\n",
       "      <td>-0.30</td>\n",
       "      <td>-0.35</td>\n",
       "      <td>11.97</td>\n",
       "      <td>11.32</td>\n",
       "      <td>11.62</td>\n",
       "      <td>11.76</td>\n",
       "      <td>11.52</td>\n",
       "      <td>11.59</td>\n",
       "      <td>-0.19</td>\n",
       "      <td>8.26</td>\n",
       "    </tr>\n",
       "    <tr>\n",
       "      <th>25%</th>\n",
       "      <td>12.18</td>\n",
       "      <td>12.18</td>\n",
       "      <td>12.21</td>\n",
       "      <td>12.15</td>\n",
       "      <td>70.19</td>\n",
       "      <td>12.18</td>\n",
       "      <td>12.17</td>\n",
       "      <td>12.18</td>\n",
       "      <td>7.32</td>\n",
       "      <td>-0.03</td>\n",
       "      <td>-0.03</td>\n",
       "      <td>12.26</td>\n",
       "      <td>12.01</td>\n",
       "      <td>12.18</td>\n",
       "      <td>12.21</td>\n",
       "      <td>12.15</td>\n",
       "      <td>12.18</td>\n",
       "      <td>-0.08</td>\n",
       "      <td>9.39</td>\n",
       "    </tr>\n",
       "    <tr>\n",
       "      <th>50%</th>\n",
       "      <td>12.32</td>\n",
       "      <td>12.32</td>\n",
       "      <td>12.35</td>\n",
       "      <td>12.26</td>\n",
       "      <td>135.55</td>\n",
       "      <td>12.25</td>\n",
       "      <td>12.28</td>\n",
       "      <td>12.29</td>\n",
       "      <td>8.47</td>\n",
       "      <td>0.00</td>\n",
       "      <td>0.00</td>\n",
       "      <td>12.44</td>\n",
       "      <td>12.14</td>\n",
       "      <td>12.32</td>\n",
       "      <td>12.35</td>\n",
       "      <td>12.26</td>\n",
       "      <td>12.31</td>\n",
       "      <td>-0.00</td>\n",
       "      <td>10.05</td>\n",
       "    </tr>\n",
       "    <tr>\n",
       "      <th>75%</th>\n",
       "      <td>13.16</td>\n",
       "      <td>13.16</td>\n",
       "      <td>13.21</td>\n",
       "      <td>13.11</td>\n",
       "      <td>231.51</td>\n",
       "      <td>13.15</td>\n",
       "      <td>13.16</td>\n",
       "      <td>13.17</td>\n",
       "      <td>9.76</td>\n",
       "      <td>0.04</td>\n",
       "      <td>0.04</td>\n",
       "      <td>13.36</td>\n",
       "      <td>12.88</td>\n",
       "      <td>13.16</td>\n",
       "      <td>13.21</td>\n",
       "      <td>13.11</td>\n",
       "      <td>13.17</td>\n",
       "      <td>0.02</td>\n",
       "      <td>10.93</td>\n",
       "    </tr>\n",
       "    <tr>\n",
       "      <th>max</th>\n",
       "      <td>13.71</td>\n",
       "      <td>13.71</td>\n",
       "      <td>13.75</td>\n",
       "      <td>13.64</td>\n",
       "      <td>1,043.09</td>\n",
       "      <td>13.43</td>\n",
       "      <td>13.57</td>\n",
       "      <td>13.61</td>\n",
       "      <td>10.70</td>\n",
       "      <td>0.46</td>\n",
       "      <td>0.38</td>\n",
       "      <td>13.85</td>\n",
       "      <td>13.27</td>\n",
       "      <td>13.68</td>\n",
       "      <td>13.75</td>\n",
       "      <td>13.64</td>\n",
       "      <td>13.69</td>\n",
       "      <td>0.07</td>\n",
       "      <td>11.83</td>\n",
       "    </tr>\n",
       "  </tbody>\n",
       "</table>"
      ],
      "text/plain": [
       "<IPython.core.display.HTML object>"
      ]
     },
     "metadata": {},
     "output_type": "display_data"
    },
    {
     "data": {
      "text/html": [
       "<h3>eth_cop</h3>"
      ],
      "text/plain": [
       "<IPython.core.display.HTML object>"
      ]
     },
     "metadata": {},
     "output_type": "display_data"
    },
    {
     "name": "stdout",
     "output_type": "stream",
     "text": [
      "describe_dataset\n"
     ]
    },
    {
     "data": {
      "text/html": [
       "<H1>Range Dates</H1>"
      ],
      "text/plain": [
       "<IPython.core.display.HTML object>"
      ]
     },
     "metadata": {},
     "output_type": "display_data"
    },
    {
     "data": {
      "text/html": [
       "<H3>Min: 2017-08-11</H3>"
      ],
      "text/plain": [
       "<IPython.core.display.HTML object>"
      ]
     },
     "metadata": {},
     "output_type": "display_data"
    },
    {
     "data": {
      "text/html": [
       "<H3>Min: 2018-03-11</H3>"
      ],
      "text/plain": [
       "<IPython.core.display.HTML object>"
      ]
     },
     "metadata": {},
     "output_type": "display_data"
    },
    {
     "data": {
      "text/html": [
       "<H1>Min</H1>"
      ],
      "text/plain": [
       "<IPython.core.display.HTML object>"
      ]
     },
     "metadata": {},
     "output_type": "display_data"
    },
    {
     "name": "stdout",
     "output_type": "stream",
     "text": [
      "open              2017-09-15\n",
      "close             2017-09-25\n",
      "high              2017-09-14\n",
      "low               2017-11-02\n",
      "volume            2017-09-30\n",
      "EWMA26            2017-11-05\n",
      "EWMA12            2017-11-02\n",
      "EWMA9             2017-09-25\n",
      "MACD              2017-10-19\n",
      "Returns           2017-09-25\n",
      "log_return        2017-09-25\n",
      "Bollinger Upper   2017-11-06\n",
      "Bollinger Lower   2017-09-25\n",
      "Heiking_Close     2017-11-02\n",
      "Heiking High      2017-09-14\n",
      "Heiking Low       2017-11-02\n",
      "Heiking Open      2017-09-26\n",
      "log_MACD          2017-12-20\n",
      "Variance12        2017-08-13\n",
      "dtype: datetime64[ns]\n"
     ]
    },
    {
     "data": {
      "text/html": [
       "<H1>Max</H1>"
      ],
      "text/plain": [
       "<IPython.core.display.HTML object>"
      ]
     },
     "metadata": {},
     "output_type": "display_data"
    },
    {
     "name": "stdout",
     "output_type": "stream",
     "text": [
      "open              2018-01-15\n",
      "close             2018-01-13\n",
      "high              2018-01-10\n",
      "low               2018-01-14\n",
      "volume            2018-01-17\n",
      "EWMA26            2018-01-31\n",
      "EWMA12            2018-01-15\n",
      "EWMA9             2018-01-15\n",
      "MACD              2018-02-10\n",
      "Returns           2017-09-26\n",
      "log_return        2017-09-26\n",
      "Bollinger Upper   2018-01-14\n",
      "Bollinger Lower   2018-01-31\n",
      "Heiking_Close     2018-01-10\n",
      "Heiking High      2018-01-10\n",
      "Heiking Low       2018-01-14\n",
      "Heiking Open      2018-01-15\n",
      "log_MACD          2018-02-10\n",
      "Variance12        2018-01-13\n",
      "dtype: datetime64[ns]\n"
     ]
    },
    {
     "data": {
      "text/html": [
       "<table border=\"1\" class=\"dataframe\">\n",
       "  <thead>\n",
       "    <tr style=\"text-align: right;\">\n",
       "      <th></th>\n",
       "      <th>open</th>\n",
       "      <th>close</th>\n",
       "      <th>high</th>\n",
       "      <th>low</th>\n",
       "      <th>volume</th>\n",
       "      <th>EWMA26</th>\n",
       "      <th>EWMA12</th>\n",
       "      <th>EWMA9</th>\n",
       "      <th>MACD</th>\n",
       "      <th>Returns</th>\n",
       "      <th>log_return</th>\n",
       "      <th>Bollinger Upper</th>\n",
       "      <th>Bollinger Lower</th>\n",
       "      <th>Heiking_Close</th>\n",
       "      <th>Heiking High</th>\n",
       "      <th>Heiking Low</th>\n",
       "      <th>Heiking Open</th>\n",
       "      <th>log_MACD</th>\n",
       "      <th>Variance12</th>\n",
       "    </tr>\n",
       "  </thead>\n",
       "  <tbody>\n",
       "    <tr>\n",
       "      <th>count</th>\n",
       "      <td>213.00</td>\n",
       "      <td>213.00</td>\n",
       "      <td>213.00</td>\n",
       "      <td>213.00</td>\n",
       "      <td>213.00</td>\n",
       "      <td>213.00</td>\n",
       "      <td>213.00</td>\n",
       "      <td>213.00</td>\n",
       "      <td>99.00</td>\n",
       "      <td>212.00</td>\n",
       "      <td>212.00</td>\n",
       "      <td>212.00</td>\n",
       "      <td>212.00</td>\n",
       "      <td>213.00</td>\n",
       "      <td>213.00</td>\n",
       "      <td>213.00</td>\n",
       "      <td>212.00</td>\n",
       "      <td>213.00</td>\n",
       "      <td>212.00</td>\n",
       "    </tr>\n",
       "    <tr>\n",
       "      <th>mean</th>\n",
       "      <td>14.17</td>\n",
       "      <td>14.17</td>\n",
       "      <td>14.25</td>\n",
       "      <td>14.06</td>\n",
       "      <td>30.85</td>\n",
       "      <td>14.13</td>\n",
       "      <td>14.15</td>\n",
       "      <td>14.16</td>\n",
       "      <td>-inf</td>\n",
       "      <td>0.01</td>\n",
       "      <td>0.00</td>\n",
       "      <td>14.35</td>\n",
       "      <td>13.90</td>\n",
       "      <td>14.17</td>\n",
       "      <td>14.25</td>\n",
       "      <td>14.06</td>\n",
       "      <td>14.17</td>\n",
       "      <td>-0.02</td>\n",
       "      <td>11.83</td>\n",
       "    </tr>\n",
       "    <tr>\n",
       "      <th>std</th>\n",
       "      <td>0.54</td>\n",
       "      <td>0.55</td>\n",
       "      <td>0.56</td>\n",
       "      <td>0.59</td>\n",
       "      <td>31.15</td>\n",
       "      <td>0.52</td>\n",
       "      <td>0.54</td>\n",
       "      <td>0.54</td>\n",
       "      <td>nan</td>\n",
       "      <td>0.11</td>\n",
       "      <td>0.11</td>\n",
       "      <td>0.58</td>\n",
       "      <td>0.48</td>\n",
       "      <td>0.54</td>\n",
       "      <td>0.56</td>\n",
       "      <td>0.59</td>\n",
       "      <td>0.54</td>\n",
       "      <td>0.07</td>\n",
       "      <td>0.88</td>\n",
       "    </tr>\n",
       "    <tr>\n",
       "      <th>min</th>\n",
       "      <td>13.46</td>\n",
       "      <td>13.14</td>\n",
       "      <td>13.59</td>\n",
       "      <td>11.49</td>\n",
       "      <td>0.01</td>\n",
       "      <td>13.58</td>\n",
       "      <td>13.55</td>\n",
       "      <td>13.54</td>\n",
       "      <td>-inf</td>\n",
       "      <td>-0.36</td>\n",
       "      <td>-0.45</td>\n",
       "      <td>13.67</td>\n",
       "      <td>13.14</td>\n",
       "      <td>13.27</td>\n",
       "      <td>13.59</td>\n",
       "      <td>11.49</td>\n",
       "      <td>13.39</td>\n",
       "      <td>-0.18</td>\n",
       "      <td>10.15</td>\n",
       "    </tr>\n",
       "    <tr>\n",
       "      <th>25%</th>\n",
       "      <td>13.66</td>\n",
       "      <td>13.66</td>\n",
       "      <td>13.72</td>\n",
       "      <td>13.59</td>\n",
       "      <td>9.85</td>\n",
       "      <td>13.66</td>\n",
       "      <td>13.64</td>\n",
       "      <td>13.65</td>\n",
       "      <td>9.44</td>\n",
       "      <td>-0.05</td>\n",
       "      <td>-0.05</td>\n",
       "      <td>13.80</td>\n",
       "      <td>13.48</td>\n",
       "      <td>13.65</td>\n",
       "      <td>13.72</td>\n",
       "      <td>13.59</td>\n",
       "      <td>13.66</td>\n",
       "      <td>-0.08</td>\n",
       "      <td>11.14</td>\n",
       "    </tr>\n",
       "    <tr>\n",
       "      <th>50%</th>\n",
       "      <td>14.00</td>\n",
       "      <td>14.04</td>\n",
       "      <td>14.14</td>\n",
       "      <td>13.91</td>\n",
       "      <td>21.74</td>\n",
       "      <td>13.81</td>\n",
       "      <td>13.91</td>\n",
       "      <td>13.95</td>\n",
       "      <td>10.43</td>\n",
       "      <td>0.00</td>\n",
       "      <td>0.00</td>\n",
       "      <td>14.21</td>\n",
       "      <td>13.67</td>\n",
       "      <td>14.03</td>\n",
       "      <td>14.14</td>\n",
       "      <td>13.91</td>\n",
       "      <td>14.01</td>\n",
       "      <td>-0.00</td>\n",
       "      <td>11.75</td>\n",
       "    </tr>\n",
       "    <tr>\n",
       "      <th>75%</th>\n",
       "      <td>14.66</td>\n",
       "      <td>14.67</td>\n",
       "      <td>14.74</td>\n",
       "      <td>14.59</td>\n",
       "      <td>41.01</td>\n",
       "      <td>14.69</td>\n",
       "      <td>14.68</td>\n",
       "      <td>14.66</td>\n",
       "      <td>11.80</td>\n",
       "      <td>0.05</td>\n",
       "      <td>0.05</td>\n",
       "      <td>14.89</td>\n",
       "      <td>14.42</td>\n",
       "      <td>14.67</td>\n",
       "      <td>14.74</td>\n",
       "      <td>14.59</td>\n",
       "      <td>14.67</td>\n",
       "      <td>0.03</td>\n",
       "      <td>12.65</td>\n",
       "    </tr>\n",
       "    <tr>\n",
       "      <th>max</th>\n",
       "      <td>15.23</td>\n",
       "      <td>15.22</td>\n",
       "      <td>15.61</td>\n",
       "      <td>15.16</td>\n",
       "      <td>184.19</td>\n",
       "      <td>14.97</td>\n",
       "      <td>15.08</td>\n",
       "      <td>15.12</td>\n",
       "      <td>12.26</td>\n",
       "      <td>0.61</td>\n",
       "      <td>0.48</td>\n",
       "      <td>15.38</td>\n",
       "      <td>14.83</td>\n",
       "      <td>15.28</td>\n",
       "      <td>15.61</td>\n",
       "      <td>15.16</td>\n",
       "      <td>15.20</td>\n",
       "      <td>0.08</td>\n",
       "      <td>13.38</td>\n",
       "    </tr>\n",
       "  </tbody>\n",
       "</table>"
      ],
      "text/plain": [
       "<IPython.core.display.HTML object>"
      ]
     },
     "metadata": {},
     "output_type": "display_data"
    },
    {
     "data": {
      "text/html": [
       "<h3>eth_pen</h3>"
      ],
      "text/plain": [
       "<IPython.core.display.HTML object>"
      ]
     },
     "metadata": {},
     "output_type": "display_data"
    },
    {
     "name": "stdout",
     "output_type": "stream",
     "text": [
      "describe_dataset\n"
     ]
    },
    {
     "data": {
      "text/html": [
       "<H1>Range Dates</H1>"
      ],
      "text/plain": [
       "<IPython.core.display.HTML object>"
      ]
     },
     "metadata": {},
     "output_type": "display_data"
    },
    {
     "data": {
      "text/html": [
       "<H3>Min: 2017-08-16</H3>"
      ],
      "text/plain": [
       "<IPython.core.display.HTML object>"
      ]
     },
     "metadata": {},
     "output_type": "display_data"
    },
    {
     "data": {
      "text/html": [
       "<H3>Min: 2018-03-11</H3>"
      ],
      "text/plain": [
       "<IPython.core.display.HTML object>"
      ]
     },
     "metadata": {},
     "output_type": "display_data"
    },
    {
     "data": {
      "text/html": [
       "<H1>Min</H1>"
      ],
      "text/plain": [
       "<IPython.core.display.HTML object>"
      ]
     },
     "metadata": {},
     "output_type": "display_data"
    },
    {
     "name": "stdout",
     "output_type": "stream",
     "text": [
      "open              2017-10-24\n",
      "close             2017-11-06\n",
      "high              2017-09-14\n",
      "low               2017-10-24\n",
      "volume            2017-08-19\n",
      "EWMA26            2017-11-07\n",
      "EWMA12            2017-11-06\n",
      "EWMA9             2017-11-06\n",
      "MACD              2017-10-02\n",
      "Returns           2017-12-16\n",
      "log_return        2017-12-16\n",
      "Bollinger Upper   2017-08-17\n",
      "Bollinger Lower   2017-12-16\n",
      "Heiking_Close     2017-10-24\n",
      "Heiking High      2017-09-14\n",
      "Heiking Low       2017-10-24\n",
      "Heiking Open      2017-10-25\n",
      "log_MACD          2017-12-19\n",
      "Variance12        2017-08-17\n",
      "dtype: datetime64[ns]\n"
     ]
    },
    {
     "data": {
      "text/html": [
       "<H1>Max</H1>"
      ],
      "text/plain": [
       "<IPython.core.display.HTML object>"
      ]
     },
     "metadata": {},
     "output_type": "display_data"
    },
    {
     "name": "stdout",
     "output_type": "stream",
     "text": [
      "open              2017-12-23\n",
      "close             2017-12-15\n",
      "high              2018-01-21\n",
      "low               2017-12-23\n",
      "volume            2018-02-15\n",
      "EWMA26            2018-01-31\n",
      "EWMA12            2018-01-14\n",
      "EWMA9             2018-01-14\n",
      "MACD              2018-02-08\n",
      "Returns           2017-12-23\n",
      "log_return        2017-12-23\n",
      "Bollinger Upper   2017-12-24\n",
      "Bollinger Lower   2018-01-31\n",
      "Heiking_Close     2017-12-23\n",
      "Heiking High      2018-01-21\n",
      "Heiking Low       2017-12-23\n",
      "Heiking Open      2017-12-24\n",
      "log_MACD          2018-03-09\n",
      "Variance12        2017-12-19\n",
      "dtype: datetime64[ns]\n"
     ]
    },
    {
     "data": {
      "text/html": [
       "<table border=\"1\" class=\"dataframe\">\n",
       "  <thead>\n",
       "    <tr style=\"text-align: right;\">\n",
       "      <th></th>\n",
       "      <th>open</th>\n",
       "      <th>close</th>\n",
       "      <th>high</th>\n",
       "      <th>low</th>\n",
       "      <th>volume</th>\n",
       "      <th>EWMA26</th>\n",
       "      <th>EWMA12</th>\n",
       "      <th>EWMA9</th>\n",
       "      <th>MACD</th>\n",
       "      <th>Returns</th>\n",
       "      <th>log_return</th>\n",
       "      <th>Bollinger Upper</th>\n",
       "      <th>Bollinger Lower</th>\n",
       "      <th>Heiking_Close</th>\n",
       "      <th>Heiking High</th>\n",
       "      <th>Heiking Low</th>\n",
       "      <th>Heiking Open</th>\n",
       "      <th>log_MACD</th>\n",
       "      <th>Variance12</th>\n",
       "    </tr>\n",
       "  </thead>\n",
       "  <tbody>\n",
       "    <tr>\n",
       "      <th>count</th>\n",
       "      <td>208.00</td>\n",
       "      <td>208.00</td>\n",
       "      <td>208.00</td>\n",
       "      <td>208.00</td>\n",
       "      <td>208.00</td>\n",
       "      <td>208.00</td>\n",
       "      <td>208.00</td>\n",
       "      <td>208.00</td>\n",
       "      <td>95.00</td>\n",
       "      <td>207.00</td>\n",
       "      <td>207.00</td>\n",
       "      <td>207.00</td>\n",
       "      <td>204.00</td>\n",
       "      <td>208.00</td>\n",
       "      <td>208.00</td>\n",
       "      <td>208.00</td>\n",
       "      <td>207.00</td>\n",
       "      <td>208.00</td>\n",
       "      <td>207.00</td>\n",
       "    </tr>\n",
       "    <tr>\n",
       "      <th>mean</th>\n",
       "      <td>7.43</td>\n",
       "      <td>7.45</td>\n",
       "      <td>7.52</td>\n",
       "      <td>7.36</td>\n",
       "      <td>3.08</td>\n",
       "      <td>7.42</td>\n",
       "      <td>7.44</td>\n",
       "      <td>7.45</td>\n",
       "      <td>-inf</td>\n",
       "      <td>0.03</td>\n",
       "      <td>0.00</td>\n",
       "      <td>7.72</td>\n",
       "      <td>6.93</td>\n",
       "      <td>7.45</td>\n",
       "      <td>7.52</td>\n",
       "      <td>7.36</td>\n",
       "      <td>7.44</td>\n",
       "      <td>-0.03</td>\n",
       "      <td>5.43</td>\n",
       "    </tr>\n",
       "    <tr>\n",
       "      <th>std</th>\n",
       "      <td>0.55</td>\n",
       "      <td>0.54</td>\n",
       "      <td>0.59</td>\n",
       "      <td>0.73</td>\n",
       "      <td>5.00</td>\n",
       "      <td>0.50</td>\n",
       "      <td>0.52</td>\n",
       "      <td>0.52</td>\n",
       "      <td>nan</td>\n",
       "      <td>0.25</td>\n",
       "      <td>0.22</td>\n",
       "      <td>0.59</td>\n",
       "      <td>0.71</td>\n",
       "      <td>0.55</td>\n",
       "      <td>0.59</td>\n",
       "      <td>0.73</td>\n",
       "      <td>0.54</td>\n",
       "      <td>0.06</td>\n",
       "      <td>1.06</td>\n",
       "    </tr>\n",
       "    <tr>\n",
       "      <th>min</th>\n",
       "      <td>5.70</td>\n",
       "      <td>6.48</td>\n",
       "      <td>6.72</td>\n",
       "      <td>0.01</td>\n",
       "      <td>0.00</td>\n",
       "      <td>6.88</td>\n",
       "      <td>6.82</td>\n",
       "      <td>6.80</td>\n",
       "      <td>-inf</td>\n",
       "      <td>-0.57</td>\n",
       "      <td>-0.84</td>\n",
       "      <td>6.91</td>\n",
       "      <td>3.23</td>\n",
       "      <td>6.49</td>\n",
       "      <td>6.72</td>\n",
       "      <td>0.01</td>\n",
       "      <td>6.60</td>\n",
       "      <td>-0.25</td>\n",
       "      <td>-0.23</td>\n",
       "    </tr>\n",
       "    <tr>\n",
       "      <th>25%</th>\n",
       "      <td>6.94</td>\n",
       "      <td>6.95</td>\n",
       "      <td>6.96</td>\n",
       "      <td>6.93</td>\n",
       "      <td>0.10</td>\n",
       "      <td>6.95</td>\n",
       "      <td>6.94</td>\n",
       "      <td>6.94</td>\n",
       "      <td>2.56</td>\n",
       "      <td>-0.05</td>\n",
       "      <td>-0.05</td>\n",
       "      <td>7.16</td>\n",
       "      <td>6.60</td>\n",
       "      <td>6.95</td>\n",
       "      <td>6.96</td>\n",
       "      <td>6.93</td>\n",
       "      <td>6.95</td>\n",
       "      <td>-0.05</td>\n",
       "      <td>4.84</td>\n",
       "    </tr>\n",
       "    <tr>\n",
       "      <th>50%</th>\n",
       "      <td>7.29</td>\n",
       "      <td>7.28</td>\n",
       "      <td>7.36</td>\n",
       "      <td>7.18</td>\n",
       "      <td>0.93</td>\n",
       "      <td>7.18</td>\n",
       "      <td>7.27</td>\n",
       "      <td>7.27</td>\n",
       "      <td>3.38</td>\n",
       "      <td>0.00</td>\n",
       "      <td>0.00</td>\n",
       "      <td>7.68</td>\n",
       "      <td>6.81</td>\n",
       "      <td>7.27</td>\n",
       "      <td>7.36</td>\n",
       "      <td>7.18</td>\n",
       "      <td>7.28</td>\n",
       "      <td>-0.00</td>\n",
       "      <td>5.60</td>\n",
       "    </tr>\n",
       "    <tr>\n",
       "      <th>75%</th>\n",
       "      <td>7.93</td>\n",
       "      <td>7.96</td>\n",
       "      <td>8.04</td>\n",
       "      <td>7.91</td>\n",
       "      <td>3.98</td>\n",
       "      <td>8.00</td>\n",
       "      <td>8.00</td>\n",
       "      <td>7.99</td>\n",
       "      <td>4.00</td>\n",
       "      <td>0.06</td>\n",
       "      <td>0.06</td>\n",
       "      <td>8.32</td>\n",
       "      <td>7.60</td>\n",
       "      <td>7.97</td>\n",
       "      <td>8.04</td>\n",
       "      <td>7.91</td>\n",
       "      <td>7.96</td>\n",
       "      <td>0.02</td>\n",
       "      <td>6.08</td>\n",
       "    </tr>\n",
       "    <tr>\n",
       "      <th>max</th>\n",
       "      <td>8.52</td>\n",
       "      <td>8.52</td>\n",
       "      <td>8.99</td>\n",
       "      <td>8.52</td>\n",
       "      <td>37.77</td>\n",
       "      <td>8.15</td>\n",
       "      <td>8.24</td>\n",
       "      <td>8.27</td>\n",
       "      <td>5.20</td>\n",
       "      <td>1.75</td>\n",
       "      <td>1.01</td>\n",
       "      <td>8.77</td>\n",
       "      <td>7.99</td>\n",
       "      <td>8.52</td>\n",
       "      <td>8.99</td>\n",
       "      <td>8.52</td>\n",
       "      <td>8.52</td>\n",
       "      <td>0.06</td>\n",
       "      <td>7.35</td>\n",
       "    </tr>\n",
       "  </tbody>\n",
       "</table>"
      ],
      "text/plain": [
       "<IPython.core.display.HTML object>"
      ]
     },
     "metadata": {},
     "output_type": "display_data"
    },
    {
     "data": {
      "text/html": [
       "<h3>btc_brl</h3>"
      ],
      "text/plain": [
       "<IPython.core.display.HTML object>"
      ]
     },
     "metadata": {},
     "output_type": "display_data"
    },
    {
     "name": "stdout",
     "output_type": "stream",
     "text": [
      "describe_dataset\n"
     ]
    },
    {
     "data": {
      "text/html": [
       "<H1>Range Dates</H1>"
      ],
      "text/plain": [
       "<IPython.core.display.HTML object>"
      ]
     },
     "metadata": {},
     "output_type": "display_data"
    },
    {
     "data": {
      "text/html": [
       "<H3>Min: 2013-06-12</H3>"
      ],
      "text/plain": [
       "<IPython.core.display.HTML object>"
      ]
     },
     "metadata": {},
     "output_type": "display_data"
    },
    {
     "data": {
      "text/html": [
       "<H3>Min: 2018-03-12</H3>"
      ],
      "text/plain": [
       "<IPython.core.display.HTML object>"
      ]
     },
     "metadata": {},
     "output_type": "display_data"
    },
    {
     "data": {
      "text/html": [
       "<H1>Min</H1>"
      ],
      "text/plain": [
       "<IPython.core.display.HTML object>"
      ]
     },
     "metadata": {},
     "output_type": "display_data"
    },
    {
     "name": "stdout",
     "output_type": "stream",
     "text": [
      "low               2013-07-04\n",
      "volume            2013-08-18\n",
      "amount            2013-08-18\n",
      "avg_price         2013-07-09\n",
      "open              2013-07-04\n",
      "close             2013-07-03\n",
      "high              2013-07-10\n",
      "quantity          2013-08-18\n",
      "EWMA26            2013-07-28\n",
      "EWMA12            2013-07-11\n",
      "EWMA9             2013-07-10\n",
      "MACD              2015-06-04\n",
      "Returns           2013-09-06\n",
      "log_return        2013-09-06\n",
      "Bollinger Upper   2013-07-28\n",
      "Bollinger Lower   2013-07-09\n",
      "Heiking_Close     2013-07-07\n",
      "Heiking High      2013-07-10\n",
      "Heiking Low       2013-07-04\n",
      "Heiking Open      2013-07-08\n",
      "log_MACD          2013-11-29\n",
      "Variance12        2013-06-13\n",
      "dtype: datetime64[ns]\n"
     ]
    },
    {
     "data": {
      "text/html": [
       "<H1>Max</H1>"
      ],
      "text/plain": [
       "<IPython.core.display.HTML object>"
      ]
     },
     "metadata": {},
     "output_type": "display_data"
    },
    {
     "name": "stdout",
     "output_type": "stream",
     "text": [
      "low               2017-12-18\n",
      "volume            2017-12-07\n",
      "amount            2017-12-07\n",
      "avg_price         2017-12-18\n",
      "open              2017-12-19\n",
      "close             2017-12-18\n",
      "high              2017-12-17\n",
      "quantity          2017-11-29\n",
      "EWMA26            2018-01-08\n",
      "EWMA12            2017-12-20\n",
      "EWMA9             2017-12-20\n",
      "MACD              2018-02-06\n",
      "Returns           2013-11-18\n",
      "log_return        2013-11-18\n",
      "Bollinger Upper   2017-12-18\n",
      "Bollinger Lower   2018-01-08\n",
      "Heiking_Close     2017-12-18\n",
      "Heiking High      2017-12-17\n",
      "Heiking Low       2017-12-18\n",
      "Heiking Open      2017-12-19\n",
      "log_MACD          2018-02-06\n",
      "Variance12        2017-12-18\n",
      "dtype: datetime64[ns]\n"
     ]
    },
    {
     "data": {
      "text/html": [
       "<table border=\"1\" class=\"dataframe\">\n",
       "  <thead>\n",
       "    <tr style=\"text-align: right;\">\n",
       "      <th></th>\n",
       "      <th>low</th>\n",
       "      <th>volume</th>\n",
       "      <th>amount</th>\n",
       "      <th>avg_price</th>\n",
       "      <th>open</th>\n",
       "      <th>close</th>\n",
       "      <th>high</th>\n",
       "      <th>quantity</th>\n",
       "      <th>EWMA26</th>\n",
       "      <th>EWMA12</th>\n",
       "      <th>EWMA9</th>\n",
       "      <th>MACD</th>\n",
       "      <th>Returns</th>\n",
       "      <th>log_return</th>\n",
       "      <th>Bollinger Upper</th>\n",
       "      <th>Bollinger Lower</th>\n",
       "      <th>Heiking_Close</th>\n",
       "      <th>Heiking High</th>\n",
       "      <th>Heiking Low</th>\n",
       "      <th>Heiking Open</th>\n",
       "      <th>log_MACD</th>\n",
       "      <th>Variance12</th>\n",
       "    </tr>\n",
       "  </thead>\n",
       "  <tbody>\n",
       "    <tr>\n",
       "      <th>count</th>\n",
       "      <td>1,681.00</td>\n",
       "      <td>1,681.00</td>\n",
       "      <td>1,681.00</td>\n",
       "      <td>1,681.00</td>\n",
       "      <td>1,681.00</td>\n",
       "      <td>1,681.00</td>\n",
       "      <td>1,681.00</td>\n",
       "      <td>1,681.00</td>\n",
       "      <td>1,681.00</td>\n",
       "      <td>1,681.00</td>\n",
       "      <td>1,681.00</td>\n",
       "      <td>684.00</td>\n",
       "      <td>1,680.00</td>\n",
       "      <td>1,680.00</td>\n",
       "      <td>1,680.00</td>\n",
       "      <td>1,680.00</td>\n",
       "      <td>1,681.00</td>\n",
       "      <td>1,681.00</td>\n",
       "      <td>1,681.00</td>\n",
       "      <td>1,680.00</td>\n",
       "      <td>1,681.00</td>\n",
       "      <td>1,680.00</td>\n",
       "    </tr>\n",
       "    <tr>\n",
       "      <th>mean</th>\n",
       "      <td>-inf</td>\n",
       "      <td>2,147,448.68</td>\n",
       "      <td>5.95</td>\n",
       "      <td>7.62</td>\n",
       "      <td>7.62</td>\n",
       "      <td>7.62</td>\n",
       "      <td>7.65</td>\n",
       "      <td>4.56</td>\n",
       "      <td>7.59</td>\n",
       "      <td>7.61</td>\n",
       "      <td>7.61</td>\n",
       "      <td>-inf</td>\n",
       "      <td>0.00</td>\n",
       "      <td>0.00</td>\n",
       "      <td>7.73</td>\n",
       "      <td>7.46</td>\n",
       "      <td>7.62</td>\n",
       "      <td>7.65</td>\n",
       "      <td>-inf</td>\n",
       "      <td>7.62</td>\n",
       "      <td>-0.01</td>\n",
       "      <td>4.65</td>\n",
       "    </tr>\n",
       "    <tr>\n",
       "      <th>std</th>\n",
       "      <td>nan</td>\n",
       "      <td>7,653,198.97</td>\n",
       "      <td>1.50</td>\n",
       "      <td>1.24</td>\n",
       "      <td>1.24</td>\n",
       "      <td>1.24</td>\n",
       "      <td>1.24</td>\n",
       "      <td>1.05</td>\n",
       "      <td>1.22</td>\n",
       "      <td>1.23</td>\n",
       "      <td>1.23</td>\n",
       "      <td>nan</td>\n",
       "      <td>0.05</td>\n",
       "      <td>0.05</td>\n",
       "      <td>1.26</td>\n",
       "      <td>1.20</td>\n",
       "      <td>1.24</td>\n",
       "      <td>1.24</td>\n",
       "      <td>nan</td>\n",
       "      <td>1.24</td>\n",
       "      <td>0.06</td>\n",
       "      <td>1.61</td>\n",
       "    </tr>\n",
       "    <tr>\n",
       "      <th>min</th>\n",
       "      <td>-inf</td>\n",
       "      <td>24.55</td>\n",
       "      <td>0.69</td>\n",
       "      <td>5.30</td>\n",
       "      <td>5.26</td>\n",
       "      <td>5.25</td>\n",
       "      <td>5.34</td>\n",
       "      <td>-2.30</td>\n",
       "      <td>5.41</td>\n",
       "      <td>5.37</td>\n",
       "      <td>5.35</td>\n",
       "      <td>-inf</td>\n",
       "      <td>-0.24</td>\n",
       "      <td>-0.28</td>\n",
       "      <td>5.46</td>\n",
       "      <td>5.09</td>\n",
       "      <td>5.30</td>\n",
       "      <td>5.34</td>\n",
       "      <td>-inf</td>\n",
       "      <td>5.29</td>\n",
       "      <td>-0.29</td>\n",
       "      <td>1.04</td>\n",
       "    </tr>\n",
       "    <tr>\n",
       "      <th>25%</th>\n",
       "      <td>6.84</td>\n",
       "      <td>59,930.05</td>\n",
       "      <td>5.08</td>\n",
       "      <td>6.87</td>\n",
       "      <td>6.87</td>\n",
       "      <td>6.87</td>\n",
       "      <td>6.89</td>\n",
       "      <td>3.96</td>\n",
       "      <td>6.86</td>\n",
       "      <td>6.85</td>\n",
       "      <td>6.85</td>\n",
       "      <td>2.62</td>\n",
       "      <td>-0.01</td>\n",
       "      <td>-0.01</td>\n",
       "      <td>6.94</td>\n",
       "      <td>6.75</td>\n",
       "      <td>6.87</td>\n",
       "      <td>6.89</td>\n",
       "      <td>6.84</td>\n",
       "      <td>6.87</td>\n",
       "      <td>-0.03</td>\n",
       "      <td>3.56</td>\n",
       "    </tr>\n",
       "    <tr>\n",
       "      <th>50%</th>\n",
       "      <td>7.40</td>\n",
       "      <td>131,661.52</td>\n",
       "      <td>5.72</td>\n",
       "      <td>7.43</td>\n",
       "      <td>7.44</td>\n",
       "      <td>7.43</td>\n",
       "      <td>7.46</td>\n",
       "      <td>4.63</td>\n",
       "      <td>7.44</td>\n",
       "      <td>7.43</td>\n",
       "      <td>7.43</td>\n",
       "      <td>3.34</td>\n",
       "      <td>0.00</td>\n",
       "      <td>0.00</td>\n",
       "      <td>7.50</td>\n",
       "      <td>7.27</td>\n",
       "      <td>7.43</td>\n",
       "      <td>7.46</td>\n",
       "      <td>7.40</td>\n",
       "      <td>7.43</td>\n",
       "      <td>-0.01</td>\n",
       "      <td>4.26</td>\n",
       "    </tr>\n",
       "    <tr>\n",
       "      <th>75%</th>\n",
       "      <td>7.97</td>\n",
       "      <td>487,363.80</td>\n",
       "      <td>6.73</td>\n",
       "      <td>7.99</td>\n",
       "      <td>7.99</td>\n",
       "      <td>7.99</td>\n",
       "      <td>8.02</td>\n",
       "      <td>5.20</td>\n",
       "      <td>8.01</td>\n",
       "      <td>7.99</td>\n",
       "      <td>7.99</td>\n",
       "      <td>4.15</td>\n",
       "      <td>0.02</td>\n",
       "      <td>0.02</td>\n",
       "      <td>8.10</td>\n",
       "      <td>7.86</td>\n",
       "      <td>7.99</td>\n",
       "      <td>8.02</td>\n",
       "      <td>7.97</td>\n",
       "      <td>7.99</td>\n",
       "      <td>0.02</td>\n",
       "      <td>5.34</td>\n",
       "    </tr>\n",
       "    <tr>\n",
       "      <th>max</th>\n",
       "      <td>11.12</td>\n",
       "      <td>108,023,418.47</td>\n",
       "      <td>10.41</td>\n",
       "      <td>11.14</td>\n",
       "      <td>11.14</td>\n",
       "      <td>11.14</td>\n",
       "      <td>11.16</td>\n",
       "      <td>7.87</td>\n",
       "      <td>10.86</td>\n",
       "      <td>11.00</td>\n",
       "      <td>11.03</td>\n",
       "      <td>8.59</td>\n",
       "      <td>0.41</td>\n",
       "      <td>0.35</td>\n",
       "      <td>11.29</td>\n",
       "      <td>10.74</td>\n",
       "      <td>11.14</td>\n",
       "      <td>11.16</td>\n",
       "      <td>11.12</td>\n",
       "      <td>11.13</td>\n",
       "      <td>0.17</td>\n",
       "      <td>9.26</td>\n",
       "    </tr>\n",
       "  </tbody>\n",
       "</table>"
      ],
      "text/plain": [
       "<IPython.core.display.HTML object>"
      ]
     },
     "metadata": {},
     "output_type": "display_data"
    }
   ],
   "source": [
    "all_datasets(describe_dataset,log_datasets)"
   ]
  },
  {
   "cell_type": "code",
   "execution_count": 21,
   "metadata": {
    "scrolled": true
   },
   "outputs": [
    {
     "data": {
      "text/html": [
       "<h3>btc_clp</h3>"
      ],
      "text/plain": [
       "<IPython.core.display.HTML object>"
      ]
     },
     "metadata": {},
     "output_type": "display_data"
    },
    {
     "name": "stdout",
     "output_type": "stream",
     "text": [
      "describe_dataset\n"
     ]
    },
    {
     "data": {
      "text/html": [
       "<H1>Range Dates</H1>"
      ],
      "text/plain": [
       "<IPython.core.display.HTML object>"
      ]
     },
     "metadata": {},
     "output_type": "display_data"
    },
    {
     "data": {
      "text/html": [
       "<H3>Min: 2016-10-31</H3>"
      ],
      "text/plain": [
       "<IPython.core.display.HTML object>"
      ]
     },
     "metadata": {},
     "output_type": "display_data"
    },
    {
     "data": {
      "text/html": [
       "<H3>Min: 2018-03-11</H3>"
      ],
      "text/plain": [
       "<IPython.core.display.HTML object>"
      ]
     },
     "metadata": {},
     "output_type": "display_data"
    },
    {
     "data": {
      "text/html": [
       "<H1>Min</H1>"
      ],
      "text/plain": [
       "<IPython.core.display.HTML object>"
      ]
     },
     "metadata": {},
     "output_type": "display_data"
    },
    {
     "name": "stdout",
     "output_type": "stream",
     "text": [
      "open              2018-02-06\n",
      "close             2016-11-12\n",
      "high              2016-10-31\n",
      "low               2017-12-22\n",
      "volume            2016-12-31\n",
      "EWMA26            2017-12-06\n",
      "EWMA12            2017-12-06\n",
      "EWMA9             2017-12-06\n",
      "MACD              2016-11-14\n",
      "Returns           2017-12-21\n",
      "log_return        2017-12-21\n",
      "Bollinger Upper   2016-12-21\n",
      "Bollinger Lower   2017-12-07\n",
      "Heiking_Close     2018-02-06\n",
      "Heiking High      2016-10-31\n",
      "Heiking Low       2017-12-22\n",
      "Heiking Open      2017-12-06\n",
      "log_MACD          2017-12-11\n",
      "Variance12        2016-11-02\n",
      "dtype: datetime64[ns]\n"
     ]
    },
    {
     "data": {
      "text/html": [
       "<H1>Max</H1>"
      ],
      "text/plain": [
       "<IPython.core.display.HTML object>"
      ]
     },
     "metadata": {},
     "output_type": "display_data"
    },
    {
     "name": "stdout",
     "output_type": "stream",
     "text": [
      "open              2017-06-14\n",
      "close             2017-12-17\n",
      "high              2017-05-03\n",
      "low               2016-11-09\n",
      "volume            2017-03-10\n",
      "EWMA26            2018-02-05\n",
      "EWMA12            2018-02-05\n",
      "EWMA9             2018-02-05\n",
      "MACD              2018-02-05\n",
      "Returns           2018-02-06\n",
      "log_return        2018-02-06\n",
      "Bollinger Upper   2018-02-05\n",
      "Bollinger Lower   2017-07-14\n",
      "Heiking_Close     2017-06-14\n",
      "Heiking High      2017-05-03\n",
      "Heiking Low       2016-11-09\n",
      "Heiking Open      2017-12-21\n",
      "log_MACD          2018-02-05\n",
      "Variance12        2017-12-11\n",
      "dtype: datetime64[ns]\n"
     ]
    },
    {
     "data": {
      "text/html": [
       "<table border=\"1\" class=\"dataframe\">\n",
       "  <thead>\n",
       "    <tr style=\"text-align: right;\">\n",
       "      <th></th>\n",
       "      <th>open</th>\n",
       "      <th>close</th>\n",
       "      <th>high</th>\n",
       "      <th>low</th>\n",
       "      <th>volume</th>\n",
       "      <th>EWMA26</th>\n",
       "      <th>EWMA12</th>\n",
       "      <th>EWMA9</th>\n",
       "      <th>MACD</th>\n",
       "      <th>Returns</th>\n",
       "      <th>log_return</th>\n",
       "      <th>Bollinger Upper</th>\n",
       "      <th>Bollinger Lower</th>\n",
       "      <th>Heiking_Close</th>\n",
       "      <th>Heiking High</th>\n",
       "      <th>Heiking Low</th>\n",
       "      <th>Heiking Open</th>\n",
       "      <th>log_MACD</th>\n",
       "      <th>Variance12</th>\n",
       "    </tr>\n",
       "  </thead>\n",
       "  <tbody>\n",
       "    <tr>\n",
       "      <th>count</th>\n",
       "      <td>497.00</td>\n",
       "      <td>497.00</td>\n",
       "      <td>497.00</td>\n",
       "      <td>497.00</td>\n",
       "      <td>497.00</td>\n",
       "      <td>497.00</td>\n",
       "      <td>497.00</td>\n",
       "      <td>497.00</td>\n",
       "      <td>149.00</td>\n",
       "      <td>496.00</td>\n",
       "      <td>496.00</td>\n",
       "      <td>496.00</td>\n",
       "      <td>496.00</td>\n",
       "      <td>497.00</td>\n",
       "      <td>497.00</td>\n",
       "      <td>497.00</td>\n",
       "      <td>496.00</td>\n",
       "      <td>497.00</td>\n",
       "      <td>496.00</td>\n",
       "    </tr>\n",
       "    <tr>\n",
       "      <th>mean</th>\n",
       "      <td>-0.00</td>\n",
       "      <td>3,042,093.59</td>\n",
       "      <td>0.04</td>\n",
       "      <td>-0.05</td>\n",
       "      <td>34.90</td>\n",
       "      <td>-0.05</td>\n",
       "      <td>-0.02</td>\n",
       "      <td>-0.02</td>\n",
       "      <td>-inf</td>\n",
       "      <td>0.01</td>\n",
       "      <td>0.01</td>\n",
       "      <td>0.13</td>\n",
       "      <td>-0.21</td>\n",
       "      <td>-0.00</td>\n",
       "      <td>0.04</td>\n",
       "      <td>-0.05</td>\n",
       "      <td>-0.01</td>\n",
       "      <td>-0.03</td>\n",
       "      <td>328,148.34</td>\n",
       "    </tr>\n",
       "    <tr>\n",
       "      <th>std</th>\n",
       "      <td>0.06</td>\n",
       "      <td>3,020,119.25</td>\n",
       "      <td>0.05</td>\n",
       "      <td>0.06</td>\n",
       "      <td>29.00</td>\n",
       "      <td>0.13</td>\n",
       "      <td>0.08</td>\n",
       "      <td>0.07</td>\n",
       "      <td>nan</td>\n",
       "      <td>0.06</td>\n",
       "      <td>0.06</td>\n",
       "      <td>0.10</td>\n",
       "      <td>0.16</td>\n",
       "      <td>0.03</td>\n",
       "      <td>0.05</td>\n",
       "      <td>0.06</td>\n",
       "      <td>0.06</td>\n",
       "      <td>0.06</td>\n",
       "      <td>464,647.70</td>\n",
       "    </tr>\n",
       "    <tr>\n",
       "      <th>min</th>\n",
       "      <td>-0.34</td>\n",
       "      <td>463,059.45</td>\n",
       "      <td>0.00</td>\n",
       "      <td>-0.58</td>\n",
       "      <td>0.00</td>\n",
       "      <td>-0.49</td>\n",
       "      <td>-0.33</td>\n",
       "      <td>-0.28</td>\n",
       "      <td>-inf</td>\n",
       "      <td>-0.25</td>\n",
       "      <td>-0.29</td>\n",
       "      <td>0.00</td>\n",
       "      <td>-0.99</td>\n",
       "      <td>-0.15</td>\n",
       "      <td>0.00</td>\n",
       "      <td>-0.58</td>\n",
       "      <td>-0.25</td>\n",
       "      <td>-0.19</td>\n",
       "      <td>3,706.92</td>\n",
       "    </tr>\n",
       "    <tr>\n",
       "      <th>25%</th>\n",
       "      <td>-0.03</td>\n",
       "      <td>740,000.00</td>\n",
       "      <td>0.01</td>\n",
       "      <td>-0.07</td>\n",
       "      <td>15.81</td>\n",
       "      <td>-0.13</td>\n",
       "      <td>-0.07</td>\n",
       "      <td>-0.05</td>\n",
       "      <td>-5.50</td>\n",
       "      <td>-0.02</td>\n",
       "      <td>-0.02</td>\n",
       "      <td>0.06</td>\n",
       "      <td>-0.27</td>\n",
       "      <td>-0.02</td>\n",
       "      <td>0.01</td>\n",
       "      <td>-0.07</td>\n",
       "      <td>-0.03</td>\n",
       "      <td>-0.07</td>\n",
       "      <td>43,783.90</td>\n",
       "    </tr>\n",
       "    <tr>\n",
       "      <th>50%</th>\n",
       "      <td>-0.00</td>\n",
       "      <td>1,797,000.00</td>\n",
       "      <td>0.02</td>\n",
       "      <td>-0.03</td>\n",
       "      <td>29.20</td>\n",
       "      <td>-0.05</td>\n",
       "      <td>-0.02</td>\n",
       "      <td>-0.02</td>\n",
       "      <td>-4.29</td>\n",
       "      <td>0.00</td>\n",
       "      <td>0.00</td>\n",
       "      <td>0.10</td>\n",
       "      <td>-0.18</td>\n",
       "      <td>-0.00</td>\n",
       "      <td>0.02</td>\n",
       "      <td>-0.03</td>\n",
       "      <td>-0.01</td>\n",
       "      <td>-0.02</td>\n",
       "      <td>152,863.73</td>\n",
       "    </tr>\n",
       "    <tr>\n",
       "      <th>75%</th>\n",
       "      <td>0.02</td>\n",
       "      <td>4,601,423.13</td>\n",
       "      <td>0.05</td>\n",
       "      <td>-0.02</td>\n",
       "      <td>43.27</td>\n",
       "      <td>0.01</td>\n",
       "      <td>0.01</td>\n",
       "      <td>0.01</td>\n",
       "      <td>-3.25</td>\n",
       "      <td>0.03</td>\n",
       "      <td>0.03</td>\n",
       "      <td>0.17</td>\n",
       "      <td>-0.10</td>\n",
       "      <td>0.01</td>\n",
       "      <td>0.05</td>\n",
       "      <td>-0.02</td>\n",
       "      <td>0.02</td>\n",
       "      <td>0.00</td>\n",
       "      <td>367,989.29</td>\n",
       "    </tr>\n",
       "    <tr>\n",
       "      <th>max</th>\n",
       "      <td>0.26</td>\n",
       "      <td>13,794,997.00</td>\n",
       "      <td>0.34</td>\n",
       "      <td>0.00</td>\n",
       "      <td>233.56</td>\n",
       "      <td>0.55</td>\n",
       "      <td>0.38</td>\n",
       "      <td>0.32</td>\n",
       "      <td>-1.29</td>\n",
       "      <td>0.37</td>\n",
       "      <td>0.32</td>\n",
       "      <td>0.76</td>\n",
       "      <td>0.01</td>\n",
       "      <td>0.14</td>\n",
       "      <td>0.34</td>\n",
       "      <td>0.00</td>\n",
       "      <td>0.29</td>\n",
       "      <td>0.17</td>\n",
       "      <td>2,267,863.23</td>\n",
       "    </tr>\n",
       "  </tbody>\n",
       "</table>"
      ],
      "text/plain": [
       "<IPython.core.display.HTML object>"
      ]
     },
     "metadata": {},
     "output_type": "display_data"
    },
    {
     "data": {
      "text/html": [
       "<h3>btc_cop</h3>"
      ],
      "text/plain": [
       "<IPython.core.display.HTML object>"
      ]
     },
     "metadata": {},
     "output_type": "display_data"
    },
    {
     "name": "stdout",
     "output_type": "stream",
     "text": [
      "describe_dataset\n"
     ]
    },
    {
     "data": {
      "text/html": [
       "<H1>Range Dates</H1>"
      ],
      "text/plain": [
       "<IPython.core.display.HTML object>"
      ]
     },
     "metadata": {},
     "output_type": "display_data"
    },
    {
     "data": {
      "text/html": [
       "<H3>Min: 2016-10-31</H3>"
      ],
      "text/plain": [
       "<IPython.core.display.HTML object>"
      ]
     },
     "metadata": {},
     "output_type": "display_data"
    },
    {
     "data": {
      "text/html": [
       "<H3>Min: 2018-03-11</H3>"
      ],
      "text/plain": [
       "<IPython.core.display.HTML object>"
      ]
     },
     "metadata": {},
     "output_type": "display_data"
    },
    {
     "data": {
      "text/html": [
       "<H1>Min</H1>"
      ],
      "text/plain": [
       "<IPython.core.display.HTML object>"
      ]
     },
     "metadata": {},
     "output_type": "display_data"
    },
    {
     "name": "stdout",
     "output_type": "stream",
     "text": [
      "open              2017-09-15\n",
      "close             2016-11-08\n",
      "high              2016-10-31\n",
      "low               2017-07-12\n",
      "volume            2016-11-05\n",
      "EWMA26            2017-05-24\n",
      "EWMA12            2017-05-24\n",
      "EWMA9             2017-05-24\n",
      "MACD              2018-01-11\n",
      "Returns           2017-03-18\n",
      "log_return        2017-03-18\n",
      "Bollinger Upper   2016-12-23\n",
      "Bollinger Lower   2017-05-24\n",
      "Heiking_Close     2017-07-12\n",
      "Heiking High      2016-10-31\n",
      "Heiking Low       2017-07-12\n",
      "Heiking Open      2017-05-24\n",
      "log_MACD          2017-12-08\n",
      "Variance12        2016-11-01\n",
      "dtype: datetime64[ns]\n"
     ]
    },
    {
     "data": {
      "text/html": [
       "<H1>Max</H1>"
      ],
      "text/plain": [
       "<IPython.core.display.HTML object>"
      ]
     },
     "metadata": {},
     "output_type": "display_data"
    },
    {
     "name": "stdout",
     "output_type": "stream",
     "text": [
      "open              2017-01-12\n",
      "close             2017-12-16\n",
      "high              2017-05-05\n",
      "low               2016-11-01\n",
      "volume            2017-10-10\n",
      "EWMA26            2018-02-05\n",
      "EWMA12            2018-02-05\n",
      "EWMA9             2018-02-05\n",
      "MACD              2018-02-05\n",
      "Returns           2017-09-15\n",
      "log_return        2017-09-15\n",
      "Bollinger Upper   2018-02-05\n",
      "Bollinger Lower   2016-11-01\n",
      "Heiking_Close     2017-05-05\n",
      "Heiking High      2017-05-05\n",
      "Heiking Low       2016-11-01\n",
      "Heiking Open      2018-02-05\n",
      "log_MACD          2018-02-06\n",
      "Variance12        2017-12-08\n",
      "dtype: datetime64[ns]\n"
     ]
    },
    {
     "data": {
      "text/html": [
       "<table border=\"1\" class=\"dataframe\">\n",
       "  <thead>\n",
       "    <tr style=\"text-align: right;\">\n",
       "      <th></th>\n",
       "      <th>open</th>\n",
       "      <th>close</th>\n",
       "      <th>high</th>\n",
       "      <th>low</th>\n",
       "      <th>volume</th>\n",
       "      <th>EWMA26</th>\n",
       "      <th>EWMA12</th>\n",
       "      <th>EWMA9</th>\n",
       "      <th>MACD</th>\n",
       "      <th>Returns</th>\n",
       "      <th>log_return</th>\n",
       "      <th>Bollinger Upper</th>\n",
       "      <th>Bollinger Lower</th>\n",
       "      <th>Heiking_Close</th>\n",
       "      <th>Heiking High</th>\n",
       "      <th>Heiking Low</th>\n",
       "      <th>Heiking Open</th>\n",
       "      <th>log_MACD</th>\n",
       "      <th>Variance12</th>\n",
       "    </tr>\n",
       "  </thead>\n",
       "  <tbody>\n",
       "    <tr>\n",
       "      <th>count</th>\n",
       "      <td>497.00</td>\n",
       "      <td>497.00</td>\n",
       "      <td>497.00</td>\n",
       "      <td>497.00</td>\n",
       "      <td>497.00</td>\n",
       "      <td>497.00</td>\n",
       "      <td>497.00</td>\n",
       "      <td>497.00</td>\n",
       "      <td>153.00</td>\n",
       "      <td>496.00</td>\n",
       "      <td>496.00</td>\n",
       "      <td>496.00</td>\n",
       "      <td>496.00</td>\n",
       "      <td>497.00</td>\n",
       "      <td>497.00</td>\n",
       "      <td>497.00</td>\n",
       "      <td>496.00</td>\n",
       "      <td>497.00</td>\n",
       "      <td>496.00</td>\n",
       "    </tr>\n",
       "    <tr>\n",
       "      <th>mean</th>\n",
       "      <td>-0.00</td>\n",
       "      <td>12,956,022.67</td>\n",
       "      <td>0.07</td>\n",
       "      <td>-0.06</td>\n",
       "      <td>4.42</td>\n",
       "      <td>-0.05</td>\n",
       "      <td>-0.02</td>\n",
       "      <td>-0.02</td>\n",
       "      <td>-inf</td>\n",
       "      <td>0.01</td>\n",
       "      <td>0.01</td>\n",
       "      <td>0.14</td>\n",
       "      <td>-0.22</td>\n",
       "      <td>0.01</td>\n",
       "      <td>0.07</td>\n",
       "      <td>-0.06</td>\n",
       "      <td>-0.01</td>\n",
       "      <td>-0.03</td>\n",
       "      <td>1,310,165.23</td>\n",
       "    </tr>\n",
       "    <tr>\n",
       "      <th>std</th>\n",
       "      <td>0.07</td>\n",
       "      <td>12,873,744.45</td>\n",
       "      <td>0.35</td>\n",
       "      <td>0.25</td>\n",
       "      <td>4.66</td>\n",
       "      <td>0.13</td>\n",
       "      <td>0.09</td>\n",
       "      <td>0.07</td>\n",
       "      <td>nan</td>\n",
       "      <td>0.07</td>\n",
       "      <td>0.07</td>\n",
       "      <td>0.10</td>\n",
       "      <td>0.16</td>\n",
       "      <td>0.29</td>\n",
       "      <td>0.35</td>\n",
       "      <td>0.25</td>\n",
       "      <td>0.07</td>\n",
       "      <td>0.06</td>\n",
       "      <td>1,663,457.63</td>\n",
       "    </tr>\n",
       "    <tr>\n",
       "      <th>min</th>\n",
       "      <td>-0.33</td>\n",
       "      <td>2,030,280.91</td>\n",
       "      <td>0.00</td>\n",
       "      <td>-5.40</td>\n",
       "      <td>0.00</td>\n",
       "      <td>-0.51</td>\n",
       "      <td>-0.36</td>\n",
       "      <td>-0.32</td>\n",
       "      <td>-inf</td>\n",
       "      <td>-0.26</td>\n",
       "      <td>-0.30</td>\n",
       "      <td>-0.01</td>\n",
       "      <td>-1.01</td>\n",
       "      <td>-0.31</td>\n",
       "      <td>0.00</td>\n",
       "      <td>-5.40</td>\n",
       "      <td>-0.30</td>\n",
       "      <td>-0.17</td>\n",
       "      <td>382.54</td>\n",
       "    </tr>\n",
       "    <tr>\n",
       "      <th>25%</th>\n",
       "      <td>-0.04</td>\n",
       "      <td>3,145,147.15</td>\n",
       "      <td>0.01</td>\n",
       "      <td>-0.07</td>\n",
       "      <td>0.96</td>\n",
       "      <td>-0.13</td>\n",
       "      <td>-0.07</td>\n",
       "      <td>-0.06</td>\n",
       "      <td>-5.01</td>\n",
       "      <td>-0.03</td>\n",
       "      <td>-0.03</td>\n",
       "      <td>0.07</td>\n",
       "      <td>-0.30</td>\n",
       "      <td>-0.02</td>\n",
       "      <td>0.01</td>\n",
       "      <td>-0.07</td>\n",
       "      <td>-0.04</td>\n",
       "      <td>-0.07</td>\n",
       "      <td>218,663.12</td>\n",
       "    </tr>\n",
       "    <tr>\n",
       "      <th>50%</th>\n",
       "      <td>-0.00</td>\n",
       "      <td>7,419,000.00</td>\n",
       "      <td>0.04</td>\n",
       "      <td>-0.02</td>\n",
       "      <td>2.83</td>\n",
       "      <td>-0.04</td>\n",
       "      <td>-0.02</td>\n",
       "      <td>-0.02</td>\n",
       "      <td>-3.99</td>\n",
       "      <td>0.00</td>\n",
       "      <td>0.00</td>\n",
       "      <td>0.11</td>\n",
       "      <td>-0.19</td>\n",
       "      <td>0.00</td>\n",
       "      <td>0.04</td>\n",
       "      <td>-0.02</td>\n",
       "      <td>-0.00</td>\n",
       "      <td>-0.02</td>\n",
       "      <td>705,990.38</td>\n",
       "    </tr>\n",
       "    <tr>\n",
       "      <th>75%</th>\n",
       "      <td>0.02</td>\n",
       "      <td>19,202,001.00</td>\n",
       "      <td>0.07</td>\n",
       "      <td>-0.00</td>\n",
       "      <td>6.49</td>\n",
       "      <td>0.02</td>\n",
       "      <td>0.02</td>\n",
       "      <td>0.02</td>\n",
       "      <td>-3.15</td>\n",
       "      <td>0.04</td>\n",
       "      <td>0.04</td>\n",
       "      <td>0.18</td>\n",
       "      <td>-0.11</td>\n",
       "      <td>0.02</td>\n",
       "      <td>0.07</td>\n",
       "      <td>-0.00</td>\n",
       "      <td>0.03</td>\n",
       "      <td>0.00</td>\n",
       "      <td>1,506,562.69</td>\n",
       "    </tr>\n",
       "    <tr>\n",
       "      <th>max</th>\n",
       "      <td>0.37</td>\n",
       "      <td>51,252,704.00</td>\n",
       "      <td>7.71</td>\n",
       "      <td>0.00</td>\n",
       "      <td>31.25</td>\n",
       "      <td>0.55</td>\n",
       "      <td>0.40</td>\n",
       "      <td>0.35</td>\n",
       "      <td>-1.41</td>\n",
       "      <td>0.33</td>\n",
       "      <td>0.28</td>\n",
       "      <td>0.78</td>\n",
       "      <td>-0.00</td>\n",
       "      <td>6.32</td>\n",
       "      <td>7.71</td>\n",
       "      <td>0.00</td>\n",
       "      <td>0.32</td>\n",
       "      <td>0.16</td>\n",
       "      <td>8,093,299.42</td>\n",
       "    </tr>\n",
       "  </tbody>\n",
       "</table>"
      ],
      "text/plain": [
       "<IPython.core.display.HTML object>"
      ]
     },
     "metadata": {},
     "output_type": "display_data"
    },
    {
     "data": {
      "text/html": [
       "<h3>btc_pen</h3>"
      ],
      "text/plain": [
       "<IPython.core.display.HTML object>"
      ]
     },
     "metadata": {},
     "output_type": "display_data"
    },
    {
     "name": "stdout",
     "output_type": "stream",
     "text": [
      "describe_dataset\n"
     ]
    },
    {
     "data": {
      "text/html": [
       "<H1>Range Dates</H1>"
      ],
      "text/plain": [
       "<IPython.core.display.HTML object>"
      ]
     },
     "metadata": {},
     "output_type": "display_data"
    },
    {
     "data": {
      "text/html": [
       "<H3>Min: 2017-08-14</H3>"
      ],
      "text/plain": [
       "<IPython.core.display.HTML object>"
      ]
     },
     "metadata": {},
     "output_type": "display_data"
    },
    {
     "data": {
      "text/html": [
       "<H3>Min: 2018-03-11</H3>"
      ],
      "text/plain": [
       "<IPython.core.display.HTML object>"
      ]
     },
     "metadata": {},
     "output_type": "display_data"
    },
    {
     "data": {
      "text/html": [
       "<H1>Min</H1>"
      ],
      "text/plain": [
       "<IPython.core.display.HTML object>"
      ]
     },
     "metadata": {},
     "output_type": "display_data"
    },
    {
     "name": "stdout",
     "output_type": "stream",
     "text": [
      "open              2017-12-06\n",
      "close             2017-09-29\n",
      "high              2017-08-15\n",
      "low               2017-10-24\n",
      "volume            2017-08-15\n",
      "EWMA26            2017-12-06\n",
      "EWMA12            2017-12-06\n",
      "EWMA9             2017-12-06\n",
      "MACD              2017-08-20\n",
      "Returns           2017-12-07\n",
      "log_return        2017-12-07\n",
      "Bollinger Upper   2017-12-06\n",
      "Bollinger Lower   2017-12-23\n",
      "Heiking_Close     2017-12-06\n",
      "Heiking High      2017-08-15\n",
      "Heiking Low       2017-10-24\n",
      "Heiking Open      2017-12-06\n",
      "log_MACD          2017-12-06\n",
      "Variance12        2017-08-15\n",
      "dtype: datetime64[ns]\n"
     ]
    },
    {
     "data": {
      "text/html": [
       "<H1>Max</H1>"
      ],
      "text/plain": [
       "<IPython.core.display.HTML object>"
      ]
     },
     "metadata": {},
     "output_type": "display_data"
    },
    {
     "name": "stdout",
     "output_type": "stream",
     "text": [
      "open              2017-12-07\n",
      "close             2017-12-06\n",
      "high              2017-12-07\n",
      "low               2017-08-15\n",
      "volume            2018-02-05\n",
      "EWMA26            2018-02-05\n",
      "EWMA12            2017-11-12\n",
      "EWMA9             2017-11-12\n",
      "MACD              2018-02-05\n",
      "Returns           2017-12-06\n",
      "log_return        2017-12-06\n",
      "Bollinger Upper   2017-12-07\n",
      "Bollinger Lower   2017-08-15\n",
      "Heiking_Close     2017-12-07\n",
      "Heiking High      2017-12-07\n",
      "Heiking Low       2017-08-15\n",
      "Heiking Open      2017-12-08\n",
      "log_MACD          2018-02-05\n",
      "Variance12        2017-12-06\n",
      "dtype: datetime64[ns]\n"
     ]
    },
    {
     "data": {
      "text/html": [
       "<table border=\"1\" class=\"dataframe\">\n",
       "  <thead>\n",
       "    <tr style=\"text-align: right;\">\n",
       "      <th></th>\n",
       "      <th>open</th>\n",
       "      <th>close</th>\n",
       "      <th>high</th>\n",
       "      <th>low</th>\n",
       "      <th>volume</th>\n",
       "      <th>EWMA26</th>\n",
       "      <th>EWMA12</th>\n",
       "      <th>EWMA9</th>\n",
       "      <th>MACD</th>\n",
       "      <th>Returns</th>\n",
       "      <th>log_return</th>\n",
       "      <th>Bollinger Upper</th>\n",
       "      <th>Bollinger Lower</th>\n",
       "      <th>Heiking_Close</th>\n",
       "      <th>Heiking High</th>\n",
       "      <th>Heiking Low</th>\n",
       "      <th>Heiking Open</th>\n",
       "      <th>log_MACD</th>\n",
       "      <th>Variance12</th>\n",
       "    </tr>\n",
       "  </thead>\n",
       "  <tbody>\n",
       "    <tr>\n",
       "      <th>count</th>\n",
       "      <td>210.00</td>\n",
       "      <td>210.00</td>\n",
       "      <td>210.00</td>\n",
       "      <td>210.00</td>\n",
       "      <td>210.00</td>\n",
       "      <td>210.00</td>\n",
       "      <td>210.00</td>\n",
       "      <td>210.00</td>\n",
       "      <td>90.00</td>\n",
       "      <td>209.00</td>\n",
       "      <td>209.00</td>\n",
       "      <td>209.00</td>\n",
       "      <td>192.00</td>\n",
       "      <td>210.00</td>\n",
       "      <td>210.00</td>\n",
       "      <td>210.00</td>\n",
       "      <td>209.00</td>\n",
       "      <td>210.00</td>\n",
       "      <td>209.00</td>\n",
       "    </tr>\n",
       "    <tr>\n",
       "      <th>mean</th>\n",
       "      <td>-0.00</td>\n",
       "      <td>29,952.57</td>\n",
       "      <td>0.08</td>\n",
       "      <td>-0.14</td>\n",
       "      <td>0.69</td>\n",
       "      <td>-0.02</td>\n",
       "      <td>0.00</td>\n",
       "      <td>0.00</td>\n",
       "      <td>-inf</td>\n",
       "      <td>0.04</td>\n",
       "      <td>0.00</td>\n",
       "      <td>0.31</td>\n",
       "      <td>-0.38</td>\n",
       "      <td>0.01</td>\n",
       "      <td>0.08</td>\n",
       "      <td>-0.14</td>\n",
       "      <td>0.00</td>\n",
       "      <td>-0.02</td>\n",
       "      <td>8,654.87</td>\n",
       "    </tr>\n",
       "    <tr>\n",
       "      <th>std</th>\n",
       "      <td>0.22</td>\n",
       "      <td>23,680.31</td>\n",
       "      <td>0.17</td>\n",
       "      <td>0.76</td>\n",
       "      <td>1.14</td>\n",
       "      <td>0.21</td>\n",
       "      <td>0.17</td>\n",
       "      <td>0.15</td>\n",
       "      <td>nan</td>\n",
       "      <td>0.51</td>\n",
       "      <td>0.24</td>\n",
       "      <td>0.30</td>\n",
       "      <td>0.33</td>\n",
       "      <td>0.12</td>\n",
       "      <td>0.17</td>\n",
       "      <td>0.76</td>\n",
       "      <td>0.23</td>\n",
       "      <td>0.08</td>\n",
       "      <td>16,347.23</td>\n",
       "    </tr>\n",
       "    <tr>\n",
       "      <th>min</th>\n",
       "      <td>-2.05</td>\n",
       "      <td>9,500.00</td>\n",
       "      <td>0.00</td>\n",
       "      <td>-9.65</td>\n",
       "      <td>0.00</td>\n",
       "      <td>-1.79</td>\n",
       "      <td>-1.38</td>\n",
       "      <td>-1.22</td>\n",
       "      <td>-inf</td>\n",
       "      <td>-0.84</td>\n",
       "      <td>-1.81</td>\n",
       "      <td>-0.08</td>\n",
       "      <td>-3.02</td>\n",
       "      <td>-0.58</td>\n",
       "      <td>0.00</td>\n",
       "      <td>-9.65</td>\n",
       "      <td>-2.06</td>\n",
       "      <td>-0.41</td>\n",
       "      <td>0.00</td>\n",
       "    </tr>\n",
       "    <tr>\n",
       "      <th>25%</th>\n",
       "      <td>-0.05</td>\n",
       "      <td>15,221.10</td>\n",
       "      <td>0.00</td>\n",
       "      <td>-0.07</td>\n",
       "      <td>0.08</td>\n",
       "      <td>-0.13</td>\n",
       "      <td>-0.08</td>\n",
       "      <td>-0.06</td>\n",
       "      <td>-3.90</td>\n",
       "      <td>-0.06</td>\n",
       "      <td>-0.06</td>\n",
       "      <td>0.13</td>\n",
       "      <td>-0.48</td>\n",
       "      <td>-0.02</td>\n",
       "      <td>0.00</td>\n",
       "      <td>-0.07</td>\n",
       "      <td>-0.05</td>\n",
       "      <td>-0.06</td>\n",
       "      <td>1,984.01</td>\n",
       "    </tr>\n",
       "    <tr>\n",
       "      <th>50%</th>\n",
       "      <td>0.00</td>\n",
       "      <td>27,089.53</td>\n",
       "      <td>0.03</td>\n",
       "      <td>-0.02</td>\n",
       "      <td>0.37</td>\n",
       "      <td>-0.02</td>\n",
       "      <td>-0.01</td>\n",
       "      <td>-0.01</td>\n",
       "      <td>-3.13</td>\n",
       "      <td>0.00</td>\n",
       "      <td>0.00</td>\n",
       "      <td>0.21</td>\n",
       "      <td>-0.31</td>\n",
       "      <td>0.00</td>\n",
       "      <td>0.03</td>\n",
       "      <td>-0.02</td>\n",
       "      <td>-0.00</td>\n",
       "      <td>-0.01</td>\n",
       "      <td>3,501.09</td>\n",
       "    </tr>\n",
       "    <tr>\n",
       "      <th>75%</th>\n",
       "      <td>0.04</td>\n",
       "      <td>37,090.65</td>\n",
       "      <td>0.10</td>\n",
       "      <td>0.00</td>\n",
       "      <td>0.81</td>\n",
       "      <td>0.11</td>\n",
       "      <td>0.07</td>\n",
       "      <td>0.07</td>\n",
       "      <td>-2.36</td>\n",
       "      <td>0.05</td>\n",
       "      <td>0.05</td>\n",
       "      <td>0.37</td>\n",
       "      <td>-0.18</td>\n",
       "      <td>0.03</td>\n",
       "      <td>0.10</td>\n",
       "      <td>0.00</td>\n",
       "      <td>0.05</td>\n",
       "      <td>0.04</td>\n",
       "      <td>5,610.43</td>\n",
       "    </tr>\n",
       "    <tr>\n",
       "      <th>max</th>\n",
       "      <td>1.81</td>\n",
       "      <td>299,997.00</td>\n",
       "      <td>1.81</td>\n",
       "      <td>0.00</td>\n",
       "      <td>11.30</td>\n",
       "      <td>0.51</td>\n",
       "      <td>0.52</td>\n",
       "      <td>0.52</td>\n",
       "      <td>-1.46</td>\n",
       "      <td>6.94</td>\n",
       "      <td>2.07</td>\n",
       "      <td>1.65</td>\n",
       "      <td>0.00</td>\n",
       "      <td>1.27</td>\n",
       "      <td>1.81</td>\n",
       "      <td>0.00</td>\n",
       "      <td>1.28</td>\n",
       "      <td>0.15</td>\n",
       "      <td>100,195.11</td>\n",
       "    </tr>\n",
       "  </tbody>\n",
       "</table>"
      ],
      "text/plain": [
       "<IPython.core.display.HTML object>"
      ]
     },
     "metadata": {},
     "output_type": "display_data"
    },
    {
     "data": {
      "text/html": [
       "<h3>eth_btc</h3>"
      ],
      "text/plain": [
       "<IPython.core.display.HTML object>"
      ]
     },
     "metadata": {},
     "output_type": "display_data"
    },
    {
     "name": "stdout",
     "output_type": "stream",
     "text": [
      "describe_dataset\n"
     ]
    },
    {
     "data": {
      "text/html": [
       "<H1>Range Dates</H1>"
      ],
      "text/plain": [
       "<IPython.core.display.HTML object>"
      ]
     },
     "metadata": {},
     "output_type": "display_data"
    },
    {
     "data": {
      "text/html": [
       "<H3>Min: 2017-07-14</H3>"
      ],
      "text/plain": [
       "<IPython.core.display.HTML object>"
      ]
     },
     "metadata": {},
     "output_type": "display_data"
    },
    {
     "data": {
      "text/html": [
       "<H3>Min: 2018-03-10</H3>"
      ],
      "text/plain": [
       "<IPython.core.display.HTML object>"
      ]
     },
     "metadata": {},
     "output_type": "display_data"
    },
    {
     "data": {
      "text/html": [
       "<H1>Min</H1>"
      ],
      "text/plain": [
       "<IPython.core.display.HTML object>"
      ]
     },
     "metadata": {},
     "output_type": "display_data"
    },
    {
     "name": "stdout",
     "output_type": "stream",
     "text": [
      "open              2017-10-26\n",
      "close             2017-11-27\n",
      "high              2017-07-14\n",
      "low               2017-11-06\n",
      "volume            2017-07-23\n",
      "EWMA26            2018-01-09\n",
      "EWMA12            2017-12-13\n",
      "EWMA9             2017-12-13\n",
      "MACD              2017-07-23\n",
      "Returns           2017-11-27\n",
      "log_return        2017-11-27\n",
      "Bollinger Upper   2017-08-27\n",
      "Bollinger Lower   2017-12-01\n",
      "Heiking_Close     2017-11-06\n",
      "Heiking High      2017-07-14\n",
      "Heiking Low       2017-11-06\n",
      "Heiking Open      2017-11-28\n",
      "log_MACD          2018-01-14\n",
      "Variance12        2017-09-23\n",
      "dtype: datetime64[ns]\n"
     ]
    },
    {
     "data": {
      "text/html": [
       "<H1>Max</H1>"
      ],
      "text/plain": [
       "<IPython.core.display.HTML object>"
      ]
     },
     "metadata": {},
     "output_type": "display_data"
    },
    {
     "name": "stdout",
     "output_type": "stream",
     "text": [
      "open              2017-11-27\n",
      "close             2018-01-31\n",
      "high              2017-11-27\n",
      "low               2017-07-14\n",
      "volume            2017-12-07\n",
      "EWMA26            2017-11-27\n",
      "EWMA12            2017-11-27\n",
      "EWMA9             2017-11-27\n",
      "MACD              2017-11-27\n",
      "Returns           2017-11-28\n",
      "log_return        2017-11-28\n",
      "Bollinger Upper   2017-11-27\n",
      "Bollinger Lower   2017-11-27\n",
      "Heiking_Close     2017-11-27\n",
      "Heiking High      2017-11-27\n",
      "Heiking Low       2017-07-14\n",
      "Heiking Open      2017-11-27\n",
      "log_MACD          2017-11-03\n",
      "Variance12        2017-11-27\n",
      "dtype: datetime64[ns]\n"
     ]
    },
    {
     "data": {
      "text/html": [
       "<table border=\"1\" class=\"dataframe\">\n",
       "  <thead>\n",
       "    <tr style=\"text-align: right;\">\n",
       "      <th></th>\n",
       "      <th>open</th>\n",
       "      <th>close</th>\n",
       "      <th>high</th>\n",
       "      <th>low</th>\n",
       "      <th>volume</th>\n",
       "      <th>EWMA26</th>\n",
       "      <th>EWMA12</th>\n",
       "      <th>EWMA9</th>\n",
       "      <th>MACD</th>\n",
       "      <th>Returns</th>\n",
       "      <th>log_return</th>\n",
       "      <th>Bollinger Upper</th>\n",
       "      <th>Bollinger Lower</th>\n",
       "      <th>Heiking_Close</th>\n",
       "      <th>Heiking High</th>\n",
       "      <th>Heiking Low</th>\n",
       "      <th>Heiking Open</th>\n",
       "      <th>log_MACD</th>\n",
       "      <th>Variance12</th>\n",
       "    </tr>\n",
       "  </thead>\n",
       "  <tbody>\n",
       "    <tr>\n",
       "      <th>count</th>\n",
       "      <td>240.00</td>\n",
       "      <td>240.00</td>\n",
       "      <td>240.00</td>\n",
       "      <td>240.00</td>\n",
       "      <td>240.00</td>\n",
       "      <td>240.00</td>\n",
       "      <td>240.00</td>\n",
       "      <td>240.00</td>\n",
       "      <td>149.00</td>\n",
       "      <td>239.00</td>\n",
       "      <td>239.00</td>\n",
       "      <td>239.00</td>\n",
       "      <td>239.00</td>\n",
       "      <td>240.00</td>\n",
       "      <td>240.00</td>\n",
       "      <td>240.00</td>\n",
       "      <td>239.00</td>\n",
       "      <td>240.00</td>\n",
       "      <td>239.00</td>\n",
       "    </tr>\n",
       "    <tr>\n",
       "      <th>mean</th>\n",
       "      <td>0.01</td>\n",
       "      <td>0.07</td>\n",
       "      <td>0.09</td>\n",
       "      <td>-0.08</td>\n",
       "      <td>12.60</td>\n",
       "      <td>0.02</td>\n",
       "      <td>0.01</td>\n",
       "      <td>0.01</td>\n",
       "      <td>-inf</td>\n",
       "      <td>0.03</td>\n",
       "      <td>0.00</td>\n",
       "      <td>0.23</td>\n",
       "      <td>-0.30</td>\n",
       "      <td>0.02</td>\n",
       "      <td>0.09</td>\n",
       "      <td>-0.08</td>\n",
       "      <td>0.01</td>\n",
       "      <td>0.01</td>\n",
       "      <td>0.01</td>\n",
       "    </tr>\n",
       "    <tr>\n",
       "      <th>std</th>\n",
       "      <td>0.16</td>\n",
       "      <td>0.02</td>\n",
       "      <td>0.20</td>\n",
       "      <td>0.25</td>\n",
       "      <td>16.69</td>\n",
       "      <td>0.21</td>\n",
       "      <td>0.17</td>\n",
       "      <td>0.16</td>\n",
       "      <td>nan</td>\n",
       "      <td>0.47</td>\n",
       "      <td>0.22</td>\n",
       "      <td>0.22</td>\n",
       "      <td>0.30</td>\n",
       "      <td>0.12</td>\n",
       "      <td>0.20</td>\n",
       "      <td>0.25</td>\n",
       "      <td>0.18</td>\n",
       "      <td>0.07</td>\n",
       "      <td>0.00</td>\n",
       "    </tr>\n",
       "    <tr>\n",
       "      <th>min</th>\n",
       "      <td>-0.33</td>\n",
       "      <td>0.01</td>\n",
       "      <td>0.00</td>\n",
       "      <td>-2.44</td>\n",
       "      <td>0.00</td>\n",
       "      <td>-0.47</td>\n",
       "      <td>-0.34</td>\n",
       "      <td>-0.32</td>\n",
       "      <td>-inf</td>\n",
       "      <td>-0.87</td>\n",
       "      <td>-2.06</td>\n",
       "      <td>0.01</td>\n",
       "      <td>-1.68</td>\n",
       "      <td>-0.26</td>\n",
       "      <td>0.00</td>\n",
       "      <td>-2.44</td>\n",
       "      <td>-0.58</td>\n",
       "      <td>-0.17</td>\n",
       "      <td>0.00</td>\n",
       "    </tr>\n",
       "    <tr>\n",
       "      <th>25%</th>\n",
       "      <td>-0.03</td>\n",
       "      <td>0.05</td>\n",
       "      <td>0.00</td>\n",
       "      <td>-0.07</td>\n",
       "      <td>1.74</td>\n",
       "      <td>-0.08</td>\n",
       "      <td>-0.05</td>\n",
       "      <td>-0.04</td>\n",
       "      <td>-4.06</td>\n",
       "      <td>-0.04</td>\n",
       "      <td>-0.04</td>\n",
       "      <td>0.12</td>\n",
       "      <td>-0.37</td>\n",
       "      <td>-0.01</td>\n",
       "      <td>0.00</td>\n",
       "      <td>-0.07</td>\n",
       "      <td>-0.04</td>\n",
       "      <td>-0.02</td>\n",
       "      <td>0.01</td>\n",
       "    </tr>\n",
       "    <tr>\n",
       "      <th>50%</th>\n",
       "      <td>0.00</td>\n",
       "      <td>0.07</td>\n",
       "      <td>0.03</td>\n",
       "      <td>-0.02</td>\n",
       "      <td>5.15</td>\n",
       "      <td>0.03</td>\n",
       "      <td>0.01</td>\n",
       "      <td>0.01</td>\n",
       "      <td>-3.25</td>\n",
       "      <td>0.00</td>\n",
       "      <td>0.00</td>\n",
       "      <td>0.17</td>\n",
       "      <td>-0.20</td>\n",
       "      <td>0.00</td>\n",
       "      <td>0.03</td>\n",
       "      <td>-0.02</td>\n",
       "      <td>0.00</td>\n",
       "      <td>0.01</td>\n",
       "      <td>0.01</td>\n",
       "    </tr>\n",
       "    <tr>\n",
       "      <th>75%</th>\n",
       "      <td>0.03</td>\n",
       "      <td>0.08</td>\n",
       "      <td>0.10</td>\n",
       "      <td>0.00</td>\n",
       "      <td>16.97</td>\n",
       "      <td>0.10</td>\n",
       "      <td>0.06</td>\n",
       "      <td>0.05</td>\n",
       "      <td>-2.55</td>\n",
       "      <td>0.04</td>\n",
       "      <td>0.04</td>\n",
       "      <td>0.25</td>\n",
       "      <td>-0.11</td>\n",
       "      <td>0.03</td>\n",
       "      <td>0.10</td>\n",
       "      <td>0.00</td>\n",
       "      <td>0.05</td>\n",
       "      <td>0.05</td>\n",
       "      <td>0.01</td>\n",
       "    </tr>\n",
       "    <tr>\n",
       "      <th>max</th>\n",
       "      <td>2.07</td>\n",
       "      <td>0.11</td>\n",
       "      <td>2.16</td>\n",
       "      <td>0.00</td>\n",
       "      <td>84.71</td>\n",
       "      <td>2.01</td>\n",
       "      <td>1.95</td>\n",
       "      <td>1.92</td>\n",
       "      <td>-0.90</td>\n",
       "      <td>6.92</td>\n",
       "      <td>2.07</td>\n",
       "      <td>2.55</td>\n",
       "      <td>0.20</td>\n",
       "      <td>1.53</td>\n",
       "      <td>2.16</td>\n",
       "      <td>0.00</td>\n",
       "      <td>2.08</td>\n",
       "      <td>0.14</td>\n",
       "      <td>0.02</td>\n",
       "    </tr>\n",
       "  </tbody>\n",
       "</table>"
      ],
      "text/plain": [
       "<IPython.core.display.HTML object>"
      ]
     },
     "metadata": {},
     "output_type": "display_data"
    },
    {
     "data": {
      "text/html": [
       "<h3>eth_clp</h3>"
      ],
      "text/plain": [
       "<IPython.core.display.HTML object>"
      ]
     },
     "metadata": {},
     "output_type": "display_data"
    },
    {
     "name": "stdout",
     "output_type": "stream",
     "text": [
      "describe_dataset\n"
     ]
    },
    {
     "data": {
      "text/html": [
       "<H1>Range Dates</H1>"
      ],
      "text/plain": [
       "<IPython.core.display.HTML object>"
      ]
     },
     "metadata": {},
     "output_type": "display_data"
    },
    {
     "data": {
      "text/html": [
       "<H3>Min: 2017-07-03</H3>"
      ],
      "text/plain": [
       "<IPython.core.display.HTML object>"
      ]
     },
     "metadata": {},
     "output_type": "display_data"
    },
    {
     "data": {
      "text/html": [
       "<H3>Min: 2018-03-11</H3>"
      ],
      "text/plain": [
       "<IPython.core.display.HTML object>"
      ]
     },
     "metadata": {},
     "output_type": "display_data"
    },
    {
     "data": {
      "text/html": [
       "<H1>Min</H1>"
      ],
      "text/plain": [
       "<IPython.core.display.HTML object>"
      ]
     },
     "metadata": {},
     "output_type": "display_data"
    },
    {
     "name": "stdout",
     "output_type": "stream",
     "text": [
      "open              2018-02-06\n",
      "close             2017-07-15\n",
      "high              2017-07-11\n",
      "low               2017-12-22\n",
      "volume            2018-02-28\n",
      "EWMA26            2017-12-13\n",
      "EWMA12            2017-12-13\n",
      "EWMA9             2017-12-13\n",
      "MACD              2017-08-04\n",
      "Returns           2017-12-21\n",
      "log_return        2017-12-21\n",
      "Bollinger Upper   2017-12-12\n",
      "Bollinger Lower   2017-12-13\n",
      "Heiking_Close     2018-02-06\n",
      "Heiking High      2017-07-11\n",
      "Heiking Low       2017-12-22\n",
      "Heiking Open      2017-07-18\n",
      "log_MACD          2017-12-20\n",
      "Variance12        2017-11-06\n",
      "dtype: datetime64[ns]\n"
     ]
    },
    {
     "data": {
      "text/html": [
       "<H1>Max</H1>"
      ],
      "text/plain": [
       "<IPython.core.display.HTML object>"
      ]
     },
     "metadata": {},
     "output_type": "display_data"
    },
    {
     "name": "stdout",
     "output_type": "stream",
     "text": [
      "open              2017-12-21\n",
      "close             2018-01-14\n",
      "high              2017-12-21\n",
      "low               2017-07-03\n",
      "volume            2017-12-13\n",
      "EWMA26            2018-02-05\n",
      "EWMA12            2018-02-05\n",
      "EWMA9             2018-02-05\n",
      "MACD              2018-02-05\n",
      "Returns           2018-02-06\n",
      "log_return        2018-02-06\n",
      "Bollinger Upper   2018-02-05\n",
      "Bollinger Lower   2017-11-01\n",
      "Heiking_Close     2018-02-01\n",
      "Heiking High      2017-12-21\n",
      "Heiking Low       2017-07-03\n",
      "Heiking Open      2018-01-16\n",
      "log_MACD          2018-02-08\n",
      "Variance12        2018-01-09\n",
      "dtype: datetime64[ns]\n"
     ]
    },
    {
     "data": {
      "text/html": [
       "<table border=\"1\" class=\"dataframe\">\n",
       "  <thead>\n",
       "    <tr style=\"text-align: right;\">\n",
       "      <th></th>\n",
       "      <th>open</th>\n",
       "      <th>close</th>\n",
       "      <th>high</th>\n",
       "      <th>low</th>\n",
       "      <th>volume</th>\n",
       "      <th>EWMA26</th>\n",
       "      <th>EWMA12</th>\n",
       "      <th>EWMA9</th>\n",
       "      <th>MACD</th>\n",
       "      <th>Returns</th>\n",
       "      <th>log_return</th>\n",
       "      <th>Bollinger Upper</th>\n",
       "      <th>Bollinger Lower</th>\n",
       "      <th>Heiking_Close</th>\n",
       "      <th>Heiking High</th>\n",
       "      <th>Heiking Low</th>\n",
       "      <th>Heiking Open</th>\n",
       "      <th>log_MACD</th>\n",
       "      <th>Variance12</th>\n",
       "    </tr>\n",
       "  </thead>\n",
       "  <tbody>\n",
       "    <tr>\n",
       "      <th>count</th>\n",
       "      <td>252.00</td>\n",
       "      <td>252.00</td>\n",
       "      <td>252.00</td>\n",
       "      <td>252.00</td>\n",
       "      <td>252.00</td>\n",
       "      <td>252.00</td>\n",
       "      <td>252.00</td>\n",
       "      <td>252.00</td>\n",
       "      <td>112.00</td>\n",
       "      <td>251.00</td>\n",
       "      <td>251.00</td>\n",
       "      <td>251.00</td>\n",
       "      <td>251.00</td>\n",
       "      <td>252.00</td>\n",
       "      <td>252.00</td>\n",
       "      <td>252.00</td>\n",
       "      <td>251.00</td>\n",
       "      <td>252.00</td>\n",
       "      <td>251.00</td>\n",
       "    </tr>\n",
       "    <tr>\n",
       "      <th>mean</th>\n",
       "      <td>-0.00</td>\n",
       "      <td>340,010.21</td>\n",
       "      <td>0.06</td>\n",
       "      <td>-0.06</td>\n",
       "      <td>183.68</td>\n",
       "      <td>-0.04</td>\n",
       "      <td>-0.02</td>\n",
       "      <td>-0.01</td>\n",
       "      <td>-inf</td>\n",
       "      <td>0.01</td>\n",
       "      <td>0.00</td>\n",
       "      <td>0.17</td>\n",
       "      <td>-0.26</td>\n",
       "      <td>0.00</td>\n",
       "      <td>0.06</td>\n",
       "      <td>-0.06</td>\n",
       "      <td>-0.00</td>\n",
       "      <td>-0.03</td>\n",
       "      <td>38,477.33</td>\n",
       "    </tr>\n",
       "    <tr>\n",
       "      <th>std</th>\n",
       "      <td>0.08</td>\n",
       "      <td>198,342.36</td>\n",
       "      <td>0.07</td>\n",
       "      <td>0.07</td>\n",
       "      <td>169.30</td>\n",
       "      <td>0.15</td>\n",
       "      <td>0.10</td>\n",
       "      <td>0.09</td>\n",
       "      <td>nan</td>\n",
       "      <td>0.09</td>\n",
       "      <td>0.09</td>\n",
       "      <td>0.13</td>\n",
       "      <td>0.20</td>\n",
       "      <td>0.04</td>\n",
       "      <td>0.07</td>\n",
       "      <td>0.07</td>\n",
       "      <td>0.09</td>\n",
       "      <td>0.06</td>\n",
       "      <td>36,069.42</td>\n",
       "    </tr>\n",
       "    <tr>\n",
       "      <th>min</th>\n",
       "      <td>-0.38</td>\n",
       "      <td>100,869.98</td>\n",
       "      <td>0.00</td>\n",
       "      <td>-0.46</td>\n",
       "      <td>0.34</td>\n",
       "      <td>-0.52</td>\n",
       "      <td>-0.38</td>\n",
       "      <td>-0.33</td>\n",
       "      <td>-inf</td>\n",
       "      <td>-0.30</td>\n",
       "      <td>-0.35</td>\n",
       "      <td>0.00</td>\n",
       "      <td>-1.09</td>\n",
       "      <td>-0.17</td>\n",
       "      <td>0.00</td>\n",
       "      <td>-0.46</td>\n",
       "      <td>-0.31</td>\n",
       "      <td>-0.19</td>\n",
       "      <td>3,883.80</td>\n",
       "    </tr>\n",
       "    <tr>\n",
       "      <th>25%</th>\n",
       "      <td>-0.04</td>\n",
       "      <td>195,000.00</td>\n",
       "      <td>0.01</td>\n",
       "      <td>-0.08</td>\n",
       "      <td>70.19</td>\n",
       "      <td>-0.14</td>\n",
       "      <td>-0.07</td>\n",
       "      <td>-0.05</td>\n",
       "      <td>-4.79</td>\n",
       "      <td>-0.03</td>\n",
       "      <td>-0.03</td>\n",
       "      <td>0.08</td>\n",
       "      <td>-0.34</td>\n",
       "      <td>-0.02</td>\n",
       "      <td>0.01</td>\n",
       "      <td>-0.08</td>\n",
       "      <td>-0.04</td>\n",
       "      <td>-0.08</td>\n",
       "      <td>11,939.06</td>\n",
       "    </tr>\n",
       "    <tr>\n",
       "      <th>50%</th>\n",
       "      <td>-0.00</td>\n",
       "      <td>225,000.00</td>\n",
       "      <td>0.03</td>\n",
       "      <td>-0.04</td>\n",
       "      <td>135.55</td>\n",
       "      <td>-0.02</td>\n",
       "      <td>-0.01</td>\n",
       "      <td>-0.01</td>\n",
       "      <td>-3.57</td>\n",
       "      <td>0.00</td>\n",
       "      <td>0.00</td>\n",
       "      <td>0.14</td>\n",
       "      <td>-0.21</td>\n",
       "      <td>-0.00</td>\n",
       "      <td>0.03</td>\n",
       "      <td>-0.04</td>\n",
       "      <td>-0.01</td>\n",
       "      <td>-0.00</td>\n",
       "      <td>23,041.38</td>\n",
       "    </tr>\n",
       "    <tr>\n",
       "      <th>75%</th>\n",
       "      <td>0.03</td>\n",
       "      <td>519,059.00</td>\n",
       "      <td>0.07</td>\n",
       "      <td>-0.01</td>\n",
       "      <td>231.51</td>\n",
       "      <td>0.04</td>\n",
       "      <td>0.03</td>\n",
       "      <td>0.03</td>\n",
       "      <td>-3.25</td>\n",
       "      <td>0.04</td>\n",
       "      <td>0.04</td>\n",
       "      <td>0.22</td>\n",
       "      <td>-0.11</td>\n",
       "      <td>0.02</td>\n",
       "      <td>0.07</td>\n",
       "      <td>-0.01</td>\n",
       "      <td>0.03</td>\n",
       "      <td>0.02</td>\n",
       "      <td>55,782.23</td>\n",
       "    </tr>\n",
       "    <tr>\n",
       "      <th>max</th>\n",
       "      <td>0.35</td>\n",
       "      <td>896,000.00</td>\n",
       "      <td>0.40</td>\n",
       "      <td>0.00</td>\n",
       "      <td>1,043.09</td>\n",
       "      <td>0.50</td>\n",
       "      <td>0.43</td>\n",
       "      <td>0.38</td>\n",
       "      <td>-2.14</td>\n",
       "      <td>0.46</td>\n",
       "      <td>0.38</td>\n",
       "      <td>0.80</td>\n",
       "      <td>-0.02</td>\n",
       "      <td>0.18</td>\n",
       "      <td>0.40</td>\n",
       "      <td>0.00</td>\n",
       "      <td>0.36</td>\n",
       "      <td>0.07</td>\n",
       "      <td>136,718.32</td>\n",
       "    </tr>\n",
       "  </tbody>\n",
       "</table>"
      ],
      "text/plain": [
       "<IPython.core.display.HTML object>"
      ]
     },
     "metadata": {},
     "output_type": "display_data"
    },
    {
     "data": {
      "text/html": [
       "<h3>eth_cop</h3>"
      ],
      "text/plain": [
       "<IPython.core.display.HTML object>"
      ]
     },
     "metadata": {},
     "output_type": "display_data"
    },
    {
     "name": "stdout",
     "output_type": "stream",
     "text": [
      "describe_dataset\n"
     ]
    },
    {
     "data": {
      "text/html": [
       "<H1>Range Dates</H1>"
      ],
      "text/plain": [
       "<IPython.core.display.HTML object>"
      ]
     },
     "metadata": {},
     "output_type": "display_data"
    },
    {
     "data": {
      "text/html": [
       "<H3>Min: 2017-08-11</H3>"
      ],
      "text/plain": [
       "<IPython.core.display.HTML object>"
      ]
     },
     "metadata": {},
     "output_type": "display_data"
    },
    {
     "data": {
      "text/html": [
       "<H3>Min: 2018-03-11</H3>"
      ],
      "text/plain": [
       "<IPython.core.display.HTML object>"
      ]
     },
     "metadata": {},
     "output_type": "display_data"
    },
    {
     "data": {
      "text/html": [
       "<H1>Min</H1>"
      ],
      "text/plain": [
       "<IPython.core.display.HTML object>"
      ]
     },
     "metadata": {},
     "output_type": "display_data"
    },
    {
     "name": "stdout",
     "output_type": "stream",
     "text": [
      "open              2018-01-17\n",
      "close             2017-09-25\n",
      "high              2017-08-15\n",
      "low               2017-11-02\n",
      "volume            2017-09-30\n",
      "EWMA26            2017-12-13\n",
      "EWMA12            2017-12-13\n",
      "EWMA9             2017-12-13\n",
      "MACD              2017-10-19\n",
      "Returns           2017-09-25\n",
      "log_return        2017-09-25\n",
      "Bollinger Upper   2017-12-12\n",
      "Bollinger Lower   2017-12-13\n",
      "Heiking_Close     2017-10-11\n",
      "Heiking High      2017-08-15\n",
      "Heiking Low       2017-11-02\n",
      "Heiking Open      2017-12-13\n",
      "log_MACD          2017-12-20\n",
      "Variance12        2017-08-13\n",
      "dtype: datetime64[ns]\n"
     ]
    },
    {
     "data": {
      "text/html": [
       "<H1>Max</H1>"
      ],
      "text/plain": [
       "<IPython.core.display.HTML object>"
      ]
     },
     "metadata": {},
     "output_type": "display_data"
    },
    {
     "name": "stdout",
     "output_type": "stream",
     "text": [
      "open              2017-09-25\n",
      "close             2018-01-13\n",
      "high              2017-08-29\n",
      "low               2017-08-11\n",
      "volume            2018-01-17\n",
      "EWMA26            2018-02-05\n",
      "EWMA12            2018-02-05\n",
      "EWMA9             2018-02-05\n",
      "MACD              2017-09-25\n",
      "Returns           2017-09-26\n",
      "log_return        2017-09-26\n",
      "Bollinger Upper   2018-02-05\n",
      "Bollinger Lower   2017-10-26\n",
      "Heiking_Close     2017-08-29\n",
      "Heiking High      2017-08-29\n",
      "Heiking Low       2017-08-11\n",
      "Heiking Open      2018-02-05\n",
      "log_MACD          2018-02-10\n",
      "Variance12        2018-01-13\n",
      "dtype: datetime64[ns]\n"
     ]
    },
    {
     "data": {
      "text/html": [
       "<table border=\"1\" class=\"dataframe\">\n",
       "  <thead>\n",
       "    <tr style=\"text-align: right;\">\n",
       "      <th></th>\n",
       "      <th>open</th>\n",
       "      <th>close</th>\n",
       "      <th>high</th>\n",
       "      <th>low</th>\n",
       "      <th>volume</th>\n",
       "      <th>EWMA26</th>\n",
       "      <th>EWMA12</th>\n",
       "      <th>EWMA9</th>\n",
       "      <th>MACD</th>\n",
       "      <th>Returns</th>\n",
       "      <th>log_return</th>\n",
       "      <th>Bollinger Upper</th>\n",
       "      <th>Bollinger Lower</th>\n",
       "      <th>Heiking_Close</th>\n",
       "      <th>Heiking High</th>\n",
       "      <th>Heiking Low</th>\n",
       "      <th>Heiking Open</th>\n",
       "      <th>log_MACD</th>\n",
       "      <th>Variance12</th>\n",
       "    </tr>\n",
       "  </thead>\n",
       "  <tbody>\n",
       "    <tr>\n",
       "      <th>count</th>\n",
       "      <td>213.00</td>\n",
       "      <td>213.00</td>\n",
       "      <td>213.00</td>\n",
       "      <td>213.00</td>\n",
       "      <td>213.00</td>\n",
       "      <td>213.00</td>\n",
       "      <td>213.00</td>\n",
       "      <td>213.00</td>\n",
       "      <td>99.00</td>\n",
       "      <td>212.00</td>\n",
       "      <td>212.00</td>\n",
       "      <td>212.00</td>\n",
       "      <td>212.00</td>\n",
       "      <td>213.00</td>\n",
       "      <td>213.00</td>\n",
       "      <td>213.00</td>\n",
       "      <td>212.00</td>\n",
       "      <td>213.00</td>\n",
       "      <td>212.00</td>\n",
       "    </tr>\n",
       "    <tr>\n",
       "      <th>mean</th>\n",
       "      <td>0.00</td>\n",
       "      <td>1,651,486.47</td>\n",
       "      <td>0.08</td>\n",
       "      <td>-0.11</td>\n",
       "      <td>30.85</td>\n",
       "      <td>-0.04</td>\n",
       "      <td>-0.01</td>\n",
       "      <td>-0.01</td>\n",
       "      <td>-inf</td>\n",
       "      <td>0.01</td>\n",
       "      <td>0.00</td>\n",
       "      <td>0.18</td>\n",
       "      <td>-0.27</td>\n",
       "      <td>0.00</td>\n",
       "      <td>0.08</td>\n",
       "      <td>-0.11</td>\n",
       "      <td>-0.00</td>\n",
       "      <td>-0.02</td>\n",
       "      <td>197,907.05</td>\n",
       "    </tr>\n",
       "    <tr>\n",
       "      <th>std</th>\n",
       "      <td>0.10</td>\n",
       "      <td>926,660.79</td>\n",
       "      <td>0.13</td>\n",
       "      <td>0.20</td>\n",
       "      <td>31.15</td>\n",
       "      <td>0.16</td>\n",
       "      <td>0.11</td>\n",
       "      <td>0.09</td>\n",
       "      <td>nan</td>\n",
       "      <td>0.11</td>\n",
       "      <td>0.11</td>\n",
       "      <td>0.12</td>\n",
       "      <td>0.20</td>\n",
       "      <td>0.07</td>\n",
       "      <td>0.13</td>\n",
       "      <td>0.20</td>\n",
       "      <td>0.10</td>\n",
       "      <td>0.07</td>\n",
       "      <td>165,558.59</td>\n",
       "    </tr>\n",
       "    <tr>\n",
       "      <th>min</th>\n",
       "      <td>-0.42</td>\n",
       "      <td>510,001.00</td>\n",
       "      <td>0.00</td>\n",
       "      <td>-1.95</td>\n",
       "      <td>0.01</td>\n",
       "      <td>-0.52</td>\n",
       "      <td>-0.39</td>\n",
       "      <td>-0.35</td>\n",
       "      <td>-inf</td>\n",
       "      <td>-0.36</td>\n",
       "      <td>-0.45</td>\n",
       "      <td>0.00</td>\n",
       "      <td>-1.08</td>\n",
       "      <td>-0.19</td>\n",
       "      <td>0.00</td>\n",
       "      <td>-1.95</td>\n",
       "      <td>-0.33</td>\n",
       "      <td>-0.18</td>\n",
       "      <td>25,513.73</td>\n",
       "    </tr>\n",
       "    <tr>\n",
       "      <th>25%</th>\n",
       "      <td>-0.04</td>\n",
       "      <td>854,884.00</td>\n",
       "      <td>0.01</td>\n",
       "      <td>-0.10</td>\n",
       "      <td>9.85</td>\n",
       "      <td>-0.13</td>\n",
       "      <td>-0.07</td>\n",
       "      <td>-0.06</td>\n",
       "      <td>-4.29</td>\n",
       "      <td>-0.05</td>\n",
       "      <td>-0.05</td>\n",
       "      <td>0.10</td>\n",
       "      <td>-0.34</td>\n",
       "      <td>-0.03</td>\n",
       "      <td>0.01</td>\n",
       "      <td>-0.10</td>\n",
       "      <td>-0.05</td>\n",
       "      <td>-0.08</td>\n",
       "      <td>68,665.03</td>\n",
       "    </tr>\n",
       "    <tr>\n",
       "      <th>50%</th>\n",
       "      <td>-0.00</td>\n",
       "      <td>1,249,999.98</td>\n",
       "      <td>0.05</td>\n",
       "      <td>-0.06</td>\n",
       "      <td>21.74</td>\n",
       "      <td>-0.02</td>\n",
       "      <td>-0.01</td>\n",
       "      <td>-0.01</td>\n",
       "      <td>-3.33</td>\n",
       "      <td>0.00</td>\n",
       "      <td>0.00</td>\n",
       "      <td>0.16</td>\n",
       "      <td>-0.21</td>\n",
       "      <td>-0.00</td>\n",
       "      <td>0.05</td>\n",
       "      <td>-0.06</td>\n",
       "      <td>-0.00</td>\n",
       "      <td>-0.00</td>\n",
       "      <td>127,386.70</td>\n",
       "    </tr>\n",
       "    <tr>\n",
       "      <th>75%</th>\n",
       "      <td>0.05</td>\n",
       "      <td>2,349,994.99</td>\n",
       "      <td>0.11</td>\n",
       "      <td>-0.01</td>\n",
       "      <td>41.01</td>\n",
       "      <td>0.07</td>\n",
       "      <td>0.04</td>\n",
       "      <td>0.03</td>\n",
       "      <td>-2.80</td>\n",
       "      <td>0.05</td>\n",
       "      <td>0.05</td>\n",
       "      <td>0.23</td>\n",
       "      <td>-0.13</td>\n",
       "      <td>0.03</td>\n",
       "      <td>0.11</td>\n",
       "      <td>-0.01</td>\n",
       "      <td>0.04</td>\n",
       "      <td>0.03</td>\n",
       "      <td>312,226.44</td>\n",
       "    </tr>\n",
       "    <tr>\n",
       "      <th>max</th>\n",
       "      <td>0.45</td>\n",
       "      <td>4,068,448.91</td>\n",
       "      <td>1.33</td>\n",
       "      <td>0.00</td>\n",
       "      <td>184.19</td>\n",
       "      <td>0.55</td>\n",
       "      <td>0.49</td>\n",
       "      <td>0.45</td>\n",
       "      <td>-2.17</td>\n",
       "      <td>0.61</td>\n",
       "      <td>0.48</td>\n",
       "      <td>0.85</td>\n",
       "      <td>0.01</td>\n",
       "      <td>0.50</td>\n",
       "      <td>1.33</td>\n",
       "      <td>0.00</td>\n",
       "      <td>0.45</td>\n",
       "      <td>0.08</td>\n",
       "      <td>645,108.90</td>\n",
       "    </tr>\n",
       "  </tbody>\n",
       "</table>"
      ],
      "text/plain": [
       "<IPython.core.display.HTML object>"
      ]
     },
     "metadata": {},
     "output_type": "display_data"
    },
    {
     "data": {
      "text/html": [
       "<h3>eth_pen</h3>"
      ],
      "text/plain": [
       "<IPython.core.display.HTML object>"
      ]
     },
     "metadata": {},
     "output_type": "display_data"
    },
    {
     "name": "stdout",
     "output_type": "stream",
     "text": [
      "describe_dataset\n"
     ]
    },
    {
     "data": {
      "text/html": [
       "<H1>Range Dates</H1>"
      ],
      "text/plain": [
       "<IPython.core.display.HTML object>"
      ]
     },
     "metadata": {},
     "output_type": "display_data"
    },
    {
     "data": {
      "text/html": [
       "<H3>Min: 2017-08-16</H3>"
      ],
      "text/plain": [
       "<IPython.core.display.HTML object>"
      ]
     },
     "metadata": {},
     "output_type": "display_data"
    },
    {
     "data": {
      "text/html": [
       "<H3>Min: 2018-03-11</H3>"
      ],
      "text/plain": [
       "<IPython.core.display.HTML object>"
      ]
     },
     "metadata": {},
     "output_type": "display_data"
    },
    {
     "data": {
      "text/html": [
       "<H1>Min</H1>"
      ],
      "text/plain": [
       "<IPython.core.display.HTML object>"
      ]
     },
     "metadata": {},
     "output_type": "display_data"
    },
    {
     "name": "stdout",
     "output_type": "stream",
     "text": [
      "open              2017-10-24\n",
      "close             2017-11-06\n",
      "high              2017-08-17\n",
      "low               2017-10-24\n",
      "volume            2017-08-19\n",
      "EWMA26            2017-12-15\n",
      "EWMA12            2017-12-15\n",
      "EWMA9             2017-12-15\n",
      "MACD              2017-10-02\n",
      "Returns           2017-12-16\n",
      "log_return        2017-12-16\n",
      "Bollinger Upper   2017-12-15\n",
      "Bollinger Lower   2017-12-16\n",
      "Heiking_Close     2017-10-24\n",
      "Heiking High      2017-08-17\n",
      "Heiking Low       2017-10-24\n",
      "Heiking Open      2017-12-23\n",
      "log_MACD          2017-12-19\n",
      "Variance12        2017-08-17\n",
      "dtype: datetime64[ns]\n"
     ]
    },
    {
     "data": {
      "text/html": [
       "<H1>Max</H1>"
      ],
      "text/plain": [
       "<IPython.core.display.HTML object>"
      ]
     },
     "metadata": {},
     "output_type": "display_data"
    },
    {
     "name": "stdout",
     "output_type": "stream",
     "text": [
      "open              2017-12-21\n",
      "close             2017-12-15\n",
      "high              2017-12-21\n",
      "low               2017-08-16\n",
      "volume            2018-02-15\n",
      "EWMA26            2018-02-05\n",
      "EWMA12            2018-02-05\n",
      "EWMA9             2018-02-05\n",
      "MACD              2018-02-05\n",
      "Returns           2017-12-23\n",
      "log_return        2017-12-23\n",
      "Bollinger Upper   2017-12-22\n",
      "Bollinger Lower   2017-08-17\n",
      "Heiking_Close     2017-12-21\n",
      "Heiking High      2017-12-21\n",
      "Heiking Low       2017-08-16\n",
      "Heiking Open      2017-12-25\n",
      "log_MACD          2018-03-09\n",
      "Variance12        2017-12-19\n",
      "dtype: datetime64[ns]\n"
     ]
    },
    {
     "data": {
      "text/html": [
       "<table border=\"1\" class=\"dataframe\">\n",
       "  <thead>\n",
       "    <tr style=\"text-align: right;\">\n",
       "      <th></th>\n",
       "      <th>open</th>\n",
       "      <th>close</th>\n",
       "      <th>high</th>\n",
       "      <th>low</th>\n",
       "      <th>volume</th>\n",
       "      <th>EWMA26</th>\n",
       "      <th>EWMA12</th>\n",
       "      <th>EWMA9</th>\n",
       "      <th>MACD</th>\n",
       "      <th>Returns</th>\n",
       "      <th>log_return</th>\n",
       "      <th>Bollinger Upper</th>\n",
       "      <th>Bollinger Lower</th>\n",
       "      <th>Heiking_Close</th>\n",
       "      <th>Heiking High</th>\n",
       "      <th>Heiking Low</th>\n",
       "      <th>Heiking Open</th>\n",
       "      <th>log_MACD</th>\n",
       "      <th>Variance12</th>\n",
       "    </tr>\n",
       "  </thead>\n",
       "  <tbody>\n",
       "    <tr>\n",
       "      <th>count</th>\n",
       "      <td>208.00</td>\n",
       "      <td>208.00</td>\n",
       "      <td>208.00</td>\n",
       "      <td>208.00</td>\n",
       "      <td>208.00</td>\n",
       "      <td>208.00</td>\n",
       "      <td>208.00</td>\n",
       "      <td>208.00</td>\n",
       "      <td>95.00</td>\n",
       "      <td>207.00</td>\n",
       "      <td>207.00</td>\n",
       "      <td>207.00</td>\n",
       "      <td>204.00</td>\n",
       "      <td>208.00</td>\n",
       "      <td>208.00</td>\n",
       "      <td>208.00</td>\n",
       "      <td>207.00</td>\n",
       "      <td>208.00</td>\n",
       "      <td>207.00</td>\n",
       "    </tr>\n",
       "    <tr>\n",
       "      <th>mean</th>\n",
       "      <td>-0.02</td>\n",
       "      <td>1,994.46</td>\n",
       "      <td>0.07</td>\n",
       "      <td>-0.09</td>\n",
       "      <td>3.08</td>\n",
       "      <td>-0.03</td>\n",
       "      <td>-0.01</td>\n",
       "      <td>-0.00</td>\n",
       "      <td>-inf</td>\n",
       "      <td>0.03</td>\n",
       "      <td>0.00</td>\n",
       "      <td>0.27</td>\n",
       "      <td>-0.51</td>\n",
       "      <td>0.00</td>\n",
       "      <td>0.07</td>\n",
       "      <td>-0.09</td>\n",
       "      <td>-0.01</td>\n",
       "      <td>-0.03</td>\n",
       "      <td>360.57</td>\n",
       "    </tr>\n",
       "    <tr>\n",
       "      <th>std</th>\n",
       "      <td>0.19</td>\n",
       "      <td>1,105.04</td>\n",
       "      <td>0.16</td>\n",
       "      <td>0.50</td>\n",
       "      <td>5.00</td>\n",
       "      <td>0.20</td>\n",
       "      <td>0.17</td>\n",
       "      <td>0.15</td>\n",
       "      <td>nan</td>\n",
       "      <td>0.25</td>\n",
       "      <td>0.22</td>\n",
       "      <td>0.21</td>\n",
       "      <td>0.66</td>\n",
       "      <td>0.10</td>\n",
       "      <td>0.16</td>\n",
       "      <td>0.50</td>\n",
       "      <td>0.21</td>\n",
       "      <td>0.06</td>\n",
       "      <td>348.26</td>\n",
       "    </tr>\n",
       "    <tr>\n",
       "      <th>min</th>\n",
       "      <td>-1.36</td>\n",
       "      <td>654.01</td>\n",
       "      <td>0.00</td>\n",
       "      <td>-7.05</td>\n",
       "      <td>0.00</td>\n",
       "      <td>-0.97</td>\n",
       "      <td>-0.75</td>\n",
       "      <td>-0.67</td>\n",
       "      <td>-inf</td>\n",
       "      <td>-0.57</td>\n",
       "      <td>-0.84</td>\n",
       "      <td>-0.03</td>\n",
       "      <td>-4.44</td>\n",
       "      <td>-0.57</td>\n",
       "      <td>0.00</td>\n",
       "      <td>-7.05</td>\n",
       "      <td>-1.01</td>\n",
       "      <td>-0.25</td>\n",
       "      <td>0.79</td>\n",
       "    </tr>\n",
       "    <tr>\n",
       "      <th>25%</th>\n",
       "      <td>-0.01</td>\n",
       "      <td>1,047.88</td>\n",
       "      <td>0.00</td>\n",
       "      <td>-0.05</td>\n",
       "      <td>0.10</td>\n",
       "      <td>-0.11</td>\n",
       "      <td>-0.08</td>\n",
       "      <td>-0.08</td>\n",
       "      <td>-4.42</td>\n",
       "      <td>-0.05</td>\n",
       "      <td>-0.05</td>\n",
       "      <td>0.13</td>\n",
       "      <td>-0.53</td>\n",
       "      <td>-0.00</td>\n",
       "      <td>0.00</td>\n",
       "      <td>-0.05</td>\n",
       "      <td>-0.07</td>\n",
       "      <td>-0.05</td>\n",
       "      <td>126.15</td>\n",
       "    </tr>\n",
       "    <tr>\n",
       "      <th>50%</th>\n",
       "      <td>0.00</td>\n",
       "      <td>1,447.00</td>\n",
       "      <td>0.00</td>\n",
       "      <td>0.00</td>\n",
       "      <td>0.93</td>\n",
       "      <td>-0.01</td>\n",
       "      <td>-0.00</td>\n",
       "      <td>0.00</td>\n",
       "      <td>-3.96</td>\n",
       "      <td>0.00</td>\n",
       "      <td>0.00</td>\n",
       "      <td>0.21</td>\n",
       "      <td>-0.31</td>\n",
       "      <td>0.00</td>\n",
       "      <td>0.00</td>\n",
       "      <td>0.00</td>\n",
       "      <td>0.00</td>\n",
       "      <td>-0.00</td>\n",
       "      <td>270.47</td>\n",
       "    </tr>\n",
       "    <tr>\n",
       "      <th>75%</th>\n",
       "      <td>0.02</td>\n",
       "      <td>2,858.75</td>\n",
       "      <td>0.06</td>\n",
       "      <td>0.00</td>\n",
       "      <td>3.98</td>\n",
       "      <td>0.07</td>\n",
       "      <td>0.07</td>\n",
       "      <td>0.07</td>\n",
       "      <td>-3.35</td>\n",
       "      <td>0.06</td>\n",
       "      <td>0.06</td>\n",
       "      <td>0.36</td>\n",
       "      <td>-0.17</td>\n",
       "      <td>0.02</td>\n",
       "      <td>0.06</td>\n",
       "      <td>0.00</td>\n",
       "      <td>0.05</td>\n",
       "      <td>0.02</td>\n",
       "      <td>438.58</td>\n",
       "    </tr>\n",
       "    <tr>\n",
       "      <th>max</th>\n",
       "      <td>0.57</td>\n",
       "      <td>4,997.00</td>\n",
       "      <td>1.03</td>\n",
       "      <td>0.00</td>\n",
       "      <td>37.77</td>\n",
       "      <td>0.57</td>\n",
       "      <td>0.52</td>\n",
       "      <td>0.48</td>\n",
       "      <td>-2.42</td>\n",
       "      <td>1.75</td>\n",
       "      <td>1.01</td>\n",
       "      <td>1.08</td>\n",
       "      <td>-0.00</td>\n",
       "      <td>0.49</td>\n",
       "      <td>1.03</td>\n",
       "      <td>0.00</td>\n",
       "      <td>0.84</td>\n",
       "      <td>0.06</td>\n",
       "      <td>1,555.51</td>\n",
       "    </tr>\n",
       "  </tbody>\n",
       "</table>"
      ],
      "text/plain": [
       "<IPython.core.display.HTML object>"
      ]
     },
     "metadata": {},
     "output_type": "display_data"
    },
    {
     "data": {
      "text/html": [
       "<h3>btc_brl</h3>"
      ],
      "text/plain": [
       "<IPython.core.display.HTML object>"
      ]
     },
     "metadata": {},
     "output_type": "display_data"
    },
    {
     "name": "stdout",
     "output_type": "stream",
     "text": [
      "describe_dataset\n"
     ]
    },
    {
     "data": {
      "text/html": [
       "<H1>Range Dates</H1>"
      ],
      "text/plain": [
       "<IPython.core.display.HTML object>"
      ]
     },
     "metadata": {},
     "output_type": "display_data"
    },
    {
     "data": {
      "text/html": [
       "<H3>Min: 2013-06-12</H3>"
      ],
      "text/plain": [
       "<IPython.core.display.HTML object>"
      ]
     },
     "metadata": {},
     "output_type": "display_data"
    },
    {
     "data": {
      "text/html": [
       "<H3>Min: 2018-03-12</H3>"
      ],
      "text/plain": [
       "<IPython.core.display.HTML object>"
      ]
     },
     "metadata": {},
     "output_type": "display_data"
    },
    {
     "data": {
      "text/html": [
       "<H1>Min</H1>"
      ],
      "text/plain": [
       "<IPython.core.display.HTML object>"
      ]
     },
     "metadata": {},
     "output_type": "display_data"
    },
    {
     "name": "stdout",
     "output_type": "stream",
     "text": [
      "low               2017-05-25\n",
      "volume            2013-08-18\n",
      "amount            2013-10-20\n",
      "avg_price         2013-11-27\n",
      "open              2013-11-18\n",
      "close             2013-07-03\n",
      "high              2013-06-13\n",
      "quantity          2013-08-18\n",
      "EWMA26            2013-11-18\n",
      "EWMA12            2013-11-18\n",
      "EWMA9             2013-11-18\n",
      "MACD              2015-06-04\n",
      "Returns           2013-09-06\n",
      "log_return        2013-09-06\n",
      "Bollinger Upper   2016-05-28\n",
      "Bollinger Lower   2013-11-18\n",
      "Heiking_Close     2018-02-16\n",
      "Heiking High      2013-06-13\n",
      "Heiking Low       2017-05-25\n",
      "Heiking Open      2013-11-18\n",
      "log_MACD          2013-11-29\n",
      "Variance12        2013-06-13\n",
      "dtype: datetime64[ns]\n"
     ]
    },
    {
     "data": {
      "text/html": [
       "<H1>Max</H1>"
      ],
      "text/plain": [
       "<IPython.core.display.HTML object>"
      ]
     },
     "metadata": {},
     "output_type": "display_data"
    },
    {
     "name": "stdout",
     "output_type": "stream",
     "text": [
      "low               2013-06-15\n",
      "volume            2017-12-07\n",
      "amount            2015-01-14\n",
      "avg_price         2013-09-06\n",
      "open              2013-09-06\n",
      "close             2017-12-18\n",
      "high              2013-10-19\n",
      "quantity          2013-07-05\n",
      "EWMA26            2018-02-05\n",
      "EWMA12            2013-12-18\n",
      "EWMA9             2013-12-07\n",
      "MACD              2018-02-05\n",
      "Returns           2013-11-18\n",
      "log_return        2013-11-18\n",
      "Bollinger Upper   2013-12-18\n",
      "Bollinger Lower   2014-08-14\n",
      "Heiking_Close     2013-12-07\n",
      "Heiking High      2013-10-19\n",
      "Heiking Low       2013-06-15\n",
      "Heiking Open      2013-12-07\n",
      "log_MACD          2018-02-06\n",
      "Variance12        2017-12-18\n",
      "dtype: datetime64[ns]\n"
     ]
    },
    {
     "data": {
      "text/html": [
       "<table border=\"1\" class=\"dataframe\">\n",
       "  <thead>\n",
       "    <tr style=\"text-align: right;\">\n",
       "      <th></th>\n",
       "      <th>low</th>\n",
       "      <th>volume</th>\n",
       "      <th>amount</th>\n",
       "      <th>avg_price</th>\n",
       "      <th>open</th>\n",
       "      <th>close</th>\n",
       "      <th>high</th>\n",
       "      <th>quantity</th>\n",
       "      <th>EWMA26</th>\n",
       "      <th>EWMA12</th>\n",
       "      <th>EWMA9</th>\n",
       "      <th>MACD</th>\n",
       "      <th>Returns</th>\n",
       "      <th>log_return</th>\n",
       "      <th>Bollinger Upper</th>\n",
       "      <th>Bollinger Lower</th>\n",
       "      <th>Heiking_Close</th>\n",
       "      <th>Heiking High</th>\n",
       "      <th>Heiking Low</th>\n",
       "      <th>Heiking Open</th>\n",
       "      <th>log_MACD</th>\n",
       "      <th>Variance12</th>\n",
       "    </tr>\n",
       "  </thead>\n",
       "  <tbody>\n",
       "    <tr>\n",
       "      <th>count</th>\n",
       "      <td>1,681.00</td>\n",
       "      <td>1,681.00</td>\n",
       "      <td>1,681.00</td>\n",
       "      <td>1,681.00</td>\n",
       "      <td>1,681.00</td>\n",
       "      <td>1,681.00</td>\n",
       "      <td>1,681.00</td>\n",
       "      <td>1,681.00</td>\n",
       "      <td>1,681.00</td>\n",
       "      <td>1,681.00</td>\n",
       "      <td>1,681.00</td>\n",
       "      <td>684.00</td>\n",
       "      <td>1,680.00</td>\n",
       "      <td>1,680.00</td>\n",
       "      <td>1,680.00</td>\n",
       "      <td>1,680.00</td>\n",
       "      <td>1,681.00</td>\n",
       "      <td>1,681.00</td>\n",
       "      <td>1,681.00</td>\n",
       "      <td>1,680.00</td>\n",
       "      <td>1,681.00</td>\n",
       "      <td>1,680.00</td>\n",
       "    </tr>\n",
       "    <tr>\n",
       "      <th>mean</th>\n",
       "      <td>-inf</td>\n",
       "      <td>2,147,448.68</td>\n",
       "      <td>-1.67</td>\n",
       "      <td>-0.00</td>\n",
       "      <td>-0.00</td>\n",
       "      <td>5,437.67</td>\n",
       "      <td>0.03</td>\n",
       "      <td>-3.06</td>\n",
       "      <td>-0.03</td>\n",
       "      <td>-0.01</td>\n",
       "      <td>-0.01</td>\n",
       "      <td>-inf</td>\n",
       "      <td>0.00</td>\n",
       "      <td>0.00</td>\n",
       "      <td>0.11</td>\n",
       "      <td>-0.17</td>\n",
       "      <td>-0.00</td>\n",
       "      <td>0.03</td>\n",
       "      <td>-inf</td>\n",
       "      <td>-0.00</td>\n",
       "      <td>-0.01</td>\n",
       "      <td>544.91</td>\n",
       "    </tr>\n",
       "    <tr>\n",
       "      <th>std</th>\n",
       "      <td>nan</td>\n",
       "      <td>7,653,198.97</td>\n",
       "      <td>0.65</td>\n",
       "      <td>0.02</td>\n",
       "      <td>0.05</td>\n",
       "      <td>10,676.18</td>\n",
       "      <td>0.04</td>\n",
       "      <td>1.00</td>\n",
       "      <td>0.12</td>\n",
       "      <td>0.08</td>\n",
       "      <td>0.06</td>\n",
       "      <td>nan</td>\n",
       "      <td>0.05</td>\n",
       "      <td>0.05</td>\n",
       "      <td>0.10</td>\n",
       "      <td>0.19</td>\n",
       "      <td>0.02</td>\n",
       "      <td>0.04</td>\n",
       "      <td>nan</td>\n",
       "      <td>0.05</td>\n",
       "      <td>0.06</td>\n",
       "      <td>1,411.80</td>\n",
       "    </tr>\n",
       "    <tr>\n",
       "      <th>min</th>\n",
       "      <td>-inf</td>\n",
       "      <td>24.55</td>\n",
       "      <td>-4.93</td>\n",
       "      <td>-0.13</td>\n",
       "      <td>-0.35</td>\n",
       "      <td>190.01</td>\n",
       "      <td>0.00</td>\n",
       "      <td>-7.82</td>\n",
       "      <td>-0.76</td>\n",
       "      <td>-0.51</td>\n",
       "      <td>-0.43</td>\n",
       "      <td>-inf</td>\n",
       "      <td>-0.24</td>\n",
       "      <td>-0.28</td>\n",
       "      <td>-0.00</td>\n",
       "      <td>-1.84</td>\n",
       "      <td>-0.28</td>\n",
       "      <td>0.00</td>\n",
       "      <td>-inf</td>\n",
       "      <td>-0.41</td>\n",
       "      <td>-0.29</td>\n",
       "      <td>2.83</td>\n",
       "    </tr>\n",
       "    <tr>\n",
       "      <th>25%</th>\n",
       "      <td>-0.04</td>\n",
       "      <td>59,930.05</td>\n",
       "      <td>-2.10</td>\n",
       "      <td>-0.01</td>\n",
       "      <td>-0.02</td>\n",
       "      <td>960.00</td>\n",
       "      <td>0.01</td>\n",
       "      <td>-3.69</td>\n",
       "      <td>-0.07</td>\n",
       "      <td>-0.04</td>\n",
       "      <td>-0.03</td>\n",
       "      <td>-4.75</td>\n",
       "      <td>-0.01</td>\n",
       "      <td>-0.01</td>\n",
       "      <td>0.04</td>\n",
       "      <td>-0.21</td>\n",
       "      <td>-0.01</td>\n",
       "      <td>0.01</td>\n",
       "      <td>-0.04</td>\n",
       "      <td>-0.02</td>\n",
       "      <td>-0.03</td>\n",
       "      <td>35.22</td>\n",
       "    </tr>\n",
       "    <tr>\n",
       "      <th>50%</th>\n",
       "      <td>-0.02</td>\n",
       "      <td>131,661.52</td>\n",
       "      <td>-1.56</td>\n",
       "      <td>-0.00</td>\n",
       "      <td>-0.00</td>\n",
       "      <td>1,690.11</td>\n",
       "      <td>0.02</td>\n",
       "      <td>-2.97</td>\n",
       "      <td>-0.01</td>\n",
       "      <td>-0.01</td>\n",
       "      <td>-0.00</td>\n",
       "      <td>-3.80</td>\n",
       "      <td>0.00</td>\n",
       "      <td>0.00</td>\n",
       "      <td>0.08</td>\n",
       "      <td>-0.10</td>\n",
       "      <td>-0.00</td>\n",
       "      <td>0.02</td>\n",
       "      <td>-0.02</td>\n",
       "      <td>-0.00</td>\n",
       "      <td>-0.01</td>\n",
       "      <td>70.72</td>\n",
       "    </tr>\n",
       "    <tr>\n",
       "      <th>75%</th>\n",
       "      <td>-0.01</td>\n",
       "      <td>487,363.80</td>\n",
       "      <td>-1.19</td>\n",
       "      <td>0.01</td>\n",
       "      <td>0.01</td>\n",
       "      <td>2,960.00</td>\n",
       "      <td>0.03</td>\n",
       "      <td>-2.38</td>\n",
       "      <td>0.03</td>\n",
       "      <td>0.02</td>\n",
       "      <td>0.02</td>\n",
       "      <td>-3.12</td>\n",
       "      <td>0.02</td>\n",
       "      <td>0.02</td>\n",
       "      <td>0.14</td>\n",
       "      <td>-0.06</td>\n",
       "      <td>0.01</td>\n",
       "      <td>0.03</td>\n",
       "      <td>-0.01</td>\n",
       "      <td>0.01</td>\n",
       "      <td>0.02</td>\n",
       "      <td>208.76</td>\n",
       "    </tr>\n",
       "    <tr>\n",
       "      <th>max</th>\n",
       "      <td>0.00</td>\n",
       "      <td>108,023,418.47</td>\n",
       "      <td>0.17</td>\n",
       "      <td>0.21</td>\n",
       "      <td>0.26</td>\n",
       "      <td>69,099.00</td>\n",
       "      <td>0.57</td>\n",
       "      <td>0.41</td>\n",
       "      <td>0.50</td>\n",
       "      <td>0.40</td>\n",
       "      <td>0.38</td>\n",
       "      <td>-1.42</td>\n",
       "      <td>0.41</td>\n",
       "      <td>0.35</td>\n",
       "      <td>0.80</td>\n",
       "      <td>0.01</td>\n",
       "      <td>0.18</td>\n",
       "      <td>0.57</td>\n",
       "      <td>0.00</td>\n",
       "      <td>0.37</td>\n",
       "      <td>0.17</td>\n",
       "      <td>10,544.25</td>\n",
       "    </tr>\n",
       "  </tbody>\n",
       "</table>"
      ],
      "text/plain": [
       "<IPython.core.display.HTML object>"
      ]
     },
     "metadata": {},
     "output_type": "display_data"
    }
   ],
   "source": [
    "all_datasets(describe_dataset,log_divided_close_datasets)"
   ]
  },
  {
   "cell_type": "markdown",
   "metadata": {},
   "source": [
    "### Save Data for Datasets\n",
    "\n",
    "Save the data in objects to be consumed later. "
   ]
  },
  {
   "cell_type": "code",
   "execution_count": 22,
   "metadata": {},
   "outputs": [
    {
     "data": {
      "text/html": [
       "<h3>btc_clp</h3>"
      ],
      "text/plain": [
       "<IPython.core.display.HTML object>"
      ]
     },
     "metadata": {},
     "output_type": "display_data"
    },
    {
     "name": "stdout",
     "output_type": "stream",
     "text": [
      "drop_the_first_row\n"
     ]
    },
    {
     "data": {
      "text/html": [
       "<h3>btc_cop</h3>"
      ],
      "text/plain": [
       "<IPython.core.display.HTML object>"
      ]
     },
     "metadata": {},
     "output_type": "display_data"
    },
    {
     "name": "stdout",
     "output_type": "stream",
     "text": [
      "drop_the_first_row\n"
     ]
    },
    {
     "data": {
      "text/html": [
       "<h3>btc_pen</h3>"
      ],
      "text/plain": [
       "<IPython.core.display.HTML object>"
      ]
     },
     "metadata": {},
     "output_type": "display_data"
    },
    {
     "name": "stdout",
     "output_type": "stream",
     "text": [
      "drop_the_first_row\n"
     ]
    },
    {
     "data": {
      "text/html": [
       "<h3>eth_btc</h3>"
      ],
      "text/plain": [
       "<IPython.core.display.HTML object>"
      ]
     },
     "metadata": {},
     "output_type": "display_data"
    },
    {
     "name": "stdout",
     "output_type": "stream",
     "text": [
      "drop_the_first_row\n"
     ]
    },
    {
     "data": {
      "text/html": [
       "<h3>eth_clp</h3>"
      ],
      "text/plain": [
       "<IPython.core.display.HTML object>"
      ]
     },
     "metadata": {},
     "output_type": "display_data"
    },
    {
     "name": "stdout",
     "output_type": "stream",
     "text": [
      "drop_the_first_row\n"
     ]
    },
    {
     "data": {
      "text/html": [
       "<h3>eth_cop</h3>"
      ],
      "text/plain": [
       "<IPython.core.display.HTML object>"
      ]
     },
     "metadata": {},
     "output_type": "display_data"
    },
    {
     "name": "stdout",
     "output_type": "stream",
     "text": [
      "drop_the_first_row\n"
     ]
    },
    {
     "data": {
      "text/html": [
       "<h3>eth_pen</h3>"
      ],
      "text/plain": [
       "<IPython.core.display.HTML object>"
      ]
     },
     "metadata": {},
     "output_type": "display_data"
    },
    {
     "name": "stdout",
     "output_type": "stream",
     "text": [
      "drop_the_first_row\n"
     ]
    },
    {
     "data": {
      "text/html": [
       "<h3>btc_brl</h3>"
      ],
      "text/plain": [
       "<IPython.core.display.HTML object>"
      ]
     },
     "metadata": {},
     "output_type": "display_data"
    },
    {
     "name": "stdout",
     "output_type": "stream",
     "text": [
      "drop_the_first_row\n"
     ]
    },
    {
     "data": {
      "text/html": [
       "<h3>btc_clp</h3>"
      ],
      "text/plain": [
       "<IPython.core.display.HTML object>"
      ]
     },
     "metadata": {},
     "output_type": "display_data"
    },
    {
     "name": "stdout",
     "output_type": "stream",
     "text": [
      "drop_the_first_row\n"
     ]
    },
    {
     "data": {
      "text/html": [
       "<h3>btc_cop</h3>"
      ],
      "text/plain": [
       "<IPython.core.display.HTML object>"
      ]
     },
     "metadata": {},
     "output_type": "display_data"
    },
    {
     "name": "stdout",
     "output_type": "stream",
     "text": [
      "drop_the_first_row\n"
     ]
    },
    {
     "data": {
      "text/html": [
       "<h3>btc_pen</h3>"
      ],
      "text/plain": [
       "<IPython.core.display.HTML object>"
      ]
     },
     "metadata": {},
     "output_type": "display_data"
    },
    {
     "name": "stdout",
     "output_type": "stream",
     "text": [
      "drop_the_first_row\n"
     ]
    },
    {
     "data": {
      "text/html": [
       "<h3>eth_btc</h3>"
      ],
      "text/plain": [
       "<IPython.core.display.HTML object>"
      ]
     },
     "metadata": {},
     "output_type": "display_data"
    },
    {
     "name": "stdout",
     "output_type": "stream",
     "text": [
      "drop_the_first_row\n"
     ]
    },
    {
     "data": {
      "text/html": [
       "<h3>eth_clp</h3>"
      ],
      "text/plain": [
       "<IPython.core.display.HTML object>"
      ]
     },
     "metadata": {},
     "output_type": "display_data"
    },
    {
     "name": "stdout",
     "output_type": "stream",
     "text": [
      "drop_the_first_row\n"
     ]
    },
    {
     "data": {
      "text/html": [
       "<h3>eth_cop</h3>"
      ],
      "text/plain": [
       "<IPython.core.display.HTML object>"
      ]
     },
     "metadata": {},
     "output_type": "display_data"
    },
    {
     "name": "stdout",
     "output_type": "stream",
     "text": [
      "drop_the_first_row\n"
     ]
    },
    {
     "data": {
      "text/html": [
       "<h3>eth_pen</h3>"
      ],
      "text/plain": [
       "<IPython.core.display.HTML object>"
      ]
     },
     "metadata": {},
     "output_type": "display_data"
    },
    {
     "name": "stdout",
     "output_type": "stream",
     "text": [
      "drop_the_first_row\n"
     ]
    },
    {
     "data": {
      "text/html": [
       "<h3>btc_brl</h3>"
      ],
      "text/plain": [
       "<IPython.core.display.HTML object>"
      ]
     },
     "metadata": {},
     "output_type": "display_data"
    },
    {
     "name": "stdout",
     "output_type": "stream",
     "text": [
      "drop_the_first_row\n"
     ]
    },
    {
     "data": {
      "text/html": [
       "<h3>btc_clp</h3>"
      ],
      "text/plain": [
       "<IPython.core.display.HTML object>"
      ]
     },
     "metadata": {},
     "output_type": "display_data"
    },
    {
     "name": "stdout",
     "output_type": "stream",
     "text": [
      "drop_the_first_row\n"
     ]
    },
    {
     "data": {
      "text/html": [
       "<h3>btc_cop</h3>"
      ],
      "text/plain": [
       "<IPython.core.display.HTML object>"
      ]
     },
     "metadata": {},
     "output_type": "display_data"
    },
    {
     "name": "stdout",
     "output_type": "stream",
     "text": [
      "drop_the_first_row\n"
     ]
    },
    {
     "data": {
      "text/html": [
       "<h3>btc_pen</h3>"
      ],
      "text/plain": [
       "<IPython.core.display.HTML object>"
      ]
     },
     "metadata": {},
     "output_type": "display_data"
    },
    {
     "name": "stdout",
     "output_type": "stream",
     "text": [
      "drop_the_first_row\n"
     ]
    },
    {
     "data": {
      "text/html": [
       "<h3>eth_btc</h3>"
      ],
      "text/plain": [
       "<IPython.core.display.HTML object>"
      ]
     },
     "metadata": {},
     "output_type": "display_data"
    },
    {
     "name": "stdout",
     "output_type": "stream",
     "text": [
      "drop_the_first_row\n"
     ]
    },
    {
     "data": {
      "text/html": [
       "<h3>eth_clp</h3>"
      ],
      "text/plain": [
       "<IPython.core.display.HTML object>"
      ]
     },
     "metadata": {},
     "output_type": "display_data"
    },
    {
     "name": "stdout",
     "output_type": "stream",
     "text": [
      "drop_the_first_row\n"
     ]
    },
    {
     "data": {
      "text/html": [
       "<h3>eth_cop</h3>"
      ],
      "text/plain": [
       "<IPython.core.display.HTML object>"
      ]
     },
     "metadata": {},
     "output_type": "display_data"
    },
    {
     "name": "stdout",
     "output_type": "stream",
     "text": [
      "drop_the_first_row\n"
     ]
    },
    {
     "data": {
      "text/html": [
       "<h3>eth_pen</h3>"
      ],
      "text/plain": [
       "<IPython.core.display.HTML object>"
      ]
     },
     "metadata": {},
     "output_type": "display_data"
    },
    {
     "name": "stdout",
     "output_type": "stream",
     "text": [
      "drop_the_first_row\n"
     ]
    },
    {
     "data": {
      "text/html": [
       "<h3>btc_brl</h3>"
      ],
      "text/plain": [
       "<IPython.core.display.HTML object>"
      ]
     },
     "metadata": {},
     "output_type": "display_data"
    },
    {
     "name": "stdout",
     "output_type": "stream",
     "text": [
      "drop_the_first_row\n"
     ]
    },
    {
     "data": {
      "text/html": [
       "<h3>btc_clp</h3>"
      ],
      "text/plain": [
       "<IPython.core.display.HTML object>"
      ]
     },
     "metadata": {},
     "output_type": "display_data"
    },
    {
     "name": "stdout",
     "output_type": "stream",
     "text": [
      "drop_the_first_row\n"
     ]
    },
    {
     "data": {
      "text/html": [
       "<h3>btc_cop</h3>"
      ],
      "text/plain": [
       "<IPython.core.display.HTML object>"
      ]
     },
     "metadata": {},
     "output_type": "display_data"
    },
    {
     "name": "stdout",
     "output_type": "stream",
     "text": [
      "drop_the_first_row\n"
     ]
    },
    {
     "data": {
      "text/html": [
       "<h3>btc_pen</h3>"
      ],
      "text/plain": [
       "<IPython.core.display.HTML object>"
      ]
     },
     "metadata": {},
     "output_type": "display_data"
    },
    {
     "name": "stdout",
     "output_type": "stream",
     "text": [
      "drop_the_first_row\n"
     ]
    },
    {
     "data": {
      "text/html": [
       "<h3>eth_btc</h3>"
      ],
      "text/plain": [
       "<IPython.core.display.HTML object>"
      ]
     },
     "metadata": {},
     "output_type": "display_data"
    },
    {
     "name": "stdout",
     "output_type": "stream",
     "text": [
      "drop_the_first_row\n"
     ]
    },
    {
     "data": {
      "text/html": [
       "<h3>eth_clp</h3>"
      ],
      "text/plain": [
       "<IPython.core.display.HTML object>"
      ]
     },
     "metadata": {},
     "output_type": "display_data"
    },
    {
     "name": "stdout",
     "output_type": "stream",
     "text": [
      "drop_the_first_row\n"
     ]
    },
    {
     "data": {
      "text/html": [
       "<h3>eth_cop</h3>"
      ],
      "text/plain": [
       "<IPython.core.display.HTML object>"
      ]
     },
     "metadata": {},
     "output_type": "display_data"
    },
    {
     "name": "stdout",
     "output_type": "stream",
     "text": [
      "drop_the_first_row\n"
     ]
    },
    {
     "data": {
      "text/html": [
       "<h3>eth_pen</h3>"
      ],
      "text/plain": [
       "<IPython.core.display.HTML object>"
      ]
     },
     "metadata": {},
     "output_type": "display_data"
    },
    {
     "name": "stdout",
     "output_type": "stream",
     "text": [
      "drop_the_first_row\n"
     ]
    },
    {
     "data": {
      "text/html": [
       "<h3>btc_brl</h3>"
      ],
      "text/plain": [
       "<IPython.core.display.HTML object>"
      ]
     },
     "metadata": {},
     "output_type": "display_data"
    },
    {
     "name": "stdout",
     "output_type": "stream",
     "text": [
      "drop_the_first_row\n"
     ]
    }
   ],
   "source": [
    "\n",
    "def drop_the_first_row(dataset):\n",
    "    dataset.df.drop(dataset.df.index[:1], inplace=True)\n",
    "    return dataset\n",
    "\n",
    "all_datasets(drop_the_first_row,rescaled_datasets)    \n",
    "all_datasets(drop_the_first_row,datasets)    \n",
    "all_datasets(drop_the_first_row,log_datasets)    \n",
    "all_datasets(drop_the_first_row,log_divided_close_datasets) \n",
    "\n",
    "def save_datasets(datasets,filename):\n",
    "    with open(filename, 'wb') as output:  # Overwrites any existing file.\n",
    "        pickle.dump(datasets, output, pickle.HIGHEST_PROTOCOL)\n",
    "    \n",
    "save_datasets(rescaled_datasets, 'datasets/rescaled_datasets.pkl')\n",
    "save_datasets(datasets, 'datasets/datasets.pkl')\n",
    "save_datasets(log_datasets, 'datasets/log_datasets.pkl')\n",
    "save_datasets(log_divided_close_datasets, 'datasets/log_divided_close_datasets.pkl')\n",
    "\n",
    "\n"
   ]
  },
  {
   "cell_type": "code",
   "execution_count": 23,
   "metadata": {},
   "outputs": [
    {
     "ename": "NameError",
     "evalue": "name 'score_clean_close' is not defined",
     "output_type": "error",
     "traceback": [
      "\u001b[0;31m---------------------------------------------------------------------------\u001b[0m",
      "\u001b[0;31mNameError\u001b[0m                                 Traceback (most recent call last)",
      "\u001b[0;32m<ipython-input-23-a1fe9207a759>\u001b[0m in \u001b[0;36m<module>\u001b[0;34m()\u001b[0m\n\u001b[0;32m----> 1\u001b[0;31m \u001b[0mscore_clean_close\u001b[0m\u001b[0;34m\u001b[0m\u001b[0m\n\u001b[0m\u001b[1;32m      2\u001b[0m \u001b[0mscore_clean_series_close\u001b[0m\u001b[0;34m\u001b[0m\u001b[0m\n\u001b[1;32m      3\u001b[0m \u001b[0mscore_rescaled_close\u001b[0m\u001b[0;34m\u001b[0m\u001b[0m\n\u001b[1;32m      4\u001b[0m \u001b[0mscore_rescaled_series_close\u001b[0m\u001b[0;34m\u001b[0m\u001b[0m\n\u001b[1;32m      5\u001b[0m \u001b[0mscore_clean_return\u001b[0m\u001b[0;34m\u001b[0m\u001b[0m\n",
      "\u001b[0;31mNameError\u001b[0m: name 'score_clean_close' is not defined"
     ]
    }
   ],
   "source": []
  }
 ],
 "metadata": {
  "kernelspec": {
   "display_name": "Python 3",
   "language": "python",
   "name": "python3"
  },
  "language_info": {
   "codemirror_mode": {
    "name": "ipython",
    "version": 3
   },
   "file_extension": ".py",
   "mimetype": "text/x-python",
   "name": "python",
   "nbconvert_exporter": "python",
   "pygments_lexer": "ipython3",
   "version": "3.6.5"
  }
 },
 "nbformat": 4,
 "nbformat_minor": 2
}
